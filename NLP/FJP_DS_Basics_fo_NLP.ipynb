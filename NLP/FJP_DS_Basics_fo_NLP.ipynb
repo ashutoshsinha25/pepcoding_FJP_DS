{
  "nbformat": 4,
  "nbformat_minor": 0,
  "metadata": {
    "colab": {
      "name": "FJP_DS_Basics_fo_NLP.ipynb",
      "provenance": [],
      "authorship_tag": "ABX9TyMlPJ5acRn+YuTsidJ9sgk+",
      "include_colab_link": true
    },
    "kernelspec": {
      "name": "python3",
      "display_name": "Python 3"
    },
    "language_info": {
      "name": "python"
    }
  },
  "cells": [
    {
      "cell_type": "markdown",
      "metadata": {
        "id": "view-in-github",
        "colab_type": "text"
      },
      "source": [
        "<a href=\"https://colab.research.google.com/github/ashutoshsinha25/pepcoding_FJP_DS/blob/main/NLP/FJP_DS_Basics_fo_NLP.ipynb\" target=\"_parent\"><img src=\"https://colab.research.google.com/assets/colab-badge.svg\" alt=\"Open In Colab\"/></a>"
      ]
    },
    {
      "cell_type": "code",
      "execution_count": 1,
      "metadata": {
        "id": "6WMVqR-GcF2e"
      },
      "outputs": [],
      "source": [
        "import nltk"
      ]
    },
    {
      "cell_type": "code",
      "source": [
        "nltk.download(\"all\")"
      ],
      "metadata": {
        "colab": {
          "base_uri": "https://localhost:8080/"
        },
        "id": "QxSvPj96cOMu",
        "outputId": "317bc64a-4fe3-41e9-a5fe-0c71d676df98"
      },
      "execution_count": 2,
      "outputs": [
        {
          "output_type": "stream",
          "name": "stderr",
          "text": [
            "[nltk_data] Downloading collection 'all'\n",
            "[nltk_data]    | \n",
            "[nltk_data]    | Downloading package abc to /root/nltk_data...\n",
            "[nltk_data]    |   Unzipping corpora/abc.zip.\n",
            "[nltk_data]    | Downloading package alpino to /root/nltk_data...\n",
            "[nltk_data]    |   Unzipping corpora/alpino.zip.\n",
            "[nltk_data]    | Downloading package averaged_perceptron_tagger to\n",
            "[nltk_data]    |     /root/nltk_data...\n",
            "[nltk_data]    |   Unzipping taggers/averaged_perceptron_tagger.zip.\n",
            "[nltk_data]    | Downloading package averaged_perceptron_tagger_ru to\n",
            "[nltk_data]    |     /root/nltk_data...\n",
            "[nltk_data]    |   Unzipping\n",
            "[nltk_data]    |       taggers/averaged_perceptron_tagger_ru.zip.\n",
            "[nltk_data]    | Downloading package basque_grammars to\n",
            "[nltk_data]    |     /root/nltk_data...\n",
            "[nltk_data]    |   Unzipping grammars/basque_grammars.zip.\n",
            "[nltk_data]    | Downloading package biocreative_ppi to\n",
            "[nltk_data]    |     /root/nltk_data...\n",
            "[nltk_data]    |   Unzipping corpora/biocreative_ppi.zip.\n",
            "[nltk_data]    | Downloading package bllip_wsj_no_aux to\n",
            "[nltk_data]    |     /root/nltk_data...\n",
            "[nltk_data]    |   Unzipping models/bllip_wsj_no_aux.zip.\n",
            "[nltk_data]    | Downloading package book_grammars to\n",
            "[nltk_data]    |     /root/nltk_data...\n",
            "[nltk_data]    |   Unzipping grammars/book_grammars.zip.\n",
            "[nltk_data]    | Downloading package brown to /root/nltk_data...\n",
            "[nltk_data]    |   Unzipping corpora/brown.zip.\n",
            "[nltk_data]    | Downloading package brown_tei to /root/nltk_data...\n",
            "[nltk_data]    |   Unzipping corpora/brown_tei.zip.\n",
            "[nltk_data]    | Downloading package cess_cat to /root/nltk_data...\n",
            "[nltk_data]    |   Unzipping corpora/cess_cat.zip.\n",
            "[nltk_data]    | Downloading package cess_esp to /root/nltk_data...\n",
            "[nltk_data]    |   Unzipping corpora/cess_esp.zip.\n",
            "[nltk_data]    | Downloading package chat80 to /root/nltk_data...\n",
            "[nltk_data]    |   Unzipping corpora/chat80.zip.\n",
            "[nltk_data]    | Downloading package city_database to\n",
            "[nltk_data]    |     /root/nltk_data...\n",
            "[nltk_data]    |   Unzipping corpora/city_database.zip.\n",
            "[nltk_data]    | Downloading package cmudict to /root/nltk_data...\n",
            "[nltk_data]    |   Unzipping corpora/cmudict.zip.\n",
            "[nltk_data]    | Downloading package comparative_sentences to\n",
            "[nltk_data]    |     /root/nltk_data...\n",
            "[nltk_data]    |   Unzipping corpora/comparative_sentences.zip.\n",
            "[nltk_data]    | Downloading package comtrans to /root/nltk_data...\n",
            "[nltk_data]    | Downloading package conll2000 to /root/nltk_data...\n",
            "[nltk_data]    |   Unzipping corpora/conll2000.zip.\n",
            "[nltk_data]    | Downloading package conll2002 to /root/nltk_data...\n",
            "[nltk_data]    |   Unzipping corpora/conll2002.zip.\n",
            "[nltk_data]    | Downloading package conll2007 to /root/nltk_data...\n",
            "[nltk_data]    | Downloading package crubadan to /root/nltk_data...\n",
            "[nltk_data]    |   Unzipping corpora/crubadan.zip.\n",
            "[nltk_data]    | Downloading package dependency_treebank to\n",
            "[nltk_data]    |     /root/nltk_data...\n",
            "[nltk_data]    |   Unzipping corpora/dependency_treebank.zip.\n",
            "[nltk_data]    | Downloading package dolch to /root/nltk_data...\n",
            "[nltk_data]    |   Unzipping corpora/dolch.zip.\n",
            "[nltk_data]    | Downloading package europarl_raw to\n",
            "[nltk_data]    |     /root/nltk_data...\n",
            "[nltk_data]    |   Unzipping corpora/europarl_raw.zip.\n",
            "[nltk_data]    | Downloading package extended_omw to\n",
            "[nltk_data]    |     /root/nltk_data...\n",
            "[nltk_data]    | Downloading package floresta to /root/nltk_data...\n",
            "[nltk_data]    |   Unzipping corpora/floresta.zip.\n",
            "[nltk_data]    | Downloading package framenet_v15 to\n",
            "[nltk_data]    |     /root/nltk_data...\n",
            "[nltk_data]    |   Unzipping corpora/framenet_v15.zip.\n",
            "[nltk_data]    | Downloading package framenet_v17 to\n",
            "[nltk_data]    |     /root/nltk_data...\n",
            "[nltk_data]    |   Unzipping corpora/framenet_v17.zip.\n",
            "[nltk_data]    | Downloading package gazetteers to /root/nltk_data...\n",
            "[nltk_data]    |   Unzipping corpora/gazetteers.zip.\n",
            "[nltk_data]    | Downloading package genesis to /root/nltk_data...\n",
            "[nltk_data]    |   Unzipping corpora/genesis.zip.\n",
            "[nltk_data]    | Downloading package gutenberg to /root/nltk_data...\n",
            "[nltk_data]    |   Unzipping corpora/gutenberg.zip.\n",
            "[nltk_data]    | Downloading package ieer to /root/nltk_data...\n",
            "[nltk_data]    |   Unzipping corpora/ieer.zip.\n",
            "[nltk_data]    | Downloading package inaugural to /root/nltk_data...\n",
            "[nltk_data]    |   Unzipping corpora/inaugural.zip.\n",
            "[nltk_data]    | Downloading package indian to /root/nltk_data...\n",
            "[nltk_data]    |   Unzipping corpora/indian.zip.\n",
            "[nltk_data]    | Downloading package jeita to /root/nltk_data...\n",
            "[nltk_data]    | Downloading package kimmo to /root/nltk_data...\n",
            "[nltk_data]    |   Unzipping corpora/kimmo.zip.\n",
            "[nltk_data]    | Downloading package knbc to /root/nltk_data...\n",
            "[nltk_data]    | Downloading package large_grammars to\n",
            "[nltk_data]    |     /root/nltk_data...\n",
            "[nltk_data]    |   Unzipping grammars/large_grammars.zip.\n",
            "[nltk_data]    | Downloading package lin_thesaurus to\n",
            "[nltk_data]    |     /root/nltk_data...\n",
            "[nltk_data]    |   Unzipping corpora/lin_thesaurus.zip.\n",
            "[nltk_data]    | Downloading package mac_morpho to /root/nltk_data...\n",
            "[nltk_data]    |   Unzipping corpora/mac_morpho.zip.\n",
            "[nltk_data]    | Downloading package machado to /root/nltk_data...\n",
            "[nltk_data]    | Downloading package masc_tagged to /root/nltk_data...\n",
            "[nltk_data]    | Downloading package maxent_ne_chunker to\n",
            "[nltk_data]    |     /root/nltk_data...\n",
            "[nltk_data]    |   Unzipping chunkers/maxent_ne_chunker.zip.\n",
            "[nltk_data]    | Downloading package maxent_treebank_pos_tagger to\n",
            "[nltk_data]    |     /root/nltk_data...\n",
            "[nltk_data]    |   Unzipping taggers/maxent_treebank_pos_tagger.zip.\n",
            "[nltk_data]    | Downloading package moses_sample to\n",
            "[nltk_data]    |     /root/nltk_data...\n",
            "[nltk_data]    |   Unzipping models/moses_sample.zip.\n",
            "[nltk_data]    | Downloading package movie_reviews to\n",
            "[nltk_data]    |     /root/nltk_data...\n",
            "[nltk_data]    |   Unzipping corpora/movie_reviews.zip.\n",
            "[nltk_data]    | Downloading package mte_teip5 to /root/nltk_data...\n",
            "[nltk_data]    |   Unzipping corpora/mte_teip5.zip.\n",
            "[nltk_data]    | Downloading package mwa_ppdb to /root/nltk_data...\n",
            "[nltk_data]    |   Unzipping misc/mwa_ppdb.zip.\n",
            "[nltk_data]    | Downloading package names to /root/nltk_data...\n",
            "[nltk_data]    |   Unzipping corpora/names.zip.\n",
            "[nltk_data]    | Downloading package nombank.1.0 to /root/nltk_data...\n",
            "[nltk_data]    | Downloading package nonbreaking_prefixes to\n",
            "[nltk_data]    |     /root/nltk_data...\n",
            "[nltk_data]    |   Unzipping corpora/nonbreaking_prefixes.zip.\n",
            "[nltk_data]    | Downloading package nps_chat to /root/nltk_data...\n",
            "[nltk_data]    |   Unzipping corpora/nps_chat.zip.\n",
            "[nltk_data]    | Downloading package omw to /root/nltk_data...\n",
            "[nltk_data]    | Downloading package omw-1.4 to /root/nltk_data...\n",
            "[nltk_data]    | Downloading package opinion_lexicon to\n",
            "[nltk_data]    |     /root/nltk_data...\n",
            "[nltk_data]    |   Unzipping corpora/opinion_lexicon.zip.\n",
            "[nltk_data]    | Downloading package panlex_swadesh to\n",
            "[nltk_data]    |     /root/nltk_data...\n",
            "[nltk_data]    | Downloading package paradigms to /root/nltk_data...\n",
            "[nltk_data]    |   Unzipping corpora/paradigms.zip.\n",
            "[nltk_data]    | Downloading package pe08 to /root/nltk_data...\n",
            "[nltk_data]    |   Unzipping corpora/pe08.zip.\n",
            "[nltk_data]    | Downloading package perluniprops to\n",
            "[nltk_data]    |     /root/nltk_data...\n",
            "[nltk_data]    |   Unzipping misc/perluniprops.zip.\n",
            "[nltk_data]    | Downloading package pil to /root/nltk_data...\n",
            "[nltk_data]    |   Unzipping corpora/pil.zip.\n",
            "[nltk_data]    | Downloading package pl196x to /root/nltk_data...\n",
            "[nltk_data]    |   Unzipping corpora/pl196x.zip.\n",
            "[nltk_data]    | Downloading package porter_test to /root/nltk_data...\n",
            "[nltk_data]    |   Unzipping stemmers/porter_test.zip.\n",
            "[nltk_data]    | Downloading package ppattach to /root/nltk_data...\n",
            "[nltk_data]    |   Unzipping corpora/ppattach.zip.\n",
            "[nltk_data]    | Downloading package problem_reports to\n",
            "[nltk_data]    |     /root/nltk_data...\n",
            "[nltk_data]    |   Unzipping corpora/problem_reports.zip.\n",
            "[nltk_data]    | Downloading package product_reviews_1 to\n",
            "[nltk_data]    |     /root/nltk_data...\n",
            "[nltk_data]    |   Unzipping corpora/product_reviews_1.zip.\n",
            "[nltk_data]    | Downloading package product_reviews_2 to\n",
            "[nltk_data]    |     /root/nltk_data...\n",
            "[nltk_data]    |   Unzipping corpora/product_reviews_2.zip.\n",
            "[nltk_data]    | Downloading package propbank to /root/nltk_data...\n",
            "[nltk_data]    | Downloading package pros_cons to /root/nltk_data...\n",
            "[nltk_data]    |   Unzipping corpora/pros_cons.zip.\n",
            "[nltk_data]    | Downloading package ptb to /root/nltk_data...\n",
            "[nltk_data]    |   Unzipping corpora/ptb.zip.\n",
            "[nltk_data]    | Downloading package punkt to /root/nltk_data...\n",
            "[nltk_data]    |   Unzipping tokenizers/punkt.zip.\n",
            "[nltk_data]    | Downloading package qc to /root/nltk_data...\n",
            "[nltk_data]    |   Unzipping corpora/qc.zip.\n",
            "[nltk_data]    | Downloading package reuters to /root/nltk_data...\n",
            "[nltk_data]    | Downloading package rslp to /root/nltk_data...\n",
            "[nltk_data]    |   Unzipping stemmers/rslp.zip.\n",
            "[nltk_data]    | Downloading package rte to /root/nltk_data...\n",
            "[nltk_data]    |   Unzipping corpora/rte.zip.\n",
            "[nltk_data]    | Downloading package sample_grammars to\n",
            "[nltk_data]    |     /root/nltk_data...\n",
            "[nltk_data]    |   Unzipping grammars/sample_grammars.zip.\n",
            "[nltk_data]    | Downloading package semcor to /root/nltk_data...\n",
            "[nltk_data]    | Downloading package senseval to /root/nltk_data...\n",
            "[nltk_data]    |   Unzipping corpora/senseval.zip.\n",
            "[nltk_data]    | Downloading package sentence_polarity to\n",
            "[nltk_data]    |     /root/nltk_data...\n",
            "[nltk_data]    |   Unzipping corpora/sentence_polarity.zip.\n",
            "[nltk_data]    | Downloading package sentiwordnet to\n",
            "[nltk_data]    |     /root/nltk_data...\n",
            "[nltk_data]    |   Unzipping corpora/sentiwordnet.zip.\n",
            "[nltk_data]    | Downloading package shakespeare to /root/nltk_data...\n",
            "[nltk_data]    |   Unzipping corpora/shakespeare.zip.\n",
            "[nltk_data]    | Downloading package sinica_treebank to\n",
            "[nltk_data]    |     /root/nltk_data...\n",
            "[nltk_data]    |   Unzipping corpora/sinica_treebank.zip.\n",
            "[nltk_data]    | Downloading package smultron to /root/nltk_data...\n",
            "[nltk_data]    |   Unzipping corpora/smultron.zip.\n",
            "[nltk_data]    | Downloading package snowball_data to\n",
            "[nltk_data]    |     /root/nltk_data...\n",
            "[nltk_data]    | Downloading package spanish_grammars to\n",
            "[nltk_data]    |     /root/nltk_data...\n",
            "[nltk_data]    |   Unzipping grammars/spanish_grammars.zip.\n",
            "[nltk_data]    | Downloading package state_union to /root/nltk_data...\n",
            "[nltk_data]    |   Unzipping corpora/state_union.zip.\n",
            "[nltk_data]    | Downloading package stopwords to /root/nltk_data...\n",
            "[nltk_data]    |   Unzipping corpora/stopwords.zip.\n",
            "[nltk_data]    | Downloading package subjectivity to\n",
            "[nltk_data]    |     /root/nltk_data...\n",
            "[nltk_data]    |   Unzipping corpora/subjectivity.zip.\n",
            "[nltk_data]    | Downloading package swadesh to /root/nltk_data...\n",
            "[nltk_data]    |   Unzipping corpora/swadesh.zip.\n",
            "[nltk_data]    | Downloading package switchboard to /root/nltk_data...\n",
            "[nltk_data]    |   Unzipping corpora/switchboard.zip.\n",
            "[nltk_data]    | Downloading package tagsets to /root/nltk_data...\n",
            "[nltk_data]    |   Unzipping help/tagsets.zip.\n",
            "[nltk_data]    | Downloading package timit to /root/nltk_data...\n",
            "[nltk_data]    |   Unzipping corpora/timit.zip.\n",
            "[nltk_data]    | Downloading package toolbox to /root/nltk_data...\n",
            "[nltk_data]    |   Unzipping corpora/toolbox.zip.\n",
            "[nltk_data]    | Downloading package treebank to /root/nltk_data...\n",
            "[nltk_data]    |   Unzipping corpora/treebank.zip.\n",
            "[nltk_data]    | Downloading package twitter_samples to\n",
            "[nltk_data]    |     /root/nltk_data...\n",
            "[nltk_data]    |   Unzipping corpora/twitter_samples.zip.\n",
            "[nltk_data]    | Downloading package udhr to /root/nltk_data...\n",
            "[nltk_data]    |   Unzipping corpora/udhr.zip.\n",
            "[nltk_data]    | Downloading package udhr2 to /root/nltk_data...\n",
            "[nltk_data]    |   Unzipping corpora/udhr2.zip.\n",
            "[nltk_data]    | Downloading package unicode_samples to\n",
            "[nltk_data]    |     /root/nltk_data...\n",
            "[nltk_data]    |   Unzipping corpora/unicode_samples.zip.\n",
            "[nltk_data]    | Downloading package universal_tagset to\n",
            "[nltk_data]    |     /root/nltk_data...\n",
            "[nltk_data]    |   Unzipping taggers/universal_tagset.zip.\n",
            "[nltk_data]    | Downloading package universal_treebanks_v20 to\n",
            "[nltk_data]    |     /root/nltk_data...\n",
            "[nltk_data]    | Downloading package vader_lexicon to\n",
            "[nltk_data]    |     /root/nltk_data...\n",
            "[nltk_data]    | Downloading package verbnet to /root/nltk_data...\n",
            "[nltk_data]    |   Unzipping corpora/verbnet.zip.\n",
            "[nltk_data]    | Downloading package verbnet3 to /root/nltk_data...\n",
            "[nltk_data]    |   Unzipping corpora/verbnet3.zip.\n",
            "[nltk_data]    | Downloading package webtext to /root/nltk_data...\n",
            "[nltk_data]    |   Unzipping corpora/webtext.zip.\n",
            "[nltk_data]    | Downloading package wmt15_eval to /root/nltk_data...\n",
            "[nltk_data]    |   Unzipping models/wmt15_eval.zip.\n",
            "[nltk_data]    | Downloading package word2vec_sample to\n",
            "[nltk_data]    |     /root/nltk_data...\n",
            "[nltk_data]    |   Unzipping models/word2vec_sample.zip.\n",
            "[nltk_data]    | Downloading package wordnet to /root/nltk_data...\n",
            "[nltk_data]    | Downloading package wordnet2021 to /root/nltk_data...\n",
            "[nltk_data]    | Downloading package wordnet31 to /root/nltk_data...\n",
            "[nltk_data]    | Downloading package wordnet_ic to /root/nltk_data...\n",
            "[nltk_data]    |   Unzipping corpora/wordnet_ic.zip.\n",
            "[nltk_data]    | Downloading package words to /root/nltk_data...\n",
            "[nltk_data]    |   Unzipping corpora/words.zip.\n",
            "[nltk_data]    | Downloading package ycoe to /root/nltk_data...\n",
            "[nltk_data]    |   Unzipping corpora/ycoe.zip.\n",
            "[nltk_data]    | \n",
            "[nltk_data]  Done downloading collection all\n"
          ]
        },
        {
          "output_type": "execute_result",
          "data": {
            "text/plain": [
              "True"
            ]
          },
          "metadata": {},
          "execution_count": 2
        }
      ]
    },
    {
      "cell_type": "code",
      "source": [
        "paragraph = \"\"\"Looking back on a childhood filled with events and memories, I find it rather difficult to pick one that leaves me with the fabled \"warm and fuzzy feelings.\" As the daughter of an Air Force major, I had the pleasure of traveling across America in many moving trips. I have visited the monstrous trees of the Sequoia National Forest, stood on the edge of the Grand Canyon and have jumped on the beds at Caesar's Palace in Lake Tahoe.\"\n",
        "\"The day I picked my dog up from the pound was one of the happiest days of both of our lives. I had gone to the pound just a week earlier with the idea that I would just \"look\" at a puppy. Of course, you can no more just look at those squiggling little faces so filled with hope and joy than you can stop the sun from setting in the evening. I knew within minutes of walking in the door that I would get a puppy… but it wasn't until I saw him that I knew I had found my puppy.\"\n",
        "\"Looking for houses was supposed to be a fun and exciting process. Unfortunately, none of the ones that we saw seemed to match the specifications that we had established. They were too small, too impersonal, too close to the neighbors. After days of finding nothing even close, we began to wonder: was there really a perfect house out there for us? \"\"\""
      ],
      "metadata": {
        "id": "SqJRZP0TcTWZ"
      },
      "execution_count": 3,
      "outputs": []
    },
    {
      "cell_type": "code",
      "source": [
        "# tokenization of sentences from doc\n",
        "sentences = nltk.sent_tokenize(paragraph)\n",
        "sentences"
      ],
      "metadata": {
        "colab": {
          "base_uri": "https://localhost:8080/"
        },
        "id": "6mE4GDmrcrb2",
        "outputId": "9f32e83d-1e53-4406-cc2f-2800bdb3e4a1"
      },
      "execution_count": 4,
      "outputs": [
        {
          "output_type": "execute_result",
          "data": {
            "text/plain": [
              "['Looking back on a childhood filled with events and memories, I find it rather difficult to pick one that leaves me with the fabled \"warm and fuzzy feelings.\"',\n",
              " 'As the daughter of an Air Force major, I had the pleasure of traveling across America in many moving trips.',\n",
              " 'I have visited the monstrous trees of the Sequoia National Forest, stood on the edge of the Grand Canyon and have jumped on the beds at Caesar\\'s Palace in Lake Tahoe.\"',\n",
              " '\"The day I picked my dog up from the pound was one of the happiest days of both of our lives.',\n",
              " 'I had gone to the pound just a week earlier with the idea that I would just \"look\" at a puppy.',\n",
              " 'Of course, you can no more just look at those squiggling little faces so filled with hope and joy than you can stop the sun from setting in the evening.',\n",
              " 'I knew within minutes of walking in the door that I would get a puppy… but it wasn\\'t until I saw him that I knew I had found my puppy.\"',\n",
              " '\"Looking for houses was supposed to be a fun and exciting process.',\n",
              " 'Unfortunately, none of the ones that we saw seemed to match the specifications that we had established.',\n",
              " 'They were too small, too impersonal, too close to the neighbors.',\n",
              " 'After days of finding nothing even close, we began to wonder: was there really a perfect house out there for us?']"
            ]
          },
          "metadata": {},
          "execution_count": 4
        }
      ]
    },
    {
      "cell_type": "code",
      "source": [
        "# tokenization of words from doc\n",
        "words = nltk.word_tokenize(paragraph)\n",
        "words"
      ],
      "metadata": {
        "colab": {
          "base_uri": "https://localhost:8080/"
        },
        "id": "nJGPfZLEcxTo",
        "outputId": "c34b3a49-5397-43b3-b6c6-7c23a8b1ae05"
      },
      "execution_count": 6,
      "outputs": [
        {
          "output_type": "execute_result",
          "data": {
            "text/plain": [
              "['Looking',\n",
              " 'back',\n",
              " 'on',\n",
              " 'a',\n",
              " 'childhood',\n",
              " 'filled',\n",
              " 'with',\n",
              " 'events',\n",
              " 'and',\n",
              " 'memories',\n",
              " ',',\n",
              " 'I',\n",
              " 'find',\n",
              " 'it',\n",
              " 'rather',\n",
              " 'difficult',\n",
              " 'to',\n",
              " 'pick',\n",
              " 'one',\n",
              " 'that',\n",
              " 'leaves',\n",
              " 'me',\n",
              " 'with',\n",
              " 'the',\n",
              " 'fabled',\n",
              " '``',\n",
              " 'warm',\n",
              " 'and',\n",
              " 'fuzzy',\n",
              " 'feelings',\n",
              " '.',\n",
              " \"''\",\n",
              " 'As',\n",
              " 'the',\n",
              " 'daughter',\n",
              " 'of',\n",
              " 'an',\n",
              " 'Air',\n",
              " 'Force',\n",
              " 'major',\n",
              " ',',\n",
              " 'I',\n",
              " 'had',\n",
              " 'the',\n",
              " 'pleasure',\n",
              " 'of',\n",
              " 'traveling',\n",
              " 'across',\n",
              " 'America',\n",
              " 'in',\n",
              " 'many',\n",
              " 'moving',\n",
              " 'trips',\n",
              " '.',\n",
              " 'I',\n",
              " 'have',\n",
              " 'visited',\n",
              " 'the',\n",
              " 'monstrous',\n",
              " 'trees',\n",
              " 'of',\n",
              " 'the',\n",
              " 'Sequoia',\n",
              " 'National',\n",
              " 'Forest',\n",
              " ',',\n",
              " 'stood',\n",
              " 'on',\n",
              " 'the',\n",
              " 'edge',\n",
              " 'of',\n",
              " 'the',\n",
              " 'Grand',\n",
              " 'Canyon',\n",
              " 'and',\n",
              " 'have',\n",
              " 'jumped',\n",
              " 'on',\n",
              " 'the',\n",
              " 'beds',\n",
              " 'at',\n",
              " 'Caesar',\n",
              " \"'s\",\n",
              " 'Palace',\n",
              " 'in',\n",
              " 'Lake',\n",
              " 'Tahoe',\n",
              " '.',\n",
              " \"''\",\n",
              " '``',\n",
              " 'The',\n",
              " 'day',\n",
              " 'I',\n",
              " 'picked',\n",
              " 'my',\n",
              " 'dog',\n",
              " 'up',\n",
              " 'from',\n",
              " 'the',\n",
              " 'pound',\n",
              " 'was',\n",
              " 'one',\n",
              " 'of',\n",
              " 'the',\n",
              " 'happiest',\n",
              " 'days',\n",
              " 'of',\n",
              " 'both',\n",
              " 'of',\n",
              " 'our',\n",
              " 'lives',\n",
              " '.',\n",
              " 'I',\n",
              " 'had',\n",
              " 'gone',\n",
              " 'to',\n",
              " 'the',\n",
              " 'pound',\n",
              " 'just',\n",
              " 'a',\n",
              " 'week',\n",
              " 'earlier',\n",
              " 'with',\n",
              " 'the',\n",
              " 'idea',\n",
              " 'that',\n",
              " 'I',\n",
              " 'would',\n",
              " 'just',\n",
              " '``',\n",
              " 'look',\n",
              " \"''\",\n",
              " 'at',\n",
              " 'a',\n",
              " 'puppy',\n",
              " '.',\n",
              " 'Of',\n",
              " 'course',\n",
              " ',',\n",
              " 'you',\n",
              " 'can',\n",
              " 'no',\n",
              " 'more',\n",
              " 'just',\n",
              " 'look',\n",
              " 'at',\n",
              " 'those',\n",
              " 'squiggling',\n",
              " 'little',\n",
              " 'faces',\n",
              " 'so',\n",
              " 'filled',\n",
              " 'with',\n",
              " 'hope',\n",
              " 'and',\n",
              " 'joy',\n",
              " 'than',\n",
              " 'you',\n",
              " 'can',\n",
              " 'stop',\n",
              " 'the',\n",
              " 'sun',\n",
              " 'from',\n",
              " 'setting',\n",
              " 'in',\n",
              " 'the',\n",
              " 'evening',\n",
              " '.',\n",
              " 'I',\n",
              " 'knew',\n",
              " 'within',\n",
              " 'minutes',\n",
              " 'of',\n",
              " 'walking',\n",
              " 'in',\n",
              " 'the',\n",
              " 'door',\n",
              " 'that',\n",
              " 'I',\n",
              " 'would',\n",
              " 'get',\n",
              " 'a',\n",
              " 'puppy…',\n",
              " 'but',\n",
              " 'it',\n",
              " 'was',\n",
              " \"n't\",\n",
              " 'until',\n",
              " 'I',\n",
              " 'saw',\n",
              " 'him',\n",
              " 'that',\n",
              " 'I',\n",
              " 'knew',\n",
              " 'I',\n",
              " 'had',\n",
              " 'found',\n",
              " 'my',\n",
              " 'puppy',\n",
              " '.',\n",
              " \"''\",\n",
              " '``',\n",
              " 'Looking',\n",
              " 'for',\n",
              " 'houses',\n",
              " 'was',\n",
              " 'supposed',\n",
              " 'to',\n",
              " 'be',\n",
              " 'a',\n",
              " 'fun',\n",
              " 'and',\n",
              " 'exciting',\n",
              " 'process',\n",
              " '.',\n",
              " 'Unfortunately',\n",
              " ',',\n",
              " 'none',\n",
              " 'of',\n",
              " 'the',\n",
              " 'ones',\n",
              " 'that',\n",
              " 'we',\n",
              " 'saw',\n",
              " 'seemed',\n",
              " 'to',\n",
              " 'match',\n",
              " 'the',\n",
              " 'specifications',\n",
              " 'that',\n",
              " 'we',\n",
              " 'had',\n",
              " 'established',\n",
              " '.',\n",
              " 'They',\n",
              " 'were',\n",
              " 'too',\n",
              " 'small',\n",
              " ',',\n",
              " 'too',\n",
              " 'impersonal',\n",
              " ',',\n",
              " 'too',\n",
              " 'close',\n",
              " 'to',\n",
              " 'the',\n",
              " 'neighbors',\n",
              " '.',\n",
              " 'After',\n",
              " 'days',\n",
              " 'of',\n",
              " 'finding',\n",
              " 'nothing',\n",
              " 'even',\n",
              " 'close',\n",
              " ',',\n",
              " 'we',\n",
              " 'began',\n",
              " 'to',\n",
              " 'wonder',\n",
              " ':',\n",
              " 'was',\n",
              " 'there',\n",
              " 'really',\n",
              " 'a',\n",
              " 'perfect',\n",
              " 'house',\n",
              " 'out',\n",
              " 'there',\n",
              " 'for',\n",
              " 'us',\n",
              " '?']"
            ]
          },
          "metadata": {},
          "execution_count": 6
        }
      ]
    },
    {
      "cell_type": "markdown",
      "source": [
        "### Stemming"
      ],
      "metadata": {
        "id": "k71iuhVldF3g"
      }
    },
    {
      "cell_type": "code",
      "source": [
        "from nltk.stem import PorterStemmer , SnowballStemmer \n",
        "from nltk.corpus import stopwords"
      ],
      "metadata": {
        "id": "M39UCj52c5tU"
      },
      "execution_count": 7,
      "outputs": []
    },
    {
      "cell_type": "code",
      "source": [
        "stemmer1 = PorterStemmer()\n",
        "stemmer2 = SnowballStemmer(language = 'english')"
      ],
      "metadata": {
        "id": "5KSyvU2QdPMu"
      },
      "execution_count": 9,
      "outputs": []
    },
    {
      "cell_type": "code",
      "source": [
        "sentences = nltk.sent_tokenize(paragraph)\n",
        "# stemming \n",
        "for i in range(len(sentences)):\n",
        "  words = nltk.word_tokenize(sentences[i])\n",
        "  words = [stemmer1.stem(word) for word in words if word not in stopwords.words('english')]\n",
        "  sentences[i] = \" \".join(words)"
      ],
      "metadata": {
        "id": "CVuRkokwdYf1"
      },
      "execution_count": 20,
      "outputs": []
    },
    {
      "cell_type": "code",
      "source": [
        "sentences"
      ],
      "metadata": {
        "colab": {
          "base_uri": "https://localhost:8080/"
        },
        "id": "t4XbChbfdyjD",
        "outputId": "4910cd30-f846-41db-e0bd-0ff1e8c29581"
      },
      "execution_count": 21,
      "outputs": [
        {
          "output_type": "execute_result",
          "data": {
            "text/plain": [
              "[\"look back childhood fill event memori , i find rather difficult pick one leav fabl `` warm fuzzi feel . ''\",\n",
              " 'as daughter air forc major , i pleasur travel across america mani move trip .',\n",
              " \"i visit monstrou tree sequoia nation forest , stood edg grand canyon jump bed caesar 's palac lake taho . ''\",\n",
              " '`` the day i pick dog pound one happiest day live .',\n",
              " \"i gone pound week earlier idea i would `` look '' puppi .\",\n",
              " 'of cours , look squiggl littl face fill hope joy stop sun set even .',\n",
              " \"i knew within minut walk door i would get puppy… n't i saw i knew i found puppi . ''\",\n",
              " '`` look hous suppos fun excit process .',\n",
              " 'unfortun , none one saw seem match specif establish .',\n",
              " 'they small , imperson , close neighbor .',\n",
              " 'after day find noth even close , began wonder : realli perfect hous us ?']"
            ]
          },
          "metadata": {},
          "execution_count": 21
        }
      ]
    },
    {
      "cell_type": "markdown",
      "source": [
        "### Lemmetization"
      ],
      "metadata": {
        "id": "GRoxZf96e01d"
      }
    },
    {
      "cell_type": "code",
      "source": [
        "from nltk.stem import WordNetLemmatizer\n",
        "# from nltk.corpus "
      ],
      "metadata": {
        "id": "fZAImqDDez3-"
      },
      "execution_count": 16,
      "outputs": []
    },
    {
      "cell_type": "code",
      "source": [
        "sentences = nltk.sent_tokenize(paragraph)\n",
        "lemmatizer = WordNetLemmatizer()\n",
        "\n",
        "# lemmatization\n",
        "for i in range(len(sentences)):\n",
        "  words = nltk.word_tokenize(sentences[i])\n",
        "  words = [lemmatizer.lemmatize(word) for word in words if word not in stopwords.words(\"english\")]\n",
        "  sentences[i] = \" \".join(words)"
      ],
      "metadata": {
        "id": "iMbi3T-Pd-8a"
      },
      "execution_count": 18,
      "outputs": []
    },
    {
      "cell_type": "code",
      "source": [
        "sentences"
      ],
      "metadata": {
        "colab": {
          "base_uri": "https://localhost:8080/"
        },
        "id": "hpgOMwvyffex",
        "outputId": "3244c034-c0bb-4ac5-a228-98f3ccbc26e6"
      },
      "execution_count": 19,
      "outputs": [
        {
          "output_type": "execute_result",
          "data": {
            "text/plain": [
              "[\"Looking back childhood filled event memory , I find rather difficult pick one leaf fabled `` warm fuzzy feeling . ''\",\n",
              " 'As daughter Air Force major , I pleasure traveling across America many moving trip .',\n",
              " \"I visited monstrous tree Sequoia National Forest , stood edge Grand Canyon jumped bed Caesar 's Palace Lake Tahoe . ''\",\n",
              " '`` The day I picked dog pound one happiest day life .',\n",
              " \"I gone pound week earlier idea I would `` look '' puppy .\",\n",
              " 'Of course , look squiggling little face filled hope joy stop sun setting evening .',\n",
              " \"I knew within minute walking door I would get puppy… n't I saw I knew I found puppy . ''\",\n",
              " '`` Looking house supposed fun exciting process .',\n",
              " 'Unfortunately , none one saw seemed match specification established .',\n",
              " 'They small , impersonal , close neighbor .',\n",
              " 'After day finding nothing even close , began wonder : really perfect house u ?']"
            ]
          },
          "metadata": {},
          "execution_count": 19
        }
      ]
    },
    {
      "cell_type": "markdown",
      "source": [
        "### POS Tagging"
      ],
      "metadata": {
        "id": "5XG1CyDSf1rH"
      }
    },
    {
      "cell_type": "code",
      "source": [
        "sentence = 'today we completed basics of nlp, need to revise it'\n",
        "token = nltk.word_tokenize(sentence)\n",
        "token"
      ],
      "metadata": {
        "colab": {
          "base_uri": "https://localhost:8080/"
        },
        "id": "o40KbWQ1foku",
        "outputId": "779f518d-efbb-449f-ab22-f844e13ebe41"
      },
      "execution_count": 23,
      "outputs": [
        {
          "output_type": "execute_result",
          "data": {
            "text/plain": [
              "['today',\n",
              " 'we',\n",
              " 'completed',\n",
              " 'basics',\n",
              " 'of',\n",
              " 'nlp',\n",
              " ',',\n",
              " 'need',\n",
              " 'to',\n",
              " 'revise',\n",
              " 'it']"
            ]
          },
          "metadata": {},
          "execution_count": 23
        }
      ]
    },
    {
      "cell_type": "code",
      "source": [
        "nltk.pos_tag(token)"
      ],
      "metadata": {
        "colab": {
          "base_uri": "https://localhost:8080/"
        },
        "id": "ToBL9q7Tf_Db",
        "outputId": "3a3a46ac-d833-4047-84c1-e0cbc7b8d260"
      },
      "execution_count": 24,
      "outputs": [
        {
          "output_type": "execute_result",
          "data": {
            "text/plain": [
              "[('today', 'NN'),\n",
              " ('we', 'PRP'),\n",
              " ('completed', 'VBD'),\n",
              " ('basics', 'NNS'),\n",
              " ('of', 'IN'),\n",
              " ('nlp', 'NN'),\n",
              " (',', ','),\n",
              " ('need', 'VBP'),\n",
              " ('to', 'TO'),\n",
              " ('revise', 'VB'),\n",
              " ('it', 'PRP')]"
            ]
          },
          "metadata": {},
          "execution_count": 24
        }
      ]
    },
    {
      "cell_type": "code",
      "source": [
        "# we can get  more details about any pos tag using help function of nltk \n",
        "nltk.help.upenn_tagset(\"PRP$\")"
      ],
      "metadata": {
        "colab": {
          "base_uri": "https://localhost:8080/"
        },
        "id": "mpshzsslgL8x",
        "outputId": "1d7e7474-6db1-438e-d8f3-013bdbeae0ce"
      },
      "execution_count": 25,
      "outputs": [
        {
          "output_type": "stream",
          "name": "stdout",
          "text": [
            "PRP$: pronoun, possessive\n",
            "    her his mine my our ours their thy your\n"
          ]
        }
      ]
    },
    {
      "cell_type": "code",
      "source": [
        "nltk.help.upenn_tagset(\"JJ\")"
      ],
      "metadata": {
        "colab": {
          "base_uri": "https://localhost:8080/"
        },
        "id": "uuTtnmUCgb2x",
        "outputId": "745e4d89-65a7-45d1-af58-e61a8e7fe921"
      },
      "execution_count": 26,
      "outputs": [
        {
          "output_type": "stream",
          "name": "stdout",
          "text": [
            "JJ: adjective or numeral, ordinal\n",
            "    third ill-mannered pre-war regrettable oiled calamitous first separable\n",
            "    ectoplasmic battery-powered participatory fourth still-to-be-named\n",
            "    multilingual multi-disciplinary ...\n"
          ]
        }
      ]
    },
    {
      "cell_type": "code",
      "source": [
        "sentence = \" a quick brown fox jumped over the lazy sleeping dog.\"\n",
        "token = nltk.word_tokenize(sentence)\n",
        "token"
      ],
      "metadata": {
        "colab": {
          "base_uri": "https://localhost:8080/"
        },
        "id": "_NuPuwmegfMD",
        "outputId": "d5ea67cc-89ce-4e80-8541-9b7d985f79db"
      },
      "execution_count": 28,
      "outputs": [
        {
          "output_type": "execute_result",
          "data": {
            "text/plain": [
              "['a',\n",
              " 'quick',\n",
              " 'brown',\n",
              " 'fox',\n",
              " 'jumped',\n",
              " 'over',\n",
              " 'the',\n",
              " 'lazy',\n",
              " 'sleeping',\n",
              " 'dog',\n",
              " '.']"
            ]
          },
          "metadata": {},
          "execution_count": 28
        }
      ]
    },
    {
      "cell_type": "code",
      "source": [
        "nltk.pos_tag(token)"
      ],
      "metadata": {
        "colab": {
          "base_uri": "https://localhost:8080/"
        },
        "id": "eoO6ImclgoHi",
        "outputId": "aeae4480-b663-4c53-bc38-56dcc193baaf"
      },
      "execution_count": 29,
      "outputs": [
        {
          "output_type": "execute_result",
          "data": {
            "text/plain": [
              "[('a', 'DT'),\n",
              " ('quick', 'JJ'),\n",
              " ('brown', 'NN'),\n",
              " ('fox', 'NN'),\n",
              " ('jumped', 'VBD'),\n",
              " ('over', 'IN'),\n",
              " ('the', 'DT'),\n",
              " ('lazy', 'JJ'),\n",
              " ('sleeping', 'NN'),\n",
              " ('dog', 'NN'),\n",
              " ('.', '.')]"
            ]
          },
          "metadata": {},
          "execution_count": 29
        }
      ]
    },
    {
      "cell_type": "code",
      "source": [
        "nltk.help.upenn_tagset(\"DT\")"
      ],
      "metadata": {
        "colab": {
          "base_uri": "https://localhost:8080/"
        },
        "id": "HNzZ0OzWgrnX",
        "outputId": "ba0842a0-a5a7-4f89-8c95-20bc768237d4"
      },
      "execution_count": 30,
      "outputs": [
        {
          "output_type": "stream",
          "name": "stdout",
          "text": [
            "DT: determiner\n",
            "    all an another any both del each either every half la many much nary\n",
            "    neither no some such that the them these this those\n"
          ]
        }
      ]
    },
    {
      "cell_type": "markdown",
      "source": [
        "### Bag of Words (BoW)"
      ],
      "metadata": {
        "id": "uj6L9hRegw_E"
      }
    },
    {
      "cell_type": "code",
      "source": [
        "import re # --- regular expression\n",
        "from nltk.corpus import stopwords\n",
        "from nltk.stem.porter import PorterStemmer \n",
        "from nltk.stem import WordNetLemmatizer  "
      ],
      "metadata": {
        "id": "aMia5s1Ygvi8"
      },
      "execution_count": 31,
      "outputs": []
    },
    {
      "cell_type": "code",
      "source": [
        "ps = PorterStemmer() \n",
        "wordnet = WordNetLemmatizer() \n",
        "sentences = nltk.sent_tokenize(paragraph)\n",
        "corpus = []"
      ],
      "metadata": {
        "id": "9AHaYMEzhF4D"
      },
      "execution_count": 34,
      "outputs": []
    },
    {
      "cell_type": "code",
      "source": [
        "for i in range(len(sentences)):\n",
        "  review = re.sub('[^a-zA-Z]' , \" \", sentences[i])\n",
        "  review = review.lower()\n",
        "  review = review.split()\n",
        "  review = [wordnet.lemmatize(word) for word in review if word not in stopwords.words('english')]\n",
        "  review = ' '.join(review)\n",
        "  corpus.append(review)"
      ],
      "metadata": {
        "id": "J1IvSPIrhS5F"
      },
      "execution_count": 35,
      "outputs": []
    },
    {
      "cell_type": "code",
      "source": [
        "corpus"
      ],
      "metadata": {
        "colab": {
          "base_uri": "https://localhost:8080/"
        },
        "id": "gwZFrnsEhvs1",
        "outputId": "b2ce6fcf-34fa-4945-f4ec-51e379ff525b"
      },
      "execution_count": 36,
      "outputs": [
        {
          "output_type": "execute_result",
          "data": {
            "text/plain": [
              "['looking back childhood filled event memory find rather difficult pick one leaf fabled warm fuzzy feeling',\n",
              " 'daughter air force major pleasure traveling across america many moving trip',\n",
              " 'visited monstrous tree sequoia national forest stood edge grand canyon jumped bed caesar palace lake tahoe',\n",
              " 'day picked dog pound one happiest day life',\n",
              " 'gone pound week earlier idea would look puppy',\n",
              " 'course look squiggling little face filled hope joy stop sun setting evening',\n",
              " 'knew within minute walking door would get puppy saw knew found puppy',\n",
              " 'looking house supposed fun exciting process',\n",
              " 'unfortunately none one saw seemed match specification established',\n",
              " 'small impersonal close neighbor',\n",
              " 'day finding nothing even close began wonder really perfect house u']"
            ]
          },
          "metadata": {},
          "execution_count": 36
        }
      ]
    },
    {
      "cell_type": "code",
      "source": [
        "# bog \n",
        "from sklearn.feature_extraction.text import CountVectorizer \n",
        "cv = CountVectorizer()\n",
        "\n",
        "X = cv.fit_transform(corpus).toarray()\n",
        "\n",
        "X.shape"
      ],
      "metadata": {
        "colab": {
          "base_uri": "https://localhost:8080/"
        },
        "id": "Qnx8H1dshy4V",
        "outputId": "f385b408-dcc0-4f21-d64a-9768e73b2bc5"
      },
      "execution_count": 37,
      "outputs": [
        {
          "output_type": "execute_result",
          "data": {
            "text/plain": [
              "(11, 96)"
            ]
          },
          "metadata": {},
          "execution_count": 37
        }
      ]
    },
    {
      "cell_type": "code",
      "source": [
        "X"
      ],
      "metadata": {
        "colab": {
          "base_uri": "https://localhost:8080/"
        },
        "id": "5X5oVtzGiBIf",
        "outputId": "030fd5cb-1894-45da-cf10-0a2ccd61b17b"
      },
      "execution_count": 38,
      "outputs": [
        {
          "output_type": "execute_result",
          "data": {
            "text/plain": [
              "array([[0, 0, 0, ..., 0, 0, 0],\n",
              "       [1, 1, 1, ..., 0, 0, 0],\n",
              "       [0, 0, 0, ..., 0, 0, 0],\n",
              "       ...,\n",
              "       [0, 0, 0, ..., 0, 0, 0],\n",
              "       [0, 0, 0, ..., 0, 0, 0],\n",
              "       [0, 0, 0, ..., 0, 1, 0]])"
            ]
          },
          "metadata": {},
          "execution_count": 38
        }
      ]
    },
    {
      "cell_type": "markdown",
      "source": [
        "### tfidf ( term frequence & inverse document frequency) "
      ],
      "metadata": {
        "id": "E7VhgF27iFuZ"
      }
    },
    {
      "cell_type": "code",
      "source": [
        "import re \n",
        "from nltk.corpus import stopwords\n",
        "from nltk.stem.porter import PorterStemmer \n",
        "from nltk.stem import WordNetLemmatizer"
      ],
      "metadata": {
        "id": "QY0Ep-oHiDEF"
      },
      "execution_count": 40,
      "outputs": []
    },
    {
      "cell_type": "code",
      "source": [
        "ps = PorterStemmer()\n",
        "wordnet=WordNetLemmatizer()\n",
        "sentences = nltk.sent_tokenize(paragraph)\n",
        "corpus = []"
      ],
      "metadata": {
        "id": "EOUcvefAiXEx"
      },
      "execution_count": 41,
      "outputs": []
    },
    {
      "cell_type": "code",
      "source": [
        "for i in range(len(sentences)):\n",
        "    review = re.sub('[^a-zA-Z]', ' ', sentences[i])\n",
        "    review = review.lower()\n",
        "    review = review.split()\n",
        "    review = [wordnet.lemmatize(word) for word in review if not word in set(stopwords.words('english'))]\n",
        "    review = ' '.join(review)\n",
        "    corpus.append(review)"
      ],
      "metadata": {
        "id": "P69t75LmicEg"
      },
      "execution_count": 42,
      "outputs": []
    },
    {
      "cell_type": "code",
      "source": [
        "corpus"
      ],
      "metadata": {
        "colab": {
          "base_uri": "https://localhost:8080/"
        },
        "id": "tGepkcQxidVj",
        "outputId": "242e18a1-5163-45fc-fe4a-09d379024991"
      },
      "execution_count": 43,
      "outputs": [
        {
          "output_type": "execute_result",
          "data": {
            "text/plain": [
              "['looking back childhood filled event memory find rather difficult pick one leaf fabled warm fuzzy feeling',\n",
              " 'daughter air force major pleasure traveling across america many moving trip',\n",
              " 'visited monstrous tree sequoia national forest stood edge grand canyon jumped bed caesar palace lake tahoe',\n",
              " 'day picked dog pound one happiest day life',\n",
              " 'gone pound week earlier idea would look puppy',\n",
              " 'course look squiggling little face filled hope joy stop sun setting evening',\n",
              " 'knew within minute walking door would get puppy saw knew found puppy',\n",
              " 'looking house supposed fun exciting process',\n",
              " 'unfortunately none one saw seemed match specification established',\n",
              " 'small impersonal close neighbor',\n",
              " 'day finding nothing even close began wonder really perfect house u']"
            ]
          },
          "metadata": {},
          "execution_count": 43
        }
      ]
    },
    {
      "cell_type": "code",
      "source": [
        "from sklearn.feature_extraction.text import TfidfVectorizer\n",
        "\n",
        "tfidf=TfidfVectorizer()\n",
        "X=tfidf.fit_transform(corpus).toarray()"
      ],
      "metadata": {
        "id": "Mghb1V4Qie6V"
      },
      "execution_count": 44,
      "outputs": []
    },
    {
      "cell_type": "code",
      "source": [
        "X"
      ],
      "metadata": {
        "colab": {
          "base_uri": "https://localhost:8080/"
        },
        "id": "Cph7acKgihVc",
        "outputId": "d11f79d3-37d0-49db-e8df-68aab562158f"
      },
      "execution_count": 45,
      "outputs": [
        {
          "output_type": "execute_result",
          "data": {
            "text/plain": [
              "array([[0.        , 0.        , 0.        , ..., 0.        , 0.        ,\n",
              "        0.        ],\n",
              "       [0.30151134, 0.30151134, 0.30151134, ..., 0.        , 0.        ,\n",
              "        0.        ],\n",
              "       [0.        , 0.        , 0.        , ..., 0.        , 0.        ,\n",
              "        0.        ],\n",
              "       ...,\n",
              "       [0.        , 0.        , 0.        , ..., 0.        , 0.        ,\n",
              "        0.        ],\n",
              "       [0.        , 0.        , 0.        , ..., 0.        , 0.        ,\n",
              "        0.        ],\n",
              "       [0.        , 0.        , 0.        , ..., 0.        , 0.32983614,\n",
              "        0.        ]])"
            ]
          },
          "metadata": {},
          "execution_count": 45
        }
      ]
    },
    {
      "cell_type": "code",
      "source": [
        "X.shape"
      ],
      "metadata": {
        "colab": {
          "base_uri": "https://localhost:8080/"
        },
        "id": "nMo3Bvjrii4P",
        "outputId": "48b478f1-6a59-445e-b8c8-6491c2fc6232"
      },
      "execution_count": 46,
      "outputs": [
        {
          "output_type": "execute_result",
          "data": {
            "text/plain": [
              "(11, 96)"
            ]
          },
          "metadata": {},
          "execution_count": 46
        }
      ]
    },
    {
      "cell_type": "markdown",
      "source": [
        "### Word2Vec model  (word 2 vector model)"
      ],
      "metadata": {
        "id": "Idws7ZC5ilMe"
      }
    },
    {
      "cell_type": "code",
      "source": [
        "text = re.sub(r'\\[[0-9]*\\]',' ',paragraph)\n",
        "text = re.sub(r'\\s+',' ',text)\n",
        "text = text.lower()\n",
        "text = re.sub(r'\\d',' ',text)\n",
        "text = re.sub(r'\\s+',' ',text)"
      ],
      "metadata": {
        "id": "9sMtRYQnik1C"
      },
      "execution_count": 47,
      "outputs": []
    },
    {
      "cell_type": "code",
      "source": [
        "text"
      ],
      "metadata": {
        "colab": {
          "base_uri": "https://localhost:8080/",
          "height": 105
        },
        "id": "MO2W6Z_DiqBR",
        "outputId": "7eca96c7-7325-40f0-8e38-2332b606f742"
      },
      "execution_count": 48,
      "outputs": [
        {
          "output_type": "execute_result",
          "data": {
            "text/plain": [
              "'looking back on a childhood filled with events and memories, i find it rather difficult to pick one that leaves me with the fabled \"warm and fuzzy feelings.\" as the daughter of an air force major, i had the pleasure of traveling across america in many moving trips. i have visited the monstrous trees of the sequoia national forest, stood on the edge of the grand canyon and have jumped on the beds at caesar\\'s palace in lake tahoe.\" \"the day i picked my dog up from the pound was one of the happiest days of both of our lives. i had gone to the pound just a week earlier with the idea that i would just \"look\" at a puppy. of course, you can no more just look at those squiggling little faces so filled with hope and joy than you can stop the sun from setting in the evening. i knew within minutes of walking in the door that i would get a puppy… but it wasn\\'t until i saw him that i knew i had found my puppy.\" \"looking for houses was supposed to be a fun and exciting process. unfortunately, none of the ones that we saw seemed to match the specifications that we had established. they were too small, too impersonal, too close to the neighbors. after days of finding nothing even close, we began to wonder: was there really a perfect house out there for us? '"
            ],
            "application/vnd.google.colaboratory.intrinsic+json": {
              "type": "string"
            }
          },
          "metadata": {},
          "execution_count": 48
        }
      ]
    },
    {
      "cell_type": "code",
      "source": [
        "# Preparing the dataset\n",
        "sentences = nltk.sent_tokenize(text)\n",
        "sentences"
      ],
      "metadata": {
        "colab": {
          "base_uri": "https://localhost:8080/"
        },
        "id": "4HXAbu6giq8p",
        "outputId": "3a87675c-c13b-423c-a5c0-e613d7dab7e8"
      },
      "execution_count": 50,
      "outputs": [
        {
          "output_type": "execute_result",
          "data": {
            "text/plain": [
              "['looking back on a childhood filled with events and memories, i find it rather difficult to pick one that leaves me with the fabled \"warm and fuzzy feelings.\"',\n",
              " 'as the daughter of an air force major, i had the pleasure of traveling across america in many moving trips.',\n",
              " 'i have visited the monstrous trees of the sequoia national forest, stood on the edge of the grand canyon and have jumped on the beds at caesar\\'s palace in lake tahoe.\"',\n",
              " '\"the day i picked my dog up from the pound was one of the happiest days of both of our lives.',\n",
              " 'i had gone to the pound just a week earlier with the idea that i would just \"look\" at a puppy.',\n",
              " 'of course, you can no more just look at those squiggling little faces so filled with hope and joy than you can stop the sun from setting in the evening.',\n",
              " 'i knew within minutes of walking in the door that i would get a puppy… but it wasn\\'t until i saw him that i knew i had found my puppy.\"',\n",
              " '\"looking for houses was supposed to be a fun and exciting process.',\n",
              " 'unfortunately, none of the ones that we saw seemed to match the specifications that we had established.',\n",
              " 'they were too small, too impersonal, too close to the neighbors.',\n",
              " 'after days of finding nothing even close, we began to wonder: was there really a perfect house out there for us?']"
            ]
          },
          "metadata": {},
          "execution_count": 50
        }
      ]
    },
    {
      "cell_type": "code",
      "source": [
        "sentences=[nltk.word_tokenize(sentence) for sentence in sentences]\n",
        "sentences "
      ],
      "metadata": {
        "colab": {
          "base_uri": "https://localhost:8080/"
        },
        "id": "7D2jrOavitIG",
        "outputId": "766fd111-04db-4d66-ef05-e8d294cd6d75"
      },
      "execution_count": 51,
      "outputs": [
        {
          "output_type": "execute_result",
          "data": {
            "text/plain": [
              "[['looking',\n",
              "  'back',\n",
              "  'on',\n",
              "  'a',\n",
              "  'childhood',\n",
              "  'filled',\n",
              "  'with',\n",
              "  'events',\n",
              "  'and',\n",
              "  'memories',\n",
              "  ',',\n",
              "  'i',\n",
              "  'find',\n",
              "  'it',\n",
              "  'rather',\n",
              "  'difficult',\n",
              "  'to',\n",
              "  'pick',\n",
              "  'one',\n",
              "  'that',\n",
              "  'leaves',\n",
              "  'me',\n",
              "  'with',\n",
              "  'the',\n",
              "  'fabled',\n",
              "  '``',\n",
              "  'warm',\n",
              "  'and',\n",
              "  'fuzzy',\n",
              "  'feelings',\n",
              "  '.',\n",
              "  \"''\"],\n",
              " ['as',\n",
              "  'the',\n",
              "  'daughter',\n",
              "  'of',\n",
              "  'an',\n",
              "  'air',\n",
              "  'force',\n",
              "  'major',\n",
              "  ',',\n",
              "  'i',\n",
              "  'had',\n",
              "  'the',\n",
              "  'pleasure',\n",
              "  'of',\n",
              "  'traveling',\n",
              "  'across',\n",
              "  'america',\n",
              "  'in',\n",
              "  'many',\n",
              "  'moving',\n",
              "  'trips',\n",
              "  '.'],\n",
              " ['i',\n",
              "  'have',\n",
              "  'visited',\n",
              "  'the',\n",
              "  'monstrous',\n",
              "  'trees',\n",
              "  'of',\n",
              "  'the',\n",
              "  'sequoia',\n",
              "  'national',\n",
              "  'forest',\n",
              "  ',',\n",
              "  'stood',\n",
              "  'on',\n",
              "  'the',\n",
              "  'edge',\n",
              "  'of',\n",
              "  'the',\n",
              "  'grand',\n",
              "  'canyon',\n",
              "  'and',\n",
              "  'have',\n",
              "  'jumped',\n",
              "  'on',\n",
              "  'the',\n",
              "  'beds',\n",
              "  'at',\n",
              "  'caesar',\n",
              "  \"'s\",\n",
              "  'palace',\n",
              "  'in',\n",
              "  'lake',\n",
              "  'tahoe',\n",
              "  '.',\n",
              "  \"''\"],\n",
              " ['``',\n",
              "  'the',\n",
              "  'day',\n",
              "  'i',\n",
              "  'picked',\n",
              "  'my',\n",
              "  'dog',\n",
              "  'up',\n",
              "  'from',\n",
              "  'the',\n",
              "  'pound',\n",
              "  'was',\n",
              "  'one',\n",
              "  'of',\n",
              "  'the',\n",
              "  'happiest',\n",
              "  'days',\n",
              "  'of',\n",
              "  'both',\n",
              "  'of',\n",
              "  'our',\n",
              "  'lives',\n",
              "  '.'],\n",
              " ['i',\n",
              "  'had',\n",
              "  'gone',\n",
              "  'to',\n",
              "  'the',\n",
              "  'pound',\n",
              "  'just',\n",
              "  'a',\n",
              "  'week',\n",
              "  'earlier',\n",
              "  'with',\n",
              "  'the',\n",
              "  'idea',\n",
              "  'that',\n",
              "  'i',\n",
              "  'would',\n",
              "  'just',\n",
              "  '``',\n",
              "  'look',\n",
              "  \"''\",\n",
              "  'at',\n",
              "  'a',\n",
              "  'puppy',\n",
              "  '.'],\n",
              " ['of',\n",
              "  'course',\n",
              "  ',',\n",
              "  'you',\n",
              "  'can',\n",
              "  'no',\n",
              "  'more',\n",
              "  'just',\n",
              "  'look',\n",
              "  'at',\n",
              "  'those',\n",
              "  'squiggling',\n",
              "  'little',\n",
              "  'faces',\n",
              "  'so',\n",
              "  'filled',\n",
              "  'with',\n",
              "  'hope',\n",
              "  'and',\n",
              "  'joy',\n",
              "  'than',\n",
              "  'you',\n",
              "  'can',\n",
              "  'stop',\n",
              "  'the',\n",
              "  'sun',\n",
              "  'from',\n",
              "  'setting',\n",
              "  'in',\n",
              "  'the',\n",
              "  'evening',\n",
              "  '.'],\n",
              " ['i',\n",
              "  'knew',\n",
              "  'within',\n",
              "  'minutes',\n",
              "  'of',\n",
              "  'walking',\n",
              "  'in',\n",
              "  'the',\n",
              "  'door',\n",
              "  'that',\n",
              "  'i',\n",
              "  'would',\n",
              "  'get',\n",
              "  'a',\n",
              "  'puppy…',\n",
              "  'but',\n",
              "  'it',\n",
              "  'was',\n",
              "  \"n't\",\n",
              "  'until',\n",
              "  'i',\n",
              "  'saw',\n",
              "  'him',\n",
              "  'that',\n",
              "  'i',\n",
              "  'knew',\n",
              "  'i',\n",
              "  'had',\n",
              "  'found',\n",
              "  'my',\n",
              "  'puppy',\n",
              "  '.',\n",
              "  \"''\"],\n",
              " ['``',\n",
              "  'looking',\n",
              "  'for',\n",
              "  'houses',\n",
              "  'was',\n",
              "  'supposed',\n",
              "  'to',\n",
              "  'be',\n",
              "  'a',\n",
              "  'fun',\n",
              "  'and',\n",
              "  'exciting',\n",
              "  'process',\n",
              "  '.'],\n",
              " ['unfortunately',\n",
              "  ',',\n",
              "  'none',\n",
              "  'of',\n",
              "  'the',\n",
              "  'ones',\n",
              "  'that',\n",
              "  'we',\n",
              "  'saw',\n",
              "  'seemed',\n",
              "  'to',\n",
              "  'match',\n",
              "  'the',\n",
              "  'specifications',\n",
              "  'that',\n",
              "  'we',\n",
              "  'had',\n",
              "  'established',\n",
              "  '.'],\n",
              " ['they',\n",
              "  'were',\n",
              "  'too',\n",
              "  'small',\n",
              "  ',',\n",
              "  'too',\n",
              "  'impersonal',\n",
              "  ',',\n",
              "  'too',\n",
              "  'close',\n",
              "  'to',\n",
              "  'the',\n",
              "  'neighbors',\n",
              "  '.'],\n",
              " ['after',\n",
              "  'days',\n",
              "  'of',\n",
              "  'finding',\n",
              "  'nothing',\n",
              "  'even',\n",
              "  'close',\n",
              "  ',',\n",
              "  'we',\n",
              "  'began',\n",
              "  'to',\n",
              "  'wonder',\n",
              "  ':',\n",
              "  'was',\n",
              "  'there',\n",
              "  'really',\n",
              "  'a',\n",
              "  'perfect',\n",
              "  'house',\n",
              "  'out',\n",
              "  'there',\n",
              "  'for',\n",
              "  'us',\n",
              "  '?']]"
            ]
          },
          "metadata": {},
          "execution_count": 51
        }
      ]
    },
    {
      "cell_type": "code",
      "source": [
        "#Stopword Removal\n",
        "for i in range(len(sentences)):\n",
        "  sentences[i]=[word for word in sentences[i] if word not in stopwords.words('english')]\n",
        "sentences "
      ],
      "metadata": {
        "colab": {
          "base_uri": "https://localhost:8080/"
        },
        "id": "gJkZdHSViwoL",
        "outputId": "192ee3cf-c0fc-46db-8bf3-809b19bd5365"
      },
      "execution_count": 52,
      "outputs": [
        {
          "output_type": "execute_result",
          "data": {
            "text/plain": [
              "[['looking',\n",
              "  'back',\n",
              "  'childhood',\n",
              "  'filled',\n",
              "  'events',\n",
              "  'memories',\n",
              "  ',',\n",
              "  'find',\n",
              "  'rather',\n",
              "  'difficult',\n",
              "  'pick',\n",
              "  'one',\n",
              "  'leaves',\n",
              "  'fabled',\n",
              "  '``',\n",
              "  'warm',\n",
              "  'fuzzy',\n",
              "  'feelings',\n",
              "  '.',\n",
              "  \"''\"],\n",
              " ['daughter',\n",
              "  'air',\n",
              "  'force',\n",
              "  'major',\n",
              "  ',',\n",
              "  'pleasure',\n",
              "  'traveling',\n",
              "  'across',\n",
              "  'america',\n",
              "  'many',\n",
              "  'moving',\n",
              "  'trips',\n",
              "  '.'],\n",
              " ['visited',\n",
              "  'monstrous',\n",
              "  'trees',\n",
              "  'sequoia',\n",
              "  'national',\n",
              "  'forest',\n",
              "  ',',\n",
              "  'stood',\n",
              "  'edge',\n",
              "  'grand',\n",
              "  'canyon',\n",
              "  'jumped',\n",
              "  'beds',\n",
              "  'caesar',\n",
              "  \"'s\",\n",
              "  'palace',\n",
              "  'lake',\n",
              "  'tahoe',\n",
              "  '.',\n",
              "  \"''\"],\n",
              " ['``',\n",
              "  'day',\n",
              "  'picked',\n",
              "  'dog',\n",
              "  'pound',\n",
              "  'one',\n",
              "  'happiest',\n",
              "  'days',\n",
              "  'lives',\n",
              "  '.'],\n",
              " ['gone',\n",
              "  'pound',\n",
              "  'week',\n",
              "  'earlier',\n",
              "  'idea',\n",
              "  'would',\n",
              "  '``',\n",
              "  'look',\n",
              "  \"''\",\n",
              "  'puppy',\n",
              "  '.'],\n",
              " ['course',\n",
              "  ',',\n",
              "  'look',\n",
              "  'squiggling',\n",
              "  'little',\n",
              "  'faces',\n",
              "  'filled',\n",
              "  'hope',\n",
              "  'joy',\n",
              "  'stop',\n",
              "  'sun',\n",
              "  'setting',\n",
              "  'evening',\n",
              "  '.'],\n",
              " ['knew',\n",
              "  'within',\n",
              "  'minutes',\n",
              "  'walking',\n",
              "  'door',\n",
              "  'would',\n",
              "  'get',\n",
              "  'puppy…',\n",
              "  \"n't\",\n",
              "  'saw',\n",
              "  'knew',\n",
              "  'found',\n",
              "  'puppy',\n",
              "  '.',\n",
              "  \"''\"],\n",
              " ['``', 'looking', 'houses', 'supposed', 'fun', 'exciting', 'process', '.'],\n",
              " ['unfortunately',\n",
              "  ',',\n",
              "  'none',\n",
              "  'ones',\n",
              "  'saw',\n",
              "  'seemed',\n",
              "  'match',\n",
              "  'specifications',\n",
              "  'established',\n",
              "  '.'],\n",
              " ['small', ',', 'impersonal', ',', 'close', 'neighbors', '.'],\n",
              " ['days',\n",
              "  'finding',\n",
              "  'nothing',\n",
              "  'even',\n",
              "  'close',\n",
              "  ',',\n",
              "  'began',\n",
              "  'wonder',\n",
              "  ':',\n",
              "  'really',\n",
              "  'perfect',\n",
              "  'house',\n",
              "  'us',\n",
              "  '?']]"
            ]
          },
          "metadata": {},
          "execution_count": 52
        }
      ]
    },
    {
      "cell_type": "code",
      "source": [
        "from gensim.models import Word2Vec\n",
        "\n",
        "\n",
        "\n",
        "model=Word2Vec(sentences,min_count=1)\n",
        "model"
      ],
      "metadata": {
        "colab": {
          "base_uri": "https://localhost:8080/"
        },
        "id": "zKlbIT0Bi2g6",
        "outputId": "54d58d7f-cf60-43fb-d202-7c970018389c"
      },
      "execution_count": 53,
      "outputs": [
        {
          "output_type": "stream",
          "name": "stderr",
          "text": [
            "WARNING:gensim.models.base_any2vec:under 10 jobs per worker: consider setting a smaller `batch_words' for smoother alpha decay\n"
          ]
        },
        {
          "output_type": "execute_result",
          "data": {
            "text/plain": [
              "<gensim.models.word2vec.Word2Vec at 0x7f23e9ecbc10>"
            ]
          },
          "metadata": {},
          "execution_count": 53
        }
      ]
    },
    {
      "cell_type": "code",
      "source": [
        "model.wv.vocab"
      ],
      "metadata": {
        "colab": {
          "base_uri": "https://localhost:8080/"
        },
        "id": "SREZPU99i8JQ",
        "outputId": "d4c494da-e5f1-4cf5-b84c-c66de96cb48f"
      },
      "execution_count": 54,
      "outputs": [
        {
          "output_type": "execute_result",
          "data": {
            "text/plain": [
              "{\"''\": <gensim.models.keyedvectors.Vocab at 0x7f23e8c9a390>,\n",
              " \"'s\": <gensim.models.keyedvectors.Vocab at 0x7f23e8c9a9d0>,\n",
              " ',': <gensim.models.keyedvectors.Vocab at 0x7f23e8cf1a10>,\n",
              " '.': <gensim.models.keyedvectors.Vocab at 0x7f23e8c9a350>,\n",
              " ':': <gensim.models.keyedvectors.Vocab at 0x7f23e8c9f8d0>,\n",
              " '?': <gensim.models.keyedvectors.Vocab at 0x7f23e8c9fa10>,\n",
              " '``': <gensim.models.keyedvectors.Vocab at 0x7f23e8c9a250>,\n",
              " 'across': <gensim.models.keyedvectors.Vocab at 0x7f23e8c9a550>,\n",
              " 'air': <gensim.models.keyedvectors.Vocab at 0x7f23e8c9a410>,\n",
              " 'america': <gensim.models.keyedvectors.Vocab at 0x7f23e8c9a590>,\n",
              " 'back': <gensim.models.keyedvectors.Vocab at 0x7f23e9ecb050>,\n",
              " 'beds': <gensim.models.keyedvectors.Vocab at 0x7f23e8c9a950>,\n",
              " 'began': <gensim.models.keyedvectors.Vocab at 0x7f23e8c9f850>,\n",
              " 'caesar': <gensim.models.keyedvectors.Vocab at 0x7f23e8c9a990>,\n",
              " 'canyon': <gensim.models.keyedvectors.Vocab at 0x7f23e8c9a8d0>,\n",
              " 'childhood': <gensim.models.keyedvectors.Vocab at 0x7f23e9ecb950>,\n",
              " 'close': <gensim.models.keyedvectors.Vocab at 0x7f23e8c9f710>,\n",
              " 'course': <gensim.models.keyedvectors.Vocab at 0x7f23e8c9ae50>,\n",
              " 'daughter': <gensim.models.keyedvectors.Vocab at 0x7f23e8c9a3d0>,\n",
              " 'day': <gensim.models.keyedvectors.Vocab at 0x7f23e8c9aad0>,\n",
              " 'days': <gensim.models.keyedvectors.Vocab at 0x7f23e8c9ac10>,\n",
              " 'difficult': <gensim.models.keyedvectors.Vocab at 0x7f23e919cad0>,\n",
              " 'dog': <gensim.models.keyedvectors.Vocab at 0x7f23e8c9ab50>,\n",
              " 'door': <gensim.models.keyedvectors.Vocab at 0x7f23e8c9f210>,\n",
              " 'earlier': <gensim.models.keyedvectors.Vocab at 0x7f23e8c9ad10>,\n",
              " 'edge': <gensim.models.keyedvectors.Vocab at 0x7f23e8c9a850>,\n",
              " 'established': <gensim.models.keyedvectors.Vocab at 0x7f23e8c9f650>,\n",
              " 'even': <gensim.models.keyedvectors.Vocab at 0x7f23e8c9f810>,\n",
              " 'evening': <gensim.models.keyedvectors.Vocab at 0x7f23e8c9f0d0>,\n",
              " 'events': <gensim.models.keyedvectors.Vocab at 0x7f23e9eca8d0>,\n",
              " 'exciting': <gensim.models.keyedvectors.Vocab at 0x7f23e8c9f450>,\n",
              " 'fabled': <gensim.models.keyedvectors.Vocab at 0x7f23e8c9a190>,\n",
              " 'faces': <gensim.models.keyedvectors.Vocab at 0x7f23e8c9af10>,\n",
              " 'feelings': <gensim.models.keyedvectors.Vocab at 0x7f23e8c9a310>,\n",
              " 'filled': <gensim.models.keyedvectors.Vocab at 0x7f23e9ecba90>,\n",
              " 'find': <gensim.models.keyedvectors.Vocab at 0x7f23e9e35b10>,\n",
              " 'finding': <gensim.models.keyedvectors.Vocab at 0x7f23e8c9f790>,\n",
              " 'force': <gensim.models.keyedvectors.Vocab at 0x7f23e8c9a450>,\n",
              " 'forest': <gensim.models.keyedvectors.Vocab at 0x7f23e8c9a7d0>,\n",
              " 'found': <gensim.models.keyedvectors.Vocab at 0x7f23e8c9f350>,\n",
              " 'fun': <gensim.models.keyedvectors.Vocab at 0x7f23e8c9f410>,\n",
              " 'fuzzy': <gensim.models.keyedvectors.Vocab at 0x7f23e8c9a2d0>,\n",
              " 'get': <gensim.models.keyedvectors.Vocab at 0x7f23e8c9f250>,\n",
              " 'gone': <gensim.models.keyedvectors.Vocab at 0x7f23e8c9ac90>,\n",
              " 'grand': <gensim.models.keyedvectors.Vocab at 0x7f23e8c9a890>,\n",
              " 'happiest': <gensim.models.keyedvectors.Vocab at 0x7f23e8c9abd0>,\n",
              " 'hope': <gensim.models.keyedvectors.Vocab at 0x7f23e8c9af50>,\n",
              " 'house': <gensim.models.keyedvectors.Vocab at 0x7f23e8c9f990>,\n",
              " 'houses': <gensim.models.keyedvectors.Vocab at 0x7f23e8c9f390>,\n",
              " 'idea': <gensim.models.keyedvectors.Vocab at 0x7f23e8c9ad50>,\n",
              " 'impersonal': <gensim.models.keyedvectors.Vocab at 0x7f23e8c9f6d0>,\n",
              " 'joy': <gensim.models.keyedvectors.Vocab at 0x7f23e8c9af90>,\n",
              " 'jumped': <gensim.models.keyedvectors.Vocab at 0x7f23e8c9a910>,\n",
              " 'knew': <gensim.models.keyedvectors.Vocab at 0x7f23e8c9f110>,\n",
              " 'lake': <gensim.models.keyedvectors.Vocab at 0x7f23e8c9aa50>,\n",
              " 'leaves': <gensim.models.keyedvectors.Vocab at 0x7f23e8c9a1d0>,\n",
              " 'little': <gensim.models.keyedvectors.Vocab at 0x7f23e8c9aed0>,\n",
              " 'lives': <gensim.models.keyedvectors.Vocab at 0x7f23e8c9ac50>,\n",
              " 'look': <gensim.models.keyedvectors.Vocab at 0x7f23e8c9add0>,\n",
              " 'looking': <gensim.models.keyedvectors.Vocab at 0x7f23e9837550>,\n",
              " 'major': <gensim.models.keyedvectors.Vocab at 0x7f23e8c9a490>,\n",
              " 'many': <gensim.models.keyedvectors.Vocab at 0x7f23e8c9a5d0>,\n",
              " 'match': <gensim.models.keyedvectors.Vocab at 0x7f23e8c9f5d0>,\n",
              " 'memories': <gensim.models.keyedvectors.Vocab at 0x7f23e8cf19d0>,\n",
              " 'minutes': <gensim.models.keyedvectors.Vocab at 0x7f23e8c9f190>,\n",
              " 'monstrous': <gensim.models.keyedvectors.Vocab at 0x7f23e8c9a6d0>,\n",
              " 'moving': <gensim.models.keyedvectors.Vocab at 0x7f23e8c9a610>,\n",
              " \"n't\": <gensim.models.keyedvectors.Vocab at 0x7f23e8c9f2d0>,\n",
              " 'national': <gensim.models.keyedvectors.Vocab at 0x7f23e8c9a790>,\n",
              " 'neighbors': <gensim.models.keyedvectors.Vocab at 0x7f23e8c9f750>,\n",
              " 'none': <gensim.models.keyedvectors.Vocab at 0x7f23e8c9f510>,\n",
              " 'nothing': <gensim.models.keyedvectors.Vocab at 0x7f23e8c9f7d0>,\n",
              " 'one': <gensim.models.keyedvectors.Vocab at 0x7f23e8c9a210>,\n",
              " 'ones': <gensim.models.keyedvectors.Vocab at 0x7f23e8c9f550>,\n",
              " 'palace': <gensim.models.keyedvectors.Vocab at 0x7f23e8c9aa10>,\n",
              " 'perfect': <gensim.models.keyedvectors.Vocab at 0x7f23e8c9f950>,\n",
              " 'pick': <gensim.models.keyedvectors.Vocab at 0x7f23e9fc2f50>,\n",
              " 'picked': <gensim.models.keyedvectors.Vocab at 0x7f23e8c9ab10>,\n",
              " 'pleasure': <gensim.models.keyedvectors.Vocab at 0x7f23e8c9a4d0>,\n",
              " 'pound': <gensim.models.keyedvectors.Vocab at 0x7f23e8c9ab90>,\n",
              " 'process': <gensim.models.keyedvectors.Vocab at 0x7f23e8c9f490>,\n",
              " 'puppy': <gensim.models.keyedvectors.Vocab at 0x7f23e8c9ae10>,\n",
              " 'puppy…': <gensim.models.keyedvectors.Vocab at 0x7f23e8c9f290>,\n",
              " 'rather': <gensim.models.keyedvectors.Vocab at 0x7f23e9ecba50>,\n",
              " 'really': <gensim.models.keyedvectors.Vocab at 0x7f23e8c9f910>,\n",
              " 'saw': <gensim.models.keyedvectors.Vocab at 0x7f23e8c9f310>,\n",
              " 'seemed': <gensim.models.keyedvectors.Vocab at 0x7f23e8c9f590>,\n",
              " 'sequoia': <gensim.models.keyedvectors.Vocab at 0x7f23e8c9a750>,\n",
              " 'setting': <gensim.models.keyedvectors.Vocab at 0x7f23e8c9f090>,\n",
              " 'small': <gensim.models.keyedvectors.Vocab at 0x7f23e8c9f690>,\n",
              " 'specifications': <gensim.models.keyedvectors.Vocab at 0x7f23e8c9f610>,\n",
              " 'squiggling': <gensim.models.keyedvectors.Vocab at 0x7f23e8c9ae90>,\n",
              " 'stood': <gensim.models.keyedvectors.Vocab at 0x7f23e8c9a810>,\n",
              " 'stop': <gensim.models.keyedvectors.Vocab at 0x7f23e8c9afd0>,\n",
              " 'sun': <gensim.models.keyedvectors.Vocab at 0x7f23e8c9f050>,\n",
              " 'supposed': <gensim.models.keyedvectors.Vocab at 0x7f23e8c9f3d0>,\n",
              " 'tahoe': <gensim.models.keyedvectors.Vocab at 0x7f23e8c9aa90>,\n",
              " 'traveling': <gensim.models.keyedvectors.Vocab at 0x7f23e8c9a510>,\n",
              " 'trees': <gensim.models.keyedvectors.Vocab at 0x7f23e8c9a710>,\n",
              " 'trips': <gensim.models.keyedvectors.Vocab at 0x7f23e8c9a650>,\n",
              " 'unfortunately': <gensim.models.keyedvectors.Vocab at 0x7f23e8c9f4d0>,\n",
              " 'us': <gensim.models.keyedvectors.Vocab at 0x7f23e8c9f9d0>,\n",
              " 'visited': <gensim.models.keyedvectors.Vocab at 0x7f23e8c9a690>,\n",
              " 'walking': <gensim.models.keyedvectors.Vocab at 0x7f23e8c9f1d0>,\n",
              " 'warm': <gensim.models.keyedvectors.Vocab at 0x7f23e8c9a290>,\n",
              " 'week': <gensim.models.keyedvectors.Vocab at 0x7f23e8c9acd0>,\n",
              " 'within': <gensim.models.keyedvectors.Vocab at 0x7f23e8c9f150>,\n",
              " 'wonder': <gensim.models.keyedvectors.Vocab at 0x7f23e8c9f890>,\n",
              " 'would': <gensim.models.keyedvectors.Vocab at 0x7f23e8c9ad90>}"
            ]
          },
          "metadata": {},
          "execution_count": 54
        }
      ]
    },
    {
      "cell_type": "code",
      "source": [
        "vectors=model.wv['process']\n",
        "vectors "
      ],
      "metadata": {
        "colab": {
          "base_uri": "https://localhost:8080/"
        },
        "id": "mlCVZjIGi9f9",
        "outputId": "4cdf3fcd-9959-4aab-c7b5-cce7bec24576"
      },
      "execution_count": 55,
      "outputs": [
        {
          "output_type": "execute_result",
          "data": {
            "text/plain": [
              "array([-2.8013452e-03, -2.6106725e-03, -3.0158044e-04,  4.2369151e-03,\n",
              "        3.8520670e-03, -3.7720744e-03, -2.1250744e-03,  3.8244580e-03,\n",
              "       -1.4220634e-04, -2.6854901e-03, -1.4671049e-03, -3.5023695e-04,\n",
              "       -3.7107165e-03,  3.3782194e-03, -2.8452366e-03, -4.3265297e-04,\n",
              "        5.8175664e-04, -2.2985931e-03, -1.5216150e-03,  3.8589223e-03,\n",
              "        2.5244930e-03,  1.8561014e-03,  1.7128519e-03, -4.9375971e-03,\n",
              "       -2.6252950e-04,  3.4710218e-03,  4.1427813e-03, -4.7310672e-04,\n",
              "       -3.3376587e-04,  3.5712074e-03, -4.9883639e-03, -2.7497688e-03,\n",
              "        1.6557283e-03, -1.8789596e-03,  4.3993914e-03,  1.0343823e-03,\n",
              "       -1.3981289e-03, -1.5520043e-03, -2.2972221e-03,  7.2999019e-04,\n",
              "       -3.1104297e-04, -7.0590578e-04,  6.9917279e-04, -2.4741273e-03,\n",
              "        3.2146282e-03, -3.8853227e-03, -8.7413867e-04, -1.1782092e-03,\n",
              "       -2.6735382e-03,  2.2630098e-03, -1.3800634e-03,  4.4628838e-03,\n",
              "        7.3670279e-05,  4.0662414e-03, -4.2668022e-03,  4.4412902e-03,\n",
              "       -3.1655196e-03,  4.1692969e-03,  4.3985792e-03,  2.6763070e-03,\n",
              "        3.1876285e-04,  1.7743725e-03, -1.6678580e-03,  1.1633155e-03,\n",
              "        1.0649355e-03,  3.3460248e-03, -3.6785768e-03, -4.1186893e-03,\n",
              "        4.9853409e-03, -3.6954880e-03, -5.3770188e-04, -4.0960900e-04,\n",
              "        2.1783058e-03, -1.9132654e-04, -3.1487844e-03,  2.9198988e-03,\n",
              "       -4.8314584e-03,  2.4499993e-03, -8.0095214e-04, -4.5426483e-03,\n",
              "        2.8506536e-03, -2.0888923e-03,  5.6858908e-04,  4.7257436e-03,\n",
              "        3.8880361e-03, -1.3092018e-03, -4.1566081e-03, -4.8234561e-03,\n",
              "       -6.3397997e-04,  3.4470465e-03, -2.2299422e-03,  2.1384037e-03,\n",
              "        4.1947477e-03,  3.4882061e-03, -2.7704907e-03, -3.6838553e-03,\n",
              "       -1.5907347e-03, -2.0357068e-03, -3.9785313e-03, -3.1905598e-03],\n",
              "      dtype=float32)"
            ]
          },
          "metadata": {},
          "execution_count": 55
        }
      ]
    },
    {
      "cell_type": "code",
      "source": [
        "model.wv.most_similar('trees',topn=20)"
      ],
      "metadata": {
        "colab": {
          "base_uri": "https://localhost:8080/"
        },
        "id": "HCdwqDH9jA4k",
        "outputId": "d15b31d9-7b0a-487e-c213-ee36c725f86d"
      },
      "execution_count": 56,
      "outputs": [
        {
          "output_type": "execute_result",
          "data": {
            "text/plain": [
              "[('walking', 0.2719469666481018),\n",
              " ('days', 0.23740074038505554),\n",
              " ('across', 0.18746230006217957),\n",
              " ('find', 0.18451635539531708),\n",
              " ('small', 0.1716407984495163),\n",
              " ('sun', 0.1568601429462433),\n",
              " ('fun', 0.15340960025787354),\n",
              " ('pick', 0.14456474781036377),\n",
              " ('faces', 0.1411651372909546),\n",
              " ('perfect', 0.14113768935203552),\n",
              " ('feelings', 0.13651835918426514),\n",
              " ('close', 0.1348087191581726),\n",
              " ('america', 0.13128814101219177),\n",
              " ('within', 0.12618163228034973),\n",
              " ('unfortunately', 0.11676434427499771),\n",
              " ('course', 0.11413099616765976),\n",
              " ('happiest', 0.11351139098405838),\n",
              " ('idea', 0.1096225380897522),\n",
              " ('puppy…', 0.10550998896360397),\n",
              " ('us', 0.08738335967063904)]"
            ]
          },
          "metadata": {},
          "execution_count": 56
        }
      ]
    },
    {
      "cell_type": "code",
      "source": [
        "import gensim.downloader\n",
        "\n",
        "\n",
        "print(list(gensim.downloader.info()['models'].keys()))\n"
      ],
      "metadata": {
        "colab": {
          "base_uri": "https://localhost:8080/"
        },
        "id": "ifJHZVQKjC2K",
        "outputId": "ae1adc03-1c64-466f-fd89-abcf0be59639"
      },
      "execution_count": 57,
      "outputs": [
        {
          "output_type": "stream",
          "name": "stdout",
          "text": [
            "['fasttext-wiki-news-subwords-300', 'conceptnet-numberbatch-17-06-300', 'word2vec-ruscorpora-300', 'word2vec-google-news-300', 'glove-wiki-gigaword-50', 'glove-wiki-gigaword-100', 'glove-wiki-gigaword-200', 'glove-wiki-gigaword-300', 'glove-twitter-25', 'glove-twitter-50', 'glove-twitter-100', 'glove-twitter-200', '__testing_word2vec-matrix-synopsis']\n"
          ]
        }
      ]
    },
    {
      "cell_type": "code",
      "source": [
        "twitter=gensim.downloader.load('glove-twitter-25')"
      ],
      "metadata": {
        "colab": {
          "base_uri": "https://localhost:8080/"
        },
        "id": "xcpn2oFYjG-C",
        "outputId": "95e9c7b3-ff4a-492d-caa2-848b71f0bc75"
      },
      "execution_count": 58,
      "outputs": [
        {
          "output_type": "stream",
          "name": "stdout",
          "text": [
            "[==================================================] 100.0% 104.8/104.8MB downloaded\n"
          ]
        }
      ]
    },
    {
      "cell_type": "code",
      "source": [
        "twitter.wv.most_similar('twitter')"
      ],
      "metadata": {
        "colab": {
          "base_uri": "https://localhost:8080/"
        },
        "id": "mtwXBks0jH5B",
        "outputId": "3af6e6d6-2792-47f9-eda8-7054da653ca6"
      },
      "execution_count": 59,
      "outputs": [
        {
          "output_type": "stream",
          "name": "stderr",
          "text": [
            "/usr/local/lib/python3.7/dist-packages/ipykernel_launcher.py:1: DeprecationWarning: Call to deprecated `wv` (Attribute will be removed in 4.0.0, use self instead).\n",
            "  \"\"\"Entry point for launching an IPython kernel.\n"
          ]
        },
        {
          "output_type": "execute_result",
          "data": {
            "text/plain": [
              "[('facebook', 0.9480051398277283),\n",
              " ('tweet', 0.9403422474861145),\n",
              " ('fb', 0.9342358708381653),\n",
              " ('instagram', 0.9104823470115662),\n",
              " ('chat', 0.8964964747428894),\n",
              " ('hashtag', 0.8885936141014099),\n",
              " ('tweets', 0.8878157734870911),\n",
              " ('tl', 0.8778461813926697),\n",
              " ('link', 0.877821147441864),\n",
              " ('internet', 0.8753897547721863)]"
            ]
          },
          "metadata": {},
          "execution_count": 59
        }
      ]
    },
    {
      "cell_type": "code",
      "source": [
        ""
      ],
      "metadata": {
        "id": "1454nZy4jlsk"
      },
      "execution_count": null,
      "outputs": []
    }
  ]
}