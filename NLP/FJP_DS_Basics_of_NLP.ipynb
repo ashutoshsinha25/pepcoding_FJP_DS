{
  "nbformat": 4,
  "nbformat_minor": 0,
  "metadata": {
    "colab": {
      "name": "FJP_DS_Basics_of_NLP.ipynb",
      "provenance": [],
      "collapsed_sections": [],
      "authorship_tag": "ABX9TyOoO5xvHFNXk8V7HaK6lPBr",
      "include_colab_link": true
    },
    "kernelspec": {
      "name": "python3",
      "display_name": "Python 3"
    },
    "language_info": {
      "name": "python"
    }
  },
  "cells": [
    {
      "cell_type": "markdown",
      "metadata": {
        "id": "view-in-github",
        "colab_type": "text"
      },
      "source": [
        "<a href=\"https://colab.research.google.com/github/ashutoshsinha25/pepcoding_FJP_DS/blob/main/NLP/FJP_DS_Basics_of_NLP.ipynb\" target=\"_parent\"><img src=\"https://colab.research.google.com/assets/colab-badge.svg\" alt=\"Open In Colab\"/></a>"
      ]
    },
    {
      "cell_type": "code",
      "execution_count": 1,
      "metadata": {
        "id": "6WMVqR-GcF2e"
      },
      "outputs": [],
      "source": [
        "import nltk"
      ]
    },
    {
      "cell_type": "code",
      "source": [
        "nltk.download(\"all\")"
      ],
      "metadata": {
        "colab": {
          "base_uri": "https://localhost:8080/"
        },
        "id": "QxSvPj96cOMu",
        "outputId": "b07032de-e7a9-44ef-9672-1cffd18200fd"
      },
      "execution_count": 2,
      "outputs": [
        {
          "output_type": "stream",
          "name": "stderr",
          "text": [
            "[nltk_data] Downloading collection 'all'\n",
            "[nltk_data]    | \n",
            "[nltk_data]    | Downloading package abc to /root/nltk_data...\n",
            "[nltk_data]    |   Unzipping corpora/abc.zip.\n",
            "[nltk_data]    | Downloading package alpino to /root/nltk_data...\n",
            "[nltk_data]    |   Unzipping corpora/alpino.zip.\n",
            "[nltk_data]    | Downloading package averaged_perceptron_tagger to\n",
            "[nltk_data]    |     /root/nltk_data...\n",
            "[nltk_data]    |   Unzipping taggers/averaged_perceptron_tagger.zip.\n",
            "[nltk_data]    | Downloading package averaged_perceptron_tagger_ru to\n",
            "[nltk_data]    |     /root/nltk_data...\n",
            "[nltk_data]    |   Unzipping\n",
            "[nltk_data]    |       taggers/averaged_perceptron_tagger_ru.zip.\n",
            "[nltk_data]    | Downloading package basque_grammars to\n",
            "[nltk_data]    |     /root/nltk_data...\n",
            "[nltk_data]    |   Unzipping grammars/basque_grammars.zip.\n",
            "[nltk_data]    | Downloading package biocreative_ppi to\n",
            "[nltk_data]    |     /root/nltk_data...\n",
            "[nltk_data]    |   Unzipping corpora/biocreative_ppi.zip.\n",
            "[nltk_data]    | Downloading package bllip_wsj_no_aux to\n",
            "[nltk_data]    |     /root/nltk_data...\n",
            "[nltk_data]    |   Unzipping models/bllip_wsj_no_aux.zip.\n",
            "[nltk_data]    | Downloading package book_grammars to\n",
            "[nltk_data]    |     /root/nltk_data...\n",
            "[nltk_data]    |   Unzipping grammars/book_grammars.zip.\n",
            "[nltk_data]    | Downloading package brown to /root/nltk_data...\n",
            "[nltk_data]    |   Unzipping corpora/brown.zip.\n",
            "[nltk_data]    | Downloading package brown_tei to /root/nltk_data...\n",
            "[nltk_data]    |   Unzipping corpora/brown_tei.zip.\n",
            "[nltk_data]    | Downloading package cess_cat to /root/nltk_data...\n",
            "[nltk_data]    |   Unzipping corpora/cess_cat.zip.\n",
            "[nltk_data]    | Downloading package cess_esp to /root/nltk_data...\n",
            "[nltk_data]    |   Unzipping corpora/cess_esp.zip.\n",
            "[nltk_data]    | Downloading package chat80 to /root/nltk_data...\n",
            "[nltk_data]    |   Unzipping corpora/chat80.zip.\n",
            "[nltk_data]    | Downloading package city_database to\n",
            "[nltk_data]    |     /root/nltk_data...\n",
            "[nltk_data]    |   Unzipping corpora/city_database.zip.\n",
            "[nltk_data]    | Downloading package cmudict to /root/nltk_data...\n",
            "[nltk_data]    |   Unzipping corpora/cmudict.zip.\n",
            "[nltk_data]    | Downloading package comparative_sentences to\n",
            "[nltk_data]    |     /root/nltk_data...\n",
            "[nltk_data]    |   Unzipping corpora/comparative_sentences.zip.\n",
            "[nltk_data]    | Downloading package comtrans to /root/nltk_data...\n",
            "[nltk_data]    | Downloading package conll2000 to /root/nltk_data...\n",
            "[nltk_data]    |   Unzipping corpora/conll2000.zip.\n",
            "[nltk_data]    | Downloading package conll2002 to /root/nltk_data...\n",
            "[nltk_data]    |   Unzipping corpora/conll2002.zip.\n",
            "[nltk_data]    | Downloading package conll2007 to /root/nltk_data...\n",
            "[nltk_data]    | Downloading package crubadan to /root/nltk_data...\n",
            "[nltk_data]    |   Unzipping corpora/crubadan.zip.\n",
            "[nltk_data]    | Downloading package dependency_treebank to\n",
            "[nltk_data]    |     /root/nltk_data...\n",
            "[nltk_data]    |   Unzipping corpora/dependency_treebank.zip.\n",
            "[nltk_data]    | Downloading package dolch to /root/nltk_data...\n",
            "[nltk_data]    |   Unzipping corpora/dolch.zip.\n",
            "[nltk_data]    | Downloading package europarl_raw to\n",
            "[nltk_data]    |     /root/nltk_data...\n",
            "[nltk_data]    |   Unzipping corpora/europarl_raw.zip.\n",
            "[nltk_data]    | Downloading package extended_omw to\n",
            "[nltk_data]    |     /root/nltk_data...\n",
            "[nltk_data]    | Downloading package floresta to /root/nltk_data...\n",
            "[nltk_data]    |   Unzipping corpora/floresta.zip.\n",
            "[nltk_data]    | Downloading package framenet_v15 to\n",
            "[nltk_data]    |     /root/nltk_data...\n",
            "[nltk_data]    |   Unzipping corpora/framenet_v15.zip.\n",
            "[nltk_data]    | Downloading package framenet_v17 to\n",
            "[nltk_data]    |     /root/nltk_data...\n",
            "[nltk_data]    |   Unzipping corpora/framenet_v17.zip.\n",
            "[nltk_data]    | Downloading package gazetteers to /root/nltk_data...\n",
            "[nltk_data]    |   Unzipping corpora/gazetteers.zip.\n",
            "[nltk_data]    | Downloading package genesis to /root/nltk_data...\n",
            "[nltk_data]    |   Unzipping corpora/genesis.zip.\n",
            "[nltk_data]    | Downloading package gutenberg to /root/nltk_data...\n",
            "[nltk_data]    |   Unzipping corpora/gutenberg.zip.\n",
            "[nltk_data]    | Downloading package ieer to /root/nltk_data...\n",
            "[nltk_data]    |   Unzipping corpora/ieer.zip.\n",
            "[nltk_data]    | Downloading package inaugural to /root/nltk_data...\n",
            "[nltk_data]    |   Unzipping corpora/inaugural.zip.\n",
            "[nltk_data]    | Downloading package indian to /root/nltk_data...\n",
            "[nltk_data]    |   Unzipping corpora/indian.zip.\n",
            "[nltk_data]    | Downloading package jeita to /root/nltk_data...\n",
            "[nltk_data]    | Downloading package kimmo to /root/nltk_data...\n",
            "[nltk_data]    |   Unzipping corpora/kimmo.zip.\n",
            "[nltk_data]    | Downloading package knbc to /root/nltk_data...\n",
            "[nltk_data]    | Downloading package large_grammars to\n",
            "[nltk_data]    |     /root/nltk_data...\n",
            "[nltk_data]    |   Unzipping grammars/large_grammars.zip.\n",
            "[nltk_data]    | Downloading package lin_thesaurus to\n",
            "[nltk_data]    |     /root/nltk_data...\n",
            "[nltk_data]    |   Unzipping corpora/lin_thesaurus.zip.\n",
            "[nltk_data]    | Downloading package mac_morpho to /root/nltk_data...\n",
            "[nltk_data]    |   Unzipping corpora/mac_morpho.zip.\n",
            "[nltk_data]    | Downloading package machado to /root/nltk_data...\n",
            "[nltk_data]    | Downloading package masc_tagged to /root/nltk_data...\n",
            "[nltk_data]    | Downloading package maxent_ne_chunker to\n",
            "[nltk_data]    |     /root/nltk_data...\n",
            "[nltk_data]    |   Unzipping chunkers/maxent_ne_chunker.zip.\n",
            "[nltk_data]    | Downloading package maxent_treebank_pos_tagger to\n",
            "[nltk_data]    |     /root/nltk_data...\n",
            "[nltk_data]    |   Unzipping taggers/maxent_treebank_pos_tagger.zip.\n",
            "[nltk_data]    | Downloading package moses_sample to\n",
            "[nltk_data]    |     /root/nltk_data...\n",
            "[nltk_data]    |   Unzipping models/moses_sample.zip.\n",
            "[nltk_data]    | Downloading package movie_reviews to\n",
            "[nltk_data]    |     /root/nltk_data...\n",
            "[nltk_data]    |   Unzipping corpora/movie_reviews.zip.\n",
            "[nltk_data]    | Downloading package mte_teip5 to /root/nltk_data...\n",
            "[nltk_data]    |   Unzipping corpora/mte_teip5.zip.\n",
            "[nltk_data]    | Downloading package mwa_ppdb to /root/nltk_data...\n",
            "[nltk_data]    |   Unzipping misc/mwa_ppdb.zip.\n",
            "[nltk_data]    | Downloading package names to /root/nltk_data...\n",
            "[nltk_data]    |   Unzipping corpora/names.zip.\n",
            "[nltk_data]    | Downloading package nombank.1.0 to /root/nltk_data...\n",
            "[nltk_data]    | Downloading package nonbreaking_prefixes to\n",
            "[nltk_data]    |     /root/nltk_data...\n",
            "[nltk_data]    |   Unzipping corpora/nonbreaking_prefixes.zip.\n",
            "[nltk_data]    | Downloading package nps_chat to /root/nltk_data...\n",
            "[nltk_data]    |   Unzipping corpora/nps_chat.zip.\n",
            "[nltk_data]    | Downloading package omw to /root/nltk_data...\n",
            "[nltk_data]    | Downloading package omw-1.4 to /root/nltk_data...\n",
            "[nltk_data]    | Downloading package opinion_lexicon to\n",
            "[nltk_data]    |     /root/nltk_data...\n",
            "[nltk_data]    |   Unzipping corpora/opinion_lexicon.zip.\n",
            "[nltk_data]    | Downloading package panlex_swadesh to\n",
            "[nltk_data]    |     /root/nltk_data...\n",
            "[nltk_data]    | Downloading package paradigms to /root/nltk_data...\n",
            "[nltk_data]    |   Unzipping corpora/paradigms.zip.\n",
            "[nltk_data]    | Downloading package pe08 to /root/nltk_data...\n",
            "[nltk_data]    |   Unzipping corpora/pe08.zip.\n",
            "[nltk_data]    | Downloading package perluniprops to\n",
            "[nltk_data]    |     /root/nltk_data...\n",
            "[nltk_data]    |   Unzipping misc/perluniprops.zip.\n",
            "[nltk_data]    | Downloading package pil to /root/nltk_data...\n",
            "[nltk_data]    |   Unzipping corpora/pil.zip.\n",
            "[nltk_data]    | Downloading package pl196x to /root/nltk_data...\n",
            "[nltk_data]    |   Unzipping corpora/pl196x.zip.\n",
            "[nltk_data]    | Downloading package porter_test to /root/nltk_data...\n",
            "[nltk_data]    |   Unzipping stemmers/porter_test.zip.\n",
            "[nltk_data]    | Downloading package ppattach to /root/nltk_data...\n",
            "[nltk_data]    |   Unzipping corpora/ppattach.zip.\n",
            "[nltk_data]    | Downloading package problem_reports to\n",
            "[nltk_data]    |     /root/nltk_data...\n",
            "[nltk_data]    |   Unzipping corpora/problem_reports.zip.\n",
            "[nltk_data]    | Downloading package product_reviews_1 to\n",
            "[nltk_data]    |     /root/nltk_data...\n",
            "[nltk_data]    |   Unzipping corpora/product_reviews_1.zip.\n",
            "[nltk_data]    | Downloading package product_reviews_2 to\n",
            "[nltk_data]    |     /root/nltk_data...\n",
            "[nltk_data]    |   Unzipping corpora/product_reviews_2.zip.\n",
            "[nltk_data]    | Downloading package propbank to /root/nltk_data...\n",
            "[nltk_data]    | Downloading package pros_cons to /root/nltk_data...\n",
            "[nltk_data]    |   Unzipping corpora/pros_cons.zip.\n",
            "[nltk_data]    | Downloading package ptb to /root/nltk_data...\n",
            "[nltk_data]    |   Unzipping corpora/ptb.zip.\n",
            "[nltk_data]    | Downloading package punkt to /root/nltk_data...\n",
            "[nltk_data]    |   Unzipping tokenizers/punkt.zip.\n",
            "[nltk_data]    | Downloading package qc to /root/nltk_data...\n",
            "[nltk_data]    |   Unzipping corpora/qc.zip.\n",
            "[nltk_data]    | Downloading package reuters to /root/nltk_data...\n",
            "[nltk_data]    | Downloading package rslp to /root/nltk_data...\n",
            "[nltk_data]    |   Unzipping stemmers/rslp.zip.\n",
            "[nltk_data]    | Downloading package rte to /root/nltk_data...\n",
            "[nltk_data]    |   Unzipping corpora/rte.zip.\n",
            "[nltk_data]    | Downloading package sample_grammars to\n",
            "[nltk_data]    |     /root/nltk_data...\n",
            "[nltk_data]    |   Unzipping grammars/sample_grammars.zip.\n",
            "[nltk_data]    | Downloading package semcor to /root/nltk_data...\n",
            "[nltk_data]    | Downloading package senseval to /root/nltk_data...\n",
            "[nltk_data]    |   Unzipping corpora/senseval.zip.\n",
            "[nltk_data]    | Downloading package sentence_polarity to\n",
            "[nltk_data]    |     /root/nltk_data...\n",
            "[nltk_data]    |   Unzipping corpora/sentence_polarity.zip.\n",
            "[nltk_data]    | Downloading package sentiwordnet to\n",
            "[nltk_data]    |     /root/nltk_data...\n",
            "[nltk_data]    |   Unzipping corpora/sentiwordnet.zip.\n",
            "[nltk_data]    | Downloading package shakespeare to /root/nltk_data...\n",
            "[nltk_data]    |   Unzipping corpora/shakespeare.zip.\n",
            "[nltk_data]    | Downloading package sinica_treebank to\n",
            "[nltk_data]    |     /root/nltk_data...\n",
            "[nltk_data]    |   Unzipping corpora/sinica_treebank.zip.\n",
            "[nltk_data]    | Downloading package smultron to /root/nltk_data...\n",
            "[nltk_data]    |   Unzipping corpora/smultron.zip.\n",
            "[nltk_data]    | Downloading package snowball_data to\n",
            "[nltk_data]    |     /root/nltk_data...\n",
            "[nltk_data]    | Downloading package spanish_grammars to\n",
            "[nltk_data]    |     /root/nltk_data...\n",
            "[nltk_data]    |   Unzipping grammars/spanish_grammars.zip.\n",
            "[nltk_data]    | Downloading package state_union to /root/nltk_data...\n",
            "[nltk_data]    |   Unzipping corpora/state_union.zip.\n",
            "[nltk_data]    | Downloading package stopwords to /root/nltk_data...\n",
            "[nltk_data]    |   Unzipping corpora/stopwords.zip.\n",
            "[nltk_data]    | Downloading package subjectivity to\n",
            "[nltk_data]    |     /root/nltk_data...\n",
            "[nltk_data]    |   Unzipping corpora/subjectivity.zip.\n",
            "[nltk_data]    | Downloading package swadesh to /root/nltk_data...\n",
            "[nltk_data]    |   Unzipping corpora/swadesh.zip.\n",
            "[nltk_data]    | Downloading package switchboard to /root/nltk_data...\n",
            "[nltk_data]    |   Unzipping corpora/switchboard.zip.\n",
            "[nltk_data]    | Downloading package tagsets to /root/nltk_data...\n",
            "[nltk_data]    |   Unzipping help/tagsets.zip.\n",
            "[nltk_data]    | Downloading package timit to /root/nltk_data...\n",
            "[nltk_data]    |   Unzipping corpora/timit.zip.\n",
            "[nltk_data]    | Downloading package toolbox to /root/nltk_data...\n",
            "[nltk_data]    |   Unzipping corpora/toolbox.zip.\n",
            "[nltk_data]    | Downloading package treebank to /root/nltk_data...\n",
            "[nltk_data]    |   Unzipping corpora/treebank.zip.\n",
            "[nltk_data]    | Downloading package twitter_samples to\n",
            "[nltk_data]    |     /root/nltk_data...\n",
            "[nltk_data]    |   Unzipping corpora/twitter_samples.zip.\n",
            "[nltk_data]    | Downloading package udhr to /root/nltk_data...\n",
            "[nltk_data]    |   Unzipping corpora/udhr.zip.\n",
            "[nltk_data]    | Downloading package udhr2 to /root/nltk_data...\n",
            "[nltk_data]    |   Unzipping corpora/udhr2.zip.\n",
            "[nltk_data]    | Downloading package unicode_samples to\n",
            "[nltk_data]    |     /root/nltk_data...\n",
            "[nltk_data]    |   Unzipping corpora/unicode_samples.zip.\n",
            "[nltk_data]    | Downloading package universal_tagset to\n",
            "[nltk_data]    |     /root/nltk_data...\n",
            "[nltk_data]    |   Unzipping taggers/universal_tagset.zip.\n",
            "[nltk_data]    | Downloading package universal_treebanks_v20 to\n",
            "[nltk_data]    |     /root/nltk_data...\n",
            "[nltk_data]    | Downloading package vader_lexicon to\n",
            "[nltk_data]    |     /root/nltk_data...\n",
            "[nltk_data]    | Downloading package verbnet to /root/nltk_data...\n",
            "[nltk_data]    |   Unzipping corpora/verbnet.zip.\n",
            "[nltk_data]    | Downloading package verbnet3 to /root/nltk_data...\n",
            "[nltk_data]    |   Unzipping corpora/verbnet3.zip.\n",
            "[nltk_data]    | Downloading package webtext to /root/nltk_data...\n",
            "[nltk_data]    |   Unzipping corpora/webtext.zip.\n",
            "[nltk_data]    | Downloading package wmt15_eval to /root/nltk_data...\n",
            "[nltk_data]    |   Unzipping models/wmt15_eval.zip.\n",
            "[nltk_data]    | Downloading package word2vec_sample to\n",
            "[nltk_data]    |     /root/nltk_data...\n",
            "[nltk_data]    |   Unzipping models/word2vec_sample.zip.\n",
            "[nltk_data]    | Downloading package wordnet to /root/nltk_data...\n",
            "[nltk_data]    | Downloading package wordnet2021 to /root/nltk_data...\n",
            "[nltk_data]    | Downloading package wordnet31 to /root/nltk_data...\n",
            "[nltk_data]    | Downloading package wordnet_ic to /root/nltk_data...\n",
            "[nltk_data]    |   Unzipping corpora/wordnet_ic.zip.\n",
            "[nltk_data]    | Downloading package words to /root/nltk_data...\n",
            "[nltk_data]    |   Unzipping corpora/words.zip.\n",
            "[nltk_data]    | Downloading package ycoe to /root/nltk_data...\n",
            "[nltk_data]    |   Unzipping corpora/ycoe.zip.\n",
            "[nltk_data]    | \n",
            "[nltk_data]  Done downloading collection all\n"
          ]
        },
        {
          "output_type": "execute_result",
          "data": {
            "text/plain": [
              "True"
            ]
          },
          "metadata": {},
          "execution_count": 2
        }
      ]
    },
    {
      "cell_type": "code",
      "source": [
        "paragraph = \"\"\"Looking back on a childhood filled with events and memories, I find it rather difficult to pick one that leaves me with the fabled \"warm and fuzzy feelings.\" As the daughter of an Air Force major, I had the pleasure of traveling across America in many moving trips. I have visited the monstrous trees of the Sequoia National Forest, stood on the edge of the Grand Canyon and have jumped on the beds at Caesar's Palace in Lake Tahoe.\"\n",
        "\"The day I picked my dog up from the pound was one of the happiest days of both of our lives. I had gone to the pound just a week earlier with the idea that I would just \"look\" at a puppy. Of course, you can no more just look at those squiggling little faces so filled with hope and joy than you can stop the sun from setting in the evening. I knew within minutes of walking in the door that I would get a puppy… but it wasn't until I saw him that I knew I had found my puppy.\"\n",
        "\"Looking for houses was supposed to be a fun and exciting process. Unfortunately, none of the ones that we saw seemed to match the specifications that we had established. They were too small, too impersonal, too close to the neighbors. After days of finding nothing even close, we began to wonder: was there really a perfect house out there for us? \"\"\""
      ],
      "metadata": {
        "id": "SqJRZP0TcTWZ"
      },
      "execution_count": 3,
      "outputs": []
    },
    {
      "cell_type": "code",
      "source": [
        "# tokenization of sentences from doc\n",
        "sentences = nltk.sent_tokenize(paragraph)\n",
        "sentences"
      ],
      "metadata": {
        "colab": {
          "base_uri": "https://localhost:8080/"
        },
        "id": "6mE4GDmrcrb2",
        "outputId": "3c2d2164-7afc-47a7-842e-aa38e46f323f"
      },
      "execution_count": 4,
      "outputs": [
        {
          "output_type": "execute_result",
          "data": {
            "text/plain": [
              "['Looking back on a childhood filled with events and memories, I find it rather difficult to pick one that leaves me with the fabled \"warm and fuzzy feelings.\"',\n",
              " 'As the daughter of an Air Force major, I had the pleasure of traveling across America in many moving trips.',\n",
              " 'I have visited the monstrous trees of the Sequoia National Forest, stood on the edge of the Grand Canyon and have jumped on the beds at Caesar\\'s Palace in Lake Tahoe.\"',\n",
              " '\"The day I picked my dog up from the pound was one of the happiest days of both of our lives.',\n",
              " 'I had gone to the pound just a week earlier with the idea that I would just \"look\" at a puppy.',\n",
              " 'Of course, you can no more just look at those squiggling little faces so filled with hope and joy than you can stop the sun from setting in the evening.',\n",
              " 'I knew within minutes of walking in the door that I would get a puppy… but it wasn\\'t until I saw him that I knew I had found my puppy.\"',\n",
              " '\"Looking for houses was supposed to be a fun and exciting process.',\n",
              " 'Unfortunately, none of the ones that we saw seemed to match the specifications that we had established.',\n",
              " 'They were too small, too impersonal, too close to the neighbors.',\n",
              " 'After days of finding nothing even close, we began to wonder: was there really a perfect house out there for us?']"
            ]
          },
          "metadata": {},
          "execution_count": 4
        }
      ]
    },
    {
      "cell_type": "code",
      "source": [
        "# tokenization of words from doc\n",
        "words = nltk.word_tokenize(paragraph)\n",
        "words"
      ],
      "metadata": {
        "colab": {
          "base_uri": "https://localhost:8080/"
        },
        "id": "nJGPfZLEcxTo",
        "outputId": "8460f888-d0b0-4f22-9cb6-556896032509"
      },
      "execution_count": 5,
      "outputs": [
        {
          "output_type": "execute_result",
          "data": {
            "text/plain": [
              "['Looking',\n",
              " 'back',\n",
              " 'on',\n",
              " 'a',\n",
              " 'childhood',\n",
              " 'filled',\n",
              " 'with',\n",
              " 'events',\n",
              " 'and',\n",
              " 'memories',\n",
              " ',',\n",
              " 'I',\n",
              " 'find',\n",
              " 'it',\n",
              " 'rather',\n",
              " 'difficult',\n",
              " 'to',\n",
              " 'pick',\n",
              " 'one',\n",
              " 'that',\n",
              " 'leaves',\n",
              " 'me',\n",
              " 'with',\n",
              " 'the',\n",
              " 'fabled',\n",
              " '``',\n",
              " 'warm',\n",
              " 'and',\n",
              " 'fuzzy',\n",
              " 'feelings',\n",
              " '.',\n",
              " \"''\",\n",
              " 'As',\n",
              " 'the',\n",
              " 'daughter',\n",
              " 'of',\n",
              " 'an',\n",
              " 'Air',\n",
              " 'Force',\n",
              " 'major',\n",
              " ',',\n",
              " 'I',\n",
              " 'had',\n",
              " 'the',\n",
              " 'pleasure',\n",
              " 'of',\n",
              " 'traveling',\n",
              " 'across',\n",
              " 'America',\n",
              " 'in',\n",
              " 'many',\n",
              " 'moving',\n",
              " 'trips',\n",
              " '.',\n",
              " 'I',\n",
              " 'have',\n",
              " 'visited',\n",
              " 'the',\n",
              " 'monstrous',\n",
              " 'trees',\n",
              " 'of',\n",
              " 'the',\n",
              " 'Sequoia',\n",
              " 'National',\n",
              " 'Forest',\n",
              " ',',\n",
              " 'stood',\n",
              " 'on',\n",
              " 'the',\n",
              " 'edge',\n",
              " 'of',\n",
              " 'the',\n",
              " 'Grand',\n",
              " 'Canyon',\n",
              " 'and',\n",
              " 'have',\n",
              " 'jumped',\n",
              " 'on',\n",
              " 'the',\n",
              " 'beds',\n",
              " 'at',\n",
              " 'Caesar',\n",
              " \"'s\",\n",
              " 'Palace',\n",
              " 'in',\n",
              " 'Lake',\n",
              " 'Tahoe',\n",
              " '.',\n",
              " \"''\",\n",
              " '``',\n",
              " 'The',\n",
              " 'day',\n",
              " 'I',\n",
              " 'picked',\n",
              " 'my',\n",
              " 'dog',\n",
              " 'up',\n",
              " 'from',\n",
              " 'the',\n",
              " 'pound',\n",
              " 'was',\n",
              " 'one',\n",
              " 'of',\n",
              " 'the',\n",
              " 'happiest',\n",
              " 'days',\n",
              " 'of',\n",
              " 'both',\n",
              " 'of',\n",
              " 'our',\n",
              " 'lives',\n",
              " '.',\n",
              " 'I',\n",
              " 'had',\n",
              " 'gone',\n",
              " 'to',\n",
              " 'the',\n",
              " 'pound',\n",
              " 'just',\n",
              " 'a',\n",
              " 'week',\n",
              " 'earlier',\n",
              " 'with',\n",
              " 'the',\n",
              " 'idea',\n",
              " 'that',\n",
              " 'I',\n",
              " 'would',\n",
              " 'just',\n",
              " '``',\n",
              " 'look',\n",
              " \"''\",\n",
              " 'at',\n",
              " 'a',\n",
              " 'puppy',\n",
              " '.',\n",
              " 'Of',\n",
              " 'course',\n",
              " ',',\n",
              " 'you',\n",
              " 'can',\n",
              " 'no',\n",
              " 'more',\n",
              " 'just',\n",
              " 'look',\n",
              " 'at',\n",
              " 'those',\n",
              " 'squiggling',\n",
              " 'little',\n",
              " 'faces',\n",
              " 'so',\n",
              " 'filled',\n",
              " 'with',\n",
              " 'hope',\n",
              " 'and',\n",
              " 'joy',\n",
              " 'than',\n",
              " 'you',\n",
              " 'can',\n",
              " 'stop',\n",
              " 'the',\n",
              " 'sun',\n",
              " 'from',\n",
              " 'setting',\n",
              " 'in',\n",
              " 'the',\n",
              " 'evening',\n",
              " '.',\n",
              " 'I',\n",
              " 'knew',\n",
              " 'within',\n",
              " 'minutes',\n",
              " 'of',\n",
              " 'walking',\n",
              " 'in',\n",
              " 'the',\n",
              " 'door',\n",
              " 'that',\n",
              " 'I',\n",
              " 'would',\n",
              " 'get',\n",
              " 'a',\n",
              " 'puppy…',\n",
              " 'but',\n",
              " 'it',\n",
              " 'was',\n",
              " \"n't\",\n",
              " 'until',\n",
              " 'I',\n",
              " 'saw',\n",
              " 'him',\n",
              " 'that',\n",
              " 'I',\n",
              " 'knew',\n",
              " 'I',\n",
              " 'had',\n",
              " 'found',\n",
              " 'my',\n",
              " 'puppy',\n",
              " '.',\n",
              " \"''\",\n",
              " '``',\n",
              " 'Looking',\n",
              " 'for',\n",
              " 'houses',\n",
              " 'was',\n",
              " 'supposed',\n",
              " 'to',\n",
              " 'be',\n",
              " 'a',\n",
              " 'fun',\n",
              " 'and',\n",
              " 'exciting',\n",
              " 'process',\n",
              " '.',\n",
              " 'Unfortunately',\n",
              " ',',\n",
              " 'none',\n",
              " 'of',\n",
              " 'the',\n",
              " 'ones',\n",
              " 'that',\n",
              " 'we',\n",
              " 'saw',\n",
              " 'seemed',\n",
              " 'to',\n",
              " 'match',\n",
              " 'the',\n",
              " 'specifications',\n",
              " 'that',\n",
              " 'we',\n",
              " 'had',\n",
              " 'established',\n",
              " '.',\n",
              " 'They',\n",
              " 'were',\n",
              " 'too',\n",
              " 'small',\n",
              " ',',\n",
              " 'too',\n",
              " 'impersonal',\n",
              " ',',\n",
              " 'too',\n",
              " 'close',\n",
              " 'to',\n",
              " 'the',\n",
              " 'neighbors',\n",
              " '.',\n",
              " 'After',\n",
              " 'days',\n",
              " 'of',\n",
              " 'finding',\n",
              " 'nothing',\n",
              " 'even',\n",
              " 'close',\n",
              " ',',\n",
              " 'we',\n",
              " 'began',\n",
              " 'to',\n",
              " 'wonder',\n",
              " ':',\n",
              " 'was',\n",
              " 'there',\n",
              " 'really',\n",
              " 'a',\n",
              " 'perfect',\n",
              " 'house',\n",
              " 'out',\n",
              " 'there',\n",
              " 'for',\n",
              " 'us',\n",
              " '?']"
            ]
          },
          "metadata": {},
          "execution_count": 5
        }
      ]
    },
    {
      "cell_type": "markdown",
      "source": [
        "### Stemming"
      ],
      "metadata": {
        "id": "k71iuhVldF3g"
      }
    },
    {
      "cell_type": "code",
      "source": [
        "from nltk.stem import PorterStemmer , SnowballStemmer \n",
        "from nltk.corpus import stopwords"
      ],
      "metadata": {
        "id": "M39UCj52c5tU"
      },
      "execution_count": 6,
      "outputs": []
    },
    {
      "cell_type": "code",
      "source": [
        "stemmer1 = PorterStemmer()\n",
        "stemmer2 = SnowballStemmer(language = 'english')"
      ],
      "metadata": {
        "id": "5KSyvU2QdPMu"
      },
      "execution_count": 7,
      "outputs": []
    },
    {
      "cell_type": "code",
      "source": [
        "sentences = nltk.sent_tokenize(paragraph)\n",
        "# stemming porter\n",
        "for i in range(len(sentences)):\n",
        "  words = nltk.word_tokenize(sentences[i])\n",
        "  words = [stemmer1.stem(word) for word in words if word not in stopwords.words('english')]\n",
        "  sentences[i] = \" \".join(words)"
      ],
      "metadata": {
        "id": "CVuRkokwdYf1"
      },
      "execution_count": 8,
      "outputs": []
    },
    {
      "cell_type": "code",
      "source": [
        "sentences"
      ],
      "metadata": {
        "colab": {
          "base_uri": "https://localhost:8080/"
        },
        "id": "t4XbChbfdyjD",
        "outputId": "7e2d1afe-2ab9-4019-da65-7e01e0ef0931"
      },
      "execution_count": 9,
      "outputs": [
        {
          "output_type": "execute_result",
          "data": {
            "text/plain": [
              "[\"look back childhood fill event memori , i find rather difficult pick one leav fabl `` warm fuzzi feel . ''\",\n",
              " 'as daughter air forc major , i pleasur travel across america mani move trip .',\n",
              " \"i visit monstrou tree sequoia nation forest , stood edg grand canyon jump bed caesar 's palac lake taho . ''\",\n",
              " '`` the day i pick dog pound one happiest day live .',\n",
              " \"i gone pound week earlier idea i would `` look '' puppi .\",\n",
              " 'of cours , look squiggl littl face fill hope joy stop sun set even .',\n",
              " \"i knew within minut walk door i would get puppy… n't i saw i knew i found puppi . ''\",\n",
              " '`` look hous suppos fun excit process .',\n",
              " 'unfortun , none one saw seem match specif establish .',\n",
              " 'they small , imperson , close neighbor .',\n",
              " 'after day find noth even close , began wonder : realli perfect hous us ?']"
            ]
          },
          "metadata": {},
          "execution_count": 9
        }
      ]
    },
    {
      "cell_type": "code",
      "source": [
        "sentences = nltk.sent_tokenize(paragraph)\n",
        "# stemming snowball\n",
        "for i in range(len(sentences)):\n",
        "  words = nltk.word_tokenize(sentences[i])\n",
        "  words = [stemmer2.stem(word) for word in words if word not in stopwords.words('english')]\n",
        "  sentences[i] = \" \".join(words)"
      ],
      "metadata": {
        "id": "JDSYRY0XIA2l"
      },
      "execution_count": 10,
      "outputs": []
    },
    {
      "cell_type": "code",
      "source": [
        "sentences"
      ],
      "metadata": {
        "colab": {
          "base_uri": "https://localhost:8080/"
        },
        "id": "1YpOWsziIGa1",
        "outputId": "851b1bcb-77b8-47b0-cff0-17686794cdc9"
      },
      "execution_count": 11,
      "outputs": [
        {
          "output_type": "execute_result",
          "data": {
            "text/plain": [
              "[\"look back childhood fill event memori , i find rather difficult pick one leav fabl `` warm fuzzi feel . ''\",\n",
              " 'as daughter air forc major , i pleasur travel across america mani move trip .',\n",
              " \"i visit monstrous tree sequoia nation forest , stood edg grand canyon jump bed caesar 's palac lake taho . ''\",\n",
              " '`` the day i pick dog pound one happiest day live .',\n",
              " \"i gone pound week earlier idea i would `` look '' puppi .\",\n",
              " 'of cours , look squiggl littl face fill hope joy stop sun set even .',\n",
              " \"i knew within minut walk door i would get puppy… n't i saw i knew i found puppi . ''\",\n",
              " '`` look hous suppos fun excit process .',\n",
              " 'unfortun , none one saw seem match specif establish .',\n",
              " 'they small , imperson , close neighbor .',\n",
              " 'after day find noth even close , began wonder : realli perfect hous us ?']"
            ]
          },
          "metadata": {},
          "execution_count": 11
        }
      ]
    },
    {
      "cell_type": "markdown",
      "source": [
        "### Lemmetization"
      ],
      "metadata": {
        "id": "GRoxZf96e01d"
      }
    },
    {
      "cell_type": "code",
      "source": [
        "from nltk.stem import WordNetLemmatizer\n",
        "from nltk.corpus import stopwords"
      ],
      "metadata": {
        "id": "fZAImqDDez3-"
      },
      "execution_count": 12,
      "outputs": []
    },
    {
      "cell_type": "code",
      "source": [
        "sentences = nltk.sent_tokenize(paragraph)\n",
        "lemmatizer = WordNetLemmatizer()\n",
        "\n",
        "# lemmatization\n",
        "for i in range(len(sentences)):\n",
        "  words = nltk.word_tokenize(sentences[i])\n",
        "  words = [lemmatizer.lemmatize(word) for word in words if word not in stopwords.words(\"english\")]\n",
        "  sentences[i] = \" \".join(words)"
      ],
      "metadata": {
        "id": "iMbi3T-Pd-8a"
      },
      "execution_count": 13,
      "outputs": []
    },
    {
      "cell_type": "code",
      "source": [
        "sentences"
      ],
      "metadata": {
        "colab": {
          "base_uri": "https://localhost:8080/"
        },
        "id": "hpgOMwvyffex",
        "outputId": "1fd6bbc7-70a5-4346-b2bf-427b836aa3b3"
      },
      "execution_count": 14,
      "outputs": [
        {
          "output_type": "execute_result",
          "data": {
            "text/plain": [
              "[\"Looking back childhood filled event memory , I find rather difficult pick one leaf fabled `` warm fuzzy feeling . ''\",\n",
              " 'As daughter Air Force major , I pleasure traveling across America many moving trip .',\n",
              " \"I visited monstrous tree Sequoia National Forest , stood edge Grand Canyon jumped bed Caesar 's Palace Lake Tahoe . ''\",\n",
              " '`` The day I picked dog pound one happiest day life .',\n",
              " \"I gone pound week earlier idea I would `` look '' puppy .\",\n",
              " 'Of course , look squiggling little face filled hope joy stop sun setting evening .',\n",
              " \"I knew within minute walking door I would get puppy… n't I saw I knew I found puppy . ''\",\n",
              " '`` Looking house supposed fun exciting process .',\n",
              " 'Unfortunately , none one saw seemed match specification established .',\n",
              " 'They small , impersonal , close neighbor .',\n",
              " 'After day finding nothing even close , began wonder : really perfect house u ?']"
            ]
          },
          "metadata": {},
          "execution_count": 14
        }
      ]
    },
    {
      "cell_type": "markdown",
      "source": [
        "### POS Tagging"
      ],
      "metadata": {
        "id": "5XG1CyDSf1rH"
      }
    },
    {
      "cell_type": "code",
      "source": [
        "sentence = 'today we completed basics of nlp, need to revise it'\n",
        "token = nltk.word_tokenize(sentence)\n",
        "token"
      ],
      "metadata": {
        "colab": {
          "base_uri": "https://localhost:8080/"
        },
        "id": "o40KbWQ1foku",
        "outputId": "38d14226-d672-4530-9062-942fbe9ce977"
      },
      "execution_count": 15,
      "outputs": [
        {
          "output_type": "execute_result",
          "data": {
            "text/plain": [
              "['today',\n",
              " 'we',\n",
              " 'completed',\n",
              " 'basics',\n",
              " 'of',\n",
              " 'nlp',\n",
              " ',',\n",
              " 'need',\n",
              " 'to',\n",
              " 'revise',\n",
              " 'it']"
            ]
          },
          "metadata": {},
          "execution_count": 15
        }
      ]
    },
    {
      "cell_type": "code",
      "source": [
        "nltk.pos_tag(token)"
      ],
      "metadata": {
        "colab": {
          "base_uri": "https://localhost:8080/"
        },
        "id": "ToBL9q7Tf_Db",
        "outputId": "023b202b-3ae9-4430-e2ee-53bdba60da14"
      },
      "execution_count": 16,
      "outputs": [
        {
          "output_type": "execute_result",
          "data": {
            "text/plain": [
              "[('today', 'NN'),\n",
              " ('we', 'PRP'),\n",
              " ('completed', 'VBD'),\n",
              " ('basics', 'NNS'),\n",
              " ('of', 'IN'),\n",
              " ('nlp', 'NN'),\n",
              " (',', ','),\n",
              " ('need', 'VBP'),\n",
              " ('to', 'TO'),\n",
              " ('revise', 'VB'),\n",
              " ('it', 'PRP')]"
            ]
          },
          "metadata": {},
          "execution_count": 16
        }
      ]
    },
    {
      "cell_type": "code",
      "source": [
        "# we can get  more details about any pos tag using help function of nltk \n",
        "nltk.help.upenn_tagset(\"NN\")"
      ],
      "metadata": {
        "colab": {
          "base_uri": "https://localhost:8080/"
        },
        "id": "mpshzsslgL8x",
        "outputId": "7b0c94f3-b996-4490-e86d-b6c937caaf6f"
      },
      "execution_count": 17,
      "outputs": [
        {
          "output_type": "stream",
          "name": "stdout",
          "text": [
            "NN: noun, common, singular or mass\n",
            "    common-carrier cabbage knuckle-duster Casino afghan shed thermostat\n",
            "    investment slide humour falloff slick wind hyena override subhumanity\n",
            "    machinist ...\n"
          ]
        }
      ]
    },
    {
      "cell_type": "code",
      "source": [
        "nltk.help.upenn_tagset(\"JJ\")"
      ],
      "metadata": {
        "colab": {
          "base_uri": "https://localhost:8080/"
        },
        "id": "uuTtnmUCgb2x",
        "outputId": "12eb1c4f-9c33-4c91-bfbd-9325ff5d6409"
      },
      "execution_count": 18,
      "outputs": [
        {
          "output_type": "stream",
          "name": "stdout",
          "text": [
            "JJ: adjective or numeral, ordinal\n",
            "    third ill-mannered pre-war regrettable oiled calamitous first separable\n",
            "    ectoplasmic battery-powered participatory fourth still-to-be-named\n",
            "    multilingual multi-disciplinary ...\n"
          ]
        }
      ]
    },
    {
      "cell_type": "code",
      "source": [
        "sentence = \" a quick brown fox jumped over the lazy sleeping dog.\"\n",
        "token = nltk.word_tokenize(sentence)\n",
        "token"
      ],
      "metadata": {
        "colab": {
          "base_uri": "https://localhost:8080/"
        },
        "id": "_NuPuwmegfMD",
        "outputId": "84200192-ddcb-4c23-bc30-a7ccdee8bb55"
      },
      "execution_count": 19,
      "outputs": [
        {
          "output_type": "execute_result",
          "data": {
            "text/plain": [
              "['a',\n",
              " 'quick',\n",
              " 'brown',\n",
              " 'fox',\n",
              " 'jumped',\n",
              " 'over',\n",
              " 'the',\n",
              " 'lazy',\n",
              " 'sleeping',\n",
              " 'dog',\n",
              " '.']"
            ]
          },
          "metadata": {},
          "execution_count": 19
        }
      ]
    },
    {
      "cell_type": "code",
      "source": [
        "nltk.pos_tag(token)"
      ],
      "metadata": {
        "colab": {
          "base_uri": "https://localhost:8080/"
        },
        "id": "eoO6ImclgoHi",
        "outputId": "f8f00bb4-e56c-4cad-a25a-61d8012e4d5d"
      },
      "execution_count": 20,
      "outputs": [
        {
          "output_type": "execute_result",
          "data": {
            "text/plain": [
              "[('a', 'DT'),\n",
              " ('quick', 'JJ'),\n",
              " ('brown', 'NN'),\n",
              " ('fox', 'NN'),\n",
              " ('jumped', 'VBD'),\n",
              " ('over', 'IN'),\n",
              " ('the', 'DT'),\n",
              " ('lazy', 'JJ'),\n",
              " ('sleeping', 'NN'),\n",
              " ('dog', 'NN'),\n",
              " ('.', '.')]"
            ]
          },
          "metadata": {},
          "execution_count": 20
        }
      ]
    },
    {
      "cell_type": "code",
      "source": [
        "nltk.help.upenn_tagset(\"DT\")"
      ],
      "metadata": {
        "colab": {
          "base_uri": "https://localhost:8080/"
        },
        "id": "HNzZ0OzWgrnX",
        "outputId": "fe60353d-35c8-4871-c1ac-40cad24912d2"
      },
      "execution_count": 21,
      "outputs": [
        {
          "output_type": "stream",
          "name": "stdout",
          "text": [
            "DT: determiner\n",
            "    all an another any both del each either every half la many much nary\n",
            "    neither no some such that the them these this those\n"
          ]
        }
      ]
    },
    {
      "cell_type": "markdown",
      "source": [
        "### Bag of Words (BoW)"
      ],
      "metadata": {
        "id": "uj6L9hRegw_E"
      }
    },
    {
      "cell_type": "code",
      "source": [
        "import re # --- regular expression\n",
        "from nltk.corpus import stopwords\n",
        "from nltk.stem.porter import PorterStemmer  \n",
        "from nltk.stem import WordNetLemmatizer  "
      ],
      "metadata": {
        "id": "aMia5s1Ygvi8"
      },
      "execution_count": 22,
      "outputs": []
    },
    {
      "cell_type": "code",
      "source": [
        "ps = PorterStemmer() \n",
        "wordnet = WordNetLemmatizer() \n",
        "sentences = nltk.sent_tokenize(paragraph)\n",
        "corpus = []"
      ],
      "metadata": {
        "id": "9AHaYMEzhF4D"
      },
      "execution_count": 23,
      "outputs": []
    },
    {
      "cell_type": "code",
      "source": [
        "for i in range(len(sentences)):\n",
        "  review = re.sub('[^a-zA-Z]' , \" \", sentences[i])\n",
        "  review = review.lower()\n",
        "  review = review.split()\n",
        "  review = [wordnet.lemmatize(word) for word in review if word not in stopwords.words('english')]\n",
        "  review = ' '.join(review)\n",
        "  corpus.append(review)"
      ],
      "metadata": {
        "id": "J1IvSPIrhS5F"
      },
      "execution_count": 24,
      "outputs": []
    },
    {
      "cell_type": "code",
      "source": [
        "corpus"
      ],
      "metadata": {
        "colab": {
          "base_uri": "https://localhost:8080/"
        },
        "id": "gwZFrnsEhvs1",
        "outputId": "dcab6154-7f70-4a0c-b192-acbdb5371d01"
      },
      "execution_count": 25,
      "outputs": [
        {
          "output_type": "execute_result",
          "data": {
            "text/plain": [
              "['looking back childhood filled event memory find rather difficult pick one leaf fabled warm fuzzy feeling',\n",
              " 'daughter air force major pleasure traveling across america many moving trip',\n",
              " 'visited monstrous tree sequoia national forest stood edge grand canyon jumped bed caesar palace lake tahoe',\n",
              " 'day picked dog pound one happiest day life',\n",
              " 'gone pound week earlier idea would look puppy',\n",
              " 'course look squiggling little face filled hope joy stop sun setting evening',\n",
              " 'knew within minute walking door would get puppy saw knew found puppy',\n",
              " 'looking house supposed fun exciting process',\n",
              " 'unfortunately none one saw seemed match specification established',\n",
              " 'small impersonal close neighbor',\n",
              " 'day finding nothing even close began wonder really perfect house u']"
            ]
          },
          "metadata": {},
          "execution_count": 25
        }
      ]
    },
    {
      "cell_type": "code",
      "source": [
        "# bog --> Bag of Words\n",
        "from sklearn.feature_extraction.text import CountVectorizer \n",
        "cv = CountVectorizer()\n",
        "\n",
        "X = cv.fit_transform(corpus).toarray()\n",
        "\n",
        "X.shape"
      ],
      "metadata": {
        "colab": {
          "base_uri": "https://localhost:8080/"
        },
        "id": "Qnx8H1dshy4V",
        "outputId": "b71685dd-b19f-4c94-f5a5-0d033ed42579"
      },
      "execution_count": 26,
      "outputs": [
        {
          "output_type": "execute_result",
          "data": {
            "text/plain": [
              "(11, 96)"
            ]
          },
          "metadata": {},
          "execution_count": 26
        }
      ]
    },
    {
      "cell_type": "code",
      "source": [
        "X"
      ],
      "metadata": {
        "colab": {
          "base_uri": "https://localhost:8080/"
        },
        "id": "5X5oVtzGiBIf",
        "outputId": "caad157c-3dfc-462c-a223-66b980d58c2a"
      },
      "execution_count": 27,
      "outputs": [
        {
          "output_type": "execute_result",
          "data": {
            "text/plain": [
              "array([[0, 0, 0, ..., 0, 0, 0],\n",
              "       [1, 1, 1, ..., 0, 0, 0],\n",
              "       [0, 0, 0, ..., 0, 0, 0],\n",
              "       ...,\n",
              "       [0, 0, 0, ..., 0, 0, 0],\n",
              "       [0, 0, 0, ..., 0, 0, 0],\n",
              "       [0, 0, 0, ..., 0, 1, 0]])"
            ]
          },
          "metadata": {},
          "execution_count": 27
        }
      ]
    },
    {
      "cell_type": "markdown",
      "source": [
        "### tfidf ( term frequence & inverse document frequency) "
      ],
      "metadata": {
        "id": "E7VhgF27iFuZ"
      }
    },
    {
      "cell_type": "code",
      "source": [
        "import re \n",
        "from nltk.corpus import stopwords\n",
        "from nltk.stem.porter import PorterStemmer \n",
        "from nltk.stem import WordNetLemmatizer"
      ],
      "metadata": {
        "id": "QY0Ep-oHiDEF"
      },
      "execution_count": 28,
      "outputs": []
    },
    {
      "cell_type": "code",
      "source": [
        "ps = PorterStemmer()\n",
        "wordnet=WordNetLemmatizer()\n",
        "sentences = nltk.sent_tokenize(paragraph)\n",
        "corpus = []"
      ],
      "metadata": {
        "id": "EOUcvefAiXEx"
      },
      "execution_count": 29,
      "outputs": []
    },
    {
      "cell_type": "code",
      "source": [
        "for i in range(len(sentences)):\n",
        "    review = re.sub('[^a-zA-Z]', ' ', sentences[i])\n",
        "    review = review.lower()\n",
        "    review = review.split()\n",
        "    review = [wordnet.lemmatize(word) for word in review if not word in set(stopwords.words('english'))]\n",
        "    review = ' '.join(review)\n",
        "    corpus.append(review)"
      ],
      "metadata": {
        "id": "P69t75LmicEg"
      },
      "execution_count": 30,
      "outputs": []
    },
    {
      "cell_type": "code",
      "source": [
        "corpus"
      ],
      "metadata": {
        "colab": {
          "base_uri": "https://localhost:8080/"
        },
        "id": "tGepkcQxidVj",
        "outputId": "92c06fd1-0453-42fc-e51c-d8e641b916f9"
      },
      "execution_count": 31,
      "outputs": [
        {
          "output_type": "execute_result",
          "data": {
            "text/plain": [
              "['looking back childhood filled event memory find rather difficult pick one leaf fabled warm fuzzy feeling',\n",
              " 'daughter air force major pleasure traveling across america many moving trip',\n",
              " 'visited monstrous tree sequoia national forest stood edge grand canyon jumped bed caesar palace lake tahoe',\n",
              " 'day picked dog pound one happiest day life',\n",
              " 'gone pound week earlier idea would look puppy',\n",
              " 'course look squiggling little face filled hope joy stop sun setting evening',\n",
              " 'knew within minute walking door would get puppy saw knew found puppy',\n",
              " 'looking house supposed fun exciting process',\n",
              " 'unfortunately none one saw seemed match specification established',\n",
              " 'small impersonal close neighbor',\n",
              " 'day finding nothing even close began wonder really perfect house u']"
            ]
          },
          "metadata": {},
          "execution_count": 31
        }
      ]
    },
    {
      "cell_type": "code",
      "source": [
        "from sklearn.feature_extraction.text import TfidfVectorizer\n",
        "\n",
        "tfidf=TfidfVectorizer()\n",
        "X=tfidf.fit_transform(corpus).toarray()"
      ],
      "metadata": {
        "id": "Mghb1V4Qie6V"
      },
      "execution_count": 32,
      "outputs": []
    },
    {
      "cell_type": "code",
      "source": [
        "X"
      ],
      "metadata": {
        "colab": {
          "base_uri": "https://localhost:8080/"
        },
        "id": "Cph7acKgihVc",
        "outputId": "0294de50-d3c3-4aa7-f8f8-a98342d4cc7e"
      },
      "execution_count": 33,
      "outputs": [
        {
          "output_type": "execute_result",
          "data": {
            "text/plain": [
              "array([[0.        , 0.        , 0.        , ..., 0.        , 0.        ,\n",
              "        0.        ],\n",
              "       [0.30151134, 0.30151134, 0.30151134, ..., 0.        , 0.        ,\n",
              "        0.        ],\n",
              "       [0.        , 0.        , 0.        , ..., 0.        , 0.        ,\n",
              "        0.        ],\n",
              "       ...,\n",
              "       [0.        , 0.        , 0.        , ..., 0.        , 0.        ,\n",
              "        0.        ],\n",
              "       [0.        , 0.        , 0.        , ..., 0.        , 0.        ,\n",
              "        0.        ],\n",
              "       [0.        , 0.        , 0.        , ..., 0.        , 0.32983614,\n",
              "        0.        ]])"
            ]
          },
          "metadata": {},
          "execution_count": 33
        }
      ]
    },
    {
      "cell_type": "code",
      "source": [
        "X.shape"
      ],
      "metadata": {
        "colab": {
          "base_uri": "https://localhost:8080/"
        },
        "id": "nMo3Bvjrii4P",
        "outputId": "02f143c2-5f14-4f64-b0b0-efbfb2bb054b"
      },
      "execution_count": 34,
      "outputs": [
        {
          "output_type": "execute_result",
          "data": {
            "text/plain": [
              "(11, 96)"
            ]
          },
          "metadata": {},
          "execution_count": 34
        }
      ]
    },
    {
      "cell_type": "markdown",
      "source": [
        "### Word2Vec model  (word 2 vector model)"
      ],
      "metadata": {
        "id": "Idws7ZC5ilMe"
      }
    },
    {
      "cell_type": "code",
      "source": [
        "text = re.sub(r'\\[[0-9]*\\]',' ',paragraph)\n",
        "text = re.sub(r'\\s+',' ',text)\n",
        "text = text.lower()\n",
        "text = re.sub(r'\\d',' ',text)\n",
        "text = re.sub(r'\\s+',' ',text)"
      ],
      "metadata": {
        "id": "9sMtRYQnik1C"
      },
      "execution_count": 35,
      "outputs": []
    },
    {
      "cell_type": "code",
      "source": [
        "text"
      ],
      "metadata": {
        "colab": {
          "base_uri": "https://localhost:8080/",
          "height": 139
        },
        "id": "MO2W6Z_DiqBR",
        "outputId": "8425271a-8343-44d9-aa72-80a32102307f"
      },
      "execution_count": 36,
      "outputs": [
        {
          "output_type": "execute_result",
          "data": {
            "text/plain": [
              "'looking back on a childhood filled with events and memories, i find it rather difficult to pick one that leaves me with the fabled \"warm and fuzzy feelings.\" as the daughter of an air force major, i had the pleasure of traveling across america in many moving trips. i have visited the monstrous trees of the sequoia national forest, stood on the edge of the grand canyon and have jumped on the beds at caesar\\'s palace in lake tahoe.\" \"the day i picked my dog up from the pound was one of the happiest days of both of our lives. i had gone to the pound just a week earlier with the idea that i would just \"look\" at a puppy. of course, you can no more just look at those squiggling little faces so filled with hope and joy than you can stop the sun from setting in the evening. i knew within minutes of walking in the door that i would get a puppy… but it wasn\\'t until i saw him that i knew i had found my puppy.\" \"looking for houses was supposed to be a fun and exciting process. unfortunately, none of the ones that we saw seemed to match the specifications that we had established. they were too small, too impersonal, too close to the neighbors. after days of finding nothing even close, we began to wonder: was there really a perfect house out there for us? '"
            ],
            "application/vnd.google.colaboratory.intrinsic+json": {
              "type": "string"
            }
          },
          "metadata": {},
          "execution_count": 36
        }
      ]
    },
    {
      "cell_type": "code",
      "source": [
        "# Preparing the dataset\n",
        "sentences = nltk.sent_tokenize(text)\n",
        "sentences"
      ],
      "metadata": {
        "colab": {
          "base_uri": "https://localhost:8080/"
        },
        "id": "4HXAbu6giq8p",
        "outputId": "28e20061-27da-4725-a14f-865323954b3b"
      },
      "execution_count": 37,
      "outputs": [
        {
          "output_type": "execute_result",
          "data": {
            "text/plain": [
              "['looking back on a childhood filled with events and memories, i find it rather difficult to pick one that leaves me with the fabled \"warm and fuzzy feelings.\"',\n",
              " 'as the daughter of an air force major, i had the pleasure of traveling across america in many moving trips.',\n",
              " 'i have visited the monstrous trees of the sequoia national forest, stood on the edge of the grand canyon and have jumped on the beds at caesar\\'s palace in lake tahoe.\"',\n",
              " '\"the day i picked my dog up from the pound was one of the happiest days of both of our lives.',\n",
              " 'i had gone to the pound just a week earlier with the idea that i would just \"look\" at a puppy.',\n",
              " 'of course, you can no more just look at those squiggling little faces so filled with hope and joy than you can stop the sun from setting in the evening.',\n",
              " 'i knew within minutes of walking in the door that i would get a puppy… but it wasn\\'t until i saw him that i knew i had found my puppy.\"',\n",
              " '\"looking for houses was supposed to be a fun and exciting process.',\n",
              " 'unfortunately, none of the ones that we saw seemed to match the specifications that we had established.',\n",
              " 'they were too small, too impersonal, too close to the neighbors.',\n",
              " 'after days of finding nothing even close, we began to wonder: was there really a perfect house out there for us?']"
            ]
          },
          "metadata": {},
          "execution_count": 37
        }
      ]
    },
    {
      "cell_type": "code",
      "source": [
        "sentences=[nltk.word_tokenize(sentence) for sentence in sentences]\n",
        "sentences "
      ],
      "metadata": {
        "colab": {
          "base_uri": "https://localhost:8080/"
        },
        "id": "7D2jrOavitIG",
        "outputId": "e060ff12-7b29-4a74-baa6-0f6639499238"
      },
      "execution_count": 38,
      "outputs": [
        {
          "output_type": "execute_result",
          "data": {
            "text/plain": [
              "[['looking',\n",
              "  'back',\n",
              "  'on',\n",
              "  'a',\n",
              "  'childhood',\n",
              "  'filled',\n",
              "  'with',\n",
              "  'events',\n",
              "  'and',\n",
              "  'memories',\n",
              "  ',',\n",
              "  'i',\n",
              "  'find',\n",
              "  'it',\n",
              "  'rather',\n",
              "  'difficult',\n",
              "  'to',\n",
              "  'pick',\n",
              "  'one',\n",
              "  'that',\n",
              "  'leaves',\n",
              "  'me',\n",
              "  'with',\n",
              "  'the',\n",
              "  'fabled',\n",
              "  '``',\n",
              "  'warm',\n",
              "  'and',\n",
              "  'fuzzy',\n",
              "  'feelings',\n",
              "  '.',\n",
              "  \"''\"],\n",
              " ['as',\n",
              "  'the',\n",
              "  'daughter',\n",
              "  'of',\n",
              "  'an',\n",
              "  'air',\n",
              "  'force',\n",
              "  'major',\n",
              "  ',',\n",
              "  'i',\n",
              "  'had',\n",
              "  'the',\n",
              "  'pleasure',\n",
              "  'of',\n",
              "  'traveling',\n",
              "  'across',\n",
              "  'america',\n",
              "  'in',\n",
              "  'many',\n",
              "  'moving',\n",
              "  'trips',\n",
              "  '.'],\n",
              " ['i',\n",
              "  'have',\n",
              "  'visited',\n",
              "  'the',\n",
              "  'monstrous',\n",
              "  'trees',\n",
              "  'of',\n",
              "  'the',\n",
              "  'sequoia',\n",
              "  'national',\n",
              "  'forest',\n",
              "  ',',\n",
              "  'stood',\n",
              "  'on',\n",
              "  'the',\n",
              "  'edge',\n",
              "  'of',\n",
              "  'the',\n",
              "  'grand',\n",
              "  'canyon',\n",
              "  'and',\n",
              "  'have',\n",
              "  'jumped',\n",
              "  'on',\n",
              "  'the',\n",
              "  'beds',\n",
              "  'at',\n",
              "  'caesar',\n",
              "  \"'s\",\n",
              "  'palace',\n",
              "  'in',\n",
              "  'lake',\n",
              "  'tahoe',\n",
              "  '.',\n",
              "  \"''\"],\n",
              " ['``',\n",
              "  'the',\n",
              "  'day',\n",
              "  'i',\n",
              "  'picked',\n",
              "  'my',\n",
              "  'dog',\n",
              "  'up',\n",
              "  'from',\n",
              "  'the',\n",
              "  'pound',\n",
              "  'was',\n",
              "  'one',\n",
              "  'of',\n",
              "  'the',\n",
              "  'happiest',\n",
              "  'days',\n",
              "  'of',\n",
              "  'both',\n",
              "  'of',\n",
              "  'our',\n",
              "  'lives',\n",
              "  '.'],\n",
              " ['i',\n",
              "  'had',\n",
              "  'gone',\n",
              "  'to',\n",
              "  'the',\n",
              "  'pound',\n",
              "  'just',\n",
              "  'a',\n",
              "  'week',\n",
              "  'earlier',\n",
              "  'with',\n",
              "  'the',\n",
              "  'idea',\n",
              "  'that',\n",
              "  'i',\n",
              "  'would',\n",
              "  'just',\n",
              "  '``',\n",
              "  'look',\n",
              "  \"''\",\n",
              "  'at',\n",
              "  'a',\n",
              "  'puppy',\n",
              "  '.'],\n",
              " ['of',\n",
              "  'course',\n",
              "  ',',\n",
              "  'you',\n",
              "  'can',\n",
              "  'no',\n",
              "  'more',\n",
              "  'just',\n",
              "  'look',\n",
              "  'at',\n",
              "  'those',\n",
              "  'squiggling',\n",
              "  'little',\n",
              "  'faces',\n",
              "  'so',\n",
              "  'filled',\n",
              "  'with',\n",
              "  'hope',\n",
              "  'and',\n",
              "  'joy',\n",
              "  'than',\n",
              "  'you',\n",
              "  'can',\n",
              "  'stop',\n",
              "  'the',\n",
              "  'sun',\n",
              "  'from',\n",
              "  'setting',\n",
              "  'in',\n",
              "  'the',\n",
              "  'evening',\n",
              "  '.'],\n",
              " ['i',\n",
              "  'knew',\n",
              "  'within',\n",
              "  'minutes',\n",
              "  'of',\n",
              "  'walking',\n",
              "  'in',\n",
              "  'the',\n",
              "  'door',\n",
              "  'that',\n",
              "  'i',\n",
              "  'would',\n",
              "  'get',\n",
              "  'a',\n",
              "  'puppy…',\n",
              "  'but',\n",
              "  'it',\n",
              "  'was',\n",
              "  \"n't\",\n",
              "  'until',\n",
              "  'i',\n",
              "  'saw',\n",
              "  'him',\n",
              "  'that',\n",
              "  'i',\n",
              "  'knew',\n",
              "  'i',\n",
              "  'had',\n",
              "  'found',\n",
              "  'my',\n",
              "  'puppy',\n",
              "  '.',\n",
              "  \"''\"],\n",
              " ['``',\n",
              "  'looking',\n",
              "  'for',\n",
              "  'houses',\n",
              "  'was',\n",
              "  'supposed',\n",
              "  'to',\n",
              "  'be',\n",
              "  'a',\n",
              "  'fun',\n",
              "  'and',\n",
              "  'exciting',\n",
              "  'process',\n",
              "  '.'],\n",
              " ['unfortunately',\n",
              "  ',',\n",
              "  'none',\n",
              "  'of',\n",
              "  'the',\n",
              "  'ones',\n",
              "  'that',\n",
              "  'we',\n",
              "  'saw',\n",
              "  'seemed',\n",
              "  'to',\n",
              "  'match',\n",
              "  'the',\n",
              "  'specifications',\n",
              "  'that',\n",
              "  'we',\n",
              "  'had',\n",
              "  'established',\n",
              "  '.'],\n",
              " ['they',\n",
              "  'were',\n",
              "  'too',\n",
              "  'small',\n",
              "  ',',\n",
              "  'too',\n",
              "  'impersonal',\n",
              "  ',',\n",
              "  'too',\n",
              "  'close',\n",
              "  'to',\n",
              "  'the',\n",
              "  'neighbors',\n",
              "  '.'],\n",
              " ['after',\n",
              "  'days',\n",
              "  'of',\n",
              "  'finding',\n",
              "  'nothing',\n",
              "  'even',\n",
              "  'close',\n",
              "  ',',\n",
              "  'we',\n",
              "  'began',\n",
              "  'to',\n",
              "  'wonder',\n",
              "  ':',\n",
              "  'was',\n",
              "  'there',\n",
              "  'really',\n",
              "  'a',\n",
              "  'perfect',\n",
              "  'house',\n",
              "  'out',\n",
              "  'there',\n",
              "  'for',\n",
              "  'us',\n",
              "  '?']]"
            ]
          },
          "metadata": {},
          "execution_count": 38
        }
      ]
    },
    {
      "cell_type": "code",
      "source": [
        "#Stopword Removal\n",
        "for i in range(len(sentences)):\n",
        "  sentences[i]=[word for word in sentences[i] if word not in stopwords.words('english')]\n",
        "sentences "
      ],
      "metadata": {
        "colab": {
          "base_uri": "https://localhost:8080/"
        },
        "id": "gJkZdHSViwoL",
        "outputId": "929a894f-d672-41a7-ead4-1b76e15fab29"
      },
      "execution_count": 39,
      "outputs": [
        {
          "output_type": "execute_result",
          "data": {
            "text/plain": [
              "[['looking',\n",
              "  'back',\n",
              "  'childhood',\n",
              "  'filled',\n",
              "  'events',\n",
              "  'memories',\n",
              "  ',',\n",
              "  'find',\n",
              "  'rather',\n",
              "  'difficult',\n",
              "  'pick',\n",
              "  'one',\n",
              "  'leaves',\n",
              "  'fabled',\n",
              "  '``',\n",
              "  'warm',\n",
              "  'fuzzy',\n",
              "  'feelings',\n",
              "  '.',\n",
              "  \"''\"],\n",
              " ['daughter',\n",
              "  'air',\n",
              "  'force',\n",
              "  'major',\n",
              "  ',',\n",
              "  'pleasure',\n",
              "  'traveling',\n",
              "  'across',\n",
              "  'america',\n",
              "  'many',\n",
              "  'moving',\n",
              "  'trips',\n",
              "  '.'],\n",
              " ['visited',\n",
              "  'monstrous',\n",
              "  'trees',\n",
              "  'sequoia',\n",
              "  'national',\n",
              "  'forest',\n",
              "  ',',\n",
              "  'stood',\n",
              "  'edge',\n",
              "  'grand',\n",
              "  'canyon',\n",
              "  'jumped',\n",
              "  'beds',\n",
              "  'caesar',\n",
              "  \"'s\",\n",
              "  'palace',\n",
              "  'lake',\n",
              "  'tahoe',\n",
              "  '.',\n",
              "  \"''\"],\n",
              " ['``',\n",
              "  'day',\n",
              "  'picked',\n",
              "  'dog',\n",
              "  'pound',\n",
              "  'one',\n",
              "  'happiest',\n",
              "  'days',\n",
              "  'lives',\n",
              "  '.'],\n",
              " ['gone',\n",
              "  'pound',\n",
              "  'week',\n",
              "  'earlier',\n",
              "  'idea',\n",
              "  'would',\n",
              "  '``',\n",
              "  'look',\n",
              "  \"''\",\n",
              "  'puppy',\n",
              "  '.'],\n",
              " ['course',\n",
              "  ',',\n",
              "  'look',\n",
              "  'squiggling',\n",
              "  'little',\n",
              "  'faces',\n",
              "  'filled',\n",
              "  'hope',\n",
              "  'joy',\n",
              "  'stop',\n",
              "  'sun',\n",
              "  'setting',\n",
              "  'evening',\n",
              "  '.'],\n",
              " ['knew',\n",
              "  'within',\n",
              "  'minutes',\n",
              "  'walking',\n",
              "  'door',\n",
              "  'would',\n",
              "  'get',\n",
              "  'puppy…',\n",
              "  \"n't\",\n",
              "  'saw',\n",
              "  'knew',\n",
              "  'found',\n",
              "  'puppy',\n",
              "  '.',\n",
              "  \"''\"],\n",
              " ['``', 'looking', 'houses', 'supposed', 'fun', 'exciting', 'process', '.'],\n",
              " ['unfortunately',\n",
              "  ',',\n",
              "  'none',\n",
              "  'ones',\n",
              "  'saw',\n",
              "  'seemed',\n",
              "  'match',\n",
              "  'specifications',\n",
              "  'established',\n",
              "  '.'],\n",
              " ['small', ',', 'impersonal', ',', 'close', 'neighbors', '.'],\n",
              " ['days',\n",
              "  'finding',\n",
              "  'nothing',\n",
              "  'even',\n",
              "  'close',\n",
              "  ',',\n",
              "  'began',\n",
              "  'wonder',\n",
              "  ':',\n",
              "  'really',\n",
              "  'perfect',\n",
              "  'house',\n",
              "  'us',\n",
              "  '?']]"
            ]
          },
          "metadata": {},
          "execution_count": 39
        }
      ]
    },
    {
      "cell_type": "code",
      "source": [
        "from gensim.models import Word2Vec\n",
        "\n",
        "\n",
        "\n",
        "model=Word2Vec(sentences,min_count=1)\n",
        "model"
      ],
      "metadata": {
        "colab": {
          "base_uri": "https://localhost:8080/"
        },
        "id": "zKlbIT0Bi2g6",
        "outputId": "4a4d54f1-cc46-49d6-8f53-fa902eed45b0"
      },
      "execution_count": 40,
      "outputs": [
        {
          "output_type": "stream",
          "name": "stderr",
          "text": [
            "WARNING:gensim.models.base_any2vec:under 10 jobs per worker: consider setting a smaller `batch_words' for smoother alpha decay\n"
          ]
        },
        {
          "output_type": "execute_result",
          "data": {
            "text/plain": [
              "<gensim.models.word2vec.Word2Vec at 0x7f4a7172fd10>"
            ]
          },
          "metadata": {},
          "execution_count": 40
        }
      ]
    },
    {
      "cell_type": "code",
      "source": [
        "model.wv.vocab"
      ],
      "metadata": {
        "colab": {
          "base_uri": "https://localhost:8080/"
        },
        "id": "SREZPU99i8JQ",
        "outputId": "9346b6a8-5991-46ad-d1e0-d677a97433d9"
      },
      "execution_count": 41,
      "outputs": [
        {
          "output_type": "execute_result",
          "data": {
            "text/plain": [
              "{\"''\": <gensim.models.keyedvectors.Vocab at 0x7f4a6ed3c690>,\n",
              " \"'s\": <gensim.models.keyedvectors.Vocab at 0x7f4a6ed3ccd0>,\n",
              " ',': <gensim.models.keyedvectors.Vocab at 0x7f4a6ed3c3d0>,\n",
              " '.': <gensim.models.keyedvectors.Vocab at 0x7f4a6ed3c650>,\n",
              " ':': <gensim.models.keyedvectors.Vocab at 0x7f4a6ed3fbd0>,\n",
              " '?': <gensim.models.keyedvectors.Vocab at 0x7f4a6ed3fd10>,\n",
              " '``': <gensim.models.keyedvectors.Vocab at 0x7f4a6ed3c550>,\n",
              " 'across': <gensim.models.keyedvectors.Vocab at 0x7f4a6ed3c850>,\n",
              " 'air': <gensim.models.keyedvectors.Vocab at 0x7f4a6ed3c710>,\n",
              " 'america': <gensim.models.keyedvectors.Vocab at 0x7f4a6ed3c890>,\n",
              " 'back': <gensim.models.keyedvectors.Vocab at 0x7f4a7173fc10>,\n",
              " 'beds': <gensim.models.keyedvectors.Vocab at 0x7f4a6ed3cc50>,\n",
              " 'began': <gensim.models.keyedvectors.Vocab at 0x7f4a6ed3fb50>,\n",
              " 'caesar': <gensim.models.keyedvectors.Vocab at 0x7f4a6ed3cc90>,\n",
              " 'canyon': <gensim.models.keyedvectors.Vocab at 0x7f4a6ed3cbd0>,\n",
              " 'childhood': <gensim.models.keyedvectors.Vocab at 0x7f4a6f01db50>,\n",
              " 'close': <gensim.models.keyedvectors.Vocab at 0x7f4a6ed3fa10>,\n",
              " 'course': <gensim.models.keyedvectors.Vocab at 0x7f4a6ed3f190>,\n",
              " 'daughter': <gensim.models.keyedvectors.Vocab at 0x7f4a6ed3c6d0>,\n",
              " 'day': <gensim.models.keyedvectors.Vocab at 0x7f4a6ed3cdd0>,\n",
              " 'days': <gensim.models.keyedvectors.Vocab at 0x7f4a6ed3cf10>,\n",
              " 'difficult': <gensim.models.keyedvectors.Vocab at 0x7f4a6ed3c350>,\n",
              " 'dog': <gensim.models.keyedvectors.Vocab at 0x7f4a6ed3ce50>,\n",
              " 'door': <gensim.models.keyedvectors.Vocab at 0x7f4a6ed3f510>,\n",
              " 'earlier': <gensim.models.keyedvectors.Vocab at 0x7f4a6ed3f050>,\n",
              " 'edge': <gensim.models.keyedvectors.Vocab at 0x7f4a6ed3cb50>,\n",
              " 'established': <gensim.models.keyedvectors.Vocab at 0x7f4a6ed3f950>,\n",
              " 'even': <gensim.models.keyedvectors.Vocab at 0x7f4a6ed3fb10>,\n",
              " 'evening': <gensim.models.keyedvectors.Vocab at 0x7f4a6ed3f3d0>,\n",
              " 'events': <gensim.models.keyedvectors.Vocab at 0x7f4a6ed9d2d0>,\n",
              " 'exciting': <gensim.models.keyedvectors.Vocab at 0x7f4a6ed3f750>,\n",
              " 'fabled': <gensim.models.keyedvectors.Vocab at 0x7f4a6ed3c510>,\n",
              " 'faces': <gensim.models.keyedvectors.Vocab at 0x7f4a6ed3f250>,\n",
              " 'feelings': <gensim.models.keyedvectors.Vocab at 0x7f4a6ed3c610>,\n",
              " 'filled': <gensim.models.keyedvectors.Vocab at 0x7f4a6ed91ad0>,\n",
              " 'find': <gensim.models.keyedvectors.Vocab at 0x7f4a6ed3c410>,\n",
              " 'finding': <gensim.models.keyedvectors.Vocab at 0x7f4a6ed3fa90>,\n",
              " 'force': <gensim.models.keyedvectors.Vocab at 0x7f4a6ed3c750>,\n",
              " 'forest': <gensim.models.keyedvectors.Vocab at 0x7f4a6ed3cad0>,\n",
              " 'found': <gensim.models.keyedvectors.Vocab at 0x7f4a6ed3f650>,\n",
              " 'fun': <gensim.models.keyedvectors.Vocab at 0x7f4a6ed3f710>,\n",
              " 'fuzzy': <gensim.models.keyedvectors.Vocab at 0x7f4a6ed3c5d0>,\n",
              " 'get': <gensim.models.keyedvectors.Vocab at 0x7f4a6ed3f550>,\n",
              " 'gone': <gensim.models.keyedvectors.Vocab at 0x7f4a6ed3cf90>,\n",
              " 'grand': <gensim.models.keyedvectors.Vocab at 0x7f4a6ed3cb90>,\n",
              " 'happiest': <gensim.models.keyedvectors.Vocab at 0x7f4a6ed3ced0>,\n",
              " 'hope': <gensim.models.keyedvectors.Vocab at 0x7f4a6ed3f290>,\n",
              " 'house': <gensim.models.keyedvectors.Vocab at 0x7f4a6ed3fc90>,\n",
              " 'houses': <gensim.models.keyedvectors.Vocab at 0x7f4a6ed3f690>,\n",
              " 'idea': <gensim.models.keyedvectors.Vocab at 0x7f4a6ed3f090>,\n",
              " 'impersonal': <gensim.models.keyedvectors.Vocab at 0x7f4a6ed3f9d0>,\n",
              " 'joy': <gensim.models.keyedvectors.Vocab at 0x7f4a6ed3f2d0>,\n",
              " 'jumped': <gensim.models.keyedvectors.Vocab at 0x7f4a6ed3cc10>,\n",
              " 'knew': <gensim.models.keyedvectors.Vocab at 0x7f4a6ed3f410>,\n",
              " 'lake': <gensim.models.keyedvectors.Vocab at 0x7f4a6ed3cd50>,\n",
              " 'leaves': <gensim.models.keyedvectors.Vocab at 0x7f4a6ed3c4d0>,\n",
              " 'little': <gensim.models.keyedvectors.Vocab at 0x7f4a6ed3f210>,\n",
              " 'lives': <gensim.models.keyedvectors.Vocab at 0x7f4a6ed3cf50>,\n",
              " 'look': <gensim.models.keyedvectors.Vocab at 0x7f4a6ed3f110>,\n",
              " 'looking': <gensim.models.keyedvectors.Vocab at 0x7f4a71717fd0>,\n",
              " 'major': <gensim.models.keyedvectors.Vocab at 0x7f4a6ed3c790>,\n",
              " 'many': <gensim.models.keyedvectors.Vocab at 0x7f4a6ed3c8d0>,\n",
              " 'match': <gensim.models.keyedvectors.Vocab at 0x7f4a6ed3f8d0>,\n",
              " 'memories': <gensim.models.keyedvectors.Vocab at 0x7f4a6ed3c310>,\n",
              " 'minutes': <gensim.models.keyedvectors.Vocab at 0x7f4a6ed3f490>,\n",
              " 'monstrous': <gensim.models.keyedvectors.Vocab at 0x7f4a6ed3c9d0>,\n",
              " 'moving': <gensim.models.keyedvectors.Vocab at 0x7f4a6ed3c910>,\n",
              " \"n't\": <gensim.models.keyedvectors.Vocab at 0x7f4a6ed3f5d0>,\n",
              " 'national': <gensim.models.keyedvectors.Vocab at 0x7f4a6ed3ca90>,\n",
              " 'neighbors': <gensim.models.keyedvectors.Vocab at 0x7f4a6ed3fa50>,\n",
              " 'none': <gensim.models.keyedvectors.Vocab at 0x7f4a6ed3f810>,\n",
              " 'nothing': <gensim.models.keyedvectors.Vocab at 0x7f4a6ed3fad0>,\n",
              " 'one': <gensim.models.keyedvectors.Vocab at 0x7f4a6ed3c490>,\n",
              " 'ones': <gensim.models.keyedvectors.Vocab at 0x7f4a6ed3f850>,\n",
              " 'palace': <gensim.models.keyedvectors.Vocab at 0x7f4a6ed3cd10>,\n",
              " 'perfect': <gensim.models.keyedvectors.Vocab at 0x7f4a6ed3fc50>,\n",
              " 'pick': <gensim.models.keyedvectors.Vocab at 0x7f4a6ed3c450>,\n",
              " 'picked': <gensim.models.keyedvectors.Vocab at 0x7f4a6ed3ce10>,\n",
              " 'pleasure': <gensim.models.keyedvectors.Vocab at 0x7f4a6ed3c7d0>,\n",
              " 'pound': <gensim.models.keyedvectors.Vocab at 0x7f4a6ed3ce90>,\n",
              " 'process': <gensim.models.keyedvectors.Vocab at 0x7f4a6ed3f790>,\n",
              " 'puppy': <gensim.models.keyedvectors.Vocab at 0x7f4a6ed3f150>,\n",
              " 'puppy…': <gensim.models.keyedvectors.Vocab at 0x7f4a6ed3f590>,\n",
              " 'rather': <gensim.models.keyedvectors.Vocab at 0x7f4a6ed91b10>,\n",
              " 'really': <gensim.models.keyedvectors.Vocab at 0x7f4a6ed3fc10>,\n",
              " 'saw': <gensim.models.keyedvectors.Vocab at 0x7f4a6ed3f610>,\n",
              " 'seemed': <gensim.models.keyedvectors.Vocab at 0x7f4a6ed3f890>,\n",
              " 'sequoia': <gensim.models.keyedvectors.Vocab at 0x7f4a6ed3ca50>,\n",
              " 'setting': <gensim.models.keyedvectors.Vocab at 0x7f4a6ed3f390>,\n",
              " 'small': <gensim.models.keyedvectors.Vocab at 0x7f4a6ed3f990>,\n",
              " 'specifications': <gensim.models.keyedvectors.Vocab at 0x7f4a6ed3f910>,\n",
              " 'squiggling': <gensim.models.keyedvectors.Vocab at 0x7f4a6ed3f1d0>,\n",
              " 'stood': <gensim.models.keyedvectors.Vocab at 0x7f4a6ed3cb10>,\n",
              " 'stop': <gensim.models.keyedvectors.Vocab at 0x7f4a6ed3f310>,\n",
              " 'sun': <gensim.models.keyedvectors.Vocab at 0x7f4a6ed3f350>,\n",
              " 'supposed': <gensim.models.keyedvectors.Vocab at 0x7f4a6ed3f6d0>,\n",
              " 'tahoe': <gensim.models.keyedvectors.Vocab at 0x7f4a6ed3cd90>,\n",
              " 'traveling': <gensim.models.keyedvectors.Vocab at 0x7f4a6ed3c810>,\n",
              " 'trees': <gensim.models.keyedvectors.Vocab at 0x7f4a6ed3ca10>,\n",
              " 'trips': <gensim.models.keyedvectors.Vocab at 0x7f4a6ed3c950>,\n",
              " 'unfortunately': <gensim.models.keyedvectors.Vocab at 0x7f4a6ed3f7d0>,\n",
              " 'us': <gensim.models.keyedvectors.Vocab at 0x7f4a6ed3fcd0>,\n",
              " 'visited': <gensim.models.keyedvectors.Vocab at 0x7f4a6ed3c990>,\n",
              " 'walking': <gensim.models.keyedvectors.Vocab at 0x7f4a6ed3f4d0>,\n",
              " 'warm': <gensim.models.keyedvectors.Vocab at 0x7f4a6ed3c590>,\n",
              " 'week': <gensim.models.keyedvectors.Vocab at 0x7f4a6ed3cfd0>,\n",
              " 'within': <gensim.models.keyedvectors.Vocab at 0x7f4a6ed3f450>,\n",
              " 'wonder': <gensim.models.keyedvectors.Vocab at 0x7f4a6ed3fb90>,\n",
              " 'would': <gensim.models.keyedvectors.Vocab at 0x7f4a6ed3f0d0>}"
            ]
          },
          "metadata": {},
          "execution_count": 41
        }
      ]
    },
    {
      "cell_type": "code",
      "source": [
        "vectors=model.wv['process']\n",
        "vectors "
      ],
      "metadata": {
        "colab": {
          "base_uri": "https://localhost:8080/"
        },
        "id": "mlCVZjIGi9f9",
        "outputId": "c0dc5ac7-5217-486a-9c4d-478c784fe3f1"
      },
      "execution_count": 42,
      "outputs": [
        {
          "output_type": "execute_result",
          "data": {
            "text/plain": [
              "array([-3.4719435e-04,  4.0877494e-03,  1.4868272e-03,  2.5113143e-03,\n",
              "        2.6736027e-03, -1.1131045e-03, -4.8464718e-03, -1.8235156e-03,\n",
              "       -2.8246625e-03, -3.1904732e-03,  3.7247632e-03,  3.6970591e-03,\n",
              "       -1.3203702e-03,  4.7605885e-03, -4.8735882e-03, -3.1265761e-03,\n",
              "       -5.1880768e-04, -4.3341164e-03, -4.2384365e-03,  1.8841836e-03,\n",
              "        3.9696549e-03,  2.3984141e-03, -2.8871457e-06, -3.1316672e-03,\n",
              "       -4.7495137e-03, -3.0015267e-03,  1.7727090e-03, -3.3280479e-03,\n",
              "       -4.9651507e-03,  1.4888312e-03,  1.8268555e-03,  4.5949058e-03,\n",
              "        4.7431462e-03,  2.3603092e-03, -3.7718976e-03, -1.7655512e-03,\n",
              "       -1.3430780e-03,  5.1207602e-04,  1.4157278e-03,  3.9226771e-03,\n",
              "        7.9820765e-04, -2.6618221e-03, -1.3430422e-03,  4.2520869e-03,\n",
              "        1.7324808e-05,  2.5666333e-04,  2.0154663e-03, -1.2195985e-03,\n",
              "       -3.5211518e-03,  4.1769785e-03, -9.7683561e-04, -7.1017980e-04,\n",
              "        4.6961834e-03,  2.2485666e-03,  3.8814633e-03, -3.8103156e-03,\n",
              "        4.9468377e-03,  2.8639045e-03, -8.9390174e-04,  3.4342786e-05,\n",
              "       -2.3323593e-03,  1.5215750e-03, -3.3700012e-03,  3.5180277e-03,\n",
              "       -3.5537437e-03,  6.3407735e-04, -2.1123406e-04,  1.0304064e-03,\n",
              "        1.2342964e-04, -2.7272766e-03, -4.1593150e-03, -4.0863021e-03,\n",
              "       -4.5935945e-03,  1.8035043e-03,  3.9026050e-03,  5.4198428e-04,\n",
              "       -4.1522752e-03,  1.4411131e-03, -1.2709550e-03, -2.0589188e-03,\n",
              "        1.9439370e-03, -4.5732772e-03, -1.3623312e-03,  8.5706048e-04,\n",
              "        4.4084861e-04,  8.1175420e-04,  3.4537457e-03, -4.4709654e-03,\n",
              "        5.3795844e-05,  1.3000936e-03, -2.3181058e-04,  2.9762716e-03,\n",
              "        4.6857665e-05,  1.2693730e-03, -4.0256763e-03, -3.2290833e-03,\n",
              "       -2.3890000e-04, -4.1105840e-03, -2.3709401e-03,  3.0157962e-04],\n",
              "      dtype=float32)"
            ]
          },
          "metadata": {},
          "execution_count": 42
        }
      ]
    },
    {
      "cell_type": "code",
      "source": [
        "model.wv.most_similar('trees',topn=20)"
      ],
      "metadata": {
        "colab": {
          "base_uri": "https://localhost:8080/"
        },
        "id": "HCdwqDH9jA4k",
        "outputId": "2d7ed030-308e-4ba0-8910-ab8af0872ba7"
      },
      "execution_count": 43,
      "outputs": [
        {
          "output_type": "execute_result",
          "data": {
            "text/plain": [
              "[('back', 0.19399496912956238),\n",
              " ('course', 0.19057050347328186),\n",
              " ('get', 0.18432393670082092),\n",
              " ('daughter', 0.17749017477035522),\n",
              " ('caesar', 0.16418108344078064),\n",
              " ('fun', 0.15342426300048828),\n",
              " ('monstrous', 0.14366507530212402),\n",
              " ('childhood', 0.13571308553218842),\n",
              " ('joy', 0.13017669320106506),\n",
              " ('filled', 0.12095049023628235),\n",
              " ('house', 0.10039283335208893),\n",
              " ('found', 0.09655990451574326),\n",
              " ('traveling', 0.09577425569295883),\n",
              " ('door', 0.09571336954832077),\n",
              " ('established', 0.09342917799949646),\n",
              " ('many', 0.08505252748727798),\n",
              " ('sequoia', 0.07828397303819656),\n",
              " ('forest', 0.07809112221002579),\n",
              " ('faces', 0.07153093814849854),\n",
              " ('tahoe', 0.06885331869125366)]"
            ]
          },
          "metadata": {},
          "execution_count": 43
        }
      ]
    },
    {
      "cell_type": "code",
      "source": [
        "import gensim.downloader\n",
        "\n",
        "\n",
        "print(list(gensim.downloader.info()['models'].keys()))\n"
      ],
      "metadata": {
        "colab": {
          "base_uri": "https://localhost:8080/"
        },
        "id": "ifJHZVQKjC2K",
        "outputId": "d58c073b-177d-4641-e782-6ba75193e9d9"
      },
      "execution_count": 44,
      "outputs": [
        {
          "output_type": "stream",
          "name": "stdout",
          "text": [
            "['fasttext-wiki-news-subwords-300', 'conceptnet-numberbatch-17-06-300', 'word2vec-ruscorpora-300', 'word2vec-google-news-300', 'glove-wiki-gigaword-50', 'glove-wiki-gigaword-100', 'glove-wiki-gigaword-200', 'glove-wiki-gigaword-300', 'glove-twitter-25', 'glove-twitter-50', 'glove-twitter-100', 'glove-twitter-200', '__testing_word2vec-matrix-synopsis']\n"
          ]
        }
      ]
    },
    {
      "cell_type": "code",
      "source": [
        "twitter=gensim.downloader.load('glove-twitter-25')"
      ],
      "metadata": {
        "colab": {
          "base_uri": "https://localhost:8080/"
        },
        "id": "xcpn2oFYjG-C",
        "outputId": "e0126113-5e05-49d8-8b0f-656cf0de168f"
      },
      "execution_count": 45,
      "outputs": [
        {
          "output_type": "stream",
          "name": "stdout",
          "text": [
            "[==================================================] 100.0% 104.8/104.8MB downloaded\n"
          ]
        }
      ]
    },
    {
      "cell_type": "code",
      "source": [
        "twitter.wv.most_similar('twitter')"
      ],
      "metadata": {
        "colab": {
          "base_uri": "https://localhost:8080/"
        },
        "id": "mtwXBks0jH5B",
        "outputId": "d2f82a9c-1cc8-44d5-f733-62f56381d3ce"
      },
      "execution_count": 46,
      "outputs": [
        {
          "output_type": "stream",
          "name": "stderr",
          "text": [
            "/usr/local/lib/python3.7/dist-packages/ipykernel_launcher.py:1: DeprecationWarning: Call to deprecated `wv` (Attribute will be removed in 4.0.0, use self instead).\n",
            "  \"\"\"Entry point for launching an IPython kernel.\n"
          ]
        },
        {
          "output_type": "execute_result",
          "data": {
            "text/plain": [
              "[('facebook', 0.9480051398277283),\n",
              " ('tweet', 0.9403422474861145),\n",
              " ('fb', 0.9342358708381653),\n",
              " ('instagram', 0.9104823470115662),\n",
              " ('chat', 0.8964964747428894),\n",
              " ('hashtag', 0.8885936141014099),\n",
              " ('tweets', 0.8878157734870911),\n",
              " ('tl', 0.8778461813926697),\n",
              " ('link', 0.877821147441864),\n",
              " ('internet', 0.8753897547721863)]"
            ]
          },
          "metadata": {},
          "execution_count": 46
        }
      ]
    },
    {
      "cell_type": "code",
      "source": [
        ""
      ],
      "metadata": {
        "id": "1454nZy4jlsk"
      },
      "execution_count": null,
      "outputs": []
    }
  ]
}