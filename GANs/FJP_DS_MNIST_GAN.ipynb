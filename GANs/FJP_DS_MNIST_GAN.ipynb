{
  "nbformat": 4,
  "nbformat_minor": 0,
  "metadata": {
    "colab": {
      "name": "FJP_DS_MNIST_GAN.ipynb",
      "provenance": [],
      "collapsed_sections": [],
      "authorship_tag": "ABX9TyMluIJ08+VIzrQd7qK0KIaF",
      "include_colab_link": true
    },
    "kernelspec": {
      "name": "python3",
      "display_name": "Python 3"
    },
    "language_info": {
      "name": "python"
    },
    "accelerator": "GPU",
    "gpuClass": "standard",
    "widgets": {
      "application/vnd.jupyter.widget-state+json": {
        "8a21bc14153c441e9f62b7f4172c3f8c": {
          "model_module": "@jupyter-widgets/controls",
          "model_name": "HBoxModel",
          "model_module_version": "1.5.0",
          "state": {
            "_dom_classes": [],
            "_model_module": "@jupyter-widgets/controls",
            "_model_module_version": "1.5.0",
            "_model_name": "HBoxModel",
            "_view_count": null,
            "_view_module": "@jupyter-widgets/controls",
            "_view_module_version": "1.5.0",
            "_view_name": "HBoxView",
            "box_style": "",
            "children": [
              "IPY_MODEL_161e28c1723446818108c064b3f7bcfc",
              "IPY_MODEL_54251117ee14423d84f2dfd561ff606c",
              "IPY_MODEL_78003ecc1e5b42ecb4f61cd2de7bee23"
            ],
            "layout": "IPY_MODEL_19c8a8028de04ef69ec61e5eed7dba91"
          }
        },
        "161e28c1723446818108c064b3f7bcfc": {
          "model_module": "@jupyter-widgets/controls",
          "model_name": "HTMLModel",
          "model_module_version": "1.5.0",
          "state": {
            "_dom_classes": [],
            "_model_module": "@jupyter-widgets/controls",
            "_model_module_version": "1.5.0",
            "_model_name": "HTMLModel",
            "_view_count": null,
            "_view_module": "@jupyter-widgets/controls",
            "_view_module_version": "1.5.0",
            "_view_name": "HTMLView",
            "description": "",
            "description_tooltip": null,
            "layout": "IPY_MODEL_739dd3ed640f4da4abdcc6cdaa8dce20",
            "placeholder": "​",
            "style": "IPY_MODEL_a9a9aef81b1841549cdb161e67aa2cfb",
            "value": ""
          }
        },
        "54251117ee14423d84f2dfd561ff606c": {
          "model_module": "@jupyter-widgets/controls",
          "model_name": "FloatProgressModel",
          "model_module_version": "1.5.0",
          "state": {
            "_dom_classes": [],
            "_model_module": "@jupyter-widgets/controls",
            "_model_module_version": "1.5.0",
            "_model_name": "FloatProgressModel",
            "_view_count": null,
            "_view_module": "@jupyter-widgets/controls",
            "_view_module_version": "1.5.0",
            "_view_name": "ProgressView",
            "bar_style": "success",
            "description": "",
            "description_tooltip": null,
            "layout": "IPY_MODEL_0f2a956840c043bdba0f1b526aaf101d",
            "max": 9912422,
            "min": 0,
            "orientation": "horizontal",
            "style": "IPY_MODEL_be7b9ae88928464eb1728c46247e77b1",
            "value": 9912422
          }
        },
        "78003ecc1e5b42ecb4f61cd2de7bee23": {
          "model_module": "@jupyter-widgets/controls",
          "model_name": "HTMLModel",
          "model_module_version": "1.5.0",
          "state": {
            "_dom_classes": [],
            "_model_module": "@jupyter-widgets/controls",
            "_model_module_version": "1.5.0",
            "_model_name": "HTMLModel",
            "_view_count": null,
            "_view_module": "@jupyter-widgets/controls",
            "_view_module_version": "1.5.0",
            "_view_name": "HTMLView",
            "description": "",
            "description_tooltip": null,
            "layout": "IPY_MODEL_91ad454948fd48e296763c1db22107cf",
            "placeholder": "​",
            "style": "IPY_MODEL_98ea2375f901465a8a4c6a283bc9c313",
            "value": " 9913344/? [00:00&lt;00:00, 26392516.37it/s]"
          }
        },
        "19c8a8028de04ef69ec61e5eed7dba91": {
          "model_module": "@jupyter-widgets/base",
          "model_name": "LayoutModel",
          "model_module_version": "1.2.0",
          "state": {
            "_model_module": "@jupyter-widgets/base",
            "_model_module_version": "1.2.0",
            "_model_name": "LayoutModel",
            "_view_count": null,
            "_view_module": "@jupyter-widgets/base",
            "_view_module_version": "1.2.0",
            "_view_name": "LayoutView",
            "align_content": null,
            "align_items": null,
            "align_self": null,
            "border": null,
            "bottom": null,
            "display": null,
            "flex": null,
            "flex_flow": null,
            "grid_area": null,
            "grid_auto_columns": null,
            "grid_auto_flow": null,
            "grid_auto_rows": null,
            "grid_column": null,
            "grid_gap": null,
            "grid_row": null,
            "grid_template_areas": null,
            "grid_template_columns": null,
            "grid_template_rows": null,
            "height": null,
            "justify_content": null,
            "justify_items": null,
            "left": null,
            "margin": null,
            "max_height": null,
            "max_width": null,
            "min_height": null,
            "min_width": null,
            "object_fit": null,
            "object_position": null,
            "order": null,
            "overflow": null,
            "overflow_x": null,
            "overflow_y": null,
            "padding": null,
            "right": null,
            "top": null,
            "visibility": null,
            "width": null
          }
        },
        "739dd3ed640f4da4abdcc6cdaa8dce20": {
          "model_module": "@jupyter-widgets/base",
          "model_name": "LayoutModel",
          "model_module_version": "1.2.0",
          "state": {
            "_model_module": "@jupyter-widgets/base",
            "_model_module_version": "1.2.0",
            "_model_name": "LayoutModel",
            "_view_count": null,
            "_view_module": "@jupyter-widgets/base",
            "_view_module_version": "1.2.0",
            "_view_name": "LayoutView",
            "align_content": null,
            "align_items": null,
            "align_self": null,
            "border": null,
            "bottom": null,
            "display": null,
            "flex": null,
            "flex_flow": null,
            "grid_area": null,
            "grid_auto_columns": null,
            "grid_auto_flow": null,
            "grid_auto_rows": null,
            "grid_column": null,
            "grid_gap": null,
            "grid_row": null,
            "grid_template_areas": null,
            "grid_template_columns": null,
            "grid_template_rows": null,
            "height": null,
            "justify_content": null,
            "justify_items": null,
            "left": null,
            "margin": null,
            "max_height": null,
            "max_width": null,
            "min_height": null,
            "min_width": null,
            "object_fit": null,
            "object_position": null,
            "order": null,
            "overflow": null,
            "overflow_x": null,
            "overflow_y": null,
            "padding": null,
            "right": null,
            "top": null,
            "visibility": null,
            "width": null
          }
        },
        "a9a9aef81b1841549cdb161e67aa2cfb": {
          "model_module": "@jupyter-widgets/controls",
          "model_name": "DescriptionStyleModel",
          "model_module_version": "1.5.0",
          "state": {
            "_model_module": "@jupyter-widgets/controls",
            "_model_module_version": "1.5.0",
            "_model_name": "DescriptionStyleModel",
            "_view_count": null,
            "_view_module": "@jupyter-widgets/base",
            "_view_module_version": "1.2.0",
            "_view_name": "StyleView",
            "description_width": ""
          }
        },
        "0f2a956840c043bdba0f1b526aaf101d": {
          "model_module": "@jupyter-widgets/base",
          "model_name": "LayoutModel",
          "model_module_version": "1.2.0",
          "state": {
            "_model_module": "@jupyter-widgets/base",
            "_model_module_version": "1.2.0",
            "_model_name": "LayoutModel",
            "_view_count": null,
            "_view_module": "@jupyter-widgets/base",
            "_view_module_version": "1.2.0",
            "_view_name": "LayoutView",
            "align_content": null,
            "align_items": null,
            "align_self": null,
            "border": null,
            "bottom": null,
            "display": null,
            "flex": null,
            "flex_flow": null,
            "grid_area": null,
            "grid_auto_columns": null,
            "grid_auto_flow": null,
            "grid_auto_rows": null,
            "grid_column": null,
            "grid_gap": null,
            "grid_row": null,
            "grid_template_areas": null,
            "grid_template_columns": null,
            "grid_template_rows": null,
            "height": null,
            "justify_content": null,
            "justify_items": null,
            "left": null,
            "margin": null,
            "max_height": null,
            "max_width": null,
            "min_height": null,
            "min_width": null,
            "object_fit": null,
            "object_position": null,
            "order": null,
            "overflow": null,
            "overflow_x": null,
            "overflow_y": null,
            "padding": null,
            "right": null,
            "top": null,
            "visibility": null,
            "width": null
          }
        },
        "be7b9ae88928464eb1728c46247e77b1": {
          "model_module": "@jupyter-widgets/controls",
          "model_name": "ProgressStyleModel",
          "model_module_version": "1.5.0",
          "state": {
            "_model_module": "@jupyter-widgets/controls",
            "_model_module_version": "1.5.0",
            "_model_name": "ProgressStyleModel",
            "_view_count": null,
            "_view_module": "@jupyter-widgets/base",
            "_view_module_version": "1.2.0",
            "_view_name": "StyleView",
            "bar_color": null,
            "description_width": ""
          }
        },
        "91ad454948fd48e296763c1db22107cf": {
          "model_module": "@jupyter-widgets/base",
          "model_name": "LayoutModel",
          "model_module_version": "1.2.0",
          "state": {
            "_model_module": "@jupyter-widgets/base",
            "_model_module_version": "1.2.0",
            "_model_name": "LayoutModel",
            "_view_count": null,
            "_view_module": "@jupyter-widgets/base",
            "_view_module_version": "1.2.0",
            "_view_name": "LayoutView",
            "align_content": null,
            "align_items": null,
            "align_self": null,
            "border": null,
            "bottom": null,
            "display": null,
            "flex": null,
            "flex_flow": null,
            "grid_area": null,
            "grid_auto_columns": null,
            "grid_auto_flow": null,
            "grid_auto_rows": null,
            "grid_column": null,
            "grid_gap": null,
            "grid_row": null,
            "grid_template_areas": null,
            "grid_template_columns": null,
            "grid_template_rows": null,
            "height": null,
            "justify_content": null,
            "justify_items": null,
            "left": null,
            "margin": null,
            "max_height": null,
            "max_width": null,
            "min_height": null,
            "min_width": null,
            "object_fit": null,
            "object_position": null,
            "order": null,
            "overflow": null,
            "overflow_x": null,
            "overflow_y": null,
            "padding": null,
            "right": null,
            "top": null,
            "visibility": null,
            "width": null
          }
        },
        "98ea2375f901465a8a4c6a283bc9c313": {
          "model_module": "@jupyter-widgets/controls",
          "model_name": "DescriptionStyleModel",
          "model_module_version": "1.5.0",
          "state": {
            "_model_module": "@jupyter-widgets/controls",
            "_model_module_version": "1.5.0",
            "_model_name": "DescriptionStyleModel",
            "_view_count": null,
            "_view_module": "@jupyter-widgets/base",
            "_view_module_version": "1.2.0",
            "_view_name": "StyleView",
            "description_width": ""
          }
        },
        "e1ae706b98d44404ad9039f4f31b01d0": {
          "model_module": "@jupyter-widgets/controls",
          "model_name": "HBoxModel",
          "model_module_version": "1.5.0",
          "state": {
            "_dom_classes": [],
            "_model_module": "@jupyter-widgets/controls",
            "_model_module_version": "1.5.0",
            "_model_name": "HBoxModel",
            "_view_count": null,
            "_view_module": "@jupyter-widgets/controls",
            "_view_module_version": "1.5.0",
            "_view_name": "HBoxView",
            "box_style": "",
            "children": [
              "IPY_MODEL_67b80b636ef4400791d89b252467147e",
              "IPY_MODEL_64333a2b9ba34613a58b13dd4a998e0c",
              "IPY_MODEL_4879ecebad3e4173baf24a27aeb7c749"
            ],
            "layout": "IPY_MODEL_2ae5dc07647c4c73a8afcc406bd8dbfd"
          }
        },
        "67b80b636ef4400791d89b252467147e": {
          "model_module": "@jupyter-widgets/controls",
          "model_name": "HTMLModel",
          "model_module_version": "1.5.0",
          "state": {
            "_dom_classes": [],
            "_model_module": "@jupyter-widgets/controls",
            "_model_module_version": "1.5.0",
            "_model_name": "HTMLModel",
            "_view_count": null,
            "_view_module": "@jupyter-widgets/controls",
            "_view_module_version": "1.5.0",
            "_view_name": "HTMLView",
            "description": "",
            "description_tooltip": null,
            "layout": "IPY_MODEL_e2a6a30477e54719a28ec01dadb47cb3",
            "placeholder": "​",
            "style": "IPY_MODEL_ecc3f1c677a14270b0cc2e420fabb37e",
            "value": ""
          }
        },
        "64333a2b9ba34613a58b13dd4a998e0c": {
          "model_module": "@jupyter-widgets/controls",
          "model_name": "FloatProgressModel",
          "model_module_version": "1.5.0",
          "state": {
            "_dom_classes": [],
            "_model_module": "@jupyter-widgets/controls",
            "_model_module_version": "1.5.0",
            "_model_name": "FloatProgressModel",
            "_view_count": null,
            "_view_module": "@jupyter-widgets/controls",
            "_view_module_version": "1.5.0",
            "_view_name": "ProgressView",
            "bar_style": "success",
            "description": "",
            "description_tooltip": null,
            "layout": "IPY_MODEL_885015fc90f44afdbd92965a3ee3328c",
            "max": 28881,
            "min": 0,
            "orientation": "horizontal",
            "style": "IPY_MODEL_d93a25f4e42947a295976fd1f308fa52",
            "value": 28881
          }
        },
        "4879ecebad3e4173baf24a27aeb7c749": {
          "model_module": "@jupyter-widgets/controls",
          "model_name": "HTMLModel",
          "model_module_version": "1.5.0",
          "state": {
            "_dom_classes": [],
            "_model_module": "@jupyter-widgets/controls",
            "_model_module_version": "1.5.0",
            "_model_name": "HTMLModel",
            "_view_count": null,
            "_view_module": "@jupyter-widgets/controls",
            "_view_module_version": "1.5.0",
            "_view_name": "HTMLView",
            "description": "",
            "description_tooltip": null,
            "layout": "IPY_MODEL_a7bac01dc5b24cbca56bcbe0609c5105",
            "placeholder": "​",
            "style": "IPY_MODEL_171958cf5ee549f29a569ac2df519f49",
            "value": " 29696/? [00:00&lt;00:00, 751538.94it/s]"
          }
        },
        "2ae5dc07647c4c73a8afcc406bd8dbfd": {
          "model_module": "@jupyter-widgets/base",
          "model_name": "LayoutModel",
          "model_module_version": "1.2.0",
          "state": {
            "_model_module": "@jupyter-widgets/base",
            "_model_module_version": "1.2.0",
            "_model_name": "LayoutModel",
            "_view_count": null,
            "_view_module": "@jupyter-widgets/base",
            "_view_module_version": "1.2.0",
            "_view_name": "LayoutView",
            "align_content": null,
            "align_items": null,
            "align_self": null,
            "border": null,
            "bottom": null,
            "display": null,
            "flex": null,
            "flex_flow": null,
            "grid_area": null,
            "grid_auto_columns": null,
            "grid_auto_flow": null,
            "grid_auto_rows": null,
            "grid_column": null,
            "grid_gap": null,
            "grid_row": null,
            "grid_template_areas": null,
            "grid_template_columns": null,
            "grid_template_rows": null,
            "height": null,
            "justify_content": null,
            "justify_items": null,
            "left": null,
            "margin": null,
            "max_height": null,
            "max_width": null,
            "min_height": null,
            "min_width": null,
            "object_fit": null,
            "object_position": null,
            "order": null,
            "overflow": null,
            "overflow_x": null,
            "overflow_y": null,
            "padding": null,
            "right": null,
            "top": null,
            "visibility": null,
            "width": null
          }
        },
        "e2a6a30477e54719a28ec01dadb47cb3": {
          "model_module": "@jupyter-widgets/base",
          "model_name": "LayoutModel",
          "model_module_version": "1.2.0",
          "state": {
            "_model_module": "@jupyter-widgets/base",
            "_model_module_version": "1.2.0",
            "_model_name": "LayoutModel",
            "_view_count": null,
            "_view_module": "@jupyter-widgets/base",
            "_view_module_version": "1.2.0",
            "_view_name": "LayoutView",
            "align_content": null,
            "align_items": null,
            "align_self": null,
            "border": null,
            "bottom": null,
            "display": null,
            "flex": null,
            "flex_flow": null,
            "grid_area": null,
            "grid_auto_columns": null,
            "grid_auto_flow": null,
            "grid_auto_rows": null,
            "grid_column": null,
            "grid_gap": null,
            "grid_row": null,
            "grid_template_areas": null,
            "grid_template_columns": null,
            "grid_template_rows": null,
            "height": null,
            "justify_content": null,
            "justify_items": null,
            "left": null,
            "margin": null,
            "max_height": null,
            "max_width": null,
            "min_height": null,
            "min_width": null,
            "object_fit": null,
            "object_position": null,
            "order": null,
            "overflow": null,
            "overflow_x": null,
            "overflow_y": null,
            "padding": null,
            "right": null,
            "top": null,
            "visibility": null,
            "width": null
          }
        },
        "ecc3f1c677a14270b0cc2e420fabb37e": {
          "model_module": "@jupyter-widgets/controls",
          "model_name": "DescriptionStyleModel",
          "model_module_version": "1.5.0",
          "state": {
            "_model_module": "@jupyter-widgets/controls",
            "_model_module_version": "1.5.0",
            "_model_name": "DescriptionStyleModel",
            "_view_count": null,
            "_view_module": "@jupyter-widgets/base",
            "_view_module_version": "1.2.0",
            "_view_name": "StyleView",
            "description_width": ""
          }
        },
        "885015fc90f44afdbd92965a3ee3328c": {
          "model_module": "@jupyter-widgets/base",
          "model_name": "LayoutModel",
          "model_module_version": "1.2.0",
          "state": {
            "_model_module": "@jupyter-widgets/base",
            "_model_module_version": "1.2.0",
            "_model_name": "LayoutModel",
            "_view_count": null,
            "_view_module": "@jupyter-widgets/base",
            "_view_module_version": "1.2.0",
            "_view_name": "LayoutView",
            "align_content": null,
            "align_items": null,
            "align_self": null,
            "border": null,
            "bottom": null,
            "display": null,
            "flex": null,
            "flex_flow": null,
            "grid_area": null,
            "grid_auto_columns": null,
            "grid_auto_flow": null,
            "grid_auto_rows": null,
            "grid_column": null,
            "grid_gap": null,
            "grid_row": null,
            "grid_template_areas": null,
            "grid_template_columns": null,
            "grid_template_rows": null,
            "height": null,
            "justify_content": null,
            "justify_items": null,
            "left": null,
            "margin": null,
            "max_height": null,
            "max_width": null,
            "min_height": null,
            "min_width": null,
            "object_fit": null,
            "object_position": null,
            "order": null,
            "overflow": null,
            "overflow_x": null,
            "overflow_y": null,
            "padding": null,
            "right": null,
            "top": null,
            "visibility": null,
            "width": null
          }
        },
        "d93a25f4e42947a295976fd1f308fa52": {
          "model_module": "@jupyter-widgets/controls",
          "model_name": "ProgressStyleModel",
          "model_module_version": "1.5.0",
          "state": {
            "_model_module": "@jupyter-widgets/controls",
            "_model_module_version": "1.5.0",
            "_model_name": "ProgressStyleModel",
            "_view_count": null,
            "_view_module": "@jupyter-widgets/base",
            "_view_module_version": "1.2.0",
            "_view_name": "StyleView",
            "bar_color": null,
            "description_width": ""
          }
        },
        "a7bac01dc5b24cbca56bcbe0609c5105": {
          "model_module": "@jupyter-widgets/base",
          "model_name": "LayoutModel",
          "model_module_version": "1.2.0",
          "state": {
            "_model_module": "@jupyter-widgets/base",
            "_model_module_version": "1.2.0",
            "_model_name": "LayoutModel",
            "_view_count": null,
            "_view_module": "@jupyter-widgets/base",
            "_view_module_version": "1.2.0",
            "_view_name": "LayoutView",
            "align_content": null,
            "align_items": null,
            "align_self": null,
            "border": null,
            "bottom": null,
            "display": null,
            "flex": null,
            "flex_flow": null,
            "grid_area": null,
            "grid_auto_columns": null,
            "grid_auto_flow": null,
            "grid_auto_rows": null,
            "grid_column": null,
            "grid_gap": null,
            "grid_row": null,
            "grid_template_areas": null,
            "grid_template_columns": null,
            "grid_template_rows": null,
            "height": null,
            "justify_content": null,
            "justify_items": null,
            "left": null,
            "margin": null,
            "max_height": null,
            "max_width": null,
            "min_height": null,
            "min_width": null,
            "object_fit": null,
            "object_position": null,
            "order": null,
            "overflow": null,
            "overflow_x": null,
            "overflow_y": null,
            "padding": null,
            "right": null,
            "top": null,
            "visibility": null,
            "width": null
          }
        },
        "171958cf5ee549f29a569ac2df519f49": {
          "model_module": "@jupyter-widgets/controls",
          "model_name": "DescriptionStyleModel",
          "model_module_version": "1.5.0",
          "state": {
            "_model_module": "@jupyter-widgets/controls",
            "_model_module_version": "1.5.0",
            "_model_name": "DescriptionStyleModel",
            "_view_count": null,
            "_view_module": "@jupyter-widgets/base",
            "_view_module_version": "1.2.0",
            "_view_name": "StyleView",
            "description_width": ""
          }
        },
        "7a43353340004e318424e4c8104adf41": {
          "model_module": "@jupyter-widgets/controls",
          "model_name": "HBoxModel",
          "model_module_version": "1.5.0",
          "state": {
            "_dom_classes": [],
            "_model_module": "@jupyter-widgets/controls",
            "_model_module_version": "1.5.0",
            "_model_name": "HBoxModel",
            "_view_count": null,
            "_view_module": "@jupyter-widgets/controls",
            "_view_module_version": "1.5.0",
            "_view_name": "HBoxView",
            "box_style": "",
            "children": [
              "IPY_MODEL_f7fed71add4749dc932684431b5d9c88",
              "IPY_MODEL_8cddeb86372c44d6bbd6bf9bfbeade96",
              "IPY_MODEL_401550eb996646d68ba74e37e56a9c1a"
            ],
            "layout": "IPY_MODEL_16f1fae4ca4f4c29be80975eb35b17ad"
          }
        },
        "f7fed71add4749dc932684431b5d9c88": {
          "model_module": "@jupyter-widgets/controls",
          "model_name": "HTMLModel",
          "model_module_version": "1.5.0",
          "state": {
            "_dom_classes": [],
            "_model_module": "@jupyter-widgets/controls",
            "_model_module_version": "1.5.0",
            "_model_name": "HTMLModel",
            "_view_count": null,
            "_view_module": "@jupyter-widgets/controls",
            "_view_module_version": "1.5.0",
            "_view_name": "HTMLView",
            "description": "",
            "description_tooltip": null,
            "layout": "IPY_MODEL_a15b28fe85d84e27b46ece518485d1e2",
            "placeholder": "​",
            "style": "IPY_MODEL_7ee26fad341245c391fdb44a8460fa30",
            "value": ""
          }
        },
        "8cddeb86372c44d6bbd6bf9bfbeade96": {
          "model_module": "@jupyter-widgets/controls",
          "model_name": "FloatProgressModel",
          "model_module_version": "1.5.0",
          "state": {
            "_dom_classes": [],
            "_model_module": "@jupyter-widgets/controls",
            "_model_module_version": "1.5.0",
            "_model_name": "FloatProgressModel",
            "_view_count": null,
            "_view_module": "@jupyter-widgets/controls",
            "_view_module_version": "1.5.0",
            "_view_name": "ProgressView",
            "bar_style": "success",
            "description": "",
            "description_tooltip": null,
            "layout": "IPY_MODEL_39bbdcfee7614e1ea83939b44c4cc9ca",
            "max": 1648877,
            "min": 0,
            "orientation": "horizontal",
            "style": "IPY_MODEL_f8970d824e184cefae8b65036857b4d8",
            "value": 1648877
          }
        },
        "401550eb996646d68ba74e37e56a9c1a": {
          "model_module": "@jupyter-widgets/controls",
          "model_name": "HTMLModel",
          "model_module_version": "1.5.0",
          "state": {
            "_dom_classes": [],
            "_model_module": "@jupyter-widgets/controls",
            "_model_module_version": "1.5.0",
            "_model_name": "HTMLModel",
            "_view_count": null,
            "_view_module": "@jupyter-widgets/controls",
            "_view_module_version": "1.5.0",
            "_view_name": "HTMLView",
            "description": "",
            "description_tooltip": null,
            "layout": "IPY_MODEL_b584100382794176a5ee29dbd037b38b",
            "placeholder": "​",
            "style": "IPY_MODEL_9780154d35db41e1b3b1e463484e9e24",
            "value": " 1649664/? [00:00&lt;00:00, 5085497.73it/s]"
          }
        },
        "16f1fae4ca4f4c29be80975eb35b17ad": {
          "model_module": "@jupyter-widgets/base",
          "model_name": "LayoutModel",
          "model_module_version": "1.2.0",
          "state": {
            "_model_module": "@jupyter-widgets/base",
            "_model_module_version": "1.2.0",
            "_model_name": "LayoutModel",
            "_view_count": null,
            "_view_module": "@jupyter-widgets/base",
            "_view_module_version": "1.2.0",
            "_view_name": "LayoutView",
            "align_content": null,
            "align_items": null,
            "align_self": null,
            "border": null,
            "bottom": null,
            "display": null,
            "flex": null,
            "flex_flow": null,
            "grid_area": null,
            "grid_auto_columns": null,
            "grid_auto_flow": null,
            "grid_auto_rows": null,
            "grid_column": null,
            "grid_gap": null,
            "grid_row": null,
            "grid_template_areas": null,
            "grid_template_columns": null,
            "grid_template_rows": null,
            "height": null,
            "justify_content": null,
            "justify_items": null,
            "left": null,
            "margin": null,
            "max_height": null,
            "max_width": null,
            "min_height": null,
            "min_width": null,
            "object_fit": null,
            "object_position": null,
            "order": null,
            "overflow": null,
            "overflow_x": null,
            "overflow_y": null,
            "padding": null,
            "right": null,
            "top": null,
            "visibility": null,
            "width": null
          }
        },
        "a15b28fe85d84e27b46ece518485d1e2": {
          "model_module": "@jupyter-widgets/base",
          "model_name": "LayoutModel",
          "model_module_version": "1.2.0",
          "state": {
            "_model_module": "@jupyter-widgets/base",
            "_model_module_version": "1.2.0",
            "_model_name": "LayoutModel",
            "_view_count": null,
            "_view_module": "@jupyter-widgets/base",
            "_view_module_version": "1.2.0",
            "_view_name": "LayoutView",
            "align_content": null,
            "align_items": null,
            "align_self": null,
            "border": null,
            "bottom": null,
            "display": null,
            "flex": null,
            "flex_flow": null,
            "grid_area": null,
            "grid_auto_columns": null,
            "grid_auto_flow": null,
            "grid_auto_rows": null,
            "grid_column": null,
            "grid_gap": null,
            "grid_row": null,
            "grid_template_areas": null,
            "grid_template_columns": null,
            "grid_template_rows": null,
            "height": null,
            "justify_content": null,
            "justify_items": null,
            "left": null,
            "margin": null,
            "max_height": null,
            "max_width": null,
            "min_height": null,
            "min_width": null,
            "object_fit": null,
            "object_position": null,
            "order": null,
            "overflow": null,
            "overflow_x": null,
            "overflow_y": null,
            "padding": null,
            "right": null,
            "top": null,
            "visibility": null,
            "width": null
          }
        },
        "7ee26fad341245c391fdb44a8460fa30": {
          "model_module": "@jupyter-widgets/controls",
          "model_name": "DescriptionStyleModel",
          "model_module_version": "1.5.0",
          "state": {
            "_model_module": "@jupyter-widgets/controls",
            "_model_module_version": "1.5.0",
            "_model_name": "DescriptionStyleModel",
            "_view_count": null,
            "_view_module": "@jupyter-widgets/base",
            "_view_module_version": "1.2.0",
            "_view_name": "StyleView",
            "description_width": ""
          }
        },
        "39bbdcfee7614e1ea83939b44c4cc9ca": {
          "model_module": "@jupyter-widgets/base",
          "model_name": "LayoutModel",
          "model_module_version": "1.2.0",
          "state": {
            "_model_module": "@jupyter-widgets/base",
            "_model_module_version": "1.2.0",
            "_model_name": "LayoutModel",
            "_view_count": null,
            "_view_module": "@jupyter-widgets/base",
            "_view_module_version": "1.2.0",
            "_view_name": "LayoutView",
            "align_content": null,
            "align_items": null,
            "align_self": null,
            "border": null,
            "bottom": null,
            "display": null,
            "flex": null,
            "flex_flow": null,
            "grid_area": null,
            "grid_auto_columns": null,
            "grid_auto_flow": null,
            "grid_auto_rows": null,
            "grid_column": null,
            "grid_gap": null,
            "grid_row": null,
            "grid_template_areas": null,
            "grid_template_columns": null,
            "grid_template_rows": null,
            "height": null,
            "justify_content": null,
            "justify_items": null,
            "left": null,
            "margin": null,
            "max_height": null,
            "max_width": null,
            "min_height": null,
            "min_width": null,
            "object_fit": null,
            "object_position": null,
            "order": null,
            "overflow": null,
            "overflow_x": null,
            "overflow_y": null,
            "padding": null,
            "right": null,
            "top": null,
            "visibility": null,
            "width": null
          }
        },
        "f8970d824e184cefae8b65036857b4d8": {
          "model_module": "@jupyter-widgets/controls",
          "model_name": "ProgressStyleModel",
          "model_module_version": "1.5.0",
          "state": {
            "_model_module": "@jupyter-widgets/controls",
            "_model_module_version": "1.5.0",
            "_model_name": "ProgressStyleModel",
            "_view_count": null,
            "_view_module": "@jupyter-widgets/base",
            "_view_module_version": "1.2.0",
            "_view_name": "StyleView",
            "bar_color": null,
            "description_width": ""
          }
        },
        "b584100382794176a5ee29dbd037b38b": {
          "model_module": "@jupyter-widgets/base",
          "model_name": "LayoutModel",
          "model_module_version": "1.2.0",
          "state": {
            "_model_module": "@jupyter-widgets/base",
            "_model_module_version": "1.2.0",
            "_model_name": "LayoutModel",
            "_view_count": null,
            "_view_module": "@jupyter-widgets/base",
            "_view_module_version": "1.2.0",
            "_view_name": "LayoutView",
            "align_content": null,
            "align_items": null,
            "align_self": null,
            "border": null,
            "bottom": null,
            "display": null,
            "flex": null,
            "flex_flow": null,
            "grid_area": null,
            "grid_auto_columns": null,
            "grid_auto_flow": null,
            "grid_auto_rows": null,
            "grid_column": null,
            "grid_gap": null,
            "grid_row": null,
            "grid_template_areas": null,
            "grid_template_columns": null,
            "grid_template_rows": null,
            "height": null,
            "justify_content": null,
            "justify_items": null,
            "left": null,
            "margin": null,
            "max_height": null,
            "max_width": null,
            "min_height": null,
            "min_width": null,
            "object_fit": null,
            "object_position": null,
            "order": null,
            "overflow": null,
            "overflow_x": null,
            "overflow_y": null,
            "padding": null,
            "right": null,
            "top": null,
            "visibility": null,
            "width": null
          }
        },
        "9780154d35db41e1b3b1e463484e9e24": {
          "model_module": "@jupyter-widgets/controls",
          "model_name": "DescriptionStyleModel",
          "model_module_version": "1.5.0",
          "state": {
            "_model_module": "@jupyter-widgets/controls",
            "_model_module_version": "1.5.0",
            "_model_name": "DescriptionStyleModel",
            "_view_count": null,
            "_view_module": "@jupyter-widgets/base",
            "_view_module_version": "1.2.0",
            "_view_name": "StyleView",
            "description_width": ""
          }
        },
        "7df3c39aeb044f339c9f48b740d219a8": {
          "model_module": "@jupyter-widgets/controls",
          "model_name": "HBoxModel",
          "model_module_version": "1.5.0",
          "state": {
            "_dom_classes": [],
            "_model_module": "@jupyter-widgets/controls",
            "_model_module_version": "1.5.0",
            "_model_name": "HBoxModel",
            "_view_count": null,
            "_view_module": "@jupyter-widgets/controls",
            "_view_module_version": "1.5.0",
            "_view_name": "HBoxView",
            "box_style": "",
            "children": [
              "IPY_MODEL_099204c844a94e9dbead6da162182ea7",
              "IPY_MODEL_df5fceb1f42045a8b560ddc39585bf44",
              "IPY_MODEL_9d72a23863624123a8338f78059b2eb6"
            ],
            "layout": "IPY_MODEL_a4d585dbfdb54d9ab224a7576dc1a888"
          }
        },
        "099204c844a94e9dbead6da162182ea7": {
          "model_module": "@jupyter-widgets/controls",
          "model_name": "HTMLModel",
          "model_module_version": "1.5.0",
          "state": {
            "_dom_classes": [],
            "_model_module": "@jupyter-widgets/controls",
            "_model_module_version": "1.5.0",
            "_model_name": "HTMLModel",
            "_view_count": null,
            "_view_module": "@jupyter-widgets/controls",
            "_view_module_version": "1.5.0",
            "_view_name": "HTMLView",
            "description": "",
            "description_tooltip": null,
            "layout": "IPY_MODEL_6c518816a32e4746904c48a1ea4c41d6",
            "placeholder": "​",
            "style": "IPY_MODEL_d68e5a6472074dfeac0a1bd68f1d73a6",
            "value": ""
          }
        },
        "df5fceb1f42045a8b560ddc39585bf44": {
          "model_module": "@jupyter-widgets/controls",
          "model_name": "FloatProgressModel",
          "model_module_version": "1.5.0",
          "state": {
            "_dom_classes": [],
            "_model_module": "@jupyter-widgets/controls",
            "_model_module_version": "1.5.0",
            "_model_name": "FloatProgressModel",
            "_view_count": null,
            "_view_module": "@jupyter-widgets/controls",
            "_view_module_version": "1.5.0",
            "_view_name": "ProgressView",
            "bar_style": "success",
            "description": "",
            "description_tooltip": null,
            "layout": "IPY_MODEL_01fde5ee09e44f95b76ea064f2948b63",
            "max": 4542,
            "min": 0,
            "orientation": "horizontal",
            "style": "IPY_MODEL_ed3d77191a9645ab8e2a10b6eb3988a6",
            "value": 4542
          }
        },
        "9d72a23863624123a8338f78059b2eb6": {
          "model_module": "@jupyter-widgets/controls",
          "model_name": "HTMLModel",
          "model_module_version": "1.5.0",
          "state": {
            "_dom_classes": [],
            "_model_module": "@jupyter-widgets/controls",
            "_model_module_version": "1.5.0",
            "_model_name": "HTMLModel",
            "_view_count": null,
            "_view_module": "@jupyter-widgets/controls",
            "_view_module_version": "1.5.0",
            "_view_name": "HTMLView",
            "description": "",
            "description_tooltip": null,
            "layout": "IPY_MODEL_9ec80cb96d834f10acf842a44bc54fdf",
            "placeholder": "​",
            "style": "IPY_MODEL_b9d9f97d85294309a34fd80738f1829b",
            "value": " 5120/? [00:00&lt;00:00, 156632.87it/s]"
          }
        },
        "a4d585dbfdb54d9ab224a7576dc1a888": {
          "model_module": "@jupyter-widgets/base",
          "model_name": "LayoutModel",
          "model_module_version": "1.2.0",
          "state": {
            "_model_module": "@jupyter-widgets/base",
            "_model_module_version": "1.2.0",
            "_model_name": "LayoutModel",
            "_view_count": null,
            "_view_module": "@jupyter-widgets/base",
            "_view_module_version": "1.2.0",
            "_view_name": "LayoutView",
            "align_content": null,
            "align_items": null,
            "align_self": null,
            "border": null,
            "bottom": null,
            "display": null,
            "flex": null,
            "flex_flow": null,
            "grid_area": null,
            "grid_auto_columns": null,
            "grid_auto_flow": null,
            "grid_auto_rows": null,
            "grid_column": null,
            "grid_gap": null,
            "grid_row": null,
            "grid_template_areas": null,
            "grid_template_columns": null,
            "grid_template_rows": null,
            "height": null,
            "justify_content": null,
            "justify_items": null,
            "left": null,
            "margin": null,
            "max_height": null,
            "max_width": null,
            "min_height": null,
            "min_width": null,
            "object_fit": null,
            "object_position": null,
            "order": null,
            "overflow": null,
            "overflow_x": null,
            "overflow_y": null,
            "padding": null,
            "right": null,
            "top": null,
            "visibility": null,
            "width": null
          }
        },
        "6c518816a32e4746904c48a1ea4c41d6": {
          "model_module": "@jupyter-widgets/base",
          "model_name": "LayoutModel",
          "model_module_version": "1.2.0",
          "state": {
            "_model_module": "@jupyter-widgets/base",
            "_model_module_version": "1.2.0",
            "_model_name": "LayoutModel",
            "_view_count": null,
            "_view_module": "@jupyter-widgets/base",
            "_view_module_version": "1.2.0",
            "_view_name": "LayoutView",
            "align_content": null,
            "align_items": null,
            "align_self": null,
            "border": null,
            "bottom": null,
            "display": null,
            "flex": null,
            "flex_flow": null,
            "grid_area": null,
            "grid_auto_columns": null,
            "grid_auto_flow": null,
            "grid_auto_rows": null,
            "grid_column": null,
            "grid_gap": null,
            "grid_row": null,
            "grid_template_areas": null,
            "grid_template_columns": null,
            "grid_template_rows": null,
            "height": null,
            "justify_content": null,
            "justify_items": null,
            "left": null,
            "margin": null,
            "max_height": null,
            "max_width": null,
            "min_height": null,
            "min_width": null,
            "object_fit": null,
            "object_position": null,
            "order": null,
            "overflow": null,
            "overflow_x": null,
            "overflow_y": null,
            "padding": null,
            "right": null,
            "top": null,
            "visibility": null,
            "width": null
          }
        },
        "d68e5a6472074dfeac0a1bd68f1d73a6": {
          "model_module": "@jupyter-widgets/controls",
          "model_name": "DescriptionStyleModel",
          "model_module_version": "1.5.0",
          "state": {
            "_model_module": "@jupyter-widgets/controls",
            "_model_module_version": "1.5.0",
            "_model_name": "DescriptionStyleModel",
            "_view_count": null,
            "_view_module": "@jupyter-widgets/base",
            "_view_module_version": "1.2.0",
            "_view_name": "StyleView",
            "description_width": ""
          }
        },
        "01fde5ee09e44f95b76ea064f2948b63": {
          "model_module": "@jupyter-widgets/base",
          "model_name": "LayoutModel",
          "model_module_version": "1.2.0",
          "state": {
            "_model_module": "@jupyter-widgets/base",
            "_model_module_version": "1.2.0",
            "_model_name": "LayoutModel",
            "_view_count": null,
            "_view_module": "@jupyter-widgets/base",
            "_view_module_version": "1.2.0",
            "_view_name": "LayoutView",
            "align_content": null,
            "align_items": null,
            "align_self": null,
            "border": null,
            "bottom": null,
            "display": null,
            "flex": null,
            "flex_flow": null,
            "grid_area": null,
            "grid_auto_columns": null,
            "grid_auto_flow": null,
            "grid_auto_rows": null,
            "grid_column": null,
            "grid_gap": null,
            "grid_row": null,
            "grid_template_areas": null,
            "grid_template_columns": null,
            "grid_template_rows": null,
            "height": null,
            "justify_content": null,
            "justify_items": null,
            "left": null,
            "margin": null,
            "max_height": null,
            "max_width": null,
            "min_height": null,
            "min_width": null,
            "object_fit": null,
            "object_position": null,
            "order": null,
            "overflow": null,
            "overflow_x": null,
            "overflow_y": null,
            "padding": null,
            "right": null,
            "top": null,
            "visibility": null,
            "width": null
          }
        },
        "ed3d77191a9645ab8e2a10b6eb3988a6": {
          "model_module": "@jupyter-widgets/controls",
          "model_name": "ProgressStyleModel",
          "model_module_version": "1.5.0",
          "state": {
            "_model_module": "@jupyter-widgets/controls",
            "_model_module_version": "1.5.0",
            "_model_name": "ProgressStyleModel",
            "_view_count": null,
            "_view_module": "@jupyter-widgets/base",
            "_view_module_version": "1.2.0",
            "_view_name": "StyleView",
            "bar_color": null,
            "description_width": ""
          }
        },
        "9ec80cb96d834f10acf842a44bc54fdf": {
          "model_module": "@jupyter-widgets/base",
          "model_name": "LayoutModel",
          "model_module_version": "1.2.0",
          "state": {
            "_model_module": "@jupyter-widgets/base",
            "_model_module_version": "1.2.0",
            "_model_name": "LayoutModel",
            "_view_count": null,
            "_view_module": "@jupyter-widgets/base",
            "_view_module_version": "1.2.0",
            "_view_name": "LayoutView",
            "align_content": null,
            "align_items": null,
            "align_self": null,
            "border": null,
            "bottom": null,
            "display": null,
            "flex": null,
            "flex_flow": null,
            "grid_area": null,
            "grid_auto_columns": null,
            "grid_auto_flow": null,
            "grid_auto_rows": null,
            "grid_column": null,
            "grid_gap": null,
            "grid_row": null,
            "grid_template_areas": null,
            "grid_template_columns": null,
            "grid_template_rows": null,
            "height": null,
            "justify_content": null,
            "justify_items": null,
            "left": null,
            "margin": null,
            "max_height": null,
            "max_width": null,
            "min_height": null,
            "min_width": null,
            "object_fit": null,
            "object_position": null,
            "order": null,
            "overflow": null,
            "overflow_x": null,
            "overflow_y": null,
            "padding": null,
            "right": null,
            "top": null,
            "visibility": null,
            "width": null
          }
        },
        "b9d9f97d85294309a34fd80738f1829b": {
          "model_module": "@jupyter-widgets/controls",
          "model_name": "DescriptionStyleModel",
          "model_module_version": "1.5.0",
          "state": {
            "_model_module": "@jupyter-widgets/controls",
            "_model_module_version": "1.5.0",
            "_model_name": "DescriptionStyleModel",
            "_view_count": null,
            "_view_module": "@jupyter-widgets/base",
            "_view_module_version": "1.2.0",
            "_view_name": "StyleView",
            "description_width": ""
          }
        }
      }
    }
  },
  "cells": [
    {
      "cell_type": "markdown",
      "metadata": {
        "id": "view-in-github",
        "colab_type": "text"
      },
      "source": [
        "<a href=\"https://colab.research.google.com/github/ashutoshsinha25/pepcoding_FJP_DS/blob/main/GANs/FJP_DS_MNIST_GAN.ipynb\" target=\"_parent\"><img src=\"https://colab.research.google.com/assets/colab-badge.svg\" alt=\"Open In Colab\"/></a>"
      ]
    },
    {
      "cell_type": "code",
      "execution_count": 1,
      "metadata": {
        "colab": {
          "base_uri": "https://localhost:8080/"
        },
        "id": "HpBHZeL5T-Dr",
        "outputId": "02740425-f846-44f2-f3ad-a965c8f6db89"
      },
      "outputs": [
        {
          "output_type": "stream",
          "name": "stdout",
          "text": [
            "Thu Jul  7 20:18:36 2022       \n",
            "+-----------------------------------------------------------------------------+\n",
            "| NVIDIA-SMI 460.32.03    Driver Version: 460.32.03    CUDA Version: 11.2     |\n",
            "|-------------------------------+----------------------+----------------------+\n",
            "| GPU  Name        Persistence-M| Bus-Id        Disp.A | Volatile Uncorr. ECC |\n",
            "| Fan  Temp  Perf  Pwr:Usage/Cap|         Memory-Usage | GPU-Util  Compute M. |\n",
            "|                               |                      |               MIG M. |\n",
            "|===============================+======================+======================|\n",
            "|   0  Tesla T4            Off  | 00000000:00:04.0 Off |                    0 |\n",
            "| N/A   45C    P8    10W /  70W |      0MiB / 15109MiB |      0%      Default |\n",
            "|                               |                      |                  N/A |\n",
            "+-------------------------------+----------------------+----------------------+\n",
            "                                                                               \n",
            "+-----------------------------------------------------------------------------+\n",
            "| Processes:                                                                  |\n",
            "|  GPU   GI   CI        PID   Type   Process name                  GPU Memory |\n",
            "|        ID   ID                                                   Usage      |\n",
            "|=============================================================================|\n",
            "|  No running processes found                                                 |\n",
            "+-----------------------------------------------------------------------------+\n"
          ]
        }
      ],
      "source": [
        "!nvidia-smi"
      ]
    },
    {
      "cell_type": "code",
      "source": [
        "import torch\n",
        "import torchvision\n",
        "from torchvision.transforms import ToTensor, Normalize, Compose\n",
        "from torchvision.datasets import MNIST\n",
        "\n",
        "mnist = MNIST(root='data', \n",
        "              train=True, \n",
        "              download=True,\n",
        "              transform=Compose([ToTensor(), Normalize(mean=(0.5,), std=(0.5,))]))"
      ],
      "metadata": {
        "colab": {
          "base_uri": "https://localhost:8080/",
          "height": 440,
          "referenced_widgets": [
            "8a21bc14153c441e9f62b7f4172c3f8c",
            "161e28c1723446818108c064b3f7bcfc",
            "54251117ee14423d84f2dfd561ff606c",
            "78003ecc1e5b42ecb4f61cd2de7bee23",
            "19c8a8028de04ef69ec61e5eed7dba91",
            "739dd3ed640f4da4abdcc6cdaa8dce20",
            "a9a9aef81b1841549cdb161e67aa2cfb",
            "0f2a956840c043bdba0f1b526aaf101d",
            "be7b9ae88928464eb1728c46247e77b1",
            "91ad454948fd48e296763c1db22107cf",
            "98ea2375f901465a8a4c6a283bc9c313",
            "e1ae706b98d44404ad9039f4f31b01d0",
            "67b80b636ef4400791d89b252467147e",
            "64333a2b9ba34613a58b13dd4a998e0c",
            "4879ecebad3e4173baf24a27aeb7c749",
            "2ae5dc07647c4c73a8afcc406bd8dbfd",
            "e2a6a30477e54719a28ec01dadb47cb3",
            "ecc3f1c677a14270b0cc2e420fabb37e",
            "885015fc90f44afdbd92965a3ee3328c",
            "d93a25f4e42947a295976fd1f308fa52",
            "a7bac01dc5b24cbca56bcbe0609c5105",
            "171958cf5ee549f29a569ac2df519f49",
            "7a43353340004e318424e4c8104adf41",
            "f7fed71add4749dc932684431b5d9c88",
            "8cddeb86372c44d6bbd6bf9bfbeade96",
            "401550eb996646d68ba74e37e56a9c1a",
            "16f1fae4ca4f4c29be80975eb35b17ad",
            "a15b28fe85d84e27b46ece518485d1e2",
            "7ee26fad341245c391fdb44a8460fa30",
            "39bbdcfee7614e1ea83939b44c4cc9ca",
            "f8970d824e184cefae8b65036857b4d8",
            "b584100382794176a5ee29dbd037b38b",
            "9780154d35db41e1b3b1e463484e9e24",
            "7df3c39aeb044f339c9f48b740d219a8",
            "099204c844a94e9dbead6da162182ea7",
            "df5fceb1f42045a8b560ddc39585bf44",
            "9d72a23863624123a8338f78059b2eb6",
            "a4d585dbfdb54d9ab224a7576dc1a888",
            "6c518816a32e4746904c48a1ea4c41d6",
            "d68e5a6472074dfeac0a1bd68f1d73a6",
            "01fde5ee09e44f95b76ea064f2948b63",
            "ed3d77191a9645ab8e2a10b6eb3988a6",
            "9ec80cb96d834f10acf842a44bc54fdf",
            "b9d9f97d85294309a34fd80738f1829b"
          ]
        },
        "id": "xCJ9QDjnUHJp",
        "outputId": "bf924e09-afbf-4c2a-b4d2-841409cc0378"
      },
      "execution_count": 2,
      "outputs": [
        {
          "output_type": "stream",
          "name": "stdout",
          "text": [
            "Downloading http://yann.lecun.com/exdb/mnist/train-images-idx3-ubyte.gz\n",
            "Downloading http://yann.lecun.com/exdb/mnist/train-images-idx3-ubyte.gz to data/MNIST/raw/train-images-idx3-ubyte.gz\n"
          ]
        },
        {
          "output_type": "display_data",
          "data": {
            "text/plain": [
              "  0%|          | 0/9912422 [00:00<?, ?it/s]"
            ],
            "application/vnd.jupyter.widget-view+json": {
              "version_major": 2,
              "version_minor": 0,
              "model_id": "8a21bc14153c441e9f62b7f4172c3f8c"
            }
          },
          "metadata": {}
        },
        {
          "output_type": "stream",
          "name": "stdout",
          "text": [
            "Extracting data/MNIST/raw/train-images-idx3-ubyte.gz to data/MNIST/raw\n",
            "\n",
            "Downloading http://yann.lecun.com/exdb/mnist/train-labels-idx1-ubyte.gz\n",
            "Downloading http://yann.lecun.com/exdb/mnist/train-labels-idx1-ubyte.gz to data/MNIST/raw/train-labels-idx1-ubyte.gz\n"
          ]
        },
        {
          "output_type": "display_data",
          "data": {
            "text/plain": [
              "  0%|          | 0/28881 [00:00<?, ?it/s]"
            ],
            "application/vnd.jupyter.widget-view+json": {
              "version_major": 2,
              "version_minor": 0,
              "model_id": "e1ae706b98d44404ad9039f4f31b01d0"
            }
          },
          "metadata": {}
        },
        {
          "output_type": "stream",
          "name": "stdout",
          "text": [
            "Extracting data/MNIST/raw/train-labels-idx1-ubyte.gz to data/MNIST/raw\n",
            "\n",
            "Downloading http://yann.lecun.com/exdb/mnist/t10k-images-idx3-ubyte.gz\n",
            "Downloading http://yann.lecun.com/exdb/mnist/t10k-images-idx3-ubyte.gz to data/MNIST/raw/t10k-images-idx3-ubyte.gz\n"
          ]
        },
        {
          "output_type": "display_data",
          "data": {
            "text/plain": [
              "  0%|          | 0/1648877 [00:00<?, ?it/s]"
            ],
            "application/vnd.jupyter.widget-view+json": {
              "version_major": 2,
              "version_minor": 0,
              "model_id": "7a43353340004e318424e4c8104adf41"
            }
          },
          "metadata": {}
        },
        {
          "output_type": "stream",
          "name": "stdout",
          "text": [
            "Extracting data/MNIST/raw/t10k-images-idx3-ubyte.gz to data/MNIST/raw\n",
            "\n",
            "Downloading http://yann.lecun.com/exdb/mnist/t10k-labels-idx1-ubyte.gz\n",
            "Downloading http://yann.lecun.com/exdb/mnist/t10k-labels-idx1-ubyte.gz to data/MNIST/raw/t10k-labels-idx1-ubyte.gz\n"
          ]
        },
        {
          "output_type": "display_data",
          "data": {
            "text/plain": [
              "  0%|          | 0/4542 [00:00<?, ?it/s]"
            ],
            "application/vnd.jupyter.widget-view+json": {
              "version_major": 2,
              "version_minor": 0,
              "model_id": "7df3c39aeb044f339c9f48b740d219a8"
            }
          },
          "metadata": {}
        },
        {
          "output_type": "stream",
          "name": "stdout",
          "text": [
            "Extracting data/MNIST/raw/t10k-labels-idx1-ubyte.gz to data/MNIST/raw\n",
            "\n"
          ]
        }
      ]
    },
    {
      "cell_type": "code",
      "source": [
        "img, label = mnist[0]\n",
        "print('Label: ', label)\n",
        "print(img[:,10:15,10:15])\n",
        "torch.min(img), torch.max(img)"
      ],
      "metadata": {
        "colab": {
          "base_uri": "https://localhost:8080/"
        },
        "id": "XevUqswJUI-c",
        "outputId": "5b71e3ce-f6ba-4967-a888-4699c46c6865"
      },
      "execution_count": 3,
      "outputs": [
        {
          "output_type": "stream",
          "name": "stdout",
          "text": [
            "Label:  5\n",
            "tensor([[[-0.9922,  0.2078,  0.9843, -0.2941, -1.0000],\n",
            "         [-1.0000,  0.0902,  0.9843,  0.4902, -0.9843],\n",
            "         [-1.0000, -0.9137,  0.4902,  0.9843, -0.4510],\n",
            "         [-1.0000, -1.0000, -0.7255,  0.8902,  0.7647],\n",
            "         [-1.0000, -1.0000, -1.0000, -0.3647,  0.8824]]])\n"
          ]
        },
        {
          "output_type": "execute_result",
          "data": {
            "text/plain": [
              "(tensor(-1.), tensor(1.))"
            ]
          },
          "metadata": {},
          "execution_count": 3
        }
      ]
    },
    {
      "cell_type": "code",
      "source": [
        "def denorm(x):\n",
        "    out = (x + 1) / 2\n",
        "    return out.clamp(0, 1)"
      ],
      "metadata": {
        "id": "Qelh9RHiUKaB"
      },
      "execution_count": 4,
      "outputs": []
    },
    {
      "cell_type": "code",
      "source": [
        "import matplotlib.pyplot as plt\n",
        "%matplotlib inline\n",
        "\n",
        "img_norm = denorm(img)\n",
        "plt.imshow(img_norm[0], cmap='gray')\n",
        "print('Label:', label)"
      ],
      "metadata": {
        "colab": {
          "base_uri": "https://localhost:8080/",
          "height": 283
        },
        "id": "rTfIk4D9ULln",
        "outputId": "fc506edb-f40b-4261-8186-7c8e23510e8a"
      },
      "execution_count": 5,
      "outputs": [
        {
          "output_type": "stream",
          "name": "stdout",
          "text": [
            "Label: 5\n"
          ]
        },
        {
          "output_type": "display_data",
          "data": {
            "text/plain": [
              "<Figure size 432x288 with 1 Axes>"
            ],
            "image/png": "[encoded data removed]"
          },
          "metadata": {
            "needs_background": "light"
          }
        }
      ]
    },
    {
      "cell_type": "code",
      "source": [
        "from torch.utils.data import DataLoader\n",
        "\n",
        "batch_size = 100\n",
        "data_loader = DataLoader(mnist, batch_size, shuffle=True)"
      ],
      "metadata": {
        "id": "y7E3hZYUUM32"
      },
      "execution_count": 6,
      "outputs": []
    },
    {
      "cell_type": "code",
      "source": [
        "for img_batch, label_batch in data_loader:\n",
        "    print('first batch')\n",
        "    print(img_batch.shape)\n",
        "    plt.imshow(img_batch[0][0], cmap='gray')\n",
        "    print(label_batch)\n",
        "    break"
      ],
      "metadata": {
        "colab": {
          "base_uri": "https://localhost:8080/",
          "height": 394
        },
        "id": "u6TDvjIpUOJf",
        "outputId": "cef3161f-d63e-42e7-810d-8d2f79403bbe"
      },
      "execution_count": 7,
      "outputs": [
        {
          "output_type": "stream",
          "name": "stdout",
          "text": [
            "first batch\n",
            "torch.Size([100, 1, 28, 28])\n",
            "tensor([6, 3, 0, 4, 6, 2, 4, 9, 6, 8, 7, 7, 2, 9, 4, 9, 8, 9, 4, 7, 2, 3, 0, 1,\n",
            "        7, 8, 6, 6, 0, 9, 6, 8, 4, 6, 8, 4, 7, 1, 2, 8, 0, 6, 2, 8, 2, 1, 5, 2,\n",
            "        1, 1, 1, 4, 7, 8, 5, 2, 2, 4, 7, 2, 7, 7, 5, 0, 5, 6, 8, 1, 1, 1, 4, 9,\n",
            "        9, 0, 0, 1, 6, 3, 5, 7, 4, 5, 2, 0, 0, 4, 3, 2, 5, 6, 0, 0, 7, 7, 1, 0,\n",
            "        0, 5, 4, 3])\n"
          ]
        },
        {
          "output_type": "display_data",
          "data": {
            "text/plain": [
              "<Figure size 432x288 with 1 Axes>"
            ],
            "image/png": "[encoded data removed]"
          },
          "metadata": {
            "needs_background": "light"
          }
        }
      ]
    },
    {
      "cell_type": "code",
      "source": [
        "device = torch.device('cuda' if torch.cuda.is_available() else 'cpu')"
      ],
      "metadata": {
        "id": "wTE7fQdmUPIK"
      },
      "execution_count": 8,
      "outputs": []
    },
    {
      "cell_type": "code",
      "source": [
        "image_size = 784\n",
        "hidden_size = 256"
      ],
      "metadata": {
        "id": "8wrzCcTsUQTk"
      },
      "execution_count": 9,
      "outputs": []
    },
    {
      "cell_type": "code",
      "source": [
        "import torch.nn as nn\n",
        "\n",
        "D = nn.Sequential(\n",
        "    nn.Linear(image_size, hidden_size),\n",
        "    nn.LeakyReLU(0.2),\n",
        "    nn.Linear(hidden_size, hidden_size),\n",
        "    nn.LeakyReLU(0.2),\n",
        "    nn.Linear(hidden_size, 1),\n",
        "    nn.Sigmoid())"
      ],
      "metadata": {
        "id": "GPINC-LkURGW"
      },
      "execution_count": 10,
      "outputs": []
    },
    {
      "cell_type": "code",
      "source": [
        "D.to(device)"
      ],
      "metadata": {
        "colab": {
          "base_uri": "https://localhost:8080/"
        },
        "id": "QdeSV1tbUSVo",
        "outputId": "b8ddf43f-00fd-47d4-e34e-d1847d5eba36"
      },
      "execution_count": 11,
      "outputs": [
        {
          "output_type": "execute_result",
          "data": {
            "text/plain": [
              "Sequential(\n",
              "  (0): Linear(in_features=784, out_features=256, bias=True)\n",
              "  (1): LeakyReLU(negative_slope=0.2)\n",
              "  (2): Linear(in_features=256, out_features=256, bias=True)\n",
              "  (3): LeakyReLU(negative_slope=0.2)\n",
              "  (4): Linear(in_features=256, out_features=1, bias=True)\n",
              "  (5): Sigmoid()\n",
              ")"
            ]
          },
          "metadata": {},
          "execution_count": 11
        }
      ]
    },
    {
      "cell_type": "code",
      "source": [
        "latent_size = 64"
      ],
      "metadata": {
        "id": "mYuqeYApUTaM"
      },
      "execution_count": 12,
      "outputs": []
    },
    {
      "cell_type": "code",
      "source": [
        "G = nn.Sequential(\n",
        "    nn.Linear(latent_size, hidden_size),\n",
        "    nn.ReLU(),\n",
        "    nn.Linear(hidden_size, hidden_size),\n",
        "    nn.ReLU(),\n",
        "    nn.Linear(hidden_size, image_size),\n",
        "    nn.Tanh())"
      ],
      "metadata": {
        "id": "GBT7aSC3UUsn"
      },
      "execution_count": 13,
      "outputs": []
    },
    {
      "cell_type": "code",
      "source": [
        "y = G(torch.randn(2, latent_size))\n",
        "gen_imgs = denorm(y.reshape((-1, 28,28)).detach())"
      ],
      "metadata": {
        "id": "oBkc9GSFUVzh"
      },
      "execution_count": 14,
      "outputs": []
    },
    {
      "cell_type": "code",
      "source": [
        "plt.imshow(gen_imgs[0], cmap='gray')"
      ],
      "metadata": {
        "colab": {
          "base_uri": "https://localhost:8080/",
          "height": 283
        },
        "id": "mZK3y1JRUXLy",
        "outputId": "feea75fd-896b-4a56-ac6e-47e94b7e4404"
      },
      "execution_count": 15,
      "outputs": [
        {
          "output_type": "execute_result",
          "data": {
            "text/plain": [
              "<matplotlib.image.AxesImage at 0x7fb14393e7d0>"
            ]
          },
          "metadata": {},
          "execution_count": 15
        },
        {
          "output_type": "display_data",
          "data": {
            "text/plain": [
              "<Figure size 432x288 with 1 Axes>"
            ],
            "image/png": "[encoded data removed]"
          },
          "metadata": {
            "needs_background": "light"
          }
        }
      ]
    },
    {
      "cell_type": "code",
      "source": [
        "G.to(device)"
      ],
      "metadata": {
        "colab": {
          "base_uri": "https://localhost:8080/"
        },
        "id": "kGNiYYGCUYHw",
        "outputId": "6586eb80-8476-4b4d-fabb-f622d1dc8225"
      },
      "execution_count": 16,
      "outputs": [
        {
          "output_type": "execute_result",
          "data": {
            "text/plain": [
              "Sequential(\n",
              "  (0): Linear(in_features=64, out_features=256, bias=True)\n",
              "  (1): ReLU()\n",
              "  (2): Linear(in_features=256, out_features=256, bias=True)\n",
              "  (3): ReLU()\n",
              "  (4): Linear(in_features=256, out_features=784, bias=True)\n",
              "  (5): Tanh()\n",
              ")"
            ]
          },
          "metadata": {},
          "execution_count": 16
        }
      ]
    },
    {
      "cell_type": "code",
      "source": [
        "criterion = nn.BCELoss()\n",
        "d_optimizer = torch.optim.Adam(D.parameters(), lr=0.0002)"
      ],
      "metadata": {
        "id": "pyMChNjZUZve"
      },
      "execution_count": 17,
      "outputs": []
    },
    {
      "cell_type": "code",
      "source": [
        "def reset_grad():\n",
        "    d_optimizer.zero_grad()\n",
        "    g_optimizer.zero_grad()\n",
        "\n",
        "def train_discriminator(images):\n",
        "    # Create the labels which are later used as input for the BCE loss\n",
        "    real_labels = torch.ones(batch_size, 1).to(device)\n",
        "    fake_labels = torch.zeros(batch_size, 1).to(device)\n",
        "        \n",
        "    # Loss for real images\n",
        "    outputs = D(images)\n",
        "    d_loss_real = criterion(outputs, real_labels)\n",
        "    real_score = outputs\n",
        "\n",
        "    # Loss for fake images\n",
        "    z = torch.randn(batch_size, latent_size).to(device)\n",
        "    fake_images = G(z)\n",
        "    outputs = D(fake_images)\n",
        "    d_loss_fake = criterion(outputs, fake_labels)\n",
        "    fake_score = outputs\n",
        "\n",
        "    # Combine losses\n",
        "    d_loss = d_loss_real + d_loss_fake\n",
        "    # Reset gradients\n",
        "    reset_grad()\n",
        "    # Compute gradients\n",
        "    d_loss.backward()\n",
        "    # Adjust the parameters using backprop\n",
        "    d_optimizer.step()\n",
        "    \n",
        "    return d_loss, real_score, fake_score"
      ],
      "metadata": {
        "id": "IHEKTIypUa46"
      },
      "execution_count": 18,
      "outputs": []
    },
    {
      "cell_type": "code",
      "source": [
        "g_optimizer = torch.optim.Adam(G.parameters(), lr=0.0002)"
      ],
      "metadata": {
        "id": "V4b3C8WtUcR_"
      },
      "execution_count": 19,
      "outputs": []
    },
    {
      "cell_type": "code",
      "source": [
        "def train_generator():\n",
        "    # Generate fake images and calculate loss\n",
        "    z = torch.randn(batch_size, latent_size).to(device)\n",
        "    fake_images = G(z)\n",
        "    labels = torch.ones(batch_size, 1).to(device)\n",
        "    g_loss = criterion(D(fake_images), labels)\n",
        "\n",
        "    # Backprop and optimize\n",
        "    reset_grad()\n",
        "    g_loss.backward()\n",
        "    g_optimizer.step()\n",
        "    return g_loss, fake_images"
      ],
      "metadata": {
        "id": "gN6VF1meUqTl"
      },
      "execution_count": 24,
      "outputs": []
    },
    {
      "cell_type": "code",
      "source": [
        "import os\n",
        "\n",
        "sample_dir = 'samples'\n",
        "if not os.path.exists(sample_dir):\n",
        "    os.makedirs(sample_dir)"
      ],
      "metadata": {
        "id": "NPHqtgHVUd8C"
      },
      "execution_count": 20,
      "outputs": []
    },
    {
      "cell_type": "code",
      "source": [
        "from IPython.display import Image\n",
        "from torchvision.utils import save_image\n",
        "\n",
        "# Save some real images\n",
        "for images, _ in data_loader:\n",
        "    images = images.reshape(images.size(0), 1, 28, 28)\n",
        "    save_image(denorm(images), os.path.join(sample_dir, 'real_images.png'), nrow=10)\n",
        "    break\n",
        "   \n",
        "Image(os.path.join(sample_dir, 'real_images.png'))"
      ],
      "metadata": {
        "colab": {
          "base_uri": "https://localhost:8080/",
          "height": 319
        },
        "id": "pYh5KAqxUfAl",
        "outputId": "bb2fd17c-31f8-4031-a16c-1f51e2b2d878"
      },
      "execution_count": 21,
      "outputs": [
        {
          "output_type": "execute_result",
          "data": {
            "text/plain": [
              "<IPython.core.display.Image object>"
            ],
            "image/png": "[encoded data removed]"
          },
          "metadata": {},
          "execution_count": 21
        }
      ]
    },
    {
      "cell_type": "code",
      "source": [
        "sample_vectors = torch.randn(batch_size, latent_size).to(device)\n",
        "\n",
        "def save_fake_images(index):\n",
        "    fake_images = G(sample_vectors)\n",
        "    fake_images = fake_images.reshape(fake_images.size(0), 1, 28, 28)\n",
        "    fake_fname = 'fake_images-{0:0=4d}.png'.format(index)\n",
        "    print('Saving', fake_fname)\n",
        "    save_image(denorm(fake_images), os.path.join(sample_dir, fake_fname), nrow=10)\n",
        "    \n",
        "# Before training\n",
        "save_fake_images(0)\n",
        "Image(os.path.join(sample_dir, 'fake_images-0000.png'))"
      ],
      "metadata": {
        "colab": {
          "base_uri": "https://localhost:8080/",
          "height": 337
        },
        "id": "Q0OPHfnXUhl1",
        "outputId": "07b6e0de-510d-4505-d216-dde8115c1aa5"
      },
      "execution_count": 22,
      "outputs": [
        {
          "output_type": "stream",
          "name": "stdout",
          "text": [
            "Saving fake_images-0000.png\n"
          ]
        },
        {
          "output_type": "execute_result",
          "data": {
            "text/plain": [
              "<IPython.core.display.Image object>"
            ],
            "image/png": "[encoded data removed]"
          },
          "metadata": {},
          "execution_count": 22
        }
      ]
    },
    {
      "cell_type": "code",
      "source": [
        "num_epochs = 100\n",
        "total_step = len(data_loader)\n",
        "d_losses, g_losses, real_scores, fake_scores = [], [], [], []\n",
        "\n",
        "for epoch in range(num_epochs):\n",
        "    for i, (images, _) in enumerate(data_loader):\n",
        "        # Load a batch & transform to vectors\n",
        "        images = images.reshape(batch_size, -1).to(device)\n",
        "        \n",
        "        # Train the discriminator and generator\n",
        "        d_loss, real_score, fake_score = train_discriminator(images)\n",
        "        g_loss, fake_images = train_generator()\n",
        "        \n",
        "        # Inspect the losses\n",
        "        if (i+1) % 200 == 0:\n",
        "            d_losses.append(d_loss.item())\n",
        "            g_losses.append(g_loss.item())\n",
        "            real_scores.append(real_score.mean().item())\n",
        "            fake_scores.append(fake_score.mean().item())\n",
        "            print('Epoch [{}/{}], Step [{}/{}], d_loss: {:.4f}, g_loss: {:.4f}, D(x): {:.2f}, D(G(z)): {:.2f}' \n",
        "                  .format(epoch, num_epochs, i+1, total_step, d_loss.item(), g_loss.item(), \n",
        "                          real_score.mean().item(), fake_score.mean().item()))\n",
        "        \n",
        "    # Sample and save images\n",
        "    save_fake_images(epoch+1)"
      ],
      "metadata": {
        "colab": {
          "base_uri": "https://localhost:8080/"
        },
        "id": "mcFW4gxfUirK",
        "outputId": "4ce58db2-e3ca-45ab-d05f-6e98f830b713"
      },
      "execution_count": 25,
      "outputs": [
        {
          "output_type": "stream",
          "name": "stdout",
          "text": [
            "Epoch [0/100], Step [200/600], d_loss: 0.0261, g_loss: 4.6379, D(x): 0.99, D(G(z)): 0.02\n",
            "Epoch [0/100], Step [400/600], d_loss: 0.1555, g_loss: 5.9219, D(x): 0.93, D(G(z)): 0.03\n",
            "Epoch [0/100], Step [600/600], d_loss: 0.0657, g_loss: 4.9891, D(x): 0.96, D(G(z)): 0.03\n",
            "Saving fake_images-0001.png\n",
            "Epoch [1/100], Step [200/600], d_loss: 0.0603, g_loss: 4.9642, D(x): 0.98, D(G(z)): 0.03\n",
            "Epoch [1/100], Step [400/600], d_loss: 0.0546, g_loss: 5.0582, D(x): 0.97, D(G(z)): 0.02\n",
            "Epoch [1/100], Step [600/600], d_loss: 0.3899, g_loss: 3.9547, D(x): 0.90, D(G(z)): 0.17\n",
            "Saving fake_images-0002.png\n",
            "Epoch [2/100], Step [200/600], d_loss: 0.1251, g_loss: 5.4829, D(x): 0.94, D(G(z)): 0.01\n",
            "Epoch [2/100], Step [400/600], d_loss: 0.5914, g_loss: 4.2246, D(x): 0.77, D(G(z)): 0.03\n",
            "Epoch [2/100], Step [600/600], d_loss: 0.1137, g_loss: 3.6391, D(x): 0.96, D(G(z)): 0.05\n",
            "Saving fake_images-0003.png\n",
            "Epoch [3/100], Step [200/600], d_loss: 0.3313, g_loss: 2.7720, D(x): 0.88, D(G(z)): 0.10\n",
            "Epoch [3/100], Step [400/600], d_loss: 0.3915, g_loss: 2.6332, D(x): 0.84, D(G(z)): 0.06\n",
            "Epoch [3/100], Step [600/600], d_loss: 0.2319, g_loss: 4.4817, D(x): 0.92, D(G(z)): 0.06\n",
            "Saving fake_images-0004.png\n",
            "Epoch [4/100], Step [200/600], d_loss: 0.2599, g_loss: 5.0509, D(x): 0.92, D(G(z)): 0.02\n",
            "Epoch [4/100], Step [400/600], d_loss: 0.1265, g_loss: 3.8424, D(x): 0.98, D(G(z)): 0.06\n",
            "Epoch [4/100], Step [600/600], d_loss: 0.1018, g_loss: 4.2774, D(x): 0.97, D(G(z)): 0.06\n",
            "Saving fake_images-0005.png\n",
            "Epoch [5/100], Step [200/600], d_loss: 0.3056, g_loss: 4.5943, D(x): 0.93, D(G(z)): 0.14\n",
            "Epoch [5/100], Step [400/600], d_loss: 0.0484, g_loss: 5.0570, D(x): 0.98, D(G(z)): 0.02\n",
            "Epoch [5/100], Step [600/600], d_loss: 0.6393, g_loss: 2.2340, D(x): 0.88, D(G(z)): 0.23\n",
            "Saving fake_images-0006.png\n",
            "Epoch [6/100], Step [200/600], d_loss: 0.6964, g_loss: 3.5373, D(x): 0.80, D(G(z)): 0.04\n",
            "Epoch [6/100], Step [400/600], d_loss: 0.3590, g_loss: 3.5742, D(x): 0.89, D(G(z)): 0.11\n",
            "Epoch [6/100], Step [600/600], d_loss: 0.6842, g_loss: 3.5402, D(x): 0.86, D(G(z)): 0.26\n",
            "Saving fake_images-0007.png\n",
            "Epoch [7/100], Step [200/600], d_loss: 0.8005, g_loss: 2.7068, D(x): 0.78, D(G(z)): 0.17\n",
            "Epoch [7/100], Step [400/600], d_loss: 0.5135, g_loss: 4.2918, D(x): 0.85, D(G(z)): 0.08\n",
            "Epoch [7/100], Step [600/600], d_loss: 0.5151, g_loss: 2.7968, D(x): 0.88, D(G(z)): 0.21\n",
            "Saving fake_images-0008.png\n",
            "Epoch [8/100], Step [200/600], d_loss: 0.4711, g_loss: 2.5715, D(x): 0.88, D(G(z)): 0.19\n",
            "Epoch [8/100], Step [400/600], d_loss: 0.3786, g_loss: 3.1085, D(x): 0.87, D(G(z)): 0.08\n",
            "Epoch [8/100], Step [600/600], d_loss: 0.7322, g_loss: 3.5716, D(x): 0.82, D(G(z)): 0.10\n",
            "Saving fake_images-0009.png\n",
            "Epoch [9/100], Step [200/600], d_loss: 0.3565, g_loss: 2.9410, D(x): 0.87, D(G(z)): 0.11\n",
            "Epoch [9/100], Step [400/600], d_loss: 0.3007, g_loss: 4.8979, D(x): 0.92, D(G(z)): 0.09\n",
            "Epoch [9/100], Step [600/600], d_loss: 0.2946, g_loss: 3.9262, D(x): 0.92, D(G(z)): 0.12\n",
            "Saving fake_images-0010.png\n",
            "Epoch [10/100], Step [200/600], d_loss: 0.2874, g_loss: 3.6652, D(x): 0.91, D(G(z)): 0.12\n",
            "Epoch [10/100], Step [400/600], d_loss: 0.3161, g_loss: 4.1998, D(x): 0.91, D(G(z)): 0.07\n",
            "Epoch [10/100], Step [600/600], d_loss: 0.1352, g_loss: 4.7165, D(x): 0.95, D(G(z)): 0.02\n",
            "Saving fake_images-0011.png\n",
            "Epoch [11/100], Step [200/600], d_loss: 0.4852, g_loss: 3.8911, D(x): 0.98, D(G(z)): 0.29\n",
            "Epoch [11/100], Step [400/600], d_loss: 0.1265, g_loss: 4.8660, D(x): 0.95, D(G(z)): 0.04\n",
            "Epoch [11/100], Step [600/600], d_loss: 0.2180, g_loss: 5.2316, D(x): 0.91, D(G(z)): 0.06\n",
            "Saving fake_images-0012.png\n",
            "Epoch [12/100], Step [200/600], d_loss: 0.0580, g_loss: 6.4009, D(x): 0.98, D(G(z)): 0.03\n",
            "Epoch [12/100], Step [400/600], d_loss: 0.6265, g_loss: 3.3093, D(x): 0.81, D(G(z)): 0.09\n",
            "Epoch [12/100], Step [600/600], d_loss: 0.2427, g_loss: 5.4221, D(x): 0.90, D(G(z)): 0.02\n",
            "Saving fake_images-0013.png\n",
            "Epoch [13/100], Step [200/600], d_loss: 0.1249, g_loss: 5.5542, D(x): 0.94, D(G(z)): 0.03\n",
            "Epoch [13/100], Step [400/600], d_loss: 0.1537, g_loss: 5.8115, D(x): 0.95, D(G(z)): 0.06\n",
            "Epoch [13/100], Step [600/600], d_loss: 0.1760, g_loss: 4.5556, D(x): 0.95, D(G(z)): 0.07\n",
            "Saving fake_images-0014.png\n",
            "Epoch [14/100], Step [200/600], d_loss: 0.2928, g_loss: 3.7543, D(x): 0.96, D(G(z)): 0.17\n",
            "Epoch [14/100], Step [400/600], d_loss: 0.2991, g_loss: 4.5046, D(x): 0.97, D(G(z)): 0.18\n",
            "Epoch [14/100], Step [600/600], d_loss: 0.2625, g_loss: 5.4063, D(x): 0.93, D(G(z)): 0.04\n",
            "Saving fake_images-0015.png\n",
            "Epoch [15/100], Step [200/600], d_loss: 0.2659, g_loss: 5.7554, D(x): 0.91, D(G(z)): 0.05\n",
            "Epoch [15/100], Step [400/600], d_loss: 0.2465, g_loss: 5.1543, D(x): 0.92, D(G(z)): 0.03\n",
            "Epoch [15/100], Step [600/600], d_loss: 0.1610, g_loss: 7.9993, D(x): 0.93, D(G(z)): 0.00\n",
            "Saving fake_images-0016.png\n",
            "Epoch [16/100], Step [200/600], d_loss: 0.2292, g_loss: 4.5541, D(x): 0.93, D(G(z)): 0.07\n",
            "Epoch [16/100], Step [400/600], d_loss: 0.3261, g_loss: 2.8945, D(x): 0.98, D(G(z)): 0.19\n",
            "Epoch [16/100], Step [600/600], d_loss: 0.2262, g_loss: 4.3246, D(x): 0.95, D(G(z)): 0.10\n",
            "Saving fake_images-0017.png\n",
            "Epoch [17/100], Step [200/600], d_loss: 0.4847, g_loss: 4.4442, D(x): 0.93, D(G(z)): 0.21\n",
            "Epoch [17/100], Step [400/600], d_loss: 0.3899, g_loss: 6.2326, D(x): 0.88, D(G(z)): 0.06\n",
            "Epoch [17/100], Step [600/600], d_loss: 0.3326, g_loss: 5.3935, D(x): 0.98, D(G(z)): 0.21\n",
            "Saving fake_images-0018.png\n",
            "Epoch [18/100], Step [200/600], d_loss: 0.1993, g_loss: 3.9694, D(x): 0.97, D(G(z)): 0.13\n",
            "Epoch [18/100], Step [400/600], d_loss: 0.3427, g_loss: 4.5159, D(x): 0.91, D(G(z)): 0.09\n",
            "Epoch [18/100], Step [600/600], d_loss: 0.2780, g_loss: 4.3946, D(x): 0.97, D(G(z)): 0.16\n",
            "Saving fake_images-0019.png\n",
            "Epoch [19/100], Step [200/600], d_loss: 0.1440, g_loss: 4.6081, D(x): 0.94, D(G(z)): 0.03\n",
            "Epoch [19/100], Step [400/600], d_loss: 0.2690, g_loss: 4.8585, D(x): 0.91, D(G(z)): 0.02\n",
            "Epoch [19/100], Step [600/600], d_loss: 0.2435, g_loss: 3.8772, D(x): 0.92, D(G(z)): 0.08\n",
            "Saving fake_images-0020.png\n",
            "Epoch [20/100], Step [200/600], d_loss: 0.2410, g_loss: 3.2352, D(x): 0.92, D(G(z)): 0.09\n",
            "Epoch [20/100], Step [400/600], d_loss: 0.1836, g_loss: 3.5386, D(x): 0.96, D(G(z)): 0.07\n",
            "Epoch [20/100], Step [600/600], d_loss: 0.1568, g_loss: 5.1263, D(x): 0.95, D(G(z)): 0.05\n",
            "Saving fake_images-0021.png\n",
            "Epoch [21/100], Step [200/600], d_loss: 0.1724, g_loss: 4.9022, D(x): 0.93, D(G(z)): 0.04\n",
            "Epoch [21/100], Step [400/600], d_loss: 0.2240, g_loss: 3.7678, D(x): 0.92, D(G(z)): 0.02\n",
            "Epoch [21/100], Step [600/600], d_loss: 0.2669, g_loss: 5.2002, D(x): 0.93, D(G(z)): 0.05\n",
            "Saving fake_images-0022.png\n",
            "Epoch [22/100], Step [200/600], d_loss: 0.2945, g_loss: 3.4530, D(x): 0.91, D(G(z)): 0.11\n",
            "Epoch [22/100], Step [400/600], d_loss: 0.1498, g_loss: 4.3102, D(x): 0.99, D(G(z)): 0.11\n",
            "Epoch [22/100], Step [600/600], d_loss: 0.2142, g_loss: 5.4796, D(x): 0.93, D(G(z)): 0.03\n",
            "Saving fake_images-0023.png\n",
            "Epoch [23/100], Step [200/600], d_loss: 0.3148, g_loss: 4.3677, D(x): 0.89, D(G(z)): 0.02\n",
            "Epoch [23/100], Step [400/600], d_loss: 0.2975, g_loss: 5.4407, D(x): 0.92, D(G(z)): 0.06\n",
            "Epoch [23/100], Step [600/600], d_loss: 0.2028, g_loss: 3.9033, D(x): 0.96, D(G(z)): 0.12\n",
            "Saving fake_images-0024.png\n",
            "Epoch [24/100], Step [200/600], d_loss: 0.3663, g_loss: 5.0415, D(x): 0.88, D(G(z)): 0.09\n",
            "Epoch [24/100], Step [400/600], d_loss: 0.2061, g_loss: 5.4679, D(x): 0.92, D(G(z)): 0.02\n",
            "Epoch [24/100], Step [600/600], d_loss: 0.1930, g_loss: 3.4584, D(x): 0.95, D(G(z)): 0.07\n",
            "Saving fake_images-0025.png\n",
            "Epoch [25/100], Step [200/600], d_loss: 0.3249, g_loss: 4.5915, D(x): 0.91, D(G(z)): 0.11\n",
            "Epoch [25/100], Step [400/600], d_loss: 0.1476, g_loss: 3.8095, D(x): 0.94, D(G(z)): 0.04\n",
            "Epoch [25/100], Step [600/600], d_loss: 0.3265, g_loss: 3.7365, D(x): 0.96, D(G(z)): 0.20\n",
            "Saving fake_images-0026.png\n",
            "Epoch [26/100], Step [200/600], d_loss: 0.3709, g_loss: 3.7469, D(x): 0.96, D(G(z)): 0.17\n",
            "Epoch [26/100], Step [400/600], d_loss: 0.4249, g_loss: 3.6624, D(x): 0.85, D(G(z)): 0.06\n",
            "Epoch [26/100], Step [600/600], d_loss: 0.4232, g_loss: 4.0289, D(x): 0.90, D(G(z)): 0.15\n",
            "Saving fake_images-0027.png\n",
            "Epoch [27/100], Step [200/600], d_loss: 0.3059, g_loss: 3.9202, D(x): 0.89, D(G(z)): 0.08\n",
            "Epoch [27/100], Step [400/600], d_loss: 0.3180, g_loss: 3.5851, D(x): 0.93, D(G(z)): 0.12\n",
            "Epoch [27/100], Step [600/600], d_loss: 0.3516, g_loss: 4.2123, D(x): 0.88, D(G(z)): 0.11\n",
            "Saving fake_images-0028.png\n",
            "Epoch [28/100], Step [200/600], d_loss: 0.4427, g_loss: 3.1565, D(x): 0.85, D(G(z)): 0.12\n",
            "Epoch [28/100], Step [400/600], d_loss: 0.5511, g_loss: 2.7969, D(x): 0.90, D(G(z)): 0.22\n",
            "Epoch [28/100], Step [600/600], d_loss: 0.2855, g_loss: 3.3884, D(x): 0.91, D(G(z)): 0.11\n",
            "Saving fake_images-0029.png\n",
            "Epoch [29/100], Step [200/600], d_loss: 0.4783, g_loss: 4.5429, D(x): 0.85, D(G(z)): 0.09\n",
            "Epoch [29/100], Step [400/600], d_loss: 0.3888, g_loss: 3.5043, D(x): 0.91, D(G(z)): 0.16\n",
            "Epoch [29/100], Step [600/600], d_loss: 0.3857, g_loss: 4.0489, D(x): 0.93, D(G(z)): 0.18\n",
            "Saving fake_images-0030.png\n",
            "Epoch [30/100], Step [200/600], d_loss: 0.3431, g_loss: 4.5932, D(x): 0.88, D(G(z)): 0.08\n",
            "Epoch [30/100], Step [400/600], d_loss: 0.2652, g_loss: 4.4556, D(x): 0.89, D(G(z)): 0.06\n",
            "Epoch [30/100], Step [600/600], d_loss: 0.3095, g_loss: 5.1490, D(x): 0.92, D(G(z)): 0.11\n",
            "Saving fake_images-0031.png\n",
            "Epoch [31/100], Step [200/600], d_loss: 0.4688, g_loss: 4.7726, D(x): 0.88, D(G(z)): 0.13\n",
            "Epoch [31/100], Step [400/600], d_loss: 0.5759, g_loss: 5.2619, D(x): 0.80, D(G(z)): 0.04\n",
            "Epoch [31/100], Step [600/600], d_loss: 0.2162, g_loss: 4.8673, D(x): 0.96, D(G(z)): 0.10\n",
            "Saving fake_images-0032.png\n",
            "Epoch [32/100], Step [200/600], d_loss: 0.3139, g_loss: 4.4439, D(x): 0.95, D(G(z)): 0.14\n",
            "Epoch [32/100], Step [400/600], d_loss: 0.5842, g_loss: 2.9085, D(x): 0.86, D(G(z)): 0.20\n",
            "Epoch [32/100], Step [600/600], d_loss: 0.5438, g_loss: 3.6323, D(x): 0.90, D(G(z)): 0.19\n",
            "Saving fake_images-0033.png\n",
            "Epoch [33/100], Step [200/600], d_loss: 0.6094, g_loss: 3.6080, D(x): 0.87, D(G(z)): 0.23\n",
            "Epoch [33/100], Step [400/600], d_loss: 0.5566, g_loss: 3.0289, D(x): 0.86, D(G(z)): 0.18\n",
            "Epoch [33/100], Step [600/600], d_loss: 0.3122, g_loss: 3.0882, D(x): 0.93, D(G(z)): 0.14\n",
            "Saving fake_images-0034.png\n",
            "Epoch [34/100], Step [200/600], d_loss: 0.3647, g_loss: 3.0402, D(x): 0.89, D(G(z)): 0.16\n",
            "Epoch [34/100], Step [400/600], d_loss: 0.5701, g_loss: 2.7539, D(x): 0.85, D(G(z)): 0.18\n",
            "Epoch [34/100], Step [600/600], d_loss: 0.6014, g_loss: 2.8355, D(x): 0.83, D(G(z)): 0.20\n",
            "Saving fake_images-0035.png\n",
            "Epoch [35/100], Step [200/600], d_loss: 0.3998, g_loss: 1.9911, D(x): 0.88, D(G(z)): 0.15\n",
            "Epoch [35/100], Step [400/600], d_loss: 0.4117, g_loss: 2.4917, D(x): 0.88, D(G(z)): 0.12\n",
            "Epoch [35/100], Step [600/600], d_loss: 0.6106, g_loss: 3.1248, D(x): 0.81, D(G(z)): 0.13\n",
            "Saving fake_images-0036.png\n",
            "Epoch [36/100], Step [200/600], d_loss: 0.7545, g_loss: 2.4532, D(x): 0.91, D(G(z)): 0.38\n",
            "Epoch [36/100], Step [400/600], d_loss: 0.5386, g_loss: 3.0953, D(x): 0.84, D(G(z)): 0.17\n",
            "Epoch [36/100], Step [600/600], d_loss: 0.8411, g_loss: 2.5624, D(x): 0.72, D(G(z)): 0.12\n",
            "Saving fake_images-0037.png\n",
            "Epoch [37/100], Step [200/600], d_loss: 0.3753, g_loss: 3.4831, D(x): 0.86, D(G(z)): 0.10\n",
            "Epoch [37/100], Step [400/600], d_loss: 0.4861, g_loss: 2.5012, D(x): 0.84, D(G(z)): 0.15\n",
            "Epoch [37/100], Step [600/600], d_loss: 0.4201, g_loss: 2.7327, D(x): 0.86, D(G(z)): 0.12\n",
            "Saving fake_images-0038.png\n",
            "Epoch [38/100], Step [200/600], d_loss: 0.4451, g_loss: 2.8260, D(x): 0.84, D(G(z)): 0.12\n",
            "Epoch [38/100], Step [400/600], d_loss: 0.3966, g_loss: 2.6268, D(x): 0.86, D(G(z)): 0.12\n",
            "Epoch [38/100], Step [600/600], d_loss: 0.6882, g_loss: 2.5934, D(x): 0.82, D(G(z)): 0.19\n",
            "Saving fake_images-0039.png\n",
            "Epoch [39/100], Step [200/600], d_loss: 0.4644, g_loss: 3.2235, D(x): 0.88, D(G(z)): 0.17\n",
            "Epoch [39/100], Step [400/600], d_loss: 0.3480, g_loss: 4.2201, D(x): 0.90, D(G(z)): 0.15\n",
            "Epoch [39/100], Step [600/600], d_loss: 0.4761, g_loss: 2.7589, D(x): 0.94, D(G(z)): 0.24\n",
            "Saving fake_images-0040.png\n",
            "Epoch [40/100], Step [200/600], d_loss: 0.5134, g_loss: 2.3637, D(x): 0.85, D(G(z)): 0.14\n",
            "Epoch [40/100], Step [400/600], d_loss: 0.3298, g_loss: 4.6829, D(x): 0.87, D(G(z)): 0.06\n",
            "Epoch [40/100], Step [600/600], d_loss: 0.3859, g_loss: 4.4841, D(x): 0.92, D(G(z)): 0.16\n",
            "Saving fake_images-0041.png\n",
            "Epoch [41/100], Step [200/600], d_loss: 0.5612, g_loss: 3.6328, D(x): 0.81, D(G(z)): 0.10\n",
            "Epoch [41/100], Step [400/600], d_loss: 0.4468, g_loss: 3.7350, D(x): 0.93, D(G(z)): 0.22\n",
            "Epoch [41/100], Step [600/600], d_loss: 0.5780, g_loss: 2.7814, D(x): 0.84, D(G(z)): 0.19\n",
            "Saving fake_images-0042.png\n",
            "Epoch [42/100], Step [200/600], d_loss: 0.5608, g_loss: 2.4635, D(x): 0.81, D(G(z)): 0.14\n",
            "Epoch [42/100], Step [400/600], d_loss: 0.4930, g_loss: 3.2702, D(x): 0.91, D(G(z)): 0.23\n",
            "Epoch [42/100], Step [600/600], d_loss: 0.5339, g_loss: 3.2436, D(x): 0.89, D(G(z)): 0.22\n",
            "Saving fake_images-0043.png\n",
            "Epoch [43/100], Step [200/600], d_loss: 0.6688, g_loss: 3.0456, D(x): 0.75, D(G(z)): 0.13\n",
            "Epoch [43/100], Step [400/600], d_loss: 0.8097, g_loss: 2.2865, D(x): 0.70, D(G(z)): 0.16\n",
            "Epoch [43/100], Step [600/600], d_loss: 0.4829, g_loss: 2.6488, D(x): 0.90, D(G(z)): 0.22\n",
            "Saving fake_images-0044.png\n",
            "Epoch [44/100], Step [200/600], d_loss: 0.5326, g_loss: 3.3673, D(x): 0.81, D(G(z)): 0.10\n",
            "Epoch [44/100], Step [400/600], d_loss: 0.6412, g_loss: 2.2733, D(x): 0.73, D(G(z)): 0.11\n",
            "Epoch [44/100], Step [600/600], d_loss: 0.6342, g_loss: 1.9296, D(x): 0.81, D(G(z)): 0.21\n",
            "Saving fake_images-0045.png\n",
            "Epoch [45/100], Step [200/600], d_loss: 0.6248, g_loss: 1.7284, D(x): 0.82, D(G(z)): 0.20\n",
            "Epoch [45/100], Step [400/600], d_loss: 0.5581, g_loss: 3.8311, D(x): 0.75, D(G(z)): 0.07\n",
            "Epoch [45/100], Step [600/600], d_loss: 0.7383, g_loss: 2.4775, D(x): 0.72, D(G(z)): 0.10\n",
            "Saving fake_images-0046.png\n",
            "Epoch [46/100], Step [200/600], d_loss: 0.6935, g_loss: 2.5818, D(x): 0.82, D(G(z)): 0.25\n",
            "Epoch [46/100], Step [400/600], d_loss: 0.6074, g_loss: 2.3275, D(x): 0.80, D(G(z)): 0.19\n",
            "Epoch [46/100], Step [600/600], d_loss: 0.7719, g_loss: 2.3334, D(x): 0.77, D(G(z)): 0.21\n",
            "Saving fake_images-0047.png\n",
            "Epoch [47/100], Step [200/600], d_loss: 0.6409, g_loss: 2.0289, D(x): 0.79, D(G(z)): 0.18\n",
            "Epoch [47/100], Step [400/600], d_loss: 0.6204, g_loss: 2.8079, D(x): 0.81, D(G(z)): 0.20\n",
            "Epoch [47/100], Step [600/600], d_loss: 0.3938, g_loss: 2.7593, D(x): 0.85, D(G(z)): 0.11\n",
            "Saving fake_images-0048.png\n",
            "Epoch [48/100], Step [200/600], d_loss: 0.7383, g_loss: 2.1480, D(x): 0.85, D(G(z)): 0.30\n",
            "Epoch [48/100], Step [400/600], d_loss: 0.5249, g_loss: 2.0564, D(x): 0.84, D(G(z)): 0.20\n",
            "Epoch [48/100], Step [600/600], d_loss: 0.5011, g_loss: 2.9011, D(x): 0.80, D(G(z)): 0.09\n",
            "Saving fake_images-0049.png\n",
            "Epoch [49/100], Step [200/600], d_loss: 0.5969, g_loss: 2.4234, D(x): 0.82, D(G(z)): 0.21\n",
            "Epoch [49/100], Step [400/600], d_loss: 0.4002, g_loss: 3.2417, D(x): 0.88, D(G(z)): 0.14\n",
            "Epoch [49/100], Step [600/600], d_loss: 0.4980, g_loss: 2.9657, D(x): 0.78, D(G(z)): 0.09\n",
            "Saving fake_images-0050.png\n",
            "Epoch [50/100], Step [200/600], d_loss: 0.4951, g_loss: 3.0347, D(x): 0.84, D(G(z)): 0.15\n",
            "Epoch [50/100], Step [400/600], d_loss: 0.4246, g_loss: 2.2039, D(x): 0.84, D(G(z)): 0.13\n",
            "Epoch [50/100], Step [600/600], d_loss: 0.4500, g_loss: 3.8252, D(x): 0.83, D(G(z)): 0.11\n",
            "Saving fake_images-0051.png\n",
            "Epoch [51/100], Step [200/600], d_loss: 0.6223, g_loss: 3.0288, D(x): 0.77, D(G(z)): 0.14\n",
            "Epoch [51/100], Step [400/600], d_loss: 0.3941, g_loss: 3.0895, D(x): 0.85, D(G(z)): 0.11\n",
            "Epoch [51/100], Step [600/600], d_loss: 0.5017, g_loss: 2.9822, D(x): 0.86, D(G(z)): 0.19\n",
            "Saving fake_images-0052.png\n",
            "Epoch [52/100], Step [200/600], d_loss: 0.4723, g_loss: 3.5105, D(x): 0.89, D(G(z)): 0.19\n",
            "Epoch [52/100], Step [400/600], d_loss: 0.6021, g_loss: 2.0815, D(x): 0.81, D(G(z)): 0.18\n",
            "Epoch [52/100], Step [600/600], d_loss: 0.6528, g_loss: 2.8237, D(x): 0.73, D(G(z)): 0.13\n",
            "Saving fake_images-0053.png\n",
            "Epoch [53/100], Step [200/600], d_loss: 0.7193, g_loss: 2.3677, D(x): 0.81, D(G(z)): 0.23\n",
            "Epoch [53/100], Step [400/600], d_loss: 0.6041, g_loss: 2.4644, D(x): 0.77, D(G(z)): 0.14\n",
            "Epoch [53/100], Step [600/600], d_loss: 0.5096, g_loss: 2.6146, D(x): 0.86, D(G(z)): 0.22\n",
            "Saving fake_images-0054.png\n",
            "Epoch [54/100], Step [200/600], d_loss: 0.8520, g_loss: 1.9234, D(x): 0.83, D(G(z)): 0.32\n",
            "Epoch [54/100], Step [400/600], d_loss: 0.5338, g_loss: 2.2027, D(x): 0.91, D(G(z)): 0.27\n",
            "Epoch [54/100], Step [600/600], d_loss: 0.5666, g_loss: 2.4002, D(x): 0.85, D(G(z)): 0.22\n",
            "Saving fake_images-0055.png\n",
            "Epoch [55/100], Step [200/600], d_loss: 0.6998, g_loss: 1.6161, D(x): 0.79, D(G(z)): 0.23\n",
            "Epoch [55/100], Step [400/600], d_loss: 0.7062, g_loss: 2.4117, D(x): 0.74, D(G(z)): 0.17\n",
            "Epoch [55/100], Step [600/600], d_loss: 0.5165, g_loss: 2.2420, D(x): 0.83, D(G(z)): 0.20\n",
            "Saving fake_images-0056.png\n",
            "Epoch [56/100], Step [200/600], d_loss: 0.7121, g_loss: 1.9812, D(x): 0.84, D(G(z)): 0.32\n",
            "Epoch [56/100], Step [400/600], d_loss: 0.9090, g_loss: 2.0416, D(x): 0.76, D(G(z)): 0.30\n",
            "Epoch [56/100], Step [600/600], d_loss: 0.4418, g_loss: 2.5401, D(x): 0.87, D(G(z)): 0.18\n",
            "Saving fake_images-0057.png\n",
            "Epoch [57/100], Step [200/600], d_loss: 0.6273, g_loss: 2.2340, D(x): 0.87, D(G(z)): 0.27\n",
            "Epoch [57/100], Step [400/600], d_loss: 0.5486, g_loss: 2.8781, D(x): 0.81, D(G(z)): 0.18\n",
            "Epoch [57/100], Step [600/600], d_loss: 0.6410, g_loss: 1.8944, D(x): 0.81, D(G(z)): 0.22\n",
            "Saving fake_images-0058.png\n",
            "Epoch [58/100], Step [200/600], d_loss: 0.7766, g_loss: 1.4131, D(x): 0.73, D(G(z)): 0.23\n",
            "Epoch [58/100], Step [400/600], d_loss: 0.6521, g_loss: 2.3651, D(x): 0.76, D(G(z)): 0.17\n",
            "Epoch [58/100], Step [600/600], d_loss: 0.5586, g_loss: 2.3005, D(x): 0.75, D(G(z)): 0.11\n",
            "Saving fake_images-0059.png\n",
            "Epoch [59/100], Step [200/600], d_loss: 0.8525, g_loss: 2.0855, D(x): 0.72, D(G(z)): 0.20\n",
            "Epoch [59/100], Step [400/600], d_loss: 0.5597, g_loss: 2.2383, D(x): 0.83, D(G(z)): 0.21\n",
            "Epoch [59/100], Step [600/600], d_loss: 0.6746, g_loss: 2.5008, D(x): 0.76, D(G(z)): 0.20\n",
            "Saving fake_images-0060.png\n",
            "Epoch [60/100], Step [200/600], d_loss: 0.9314, g_loss: 1.7511, D(x): 0.70, D(G(z)): 0.28\n",
            "Epoch [60/100], Step [400/600], d_loss: 0.5358, g_loss: 1.9931, D(x): 0.81, D(G(z)): 0.15\n",
            "Epoch [60/100], Step [600/600], d_loss: 0.4188, g_loss: 2.6827, D(x): 0.87, D(G(z)): 0.19\n",
            "Saving fake_images-0061.png\n",
            "Epoch [61/100], Step [200/600], d_loss: 0.4185, g_loss: 2.4726, D(x): 0.86, D(G(z)): 0.15\n",
            "Epoch [61/100], Step [400/600], d_loss: 0.6874, g_loss: 2.1897, D(x): 0.71, D(G(z)): 0.08\n",
            "Epoch [61/100], Step [600/600], d_loss: 0.6747, g_loss: 2.6474, D(x): 0.87, D(G(z)): 0.29\n",
            "Saving fake_images-0062.png\n",
            "Epoch [62/100], Step [200/600], d_loss: 0.5627, g_loss: 2.3654, D(x): 0.80, D(G(z)): 0.15\n",
            "Epoch [62/100], Step [400/600], d_loss: 0.6949, g_loss: 2.1206, D(x): 0.75, D(G(z)): 0.16\n",
            "Epoch [62/100], Step [600/600], d_loss: 0.5982, g_loss: 2.4249, D(x): 0.82, D(G(z)): 0.20\n",
            "Saving fake_images-0063.png\n",
            "Epoch [63/100], Step [200/600], d_loss: 0.6315, g_loss: 2.9097, D(x): 0.79, D(G(z)): 0.17\n",
            "Epoch [63/100], Step [400/600], d_loss: 0.7039, g_loss: 2.8116, D(x): 0.79, D(G(z)): 0.22\n",
            "Epoch [63/100], Step [600/600], d_loss: 0.6991, g_loss: 2.5094, D(x): 0.79, D(G(z)): 0.18\n",
            "Saving fake_images-0064.png\n",
            "Epoch [64/100], Step [200/600], d_loss: 0.6228, g_loss: 2.7769, D(x): 0.78, D(G(z)): 0.13\n",
            "Epoch [64/100], Step [400/600], d_loss: 0.7164, g_loss: 3.1268, D(x): 0.70, D(G(z)): 0.08\n",
            "Epoch [64/100], Step [600/600], d_loss: 0.8082, g_loss: 2.4984, D(x): 0.92, D(G(z)): 0.39\n",
            "Saving fake_images-0065.png\n",
            "Epoch [65/100], Step [200/600], d_loss: 0.7505, g_loss: 2.0669, D(x): 0.75, D(G(z)): 0.22\n",
            "Epoch [65/100], Step [400/600], d_loss: 0.5071, g_loss: 3.0291, D(x): 0.81, D(G(z)): 0.16\n",
            "Epoch [65/100], Step [600/600], d_loss: 0.8616, g_loss: 2.3595, D(x): 0.81, D(G(z)): 0.32\n",
            "Saving fake_images-0066.png\n",
            "Epoch [66/100], Step [200/600], d_loss: 0.6087, g_loss: 3.1211, D(x): 0.77, D(G(z)): 0.16\n",
            "Epoch [66/100], Step [400/600], d_loss: 0.6633, g_loss: 2.3426, D(x): 0.82, D(G(z)): 0.26\n",
            "Epoch [66/100], Step [600/600], d_loss: 0.6628, g_loss: 2.1675, D(x): 0.78, D(G(z)): 0.22\n",
            "Saving fake_images-0067.png\n",
            "Epoch [67/100], Step [200/600], d_loss: 0.7420, g_loss: 1.5245, D(x): 0.78, D(G(z)): 0.23\n",
            "Epoch [67/100], Step [400/600], d_loss: 0.8257, g_loss: 2.0912, D(x): 0.78, D(G(z)): 0.30\n",
            "Epoch [67/100], Step [600/600], d_loss: 0.7242, g_loss: 2.3737, D(x): 0.76, D(G(z)): 0.22\n",
            "Saving fake_images-0068.png\n",
            "Epoch [68/100], Step [200/600], d_loss: 0.6862, g_loss: 1.9703, D(x): 0.79, D(G(z)): 0.22\n",
            "Epoch [68/100], Step [400/600], d_loss: 0.9084, g_loss: 2.3696, D(x): 0.66, D(G(z)): 0.15\n",
            "Epoch [68/100], Step [600/600], d_loss: 0.5574, g_loss: 2.5792, D(x): 0.84, D(G(z)): 0.21\n",
            "Saving fake_images-0069.png\n",
            "Epoch [69/100], Step [200/600], d_loss: 0.6485, g_loss: 2.5430, D(x): 0.74, D(G(z)): 0.15\n",
            "Epoch [69/100], Step [400/600], d_loss: 0.6608, g_loss: 2.0636, D(x): 0.79, D(G(z)): 0.24\n",
            "Epoch [69/100], Step [600/600], d_loss: 0.6640, g_loss: 2.5544, D(x): 0.71, D(G(z)): 0.10\n",
            "Saving fake_images-0070.png\n",
            "Epoch [70/100], Step [200/600], d_loss: 0.4990, g_loss: 2.0165, D(x): 0.88, D(G(z)): 0.24\n",
            "Epoch [70/100], Step [400/600], d_loss: 0.8431, g_loss: 1.5583, D(x): 0.82, D(G(z)): 0.35\n",
            "Epoch [70/100], Step [600/600], d_loss: 0.8302, g_loss: 1.7444, D(x): 0.73, D(G(z)): 0.25\n",
            "Saving fake_images-0071.png\n",
            "Epoch [71/100], Step [200/600], d_loss: 0.6383, g_loss: 2.2571, D(x): 0.75, D(G(z)): 0.20\n",
            "Epoch [71/100], Step [400/600], d_loss: 0.8054, g_loss: 2.3681, D(x): 0.80, D(G(z)): 0.27\n",
            "Epoch [71/100], Step [600/600], d_loss: 0.7601, g_loss: 1.9348, D(x): 0.74, D(G(z)): 0.22\n",
            "Saving fake_images-0072.png\n",
            "Epoch [72/100], Step [200/600], d_loss: 0.6955, g_loss: 2.2291, D(x): 0.76, D(G(z)): 0.19\n",
            "Epoch [72/100], Step [400/600], d_loss: 0.7311, g_loss: 1.7363, D(x): 0.75, D(G(z)): 0.24\n",
            "Epoch [72/100], Step [600/600], d_loss: 0.8668, g_loss: 1.7779, D(x): 0.78, D(G(z)): 0.31\n",
            "Saving fake_images-0073.png\n",
            "Epoch [73/100], Step [200/600], d_loss: 0.9361, g_loss: 2.2762, D(x): 0.72, D(G(z)): 0.24\n",
            "Epoch [73/100], Step [400/600], d_loss: 0.6156, g_loss: 2.2779, D(x): 0.79, D(G(z)): 0.23\n",
            "Epoch [73/100], Step [600/600], d_loss: 0.8224, g_loss: 1.9581, D(x): 0.72, D(G(z)): 0.19\n",
            "Saving fake_images-0074.png\n",
            "Epoch [74/100], Step [200/600], d_loss: 0.6830, g_loss: 2.0950, D(x): 0.76, D(G(z)): 0.22\n",
            "Epoch [74/100], Step [400/600], d_loss: 0.6888, g_loss: 2.0625, D(x): 0.76, D(G(z)): 0.20\n",
            "Epoch [74/100], Step [600/600], d_loss: 0.5117, g_loss: 2.5092, D(x): 0.79, D(G(z)): 0.16\n",
            "Saving fake_images-0075.png\n",
            "Epoch [75/100], Step [200/600], d_loss: 0.7367, g_loss: 1.9321, D(x): 0.79, D(G(z)): 0.29\n",
            "Epoch [75/100], Step [400/600], d_loss: 0.7157, g_loss: 2.1071, D(x): 0.74, D(G(z)): 0.17\n",
            "Epoch [75/100], Step [600/600], d_loss: 0.7283, g_loss: 2.3397, D(x): 0.72, D(G(z)): 0.17\n",
            "Saving fake_images-0076.png\n",
            "Epoch [76/100], Step [200/600], d_loss: 0.6145, g_loss: 2.5472, D(x): 0.80, D(G(z)): 0.18\n",
            "Epoch [76/100], Step [400/600], d_loss: 0.7710, g_loss: 1.9231, D(x): 0.76, D(G(z)): 0.25\n",
            "Epoch [76/100], Step [600/600], d_loss: 0.6504, g_loss: 2.1798, D(x): 0.83, D(G(z)): 0.24\n",
            "Saving fake_images-0077.png\n",
            "Epoch [77/100], Step [200/600], d_loss: 0.7190, g_loss: 2.5428, D(x): 0.72, D(G(z)): 0.16\n",
            "Epoch [77/100], Step [400/600], d_loss: 0.5550, g_loss: 1.9652, D(x): 0.81, D(G(z)): 0.18\n",
            "Epoch [77/100], Step [600/600], d_loss: 0.8926, g_loss: 2.1742, D(x): 0.80, D(G(z)): 0.32\n",
            "Saving fake_images-0078.png\n",
            "Epoch [78/100], Step [200/600], d_loss: 0.7460, g_loss: 2.2031, D(x): 0.76, D(G(z)): 0.26\n",
            "Epoch [78/100], Step [400/600], d_loss: 0.9090, g_loss: 2.2247, D(x): 0.76, D(G(z)): 0.29\n",
            "Epoch [78/100], Step [600/600], d_loss: 0.7686, g_loss: 1.9929, D(x): 0.73, D(G(z)): 0.25\n",
            "Saving fake_images-0079.png\n",
            "Epoch [79/100], Step [200/600], d_loss: 0.5725, g_loss: 2.7344, D(x): 0.79, D(G(z)): 0.19\n",
            "Epoch [79/100], Step [400/600], d_loss: 0.7827, g_loss: 1.7349, D(x): 0.77, D(G(z)): 0.28\n",
            "Epoch [79/100], Step [600/600], d_loss: 0.8643, g_loss: 1.4740, D(x): 0.78, D(G(z)): 0.32\n",
            "Saving fake_images-0080.png\n",
            "Epoch [80/100], Step [200/600], d_loss: 0.8759, g_loss: 1.7264, D(x): 0.75, D(G(z)): 0.29\n",
            "Epoch [80/100], Step [400/600], d_loss: 0.7439, g_loss: 2.3581, D(x): 0.71, D(G(z)): 0.17\n",
            "Epoch [80/100], Step [600/600], d_loss: 0.5134, g_loss: 2.7283, D(x): 0.78, D(G(z)): 0.13\n",
            "Saving fake_images-0081.png\n",
            "Epoch [81/100], Step [200/600], d_loss: 0.6372, g_loss: 2.0616, D(x): 0.82, D(G(z)): 0.24\n",
            "Epoch [81/100], Step [400/600], d_loss: 0.8163, g_loss: 1.9299, D(x): 0.71, D(G(z)): 0.20\n",
            "Epoch [81/100], Step [600/600], d_loss: 0.6695, g_loss: 1.8022, D(x): 0.73, D(G(z)): 0.19\n",
            "Saving fake_images-0082.png\n",
            "Epoch [82/100], Step [200/600], d_loss: 0.7908, g_loss: 2.6627, D(x): 0.71, D(G(z)): 0.17\n",
            "Epoch [82/100], Step [400/600], d_loss: 0.6226, g_loss: 2.4265, D(x): 0.74, D(G(z)): 0.10\n",
            "Epoch [82/100], Step [600/600], d_loss: 0.7577, g_loss: 2.3792, D(x): 0.78, D(G(z)): 0.26\n",
            "Saving fake_images-0083.png\n",
            "Epoch [83/100], Step [200/600], d_loss: 0.9122, g_loss: 1.9164, D(x): 0.66, D(G(z)): 0.21\n",
            "Epoch [83/100], Step [400/600], d_loss: 0.6901, g_loss: 1.8444, D(x): 0.78, D(G(z)): 0.23\n",
            "Epoch [83/100], Step [600/600], d_loss: 0.8702, g_loss: 3.0359, D(x): 0.70, D(G(z)): 0.19\n",
            "Saving fake_images-0084.png\n",
            "Epoch [84/100], Step [200/600], d_loss: 0.9367, g_loss: 1.7683, D(x): 0.68, D(G(z)): 0.25\n",
            "Epoch [84/100], Step [400/600], d_loss: 0.7508, g_loss: 2.0502, D(x): 0.74, D(G(z)): 0.22\n",
            "Epoch [84/100], Step [600/600], d_loss: 0.8990, g_loss: 2.0474, D(x): 0.68, D(G(z)): 0.24\n",
            "Saving fake_images-0085.png\n",
            "Epoch [85/100], Step [200/600], d_loss: 0.7667, g_loss: 2.5833, D(x): 0.72, D(G(z)): 0.23\n",
            "Epoch [85/100], Step [400/600], d_loss: 0.6414, g_loss: 2.0639, D(x): 0.85, D(G(z)): 0.30\n",
            "Epoch [85/100], Step [600/600], d_loss: 0.7223, g_loss: 1.8183, D(x): 0.82, D(G(z)): 0.30\n",
            "Saving fake_images-0086.png\n",
            "Epoch [86/100], Step [200/600], d_loss: 0.6772, g_loss: 2.2219, D(x): 0.81, D(G(z)): 0.24\n",
            "Epoch [86/100], Step [400/600], d_loss: 0.6089, g_loss: 2.3318, D(x): 0.86, D(G(z)): 0.26\n",
            "Epoch [86/100], Step [600/600], d_loss: 0.8382, g_loss: 1.6435, D(x): 0.83, D(G(z)): 0.37\n",
            "Saving fake_images-0087.png\n",
            "Epoch [87/100], Step [200/600], d_loss: 0.8984, g_loss: 1.6673, D(x): 0.73, D(G(z)): 0.30\n",
            "Epoch [87/100], Step [400/600], d_loss: 0.7210, g_loss: 1.9685, D(x): 0.78, D(G(z)): 0.27\n",
            "Epoch [87/100], Step [600/600], d_loss: 0.8921, g_loss: 2.1483, D(x): 0.67, D(G(z)): 0.22\n",
            "Saving fake_images-0088.png\n",
            "Epoch [88/100], Step [200/600], d_loss: 0.6405, g_loss: 2.2526, D(x): 0.79, D(G(z)): 0.24\n",
            "Epoch [88/100], Step [400/600], d_loss: 0.8834, g_loss: 1.8398, D(x): 0.69, D(G(z)): 0.22\n",
            "Epoch [88/100], Step [600/600], d_loss: 0.8721, g_loss: 1.3790, D(x): 0.79, D(G(z)): 0.35\n",
            "Saving fake_images-0089.png\n",
            "Epoch [89/100], Step [200/600], d_loss: 0.5876, g_loss: 2.2178, D(x): 0.81, D(G(z)): 0.21\n",
            "Epoch [89/100], Step [400/600], d_loss: 1.1470, g_loss: 1.7457, D(x): 0.68, D(G(z)): 0.32\n",
            "Epoch [89/100], Step [600/600], d_loss: 0.7994, g_loss: 2.4704, D(x): 0.74, D(G(z)): 0.27\n",
            "Saving fake_images-0090.png\n",
            "Epoch [90/100], Step [200/600], d_loss: 0.6693, g_loss: 1.8459, D(x): 0.80, D(G(z)): 0.24\n",
            "Epoch [90/100], Step [400/600], d_loss: 0.8643, g_loss: 2.1547, D(x): 0.68, D(G(z)): 0.23\n",
            "Epoch [90/100], Step [600/600], d_loss: 0.7509, g_loss: 1.9714, D(x): 0.76, D(G(z)): 0.25\n",
            "Saving fake_images-0091.png\n",
            "Epoch [91/100], Step [200/600], d_loss: 0.9565, g_loss: 2.0836, D(x): 0.77, D(G(z)): 0.31\n",
            "Epoch [91/100], Step [400/600], d_loss: 0.8086, g_loss: 2.0786, D(x): 0.67, D(G(z)): 0.16\n",
            "Epoch [91/100], Step [600/600], d_loss: 0.8677, g_loss: 1.6404, D(x): 0.81, D(G(z)): 0.33\n",
            "Saving fake_images-0092.png\n",
            "Epoch [92/100], Step [200/600], d_loss: 0.8479, g_loss: 2.0850, D(x): 0.73, D(G(z)): 0.24\n",
            "Epoch [92/100], Step [400/600], d_loss: 0.7288, g_loss: 1.9259, D(x): 0.79, D(G(z)): 0.27\n",
            "Epoch [92/100], Step [600/600], d_loss: 0.7022, g_loss: 2.1248, D(x): 0.72, D(G(z)): 0.20\n",
            "Saving fake_images-0093.png\n",
            "Epoch [93/100], Step [200/600], d_loss: 0.7198, g_loss: 1.7003, D(x): 0.75, D(G(z)): 0.23\n",
            "Epoch [93/100], Step [400/600], d_loss: 0.8334, g_loss: 1.3193, D(x): 0.79, D(G(z)): 0.33\n",
            "Epoch [93/100], Step [600/600], d_loss: 0.9101, g_loss: 1.5098, D(x): 0.74, D(G(z)): 0.31\n",
            "Saving fake_images-0094.png\n",
            "Epoch [94/100], Step [200/600], d_loss: 0.9485, g_loss: 1.8696, D(x): 0.71, D(G(z)): 0.30\n",
            "Epoch [94/100], Step [400/600], d_loss: 0.7459, g_loss: 1.7105, D(x): 0.75, D(G(z)): 0.26\n",
            "Epoch [94/100], Step [600/600], d_loss: 0.7887, g_loss: 1.8202, D(x): 0.77, D(G(z)): 0.27\n",
            "Saving fake_images-0095.png\n",
            "Epoch [95/100], Step [200/600], d_loss: 0.7566, g_loss: 1.7322, D(x): 0.79, D(G(z)): 0.32\n",
            "Epoch [95/100], Step [400/600], d_loss: 0.5885, g_loss: 2.5228, D(x): 0.79, D(G(z)): 0.18\n",
            "Epoch [95/100], Step [600/600], d_loss: 0.8007, g_loss: 2.6407, D(x): 0.68, D(G(z)): 0.14\n",
            "Saving fake_images-0096.png\n",
            "Epoch [96/100], Step [200/600], d_loss: 0.7528, g_loss: 1.6014, D(x): 0.77, D(G(z)): 0.29\n",
            "Epoch [96/100], Step [400/600], d_loss: 0.7902, g_loss: 1.9410, D(x): 0.82, D(G(z)): 0.30\n",
            "Epoch [96/100], Step [600/600], d_loss: 0.6967, g_loss: 1.7068, D(x): 0.76, D(G(z)): 0.22\n",
            "Saving fake_images-0097.png\n",
            "Epoch [97/100], Step [200/600], d_loss: 0.9280, g_loss: 1.5069, D(x): 0.72, D(G(z)): 0.34\n",
            "Epoch [97/100], Step [400/600], d_loss: 0.9904, g_loss: 2.1049, D(x): 0.73, D(G(z)): 0.33\n",
            "Epoch [97/100], Step [600/600], d_loss: 0.7390, g_loss: 1.6111, D(x): 0.81, D(G(z)): 0.29\n",
            "Saving fake_images-0098.png\n",
            "Epoch [98/100], Step [200/600], d_loss: 0.9720, g_loss: 1.6938, D(x): 0.67, D(G(z)): 0.28\n",
            "Epoch [98/100], Step [400/600], d_loss: 0.7404, g_loss: 2.4600, D(x): 0.74, D(G(z)): 0.24\n",
            "Epoch [98/100], Step [600/600], d_loss: 0.6483, g_loss: 1.9964, D(x): 0.78, D(G(z)): 0.22\n",
            "Saving fake_images-0099.png\n",
            "Epoch [99/100], Step [200/600], d_loss: 0.6751, g_loss: 1.8964, D(x): 0.75, D(G(z)): 0.21\n",
            "Epoch [99/100], Step [400/600], d_loss: 0.7378, g_loss: 1.7447, D(x): 0.83, D(G(z)): 0.34\n",
            "Epoch [99/100], Step [600/600], d_loss: 0.9222, g_loss: 2.2849, D(x): 0.64, D(G(z)): 0.19\n",
            "Saving fake_images-0100.png\n"
          ]
        }
      ]
    },
    {
      "cell_type": "code",
      "source": [
        "# # generating a video from generator's progress\n",
        "import cv2\n",
        "import os\n",
        "\n",
        "vid_fname = 'gans_training.mp4'\n",
        "\n",
        "files = [os.path.join(sample_dir, f) for f in os.listdir(sample_dir) if 'generated' in f]\n",
        "files.sort()\n",
        "\n",
        "out = cv2.VideoWriter(vid_fname,cv2.VideoWriter_fourcc(*'MP4V'), 1, (530,530))\n",
        "[out.write(cv2.imread(fname)) for fname in files]\n",
        "out.release()\n"
      ],
      "metadata": {
        "id": "54PV_WAyUlhx"
      },
      "execution_count": 28,
      "outputs": []
    },
    {
      "cell_type": "code",
      "source": [
        ""
      ],
      "metadata": {
        "colab": {
          "base_uri": "https://localhost:8080/"
        },
        "id": "IH2QltnBbEeE",
        "outputId": "0b31dca8-58b4-41d5-b411-e4ce95a25625"
      },
      "execution_count": 27,
      "outputs": [
        {
          "output_type": "execute_result",
          "data": {
            "text/plain": [
              "[]"
            ]
          },
          "metadata": {},
          "execution_count": 27
        }
      ]
    },
    {
      "cell_type": "code",
      "source": [
        ""
      ],
      "metadata": {
        "id": "ydnGxla7bKDR"
      },
      "execution_count": null,
      "outputs": []
    }
  ]
}