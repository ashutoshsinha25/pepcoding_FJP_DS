{
  "nbformat": 4,
  "nbformat_minor": 0,
  "metadata": {
    "colab": {
      "provenance": [],
      "authorship_tag": "ABX9TyNUvn/SLOb0Da4um7NhmTvI",
      "include_colab_link": true
    },
    "kernelspec": {
      "name": "python3",
      "display_name": "Python 3"
    },
    "language_info": {
      "name": "python"
    }
  },
  "cells": [
    {
      "cell_type": "markdown",
      "metadata": {
        "id": "view-in-github",
        "colab_type": "text"
      },
      "source": [
        "<a href=\"https://colab.research.google.com/github/ashutoshsinha25/pepcoding_FJP_DS/blob/main/FJP_DS_shark_trank_EDA.ipynb\" target=\"_parent\"><img src=\"https://colab.research.google.com/assets/colab-badge.svg\" alt=\"Open In Colab\"/></a>"
      ]
    },
    {
      "cell_type": "code",
      "source": [
        "!pip install geopandas"
      ],
      "metadata": {
        "colab": {
          "base_uri": "https://localhost:8080/"
        },
        "id": "jgZOc_rDcUP7",
        "outputId": "d0a89f7a-8bbc-4bf0-c9b0-7bf108911cad"
      },
      "execution_count": 3,
      "outputs": [
        {
          "output_type": "stream",
          "name": "stdout",
          "text": [
            "Looking in indexes: https://pypi.org/simple, https://us-python.pkg.dev/colab-wheels/public/simple/\n",
            "Collecting geopandas\n",
            "  Downloading geopandas-0.10.2-py2.py3-none-any.whl (1.0 MB)\n",
            "\u001b[K     |████████████████████████████████| 1.0 MB 5.2 MB/s \n",
            "\u001b[?25hCollecting fiona>=1.8\n",
            "  Downloading Fiona-1.8.22-cp37-cp37m-manylinux2014_x86_64.whl (16.7 MB)\n",
            "\u001b[K     |████████████████████████████████| 16.7 MB 44.4 MB/s \n",
            "\u001b[?25hRequirement already satisfied: shapely>=1.6 in /usr/local/lib/python3.7/dist-packages (from geopandas) (1.8.5.post1)\n",
            "Requirement already satisfied: pandas>=0.25.0 in /usr/local/lib/python3.7/dist-packages (from geopandas) (1.3.5)\n",
            "Collecting pyproj>=2.2.0\n",
            "  Downloading pyproj-3.2.1-cp37-cp37m-manylinux2010_x86_64.whl (6.3 MB)\n",
            "\u001b[K     |████████████████████████████████| 6.3 MB 35.4 MB/s \n",
            "\u001b[?25hRequirement already satisfied: click>=4.0 in /usr/local/lib/python3.7/dist-packages (from fiona>=1.8->geopandas) (7.1.2)\n",
            "Requirement already satisfied: setuptools in /usr/local/lib/python3.7/dist-packages (from fiona>=1.8->geopandas) (57.4.0)\n",
            "Requirement already satisfied: attrs>=17 in /usr/local/lib/python3.7/dist-packages (from fiona>=1.8->geopandas) (22.1.0)\n",
            "Collecting cligj>=0.5\n",
            "  Downloading cligj-0.7.2-py3-none-any.whl (7.1 kB)\n",
            "Collecting click-plugins>=1.0\n",
            "  Downloading click_plugins-1.1.1-py2.py3-none-any.whl (7.5 kB)\n",
            "Collecting munch\n",
            "  Downloading munch-2.5.0-py2.py3-none-any.whl (10 kB)\n",
            "Requirement already satisfied: certifi in /usr/local/lib/python3.7/dist-packages (from fiona>=1.8->geopandas) (2022.9.24)\n",
            "Requirement already satisfied: six>=1.7 in /usr/local/lib/python3.7/dist-packages (from fiona>=1.8->geopandas) (1.15.0)\n",
            "Requirement already satisfied: python-dateutil>=2.7.3 in /usr/local/lib/python3.7/dist-packages (from pandas>=0.25.0->geopandas) (2.8.2)\n",
            "Requirement already satisfied: numpy>=1.17.3 in /usr/local/lib/python3.7/dist-packages (from pandas>=0.25.0->geopandas) (1.21.6)\n",
            "Requirement already satisfied: pytz>=2017.3 in /usr/local/lib/python3.7/dist-packages (from pandas>=0.25.0->geopandas) (2022.6)\n",
            "Installing collected packages: munch, cligj, click-plugins, pyproj, fiona, geopandas\n",
            "Successfully installed click-plugins-1.1.1 cligj-0.7.2 fiona-1.8.22 geopandas-0.10.2 munch-2.5.0 pyproj-3.2.1\n"
          ]
        }
      ]
    },
    {
      "cell_type": "code",
      "execution_count": 4,
      "metadata": {
        "id": "jQbfWyXPbu9W"
      },
      "outputs": [],
      "source": [
        "import numpy as np \n",
        "import pandas as pd \n",
        "import geopandas as gpd\n",
        "import matplotlib.pyplot as plt \n",
        "import seaborn as sns \n",
        "\n",
        "\n",
        "from babel.numbers import format_currency \n",
        "from wordcloud import WordCloud , STOPWORDS \n",
        "\n",
        "import plotly.express as px \n",
        "import plotly.io as pio \n",
        "\n",
        "pio.templates.default = \"plotly_dark\"\n",
        "pio.renderers.default = 'notebook'\n",
        "\n",
        "import warnings\n",
        "warnings.filterwarnings('ignore')\n",
        "%matplotlib inline"
      ]
    },
    {
      "cell_type": "code",
      "source": [
        "df = pd.read_csv('https://raw.githubusercontent.com/Pepcoders/Data-Science-January/main/Shark%20Tank%20India/SharkTank-Final.csv')"
      ],
      "metadata": {
        "id": "382ed8IocPkf"
      },
      "execution_count": 5,
      "outputs": []
    },
    {
      "cell_type": "code",
      "source": [
        "df.head()"
      ],
      "metadata": {
        "colab": {
          "base_uri": "https://localhost:8080/",
          "height": 525
        },
        "id": "dXodog1pcfkr",
        "outputId": "cc2b6203-0b9f-43a6-89a2-8bceb037545a"
      },
      "execution_count": 6,
      "outputs": [
        {
          "output_type": "execute_result",
          "data": {
            "text/plain": [
              "   Season  Episode             Company   \\\n",
              "0       1        1  BluePine Industries   \n",
              "1       1        1        Booz scooters   \n",
              "2       1        1  Heart up my Sleeves   \n",
              "3       1        2           Tagz Foods   \n",
              "4       1        2       Head and Heart   \n",
              "\n",
              "                                            Idea  Deal   Receive_Offer  \\\n",
              "0                                   Frozen Momos      1              1   \n",
              "1  Renting e-bike for mobility in private spaces      1              1   \n",
              "2                             Detachable Sleeves      1              1   \n",
              "3                           Healthy Potato Chips      1              1   \n",
              "4                       Brain Development Course      0              0   \n",
              "\n",
              "   Reject_Offer  Number of presenters  No of male presenters  \\\n",
              "0           0.0                     3                      2   \n",
              "1           0.0                     1                      1   \n",
              "2           0.0                     1                      0   \n",
              "3           0.0                     2                      2   \n",
              "4           NaN                     4                      1   \n",
              "\n",
              "   No of female presenters  ...  AshneerGrover_deal  AnupamMittal_deal  \\\n",
              "0                        1  ...                   1                  0   \n",
              "1                        0  ...                   1                  0   \n",
              "2                        1  ...                   0                  1   \n",
              "3                        0  ...                   1                  0   \n",
              "4                        3  ...                   0                  0   \n",
              "\n",
              "   AmanGupta_deal  NamitaThapar_deal  VineetaSingh_deal  PeyushBansal_deal  \\\n",
              "0               1                  0                  1                  0   \n",
              "1               0                  0                  1                  0   \n",
              "2               0                  0                  1                  0   \n",
              "3               0                  0                  0                  0   \n",
              "4               0                  0                  0                  0   \n",
              "\n",
              "   GhazalAlagh_deal  Number of Sharks invested  Amount per Shark   \\\n",
              "0                 0                          3               25.0   \n",
              "1                 0                          2               20.0   \n",
              "2                 0                          2               12.5   \n",
              "3                 0                          1               70.0   \n",
              "4                 0                          0                0.0   \n",
              "\n",
              "   Equity per Shark  \n",
              "0          5.333333  \n",
              "1         25.000000  \n",
              "2         15.000000  \n",
              "3          2.750000  \n",
              "4          0.000000  \n",
              "\n",
              "[5 rows x 33 columns]"
            ],
            "text/html": [
              "\n",
              "  <div id=\"df-696cca2f-f54c-4fd5-b446-3ff93ae47721\">\n",
              "    <div class=\"colab-df-container\">\n",
              "      <div>\n",
              "<style scoped>\n",
              "    .dataframe tbody tr th:only-of-type {\n",
              "        vertical-align: middle;\n",
              "    }\n",
              "\n",
              "    .dataframe tbody tr th {\n",
              "        vertical-align: top;\n",
              "    }\n",
              "\n",
              "    .dataframe thead th {\n",
              "        text-align: right;\n",
              "    }\n",
              "</style>\n",
              "<table border=\"1\" class=\"dataframe\">\n",
              "  <thead>\n",
              "    <tr style=\"text-align: right;\">\n",
              "      <th></th>\n",
              "      <th>Season</th>\n",
              "      <th>Episode</th>\n",
              "      <th>Company</th>\n",
              "      <th>Idea</th>\n",
              "      <th>Deal</th>\n",
              "      <th>Receive_Offer</th>\n",
              "      <th>Reject_Offer</th>\n",
              "      <th>Number of presenters</th>\n",
              "      <th>No of male presenters</th>\n",
              "      <th>No of female presenters</th>\n",
              "      <th>...</th>\n",
              "      <th>AshneerGrover_deal</th>\n",
              "      <th>AnupamMittal_deal</th>\n",
              "      <th>AmanGupta_deal</th>\n",
              "      <th>NamitaThapar_deal</th>\n",
              "      <th>VineetaSingh_deal</th>\n",
              "      <th>PeyushBansal_deal</th>\n",
              "      <th>GhazalAlagh_deal</th>\n",
              "      <th>Number of Sharks invested</th>\n",
              "      <th>Amount per Shark</th>\n",
              "      <th>Equity per Shark</th>\n",
              "    </tr>\n",
              "  </thead>\n",
              "  <tbody>\n",
              "    <tr>\n",
              "      <th>0</th>\n",
              "      <td>1</td>\n",
              "      <td>1</td>\n",
              "      <td>BluePine Industries</td>\n",
              "      <td>Frozen Momos</td>\n",
              "      <td>1</td>\n",
              "      <td>1</td>\n",
              "      <td>0.0</td>\n",
              "      <td>3</td>\n",
              "      <td>2</td>\n",
              "      <td>1</td>\n",
              "      <td>...</td>\n",
              "      <td>1</td>\n",
              "      <td>0</td>\n",
              "      <td>1</td>\n",
              "      <td>0</td>\n",
              "      <td>1</td>\n",
              "      <td>0</td>\n",
              "      <td>0</td>\n",
              "      <td>3</td>\n",
              "      <td>25.0</td>\n",
              "      <td>5.333333</td>\n",
              "    </tr>\n",
              "    <tr>\n",
              "      <th>1</th>\n",
              "      <td>1</td>\n",
              "      <td>1</td>\n",
              "      <td>Booz scooters</td>\n",
              "      <td>Renting e-bike for mobility in private spaces</td>\n",
              "      <td>1</td>\n",
              "      <td>1</td>\n",
              "      <td>0.0</td>\n",
              "      <td>1</td>\n",
              "      <td>1</td>\n",
              "      <td>0</td>\n",
              "      <td>...</td>\n",
              "      <td>1</td>\n",
              "      <td>0</td>\n",
              "      <td>0</td>\n",
              "      <td>0</td>\n",
              "      <td>1</td>\n",
              "      <td>0</td>\n",
              "      <td>0</td>\n",
              "      <td>2</td>\n",
              "      <td>20.0</td>\n",
              "      <td>25.000000</td>\n",
              "    </tr>\n",
              "    <tr>\n",
              "      <th>2</th>\n",
              "      <td>1</td>\n",
              "      <td>1</td>\n",
              "      <td>Heart up my Sleeves</td>\n",
              "      <td>Detachable Sleeves</td>\n",
              "      <td>1</td>\n",
              "      <td>1</td>\n",
              "      <td>0.0</td>\n",
              "      <td>1</td>\n",
              "      <td>0</td>\n",
              "      <td>1</td>\n",
              "      <td>...</td>\n",
              "      <td>0</td>\n",
              "      <td>1</td>\n",
              "      <td>0</td>\n",
              "      <td>0</td>\n",
              "      <td>1</td>\n",
              "      <td>0</td>\n",
              "      <td>0</td>\n",
              "      <td>2</td>\n",
              "      <td>12.5</td>\n",
              "      <td>15.000000</td>\n",
              "    </tr>\n",
              "    <tr>\n",
              "      <th>3</th>\n",
              "      <td>1</td>\n",
              "      <td>2</td>\n",
              "      <td>Tagz Foods</td>\n",
              "      <td>Healthy Potato Chips</td>\n",
              "      <td>1</td>\n",
              "      <td>1</td>\n",
              "      <td>0.0</td>\n",
              "      <td>2</td>\n",
              "      <td>2</td>\n",
              "      <td>0</td>\n",
              "      <td>...</td>\n",
              "      <td>1</td>\n",
              "      <td>0</td>\n",
              "      <td>0</td>\n",
              "      <td>0</td>\n",
              "      <td>0</td>\n",
              "      <td>0</td>\n",
              "      <td>0</td>\n",
              "      <td>1</td>\n",
              "      <td>70.0</td>\n",
              "      <td>2.750000</td>\n",
              "    </tr>\n",
              "    <tr>\n",
              "      <th>4</th>\n",
              "      <td>1</td>\n",
              "      <td>2</td>\n",
              "      <td>Head and Heart</td>\n",
              "      <td>Brain Development Course</td>\n",
              "      <td>0</td>\n",
              "      <td>0</td>\n",
              "      <td>NaN</td>\n",
              "      <td>4</td>\n",
              "      <td>1</td>\n",
              "      <td>3</td>\n",
              "      <td>...</td>\n",
              "      <td>0</td>\n",
              "      <td>0</td>\n",
              "      <td>0</td>\n",
              "      <td>0</td>\n",
              "      <td>0</td>\n",
              "      <td>0</td>\n",
              "      <td>0</td>\n",
              "      <td>0</td>\n",
              "      <td>0.0</td>\n",
              "      <td>0.000000</td>\n",
              "    </tr>\n",
              "  </tbody>\n",
              "</table>\n",
              "<p>5 rows × 33 columns</p>\n",
              "</div>\n",
              "      <button class=\"colab-df-convert\" onclick=\"convertToInteractive('df-696cca2f-f54c-4fd5-b446-3ff93ae47721')\"\n",
              "              title=\"Convert this dataframe to an interactive table.\"\n",
              "              style=\"display:none;\">\n",
              "        \n",
              "  <svg xmlns=\"http://www.w3.org/2000/svg\" height=\"24px\"viewBox=\"0 0 24 24\"\n",
              "       width=\"24px\">\n",
              "    <path d=\"M0 0h24v24H0V0z\" fill=\"none\"/>\n",
              "    <path d=\"M18.56 5.44l.94 2.06.94-2.06 2.06-.94-2.06-.94-.94-2.06-.94 2.06-2.06.94zm-11 1L8.5 8.5l.94-2.06 2.06-.94-2.06-.94L8.5 2.5l-.94 2.06-2.06.94zm10 10l.94 2.06.94-2.06 2.06-.94-2.06-.94-.94-2.06-.94 2.06-2.06.94z\"/><path d=\"M17.41 7.96l-1.37-1.37c-.4-.4-.92-.59-1.43-.59-.52 0-1.04.2-1.43.59L10.3 9.45l-7.72 7.72c-.78.78-.78 2.05 0 2.83L4 21.41c.39.39.9.59 1.41.59.51 0 1.02-.2 1.41-.59l7.78-7.78 2.81-2.81c.8-.78.8-2.07 0-2.86zM5.41 20L4 18.59l7.72-7.72 1.47 1.35L5.41 20z\"/>\n",
              "  </svg>\n",
              "      </button>\n",
              "      \n",
              "  <style>\n",
              "    .colab-df-container {\n",
              "      display:flex;\n",
              "      flex-wrap:wrap;\n",
              "      gap: 12px;\n",
              "    }\n",
              "\n",
              "    .colab-df-convert {\n",
              "      background-color: #E8F0FE;\n",
              "      border: none;\n",
              "      border-radius: 50%;\n",
              "      cursor: pointer;\n",
              "      display: none;\n",
              "      fill: #1967D2;\n",
              "      height: 32px;\n",
              "      padding: 0 0 0 0;\n",
              "      width: 32px;\n",
              "    }\n",
              "\n",
              "    .colab-df-convert:hover {\n",
              "      background-color: #E2EBFA;\n",
              "      box-shadow: 0px 1px 2px rgba(60, 64, 67, 0.3), 0px 1px 3px 1px rgba(60, 64, 67, 0.15);\n",
              "      fill: #174EA6;\n",
              "    }\n",
              "\n",
              "    [theme=dark] .colab-df-convert {\n",
              "      background-color: #3B4455;\n",
              "      fill: #D2E3FC;\n",
              "    }\n",
              "\n",
              "    [theme=dark] .colab-df-convert:hover {\n",
              "      background-color: #434B5C;\n",
              "      box-shadow: 0px 1px 3px 1px rgba(0, 0, 0, 0.15);\n",
              "      filter: drop-shadow(0px 1px 2px rgba(0, 0, 0, 0.3));\n",
              "      fill: #FFFFFF;\n",
              "    }\n",
              "  </style>\n",
              "\n",
              "      <script>\n",
              "        const buttonEl =\n",
              "          document.querySelector('#df-696cca2f-f54c-4fd5-b446-3ff93ae47721 button.colab-df-convert');\n",
              "        buttonEl.style.display =\n",
              "          google.colab.kernel.accessAllowed ? 'block' : 'none';\n",
              "\n",
              "        async function convertToInteractive(key) {\n",
              "          const element = document.querySelector('#df-696cca2f-f54c-4fd5-b446-3ff93ae47721');\n",
              "          const dataTable =\n",
              "            await google.colab.kernel.invokeFunction('convertToInteractive',\n",
              "                                                     [key], {});\n",
              "          if (!dataTable) return;\n",
              "\n",
              "          const docLinkHtml = 'Like what you see? Visit the ' +\n",
              "            '<a target=\"_blank\" href=https://colab.research.google.com/notebooks/data_table.ipynb>data table notebook</a>'\n",
              "            + ' to learn more about interactive tables.';\n",
              "          element.innerHTML = '';\n",
              "          dataTable['output_type'] = 'display_data';\n",
              "          await google.colab.output.renderOutput(dataTable, element);\n",
              "          const docLink = document.createElement('div');\n",
              "          docLink.innerHTML = docLinkHtml;\n",
              "          element.appendChild(docLink);\n",
              "        }\n",
              "      </script>\n",
              "    </div>\n",
              "  </div>\n",
              "  "
            ]
          },
          "metadata": {},
          "execution_count": 6
        }
      ]
    },
    {
      "cell_type": "code",
      "source": [
        "df.info()"
      ],
      "metadata": {
        "colab": {
          "base_uri": "https://localhost:8080/"
        },
        "id": "wOlY03e7cg1V",
        "outputId": "1b20e07e-8b51-41b1-8bd6-c5aa65f55fb0"
      },
      "execution_count": 7,
      "outputs": [
        {
          "output_type": "stream",
          "name": "stdout",
          "text": [
            "<class 'pandas.core.frame.DataFrame'>\n",
            "RangeIndex: 121 entries, 0 to 120\n",
            "Data columns (total 33 columns):\n",
            " #   Column                     Non-Null Count  Dtype  \n",
            "---  ------                     --------------  -----  \n",
            " 0   Season                     121 non-null    int64  \n",
            " 1   Episode                    121 non-null    int64  \n",
            " 2   Company                    121 non-null    object \n",
            " 3   Idea                       121 non-null    object \n",
            " 4   Deal                       121 non-null    int64  \n",
            " 5   Receive_Offer              121 non-null    int64  \n",
            " 6   Reject_Offer               87 non-null     float64\n",
            " 7   Number of presenters       121 non-null    int64  \n",
            " 8   No of male presenters      121 non-null    int64  \n",
            " 9   No of female presenters    121 non-null    int64  \n",
            " 10  Ask_Amount (INR Lakhs)     121 non-null    float64\n",
            " 11  Ask_Equity                 121 non-null    float64\n",
            " 12  Ask_Valuation (INR Lakhs)  121 non-null    float64\n",
            " 13  Deal_Amount (INR Lakhs)    121 non-null    float64\n",
            " 14  Deal_Equity                121 non-null    float64\n",
            " 15  Deal_Valuation             121 non-null    float64\n",
            " 16  AshneerGrover_present      121 non-null    int64  \n",
            " 17  AnupamMittal_present       121 non-null    int64  \n",
            " 18  AmanGupta_present          121 non-null    int64  \n",
            " 19  NamitaThapar_present       121 non-null    int64  \n",
            " 20  VineetaSingh_present       121 non-null    int64  \n",
            " 21  PeyushBansal_present       121 non-null    int64  \n",
            " 22  GhazalAlagh_present        121 non-null    int64  \n",
            " 23  AshneerGrover_deal         121 non-null    int64  \n",
            " 24  AnupamMittal_deal          121 non-null    int64  \n",
            " 25  AmanGupta_deal             121 non-null    int64  \n",
            " 26  NamitaThapar_deal          121 non-null    int64  \n",
            " 27  VineetaSingh_deal          121 non-null    int64  \n",
            " 28  PeyushBansal_deal          121 non-null    int64  \n",
            " 29  GhazalAlagh_deal           121 non-null    int64  \n",
            " 30  Number of Sharks invested  121 non-null    int64  \n",
            " 31  Amount per Shark           121 non-null    float64\n",
            " 32  Equity per Shark           121 non-null    float64\n",
            "dtypes: float64(9), int64(22), object(2)\n",
            "memory usage: 31.3+ KB\n"
          ]
        }
      ]
    },
    {
      "cell_type": "code",
      "source": [
        "df.isnull().sum()"
      ],
      "metadata": {
        "colab": {
          "base_uri": "https://localhost:8080/"
        },
        "id": "amJiSajOcjqA",
        "outputId": "3cdcf881-7af1-4244-f842-f493de7df1ef"
      },
      "execution_count": 8,
      "outputs": [
        {
          "output_type": "execute_result",
          "data": {
            "text/plain": [
              "Season                        0\n",
              "Episode                       0\n",
              "Company                       0\n",
              "Idea                          0\n",
              "Deal                          0\n",
              "Receive_Offer                 0\n",
              "Reject_Offer                 34\n",
              "Number of presenters          0\n",
              "No of male presenters         0\n",
              "No of female presenters       0\n",
              "Ask_Amount (INR Lakhs)        0\n",
              "Ask_Equity                    0\n",
              "Ask_Valuation (INR Lakhs)     0\n",
              "Deal_Amount (INR Lakhs)       0\n",
              "Deal_Equity                   0\n",
              "Deal_Valuation                0\n",
              "AshneerGrover_present         0\n",
              "AnupamMittal_present          0\n",
              "AmanGupta_present             0\n",
              "NamitaThapar_present          0\n",
              "VineetaSingh_present          0\n",
              "PeyushBansal_present          0\n",
              "GhazalAlagh_present           0\n",
              "AshneerGrover_deal            0\n",
              "AnupamMittal_deal             0\n",
              "AmanGupta_deal                0\n",
              "NamitaThapar_deal             0\n",
              "VineetaSingh_deal             0\n",
              "PeyushBansal_deal             0\n",
              "GhazalAlagh_deal              0\n",
              "Number of Sharks invested     0\n",
              "Amount per Shark              0\n",
              "Equity per Shark              0\n",
              "dtype: int64"
            ]
          },
          "metadata": {},
          "execution_count": 8
        }
      ]
    },
    {
      "cell_type": "code",
      "source": [
        "df.describe()"
      ],
      "metadata": {
        "colab": {
          "base_uri": "https://localhost:8080/",
          "height": 428
        },
        "id": "_30hu6rcclok",
        "outputId": "a522e37c-e183-430b-e78f-125a89cafef5"
      },
      "execution_count": 9,
      "outputs": [
        {
          "output_type": "execute_result",
          "data": {
            "text/plain": [
              "       Season     Episode       Deal   Receive_Offer  Reject_Offer  \\\n",
              "count   121.0  121.000000  121.000000     121.000000     87.000000   \n",
              "mean      1.0   19.305785    0.553719       0.719008      0.206897   \n",
              "std       0.0   10.375326    0.499173       0.451352      0.407429   \n",
              "min       1.0    1.000000    0.000000       0.000000      0.000000   \n",
              "25%       1.0   11.000000    0.000000       0.000000      0.000000   \n",
              "50%       1.0   19.000000    1.000000       1.000000      0.000000   \n",
              "75%       1.0   28.000000    1.000000       1.000000      0.000000   \n",
              "max       1.0   36.000000    1.000000       1.000000      1.000000   \n",
              "\n",
              "       Number of presenters  No of male presenters  No of female presenters  \\\n",
              "count            121.000000             121.000000               121.000000   \n",
              "mean               2.066116               1.446281                 0.619835   \n",
              "std                0.946357               1.079741                 0.698286   \n",
              "min                1.000000               0.000000                 0.000000   \n",
              "25%                1.000000               1.000000                 0.000000   \n",
              "50%                2.000000               1.000000                 1.000000   \n",
              "75%                3.000000               2.000000                 1.000000   \n",
              "max                6.000000               6.000000                 3.000000   \n",
              "\n",
              "       Ask_Amount (INR Lakhs)  Ask_Equity  ...  AshneerGrover_deal  \\\n",
              "count              121.000000  121.000000  ...          121.000000   \n",
              "mean               312.338851    5.083306  ...            0.173554   \n",
              "std               2721.640471    3.882554  ...            0.380300   \n",
              "min                  0.001010    0.250000  ...            0.000000   \n",
              "25%                 45.000000    2.000000  ...            0.000000   \n",
              "50%                 50.000000    5.000000  ...            0.000000   \n",
              "75%                 80.000000    7.000000  ...            0.000000   \n",
              "max              30000.000000   25.000000  ...            1.000000   \n",
              "\n",
              "       AnupamMittal_deal  AmanGupta_deal  NamitaThapar_deal  \\\n",
              "count         121.000000      121.000000         121.000000   \n",
              "mean            0.198347        0.239669           0.198347   \n",
              "std             0.400413        0.428657           0.400413   \n",
              "min             0.000000        0.000000           0.000000   \n",
              "25%             0.000000        0.000000           0.000000   \n",
              "50%             0.000000        0.000000           0.000000   \n",
              "75%             0.000000        0.000000           0.000000   \n",
              "max             1.000000        1.000000           1.000000   \n",
              "\n",
              "       VineetaSingh_deal  PeyushBansal_deal  GhazalAlagh_deal  \\\n",
              "count         121.000000         121.000000        121.000000   \n",
              "mean            0.132231           0.231405          0.057851   \n",
              "std             0.340151           0.423484          0.234433   \n",
              "min             0.000000           0.000000          0.000000   \n",
              "25%             0.000000           0.000000          0.000000   \n",
              "50%             0.000000           0.000000          0.000000   \n",
              "75%             0.000000           0.000000          0.000000   \n",
              "max             1.000000           1.000000          1.000000   \n",
              "\n",
              "       Number of Sharks invested  Amount per Shark   Equity per Shark  \n",
              "count                 121.000000         121.000000        121.000000  \n",
              "mean                    1.231405          17.797523          5.448595  \n",
              "std                     1.406890          23.338184         10.651783  \n",
              "min                     0.000000           0.000000          0.000000  \n",
              "25%                     0.000000           0.000000          0.000000  \n",
              "50%                     1.000000          10.000000          1.250000  \n",
              "75%                     2.000000          25.000000          6.000000  \n",
              "max                     5.000000         100.000000         75.000000  \n",
              "\n",
              "[8 rows x 31 columns]"
            ],
            "text/html": [
              "\n",
              "  <div id=\"df-96d2de08-849e-4364-b507-c44d3473f34f\">\n",
              "    <div class=\"colab-df-container\">\n",
              "      <div>\n",
              "<style scoped>\n",
              "    .dataframe tbody tr th:only-of-type {\n",
              "        vertical-align: middle;\n",
              "    }\n",
              "\n",
              "    .dataframe tbody tr th {\n",
              "        vertical-align: top;\n",
              "    }\n",
              "\n",
              "    .dataframe thead th {\n",
              "        text-align: right;\n",
              "    }\n",
              "</style>\n",
              "<table border=\"1\" class=\"dataframe\">\n",
              "  <thead>\n",
              "    <tr style=\"text-align: right;\">\n",
              "      <th></th>\n",
              "      <th>Season</th>\n",
              "      <th>Episode</th>\n",
              "      <th>Deal</th>\n",
              "      <th>Receive_Offer</th>\n",
              "      <th>Reject_Offer</th>\n",
              "      <th>Number of presenters</th>\n",
              "      <th>No of male presenters</th>\n",
              "      <th>No of female presenters</th>\n",
              "      <th>Ask_Amount (INR Lakhs)</th>\n",
              "      <th>Ask_Equity</th>\n",
              "      <th>...</th>\n",
              "      <th>AshneerGrover_deal</th>\n",
              "      <th>AnupamMittal_deal</th>\n",
              "      <th>AmanGupta_deal</th>\n",
              "      <th>NamitaThapar_deal</th>\n",
              "      <th>VineetaSingh_deal</th>\n",
              "      <th>PeyushBansal_deal</th>\n",
              "      <th>GhazalAlagh_deal</th>\n",
              "      <th>Number of Sharks invested</th>\n",
              "      <th>Amount per Shark</th>\n",
              "      <th>Equity per Shark</th>\n",
              "    </tr>\n",
              "  </thead>\n",
              "  <tbody>\n",
              "    <tr>\n",
              "      <th>count</th>\n",
              "      <td>121.0</td>\n",
              "      <td>121.000000</td>\n",
              "      <td>121.000000</td>\n",
              "      <td>121.000000</td>\n",
              "      <td>87.000000</td>\n",
              "      <td>121.000000</td>\n",
              "      <td>121.000000</td>\n",
              "      <td>121.000000</td>\n",
              "      <td>121.000000</td>\n",
              "      <td>121.000000</td>\n",
              "      <td>...</td>\n",
              "      <td>121.000000</td>\n",
              "      <td>121.000000</td>\n",
              "      <td>121.000000</td>\n",
              "      <td>121.000000</td>\n",
              "      <td>121.000000</td>\n",
              "      <td>121.000000</td>\n",
              "      <td>121.000000</td>\n",
              "      <td>121.000000</td>\n",
              "      <td>121.000000</td>\n",
              "      <td>121.000000</td>\n",
              "    </tr>\n",
              "    <tr>\n",
              "      <th>mean</th>\n",
              "      <td>1.0</td>\n",
              "      <td>19.305785</td>\n",
              "      <td>0.553719</td>\n",
              "      <td>0.719008</td>\n",
              "      <td>0.206897</td>\n",
              "      <td>2.066116</td>\n",
              "      <td>1.446281</td>\n",
              "      <td>0.619835</td>\n",
              "      <td>312.338851</td>\n",
              "      <td>5.083306</td>\n",
              "      <td>...</td>\n",
              "      <td>0.173554</td>\n",
              "      <td>0.198347</td>\n",
              "      <td>0.239669</td>\n",
              "      <td>0.198347</td>\n",
              "      <td>0.132231</td>\n",
              "      <td>0.231405</td>\n",
              "      <td>0.057851</td>\n",
              "      <td>1.231405</td>\n",
              "      <td>17.797523</td>\n",
              "      <td>5.448595</td>\n",
              "    </tr>\n",
              "    <tr>\n",
              "      <th>std</th>\n",
              "      <td>0.0</td>\n",
              "      <td>10.375326</td>\n",
              "      <td>0.499173</td>\n",
              "      <td>0.451352</td>\n",
              "      <td>0.407429</td>\n",
              "      <td>0.946357</td>\n",
              "      <td>1.079741</td>\n",
              "      <td>0.698286</td>\n",
              "      <td>2721.640471</td>\n",
              "      <td>3.882554</td>\n",
              "      <td>...</td>\n",
              "      <td>0.380300</td>\n",
              "      <td>0.400413</td>\n",
              "      <td>0.428657</td>\n",
              "      <td>0.400413</td>\n",
              "      <td>0.340151</td>\n",
              "      <td>0.423484</td>\n",
              "      <td>0.234433</td>\n",
              "      <td>1.406890</td>\n",
              "      <td>23.338184</td>\n",
              "      <td>10.651783</td>\n",
              "    </tr>\n",
              "    <tr>\n",
              "      <th>min</th>\n",
              "      <td>1.0</td>\n",
              "      <td>1.000000</td>\n",
              "      <td>0.000000</td>\n",
              "      <td>0.000000</td>\n",
              "      <td>0.000000</td>\n",
              "      <td>1.000000</td>\n",
              "      <td>0.000000</td>\n",
              "      <td>0.000000</td>\n",
              "      <td>0.001010</td>\n",
              "      <td>0.250000</td>\n",
              "      <td>...</td>\n",
              "      <td>0.000000</td>\n",
              "      <td>0.000000</td>\n",
              "      <td>0.000000</td>\n",
              "      <td>0.000000</td>\n",
              "      <td>0.000000</td>\n",
              "      <td>0.000000</td>\n",
              "      <td>0.000000</td>\n",
              "      <td>0.000000</td>\n",
              "      <td>0.000000</td>\n",
              "      <td>0.000000</td>\n",
              "    </tr>\n",
              "    <tr>\n",
              "      <th>25%</th>\n",
              "      <td>1.0</td>\n",
              "      <td>11.000000</td>\n",
              "      <td>0.000000</td>\n",
              "      <td>0.000000</td>\n",
              "      <td>0.000000</td>\n",
              "      <td>1.000000</td>\n",
              "      <td>1.000000</td>\n",
              "      <td>0.000000</td>\n",
              "      <td>45.000000</td>\n",
              "      <td>2.000000</td>\n",
              "      <td>...</td>\n",
              "      <td>0.000000</td>\n",
              "      <td>0.000000</td>\n",
              "      <td>0.000000</td>\n",
              "      <td>0.000000</td>\n",
              "      <td>0.000000</td>\n",
              "      <td>0.000000</td>\n",
              "      <td>0.000000</td>\n",
              "      <td>0.000000</td>\n",
              "      <td>0.000000</td>\n",
              "      <td>0.000000</td>\n",
              "    </tr>\n",
              "    <tr>\n",
              "      <th>50%</th>\n",
              "      <td>1.0</td>\n",
              "      <td>19.000000</td>\n",
              "      <td>1.000000</td>\n",
              "      <td>1.000000</td>\n",
              "      <td>0.000000</td>\n",
              "      <td>2.000000</td>\n",
              "      <td>1.000000</td>\n",
              "      <td>1.000000</td>\n",
              "      <td>50.000000</td>\n",
              "      <td>5.000000</td>\n",
              "      <td>...</td>\n",
              "      <td>0.000000</td>\n",
              "      <td>0.000000</td>\n",
              "      <td>0.000000</td>\n",
              "      <td>0.000000</td>\n",
              "      <td>0.000000</td>\n",
              "      <td>0.000000</td>\n",
              "      <td>0.000000</td>\n",
              "      <td>1.000000</td>\n",
              "      <td>10.000000</td>\n",
              "      <td>1.250000</td>\n",
              "    </tr>\n",
              "    <tr>\n",
              "      <th>75%</th>\n",
              "      <td>1.0</td>\n",
              "      <td>28.000000</td>\n",
              "      <td>1.000000</td>\n",
              "      <td>1.000000</td>\n",
              "      <td>0.000000</td>\n",
              "      <td>3.000000</td>\n",
              "      <td>2.000000</td>\n",
              "      <td>1.000000</td>\n",
              "      <td>80.000000</td>\n",
              "      <td>7.000000</td>\n",
              "      <td>...</td>\n",
              "      <td>0.000000</td>\n",
              "      <td>0.000000</td>\n",
              "      <td>0.000000</td>\n",
              "      <td>0.000000</td>\n",
              "      <td>0.000000</td>\n",
              "      <td>0.000000</td>\n",
              "      <td>0.000000</td>\n",
              "      <td>2.000000</td>\n",
              "      <td>25.000000</td>\n",
              "      <td>6.000000</td>\n",
              "    </tr>\n",
              "    <tr>\n",
              "      <th>max</th>\n",
              "      <td>1.0</td>\n",
              "      <td>36.000000</td>\n",
              "      <td>1.000000</td>\n",
              "      <td>1.000000</td>\n",
              "      <td>1.000000</td>\n",
              "      <td>6.000000</td>\n",
              "      <td>6.000000</td>\n",
              "      <td>3.000000</td>\n",
              "      <td>30000.000000</td>\n",
              "      <td>25.000000</td>\n",
              "      <td>...</td>\n",
              "      <td>1.000000</td>\n",
              "      <td>1.000000</td>\n",
              "      <td>1.000000</td>\n",
              "      <td>1.000000</td>\n",
              "      <td>1.000000</td>\n",
              "      <td>1.000000</td>\n",
              "      <td>1.000000</td>\n",
              "      <td>5.000000</td>\n",
              "      <td>100.000000</td>\n",
              "      <td>75.000000</td>\n",
              "    </tr>\n",
              "  </tbody>\n",
              "</table>\n",
              "<p>8 rows × 31 columns</p>\n",
              "</div>\n",
              "      <button class=\"colab-df-convert\" onclick=\"convertToInteractive('df-96d2de08-849e-4364-b507-c44d3473f34f')\"\n",
              "              title=\"Convert this dataframe to an interactive table.\"\n",
              "              style=\"display:none;\">\n",
              "        \n",
              "  <svg xmlns=\"http://www.w3.org/2000/svg\" height=\"24px\"viewBox=\"0 0 24 24\"\n",
              "       width=\"24px\">\n",
              "    <path d=\"M0 0h24v24H0V0z\" fill=\"none\"/>\n",
              "    <path d=\"M18.56 5.44l.94 2.06.94-2.06 2.06-.94-2.06-.94-.94-2.06-.94 2.06-2.06.94zm-11 1L8.5 8.5l.94-2.06 2.06-.94-2.06-.94L8.5 2.5l-.94 2.06-2.06.94zm10 10l.94 2.06.94-2.06 2.06-.94-2.06-.94-.94-2.06-.94 2.06-2.06.94z\"/><path d=\"M17.41 7.96l-1.37-1.37c-.4-.4-.92-.59-1.43-.59-.52 0-1.04.2-1.43.59L10.3 9.45l-7.72 7.72c-.78.78-.78 2.05 0 2.83L4 21.41c.39.39.9.59 1.41.59.51 0 1.02-.2 1.41-.59l7.78-7.78 2.81-2.81c.8-.78.8-2.07 0-2.86zM5.41 20L4 18.59l7.72-7.72 1.47 1.35L5.41 20z\"/>\n",
              "  </svg>\n",
              "      </button>\n",
              "      \n",
              "  <style>\n",
              "    .colab-df-container {\n",
              "      display:flex;\n",
              "      flex-wrap:wrap;\n",
              "      gap: 12px;\n",
              "    }\n",
              "\n",
              "    .colab-df-convert {\n",
              "      background-color: #E8F0FE;\n",
              "      border: none;\n",
              "      border-radius: 50%;\n",
              "      cursor: pointer;\n",
              "      display: none;\n",
              "      fill: #1967D2;\n",
              "      height: 32px;\n",
              "      padding: 0 0 0 0;\n",
              "      width: 32px;\n",
              "    }\n",
              "\n",
              "    .colab-df-convert:hover {\n",
              "      background-color: #E2EBFA;\n",
              "      box-shadow: 0px 1px 2px rgba(60, 64, 67, 0.3), 0px 1px 3px 1px rgba(60, 64, 67, 0.15);\n",
              "      fill: #174EA6;\n",
              "    }\n",
              "\n",
              "    [theme=dark] .colab-df-convert {\n",
              "      background-color: #3B4455;\n",
              "      fill: #D2E3FC;\n",
              "    }\n",
              "\n",
              "    [theme=dark] .colab-df-convert:hover {\n",
              "      background-color: #434B5C;\n",
              "      box-shadow: 0px 1px 3px 1px rgba(0, 0, 0, 0.15);\n",
              "      filter: drop-shadow(0px 1px 2px rgba(0, 0, 0, 0.3));\n",
              "      fill: #FFFFFF;\n",
              "    }\n",
              "  </style>\n",
              "\n",
              "      <script>\n",
              "        const buttonEl =\n",
              "          document.querySelector('#df-96d2de08-849e-4364-b507-c44d3473f34f button.colab-df-convert');\n",
              "        buttonEl.style.display =\n",
              "          google.colab.kernel.accessAllowed ? 'block' : 'none';\n",
              "\n",
              "        async function convertToInteractive(key) {\n",
              "          const element = document.querySelector('#df-96d2de08-849e-4364-b507-c44d3473f34f');\n",
              "          const dataTable =\n",
              "            await google.colab.kernel.invokeFunction('convertToInteractive',\n",
              "                                                     [key], {});\n",
              "          if (!dataTable) return;\n",
              "\n",
              "          const docLinkHtml = 'Like what you see? Visit the ' +\n",
              "            '<a target=\"_blank\" href=https://colab.research.google.com/notebooks/data_table.ipynb>data table notebook</a>'\n",
              "            + ' to learn more about interactive tables.';\n",
              "          element.innerHTML = '';\n",
              "          dataTable['output_type'] = 'display_data';\n",
              "          await google.colab.output.renderOutput(dataTable, element);\n",
              "          const docLink = document.createElement('div');\n",
              "          docLink.innerHTML = docLinkHtml;\n",
              "          element.appendChild(docLink);\n",
              "        }\n",
              "      </script>\n",
              "    </div>\n",
              "  </div>\n",
              "  "
            ]
          },
          "metadata": {},
          "execution_count": 9
        }
      ]
    },
    {
      "cell_type": "code",
      "source": [
        "df['Deal '].value_counts()"
      ],
      "metadata": {
        "colab": {
          "base_uri": "https://localhost:8080/"
        },
        "id": "E3t4IjY1cnTy",
        "outputId": "069fa35a-6ab4-475b-ec62-97ddeab9fbcc"
      },
      "execution_count": 11,
      "outputs": [
        {
          "output_type": "execute_result",
          "data": {
            "text/plain": [
              "1    67\n",
              "0    54\n",
              "Name: Deal , dtype: int64"
            ]
          },
          "metadata": {},
          "execution_count": 11
        }
      ]
    },
    {
      "cell_type": "code",
      "source": [
        "sns.barplot(df['Deal '],df['Receive_Offer'])"
      ],
      "metadata": {
        "colab": {
          "base_uri": "https://localhost:8080/",
          "height": 296
        },
        "id": "nrisat9kcqc9",
        "outputId": "ec2c17be-7e67-4636-afd8-0c0ddaaa46bb"
      },
      "execution_count": 12,
      "outputs": [
        {
          "output_type": "execute_result",
          "data": {
            "text/plain": [
              "<matplotlib.axes._subplots.AxesSubplot at 0x7f87d61d41d0>"
            ]
          },
          "metadata": {},
          "execution_count": 12
        },
        {
          "output_type": "display_data",
          "data": {
            "text/plain": [
              "<Figure size 432x288 with 1 Axes>"
            ],
            "image/png": "[encoded data removed]"
          },
          "metadata": {
            "needs_background": "light"
          }
        }
      ]
    },
    {
      "cell_type": "code",
      "source": [
        "\n",
        "df['AshneerGrover_present'].value_counts()"
      ],
      "metadata": {
        "colab": {
          "base_uri": "https://localhost:8080/"
        },
        "id": "vrqy7sJZcuIi",
        "outputId": "19ce8764-df4f-4640-aca5-d8a6347a83da"
      },
      "execution_count": 13,
      "outputs": [
        {
          "output_type": "execute_result",
          "data": {
            "text/plain": [
              "1    98\n",
              "0    23\n",
              "Name: AshneerGrover_present, dtype: int64"
            ]
          },
          "metadata": {},
          "execution_count": 13
        }
      ]
    },
    {
      "cell_type": "code",
      "source": [
        "\n",
        "df['AnupamMittal_present'].value_counts()"
      ],
      "metadata": {
        "colab": {
          "base_uri": "https://localhost:8080/"
        },
        "id": "uDOBDxUecv6l",
        "outputId": "62c01eda-754f-49a5-d372-a18c62b497de"
      },
      "execution_count": 14,
      "outputs": [
        {
          "output_type": "execute_result",
          "data": {
            "text/plain": [
              "1    121\n",
              "Name: AnupamMittal_present, dtype: int64"
            ]
          },
          "metadata": {},
          "execution_count": 14
        }
      ]
    },
    {
      "cell_type": "code",
      "source": [
        "df['AmanGupta_present'].value_counts()"
      ],
      "metadata": {
        "colab": {
          "base_uri": "https://localhost:8080/"
        },
        "id": "G7MZjucWcxkC",
        "outputId": "9512925d-1cf8-4a9c-a1ed-396c2ace805e"
      },
      "execution_count": 15,
      "outputs": [
        {
          "output_type": "execute_result",
          "data": {
            "text/plain": [
              "1    102\n",
              "0     19\n",
              "Name: AmanGupta_present, dtype: int64"
            ]
          },
          "metadata": {},
          "execution_count": 15
        }
      ]
    },
    {
      "cell_type": "code",
      "source": [
        "Ashneer_present=len(df[df.AshneerGrover_present==1])\n",
        "Anupam_present=len(df[df.AnupamMittal_present==1])\n",
        "Aman_present=len(df[df.AmanGupta_present==1])\n",
        "Namita_present=len(df[df.NamitaThapar_present==1])\n",
        "Vinneta_present=len(df[df.VineetaSingh_present==1])\n",
        "Peyush_present=len(df[df.PeyushBansal_present==1])\n",
        "Ghazal_present=len(df[df.GhazalAlagh_present==1])"
      ],
      "metadata": {
        "id": "vq6_NjYzcysT"
      },
      "execution_count": 16,
      "outputs": []
    },
    {
      "cell_type": "code",
      "source": [
        "Ashneer_present"
      ],
      "metadata": {
        "colab": {
          "base_uri": "https://localhost:8080/"
        },
        "id": "Y2fl6dtmc3wh",
        "outputId": "6bbc6594-344e-4dbd-d672-6300e1991dde"
      },
      "execution_count": 17,
      "outputs": [
        {
          "output_type": "execute_result",
          "data": {
            "text/plain": [
              "98"
            ]
          },
          "metadata": {},
          "execution_count": 17
        }
      ]
    },
    {
      "cell_type": "code",
      "source": [
        "\n",
        "fig=plt.figure(figsize=(10,5))\n",
        "present=[Ashneer_present,Anupam_present,Aman_present,Namita_present,Vinneta_present,Peyush_present,Ghazal_present]\n",
        "name=['Ashneer','Anupam','Aman','Namita','Vinneta','Peyush','Ghazal']\n",
        "plt.bar(name,present,color='maroon',width=0.4)\n",
        "plt.xlabel(\"Candidate Name\")\n",
        "plt.ylabel(\"Candidate Present\")\n",
        "plt.title(\"Candidate Present vs Name\")\n",
        "plt.show()"
      ],
      "metadata": {
        "colab": {
          "base_uri": "https://localhost:8080/",
          "height": 350
        },
        "id": "0pTkluAYc49F",
        "outputId": "eac84743-a336-4404-f0e3-8d0ec75f8090"
      },
      "execution_count": 18,
      "outputs": [
        {
          "output_type": "display_data",
          "data": {
            "text/plain": [
              "<Figure size 720x360 with 1 Axes>"
            ],
            "image/png": "[encoded data removed]"
          },
          "metadata": {
            "needs_background": "light"
          }
        }
      ]
    },
    {
      "cell_type": "code",
      "source": [
        "plt.pie(present,labels=name,radius=2,autopct='%0.1f%%')\n",
        "plt.suptitle('% of Candidates present ',x=0.55,y=1.15)"
      ],
      "metadata": {
        "colab": {
          "base_uri": "https://localhost:8080/",
          "height": 440
        },
        "id": "12uPa2z-c8NG",
        "outputId": "0d4b7ed5-e2a7-4e81-d5db-9de50907b06f"
      },
      "execution_count": 19,
      "outputs": [
        {
          "output_type": "execute_result",
          "data": {
            "text/plain": [
              "Text(0.55, 1.15, '% of Candidates present ')"
            ]
          },
          "metadata": {},
          "execution_count": 19
        },
        {
          "output_type": "display_data",
          "data": {
            "text/plain": [
              "<Figure size 432x288 with 1 Axes>"
            ],
            "image/png": "[encoded data removed]"
          },
          "metadata": {}
        }
      ]
    },
    {
      "cell_type": "code",
      "source": [
        "aman_deal = len(df[df.AmanGupta_deal == 1])\n",
        "anupam_deal = len(df[df.AnupamMittal_deal == 1])\n",
        "ashneer_deal = len(df[df.AshneerGrover_deal == 1])\n",
        "ghazal_deal = len(df[df.GhazalAlagh_deal == 1])\n",
        "namita_deal = len(df[df.NamitaThapar_deal == 1])\n",
        "peyush_deal = len(df[df.PeyushBansal_deal == 1])\n",
        "vineeta_deal = len(df[df.VineetaSingh_deal == 1])"
      ],
      "metadata": {
        "id": "UqZUhArGc_Vs"
      },
      "execution_count": 20,
      "outputs": []
    },
    {
      "cell_type": "code",
      "source": [
        "fig = plt.figure(figsize = (10, 5))\n",
        "deal = [aman_deal, anupam_deal, ashneer_deal, ghazal_deal,\n",
        "namita_deal, peyush_deal, vineeta_deal]\n",
        "names = ['Aman','Anupam', 'Ashneer', 'Ghazal', 'Namita', 'Peyush', 'Vineeta']\n",
        "plt.bar(names, deal, color ='orange',width = 0.4)\n",
        "plt.xlabel(\"Candidate Name\")\n",
        "plt.ylabel(\"Candidate Invested\")\n",
        "plt.title(\"Candidate Invested vs Name\")\n",
        "plt.show()"
      ],
      "metadata": {
        "colab": {
          "base_uri": "https://localhost:8080/",
          "height": 350
        },
        "id": "TEmS7Wj8dAeJ",
        "outputId": "1879710f-335d-439b-ec7e-61aa4ab73d52"
      },
      "execution_count": 21,
      "outputs": [
        {
          "output_type": "display_data",
          "data": {
            "text/plain": [
              "<Figure size 720x360 with 1 Axes>"
            ],
            "image/png": "[encoded data removed]"
          },
          "metadata": {
            "needs_background": "light"
          }
        }
      ]
    },
    {
      "cell_type": "code",
      "source": [
        "plt.pie(deal,labels=names,radius=2,autopct='%0.1f%%')\n",
        "plt.suptitle('Percentage of candidates deal',x=0.55,y=1.15)\n",
        "plt.show()"
      ],
      "metadata": {
        "colab": {
          "base_uri": "https://localhost:8080/",
          "height": 412
        },
        "id": "_brEzuvQdBeZ",
        "outputId": "264f8967-4926-4c57-b19b-185f5134d168"
      },
      "execution_count": 22,
      "outputs": [
        {
          "output_type": "display_data",
          "data": {
            "text/plain": [
              "<Figure size 432x288 with 1 Axes>"
            ],
            "image/png": "[encoded data removed]"
          },
          "metadata": {}
        }
      ]
    },
    {
      "cell_type": "code",
      "source": [
        "#percentage of inventments\n",
        "aman_percent = (aman_deal/Aman_present)*100\n",
        "anupam_percent = (anupam_deal/Anupam_present)*100\n",
        "ashneer_percent = (ashneer_deal/Ashneer_present)*100\n",
        "ghazal_percent = (ghazal_deal/Ghazal_present)*100\n",
        "namita_percent = (namita_deal/Namita_present)*100\n",
        "peyush_percent = (peyush_deal/Peyush_present)*100\n",
        "vineeta_percent = (vineeta_deal/Vinneta_present)*100"
      ],
      "metadata": {
        "id": "BgRreEM5dCgm"
      },
      "execution_count": 23,
      "outputs": []
    },
    {
      "cell_type": "code",
      "source": [
        "\n",
        "fig = plt.figure(figsize = (10, 5))\n",
        "percentage=[aman_percent,anupam_percent,ashneer_percent,ghazal_percent,namita_percent,peyush_percent,vineeta_percent]\n",
        "plt.bar(names,percentage,width=0.4)\n",
        "plt.xlabel('candidate name')\n",
        "plt.ylabel('Candidnate deal percentage')\n",
        "plt.title('Candidate Deal-percentage vs name')"
      ],
      "metadata": {
        "colab": {
          "base_uri": "https://localhost:8080/",
          "height": 367
        },
        "id": "VVhm1U36dD8A",
        "outputId": "9576dbd5-e1cf-4de9-98d2-19e1c830f7f7"
      },
      "execution_count": 24,
      "outputs": [
        {
          "output_type": "execute_result",
          "data": {
            "text/plain": [
              "Text(0.5, 1.0, 'Candidate Deal-percentage vs name')"
            ]
          },
          "metadata": {},
          "execution_count": 24
        },
        {
          "output_type": "display_data",
          "data": {
            "text/plain": [
              "<Figure size 720x360 with 1 Axes>"
            ],
            "image/png": "[encoded data removed]"
          },
          "metadata": {
            "needs_background": "light"
          }
        }
      ]
    },
    {
      "cell_type": "code",
      "source": [
        "plt.pie(percentage,labels=names,radius=2,autopct='%0.1f%%')\n",
        "plt.show()"
      ],
      "metadata": {
        "colab": {
          "base_uri": "https://localhost:8080/",
          "height": 418
        },
        "id": "UlxX6y2WdHB3",
        "outputId": "03a621f5-f962-4f62-eff2-721de33b78e8"
      },
      "execution_count": 25,
      "outputs": [
        {
          "output_type": "display_data",
          "data": {
            "text/plain": [
              "<Figure size 432x288 with 1 Axes>"
            ],
            "image/png": "[encoded data removed]"
          },
          "metadata": {}
        }
      ]
    },
    {
      "cell_type": "code",
      "source": [],
      "metadata": {
        "id": "dLaR5hYNdImQ"
      },
      "execution_count": null,
      "outputs": []
    }
  ]
}