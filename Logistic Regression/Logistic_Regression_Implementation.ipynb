{
  "nbformat": 4,
  "nbformat_minor": 0,
  "metadata": {
    "colab": {
      "name": "Logistic Regression Implementation.ipynb",
      "provenance": [],
      "collapsed_sections": [],
      "authorship_tag": "ABX9TyP51rB786QLji9Y8sal2Mtd",
      "include_colab_link": true
    },
    "kernelspec": {
      "name": "python3",
      "display_name": "Python 3"
    },
    "language_info": {
      "name": "python"
    }
  },
  "cells": [
    {
      "cell_type": "markdown",
      "metadata": {
        "id": "view-in-github",
        "colab_type": "text"
      },
      "source": [
        "<a href=\"https://colab.research.google.com/github/ashutoshsinha25/pepcoding_FJP_DS/blob/main/Logistic%20Regression/Logistic_Regression_Implementation.ipynb\" target=\"_parent\"><img src=\"https://colab.research.google.com/assets/colab-badge.svg\" alt=\"Open In Colab\"/></a>"
      ]
    },
    {
      "cell_type": "code",
      "execution_count": 2,
      "metadata": {
        "id": "ElkyqleRtn3K"
      },
      "outputs": [],
      "source": [
        "# import numpy \n",
        "import numpy as np"
      ]
    },
    {
      "cell_type": "code",
      "source": [
        "# logistic regression class\n",
        "\n",
        "class logistic_regression():\n",
        "\n",
        "  def __init__(self, learning_rate , iteration):\n",
        "    self.learning_rate = learning_rate\n",
        "    self.iteration = iteration\n",
        "  \n",
        "  def fit(self, x , y):\n",
        "\n",
        "    n_samples , n_features = x.shape\n",
        "    self.w = np.zeros(n_features)\n",
        "    self.b = 0\n",
        "\n",
        "    # gradient descent\n",
        "    for i in range(self.iteration):\n",
        "      distance = np.dot(x , self.w) + self.b\n",
        "      y_pred = self.sigmoid(distance)\n",
        "\n",
        "      dw = np.dot(x.T , y_pred - y) / n_samples \n",
        "      db = np.sum(y_pred - y) / n_samples\n",
        "\n",
        "      self.w = self.w - self.learning_rate*dw\n",
        "      self.b = self.b - self.learning_rate*db\n",
        "\n",
        "  def sigmoid(self, x):\n",
        "    return 1 / (1 - np.exp(-x))\n",
        "\n",
        "  def predict(self , x):\n",
        "    distance = np.dot(x , self.w) + self.b\n",
        "    probability = self.sigmoid(distance)\n",
        "    return np.round(probability)\n",
        "      "
      ],
      "metadata": {
        "id": "l62WsjMftxZF"
      },
      "execution_count": 13,
      "outputs": []
    },
    {
      "cell_type": "code",
      "source": [
        "x1 = np.arange(50)\n",
        "x2 = np.random.rand(x1.size) * 50\n",
        "y = np.where(x1 - x2 >= 0 , 0, 1)\n"
      ],
      "metadata": {
        "id": "Vlli7D7zspci"
      },
      "execution_count": 5,
      "outputs": []
    },
    {
      "cell_type": "code",
      "source": [
        "x = np.dstack([x1 , x2])[0]"
      ],
      "metadata": {
        "id": "zL2W2GYutQdg"
      },
      "execution_count": 6,
      "outputs": []
    },
    {
      "cell_type": "code",
      "source": [
        "model = logistic_regression(0.01 , 100)\n",
        "model.fit(x , y)"
      ],
      "metadata": {
        "colab": {
          "base_uri": "https://localhost:8080/"
        },
        "id": "2MzY9JJltEfy",
        "outputId": "a4784d4e-c458-4537-df0b-e1c84565048e"
      },
      "execution_count": 14,
      "outputs": [
        {
          "output_type": "stream",
          "name": "stderr",
          "text": [
            "/usr/local/lib/python3.7/dist-packages/ipykernel_launcher.py:27: RuntimeWarning: divide by zero encountered in true_divide\n"
          ]
        }
      ]
    },
    {
      "cell_type": "code",
      "source": [
        "model.predict(100)"
      ],
      "metadata": {
        "colab": {
          "base_uri": "https://localhost:8080/"
        },
        "id": "_HE1hOZdtVVg",
        "outputId": "3c248ff4-4fd5-49e5-b402-f2160db79022"
      },
      "execution_count": 15,
      "outputs": [
        {
          "output_type": "execute_result",
          "data": {
            "text/plain": [
              "array([nan, nan])"
            ]
          },
          "metadata": {},
          "execution_count": 15
        }
      ]
    },
    {
      "cell_type": "code",
      "source": [
        ""
      ],
      "metadata": {
        "id": "ch8YsKVkthIa"
      },
      "execution_count": null,
      "outputs": []
    }
  ]
}