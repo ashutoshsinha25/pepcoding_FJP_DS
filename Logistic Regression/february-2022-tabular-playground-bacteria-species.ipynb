{
 "cells": [
  {
   "cell_type": "code",
   "execution_count": 1,
   "id": "b6c48b12",
   "metadata": {
    "execution": {
     "iopub.execute_input": "2022-06-29T11:18:32.530798Z",
     "iopub.status.busy": "2022-06-29T11:18:32.529938Z",
     "iopub.status.idle": "2022-06-29T11:18:33.645056Z",
     "shell.execute_reply": "2022-06-29T11:18:33.644084Z"
    },
    "papermill": {
     "duration": 1.127348,
     "end_time": "2022-06-29T11:18:33.647536",
     "exception": false,
     "start_time": "2022-06-29T11:18:32.520188",
     "status": "completed"
    },
    "tags": []
   },
   "outputs": [],
   "source": [
    "import pandas as pd\n",
    "import numpy as np\n",
    "import matplotlib.pyplot as plt\n",
    "import seaborn as sns"
   ]
  },
  {
   "cell_type": "code",
   "execution_count": 2,
   "id": "cce4935f",
   "metadata": {
    "execution": {
     "iopub.execute_input": "2022-06-29T11:18:33.662974Z",
     "iopub.status.busy": "2022-06-29T11:18:33.662351Z",
     "iopub.status.idle": "2022-06-29T11:19:08.815488Z",
     "shell.execute_reply": "2022-06-29T11:19:08.814483Z"
    },
    "papermill": {
     "duration": 35.163595,
     "end_time": "2022-06-29T11:19:08.818064",
     "exception": false,
     "start_time": "2022-06-29T11:18:33.654469",
     "status": "completed"
    },
    "tags": []
   },
   "outputs": [],
   "source": [
    "train = pd.read_csv('../input/tabular-playground-series-feb-2022/train.csv')\n",
    "test = pd.read_csv('../input/tabular-playground-series-feb-2022/test.csv')"
   ]
  },
  {
   "cell_type": "code",
   "execution_count": 3,
   "id": "a7bc37a0",
   "metadata": {
    "execution": {
     "iopub.execute_input": "2022-06-29T11:19:08.832900Z",
     "iopub.status.busy": "2022-06-29T11:19:08.832585Z",
     "iopub.status.idle": "2022-06-29T11:19:08.868395Z",
     "shell.execute_reply": "2022-06-29T11:19:08.867218Z"
    },
    "papermill": {
     "duration": 0.047431,
     "end_time": "2022-06-29T11:19:08.872255",
     "exception": false,
     "start_time": "2022-06-29T11:19:08.824824",
     "status": "completed"
    },
    "tags": []
   },
   "outputs": [
    {
     "data": {
      "text/html": [
       "<div>\n",
       "<style scoped>\n",
       "    .dataframe tbody tr th:only-of-type {\n",
       "        vertical-align: middle;\n",
       "    }\n",
       "\n",
       "    .dataframe tbody tr th {\n",
       "        vertical-align: top;\n",
       "    }\n",
       "\n",
       "    .dataframe thead th {\n",
       "        text-align: right;\n",
       "    }\n",
       "</style>\n",
       "<table border=\"1\" class=\"dataframe\">\n",
       "  <thead>\n",
       "    <tr style=\"text-align: right;\">\n",
       "      <th></th>\n",
       "      <th>row_id</th>\n",
       "      <th>A0T0G0C10</th>\n",
       "      <th>A0T0G1C9</th>\n",
       "      <th>A0T0G2C8</th>\n",
       "      <th>A0T0G3C7</th>\n",
       "      <th>A0T0G4C6</th>\n",
       "      <th>A0T0G5C5</th>\n",
       "      <th>A0T0G6C4</th>\n",
       "      <th>A0T0G7C3</th>\n",
       "      <th>A0T0G8C2</th>\n",
       "      <th>...</th>\n",
       "      <th>A8T0G1C1</th>\n",
       "      <th>A8T0G2C0</th>\n",
       "      <th>A8T1G0C1</th>\n",
       "      <th>A8T1G1C0</th>\n",
       "      <th>A8T2G0C0</th>\n",
       "      <th>A9T0G0C1</th>\n",
       "      <th>A9T0G1C0</th>\n",
       "      <th>A9T1G0C0</th>\n",
       "      <th>A10T0G0C0</th>\n",
       "      <th>target</th>\n",
       "    </tr>\n",
       "  </thead>\n",
       "  <tbody>\n",
       "    <tr>\n",
       "      <th>0</th>\n",
       "      <td>0</td>\n",
       "      <td>-9.536743e-07</td>\n",
       "      <td>-0.000010</td>\n",
       "      <td>-0.000043</td>\n",
       "      <td>-0.000114</td>\n",
       "      <td>-0.000200</td>\n",
       "      <td>-0.000240</td>\n",
       "      <td>-0.000200</td>\n",
       "      <td>-0.000114</td>\n",
       "      <td>-0.000043</td>\n",
       "      <td>...</td>\n",
       "      <td>-0.000086</td>\n",
       "      <td>-0.000043</td>\n",
       "      <td>-0.000086</td>\n",
       "      <td>-0.000086</td>\n",
       "      <td>-0.000043</td>\n",
       "      <td>-0.000010</td>\n",
       "      <td>-0.000010</td>\n",
       "      <td>-0.000010</td>\n",
       "      <td>-9.536743e-07</td>\n",
       "      <td>Streptococcus_pyogenes</td>\n",
       "    </tr>\n",
       "    <tr>\n",
       "      <th>1</th>\n",
       "      <td>1</td>\n",
       "      <td>-9.536743e-07</td>\n",
       "      <td>-0.000010</td>\n",
       "      <td>-0.000043</td>\n",
       "      <td>0.000886</td>\n",
       "      <td>-0.000200</td>\n",
       "      <td>0.000760</td>\n",
       "      <td>-0.000200</td>\n",
       "      <td>-0.000114</td>\n",
       "      <td>-0.000043</td>\n",
       "      <td>...</td>\n",
       "      <td>-0.000086</td>\n",
       "      <td>-0.000043</td>\n",
       "      <td>0.000914</td>\n",
       "      <td>0.000914</td>\n",
       "      <td>-0.000043</td>\n",
       "      <td>-0.000010</td>\n",
       "      <td>-0.000010</td>\n",
       "      <td>-0.000010</td>\n",
       "      <td>-9.536743e-07</td>\n",
       "      <td>Salmonella_enterica</td>\n",
       "    </tr>\n",
       "    <tr>\n",
       "      <th>2</th>\n",
       "      <td>2</td>\n",
       "      <td>-9.536743e-07</td>\n",
       "      <td>-0.000002</td>\n",
       "      <td>0.000007</td>\n",
       "      <td>0.000129</td>\n",
       "      <td>0.000268</td>\n",
       "      <td>0.000270</td>\n",
       "      <td>0.000243</td>\n",
       "      <td>0.000125</td>\n",
       "      <td>0.000001</td>\n",
       "      <td>...</td>\n",
       "      <td>0.000084</td>\n",
       "      <td>0.000048</td>\n",
       "      <td>0.000081</td>\n",
       "      <td>0.000106</td>\n",
       "      <td>0.000072</td>\n",
       "      <td>0.000010</td>\n",
       "      <td>0.000008</td>\n",
       "      <td>0.000019</td>\n",
       "      <td>1.046326e-06</td>\n",
       "      <td>Salmonella_enterica</td>\n",
       "    </tr>\n",
       "    <tr>\n",
       "      <th>3</th>\n",
       "      <td>3</td>\n",
       "      <td>4.632568e-08</td>\n",
       "      <td>-0.000006</td>\n",
       "      <td>0.000012</td>\n",
       "      <td>0.000245</td>\n",
       "      <td>0.000492</td>\n",
       "      <td>0.000522</td>\n",
       "      <td>0.000396</td>\n",
       "      <td>0.000197</td>\n",
       "      <td>-0.000003</td>\n",
       "      <td>...</td>\n",
       "      <td>0.000151</td>\n",
       "      <td>0.000100</td>\n",
       "      <td>0.000180</td>\n",
       "      <td>0.000202</td>\n",
       "      <td>0.000153</td>\n",
       "      <td>0.000021</td>\n",
       "      <td>0.000015</td>\n",
       "      <td>0.000046</td>\n",
       "      <td>-9.536743e-07</td>\n",
       "      <td>Salmonella_enterica</td>\n",
       "    </tr>\n",
       "    <tr>\n",
       "      <th>4</th>\n",
       "      <td>4</td>\n",
       "      <td>-9.536743e-07</td>\n",
       "      <td>-0.000010</td>\n",
       "      <td>-0.000043</td>\n",
       "      <td>-0.000114</td>\n",
       "      <td>-0.000200</td>\n",
       "      <td>-0.000240</td>\n",
       "      <td>-0.000200</td>\n",
       "      <td>-0.000114</td>\n",
       "      <td>-0.000043</td>\n",
       "      <td>...</td>\n",
       "      <td>-0.000086</td>\n",
       "      <td>-0.000043</td>\n",
       "      <td>-0.000086</td>\n",
       "      <td>-0.000086</td>\n",
       "      <td>-0.000043</td>\n",
       "      <td>-0.000010</td>\n",
       "      <td>-0.000010</td>\n",
       "      <td>-0.000010</td>\n",
       "      <td>-9.536743e-07</td>\n",
       "      <td>Enterococcus_hirae</td>\n",
       "    </tr>\n",
       "  </tbody>\n",
       "</table>\n",
       "<p>5 rows × 288 columns</p>\n",
       "</div>"
      ],
      "text/plain": [
       "   row_id     A0T0G0C10  A0T0G1C9  A0T0G2C8  A0T0G3C7  A0T0G4C6  A0T0G5C5  \\\n",
       "0       0 -9.536743e-07 -0.000010 -0.000043 -0.000114 -0.000200 -0.000240   \n",
       "1       1 -9.536743e-07 -0.000010 -0.000043  0.000886 -0.000200  0.000760   \n",
       "2       2 -9.536743e-07 -0.000002  0.000007  0.000129  0.000268  0.000270   \n",
       "3       3  4.632568e-08 -0.000006  0.000012  0.000245  0.000492  0.000522   \n",
       "4       4 -9.536743e-07 -0.000010 -0.000043 -0.000114 -0.000200 -0.000240   \n",
       "\n",
       "   A0T0G6C4  A0T0G7C3  A0T0G8C2  ...  A8T0G1C1  A8T0G2C0  A8T1G0C1  A8T1G1C0  \\\n",
       "0 -0.000200 -0.000114 -0.000043  ... -0.000086 -0.000043 -0.000086 -0.000086   \n",
       "1 -0.000200 -0.000114 -0.000043  ... -0.000086 -0.000043  0.000914  0.000914   \n",
       "2  0.000243  0.000125  0.000001  ...  0.000084  0.000048  0.000081  0.000106   \n",
       "3  0.000396  0.000197 -0.000003  ...  0.000151  0.000100  0.000180  0.000202   \n",
       "4 -0.000200 -0.000114 -0.000043  ... -0.000086 -0.000043 -0.000086 -0.000086   \n",
       "\n",
       "   A8T2G0C0  A9T0G0C1  A9T0G1C0  A9T1G0C0     A10T0G0C0  \\\n",
       "0 -0.000043 -0.000010 -0.000010 -0.000010 -9.536743e-07   \n",
       "1 -0.000043 -0.000010 -0.000010 -0.000010 -9.536743e-07   \n",
       "2  0.000072  0.000010  0.000008  0.000019  1.046326e-06   \n",
       "3  0.000153  0.000021  0.000015  0.000046 -9.536743e-07   \n",
       "4 -0.000043 -0.000010 -0.000010 -0.000010 -9.536743e-07   \n",
       "\n",
       "                   target  \n",
       "0  Streptococcus_pyogenes  \n",
       "1     Salmonella_enterica  \n",
       "2     Salmonella_enterica  \n",
       "3     Salmonella_enterica  \n",
       "4      Enterococcus_hirae  \n",
       "\n",
       "[5 rows x 288 columns]"
      ]
     },
     "execution_count": 3,
     "metadata": {},
     "output_type": "execute_result"
    }
   ],
   "source": [
    "train.head(5)"
   ]
  },
  {
   "cell_type": "code",
   "execution_count": 4,
   "id": "55dd61e7",
   "metadata": {
    "execution": {
     "iopub.execute_input": "2022-06-29T11:19:08.887193Z",
     "iopub.status.busy": "2022-06-29T11:19:08.886923Z",
     "iopub.status.idle": "2022-06-29T11:19:08.915998Z",
     "shell.execute_reply": "2022-06-29T11:19:08.914989Z"
    },
    "papermill": {
     "duration": 0.038882,
     "end_time": "2022-06-29T11:19:08.918094",
     "exception": false,
     "start_time": "2022-06-29T11:19:08.879212",
     "status": "completed"
    },
    "tags": []
   },
   "outputs": [
    {
     "data": {
      "text/plain": [
       "array(['Streptococcus_pyogenes', 'Salmonella_enterica',\n",
       "       'Enterococcus_hirae', 'Escherichia_coli', 'Campylobacter_jejuni',\n",
       "       'Streptococcus_pneumoniae', 'Staphylococcus_aureus',\n",
       "       'Escherichia_fergusonii', 'Bacteroides_fragilis',\n",
       "       'Klebsiella_pneumoniae'], dtype=object)"
      ]
     },
     "execution_count": 4,
     "metadata": {},
     "output_type": "execute_result"
    }
   ],
   "source": [
    "train['target'].unique()"
   ]
  },
  {
   "cell_type": "code",
   "execution_count": 5,
   "id": "6fc996de",
   "metadata": {
    "execution": {
     "iopub.execute_input": "2022-06-29T11:19:08.932402Z",
     "iopub.status.busy": "2022-06-29T11:19:08.932145Z",
     "iopub.status.idle": "2022-06-29T11:19:08.939458Z",
     "shell.execute_reply": "2022-06-29T11:19:08.938061Z"
    },
    "papermill": {
     "duration": 0.016674,
     "end_time": "2022-06-29T11:19:08.941403",
     "exception": false,
     "start_time": "2022-06-29T11:19:08.924729",
     "status": "completed"
    },
    "tags": []
   },
   "outputs": [
    {
     "data": {
      "text/plain": [
       "((200000, 288), (100000, 287))"
      ]
     },
     "execution_count": 5,
     "metadata": {},
     "output_type": "execute_result"
    }
   ],
   "source": [
    "train.shape , test.shape"
   ]
  },
  {
   "cell_type": "code",
   "execution_count": 6,
   "id": "b92d2f6c",
   "metadata": {
    "execution": {
     "iopub.execute_input": "2022-06-29T11:19:08.956330Z",
     "iopub.status.busy": "2022-06-29T11:19:08.956067Z",
     "iopub.status.idle": "2022-06-29T11:19:09.164929Z",
     "shell.execute_reply": "2022-06-29T11:19:09.163986Z"
    },
    "papermill": {
     "duration": 0.218784,
     "end_time": "2022-06-29T11:19:09.167080",
     "exception": false,
     "start_time": "2022-06-29T11:19:08.948296",
     "status": "completed"
    },
    "tags": []
   },
   "outputs": [],
   "source": [
    "# saving row_id for submission\n",
    "row_id = test['row_id']\n",
    "test.drop('row_id' , axis = 1 , inplace = True)\n",
    "train.drop('row_id' , axis = 1 , inplace = True)"
   ]
  },
  {
   "cell_type": "code",
   "execution_count": 7,
   "id": "1f9d3d10",
   "metadata": {
    "execution": {
     "iopub.execute_input": "2022-06-29T11:19:09.182612Z",
     "iopub.status.busy": "2022-06-29T11:19:09.181851Z",
     "iopub.status.idle": "2022-06-29T11:19:09.203960Z",
     "shell.execute_reply": "2022-06-29T11:19:09.202851Z"
    },
    "papermill": {
     "duration": 0.032245,
     "end_time": "2022-06-29T11:19:09.206407",
     "exception": false,
     "start_time": "2022-06-29T11:19:09.174162",
     "status": "completed"
    },
    "tags": []
   },
   "outputs": [
    {
     "data": {
      "text/html": [
       "<div>\n",
       "<style scoped>\n",
       "    .dataframe tbody tr th:only-of-type {\n",
       "        vertical-align: middle;\n",
       "    }\n",
       "\n",
       "    .dataframe tbody tr th {\n",
       "        vertical-align: top;\n",
       "    }\n",
       "\n",
       "    .dataframe thead th {\n",
       "        text-align: right;\n",
       "    }\n",
       "</style>\n",
       "<table border=\"1\" class=\"dataframe\">\n",
       "  <thead>\n",
       "    <tr style=\"text-align: right;\">\n",
       "      <th></th>\n",
       "      <th>A0T0G0C10</th>\n",
       "      <th>A0T0G1C9</th>\n",
       "      <th>A0T0G2C8</th>\n",
       "      <th>A0T0G3C7</th>\n",
       "      <th>A0T0G4C6</th>\n",
       "      <th>A0T0G5C5</th>\n",
       "      <th>A0T0G6C4</th>\n",
       "      <th>A0T0G7C3</th>\n",
       "      <th>A0T0G8C2</th>\n",
       "      <th>A0T0G9C1</th>\n",
       "      <th>...</th>\n",
       "      <th>A8T0G1C1</th>\n",
       "      <th>A8T0G2C0</th>\n",
       "      <th>A8T1G0C1</th>\n",
       "      <th>A8T1G1C0</th>\n",
       "      <th>A8T2G0C0</th>\n",
       "      <th>A9T0G0C1</th>\n",
       "      <th>A9T0G1C0</th>\n",
       "      <th>A9T1G0C0</th>\n",
       "      <th>A10T0G0C0</th>\n",
       "      <th>target</th>\n",
       "    </tr>\n",
       "  </thead>\n",
       "  <tbody>\n",
       "    <tr>\n",
       "      <th>0</th>\n",
       "      <td>-9.536743e-07</td>\n",
       "      <td>-0.000010</td>\n",
       "      <td>-0.000043</td>\n",
       "      <td>-0.000114</td>\n",
       "      <td>-0.000200</td>\n",
       "      <td>-0.00024</td>\n",
       "      <td>-0.000200</td>\n",
       "      <td>-0.000114</td>\n",
       "      <td>-0.000043</td>\n",
       "      <td>-0.000010</td>\n",
       "      <td>...</td>\n",
       "      <td>-0.000086</td>\n",
       "      <td>-0.000043</td>\n",
       "      <td>-0.000086</td>\n",
       "      <td>-0.000086</td>\n",
       "      <td>-0.000043</td>\n",
       "      <td>-0.00001</td>\n",
       "      <td>-0.000010</td>\n",
       "      <td>-0.000010</td>\n",
       "      <td>-9.536743e-07</td>\n",
       "      <td>Streptococcus_pyogenes</td>\n",
       "    </tr>\n",
       "    <tr>\n",
       "      <th>1</th>\n",
       "      <td>-9.536743e-07</td>\n",
       "      <td>-0.000010</td>\n",
       "      <td>-0.000043</td>\n",
       "      <td>0.000886</td>\n",
       "      <td>-0.000200</td>\n",
       "      <td>0.00076</td>\n",
       "      <td>-0.000200</td>\n",
       "      <td>-0.000114</td>\n",
       "      <td>-0.000043</td>\n",
       "      <td>-0.000010</td>\n",
       "      <td>...</td>\n",
       "      <td>-0.000086</td>\n",
       "      <td>-0.000043</td>\n",
       "      <td>0.000914</td>\n",
       "      <td>0.000914</td>\n",
       "      <td>-0.000043</td>\n",
       "      <td>-0.00001</td>\n",
       "      <td>-0.000010</td>\n",
       "      <td>-0.000010</td>\n",
       "      <td>-9.536743e-07</td>\n",
       "      <td>Salmonella_enterica</td>\n",
       "    </tr>\n",
       "    <tr>\n",
       "      <th>2</th>\n",
       "      <td>-9.536743e-07</td>\n",
       "      <td>-0.000002</td>\n",
       "      <td>0.000007</td>\n",
       "      <td>0.000129</td>\n",
       "      <td>0.000268</td>\n",
       "      <td>0.00027</td>\n",
       "      <td>0.000243</td>\n",
       "      <td>0.000125</td>\n",
       "      <td>0.000001</td>\n",
       "      <td>-0.000007</td>\n",
       "      <td>...</td>\n",
       "      <td>0.000084</td>\n",
       "      <td>0.000048</td>\n",
       "      <td>0.000081</td>\n",
       "      <td>0.000106</td>\n",
       "      <td>0.000072</td>\n",
       "      <td>0.00001</td>\n",
       "      <td>0.000008</td>\n",
       "      <td>0.000019</td>\n",
       "      <td>1.046326e-06</td>\n",
       "      <td>Salmonella_enterica</td>\n",
       "    </tr>\n",
       "  </tbody>\n",
       "</table>\n",
       "<p>3 rows × 287 columns</p>\n",
       "</div>"
      ],
      "text/plain": [
       "      A0T0G0C10  A0T0G1C9  A0T0G2C8  A0T0G3C7  A0T0G4C6  A0T0G5C5  A0T0G6C4  \\\n",
       "0 -9.536743e-07 -0.000010 -0.000043 -0.000114 -0.000200  -0.00024 -0.000200   \n",
       "1 -9.536743e-07 -0.000010 -0.000043  0.000886 -0.000200   0.00076 -0.000200   \n",
       "2 -9.536743e-07 -0.000002  0.000007  0.000129  0.000268   0.00027  0.000243   \n",
       "\n",
       "   A0T0G7C3  A0T0G8C2  A0T0G9C1  ...  A8T0G1C1  A8T0G2C0  A8T1G0C1  A8T1G1C0  \\\n",
       "0 -0.000114 -0.000043 -0.000010  ... -0.000086 -0.000043 -0.000086 -0.000086   \n",
       "1 -0.000114 -0.000043 -0.000010  ... -0.000086 -0.000043  0.000914  0.000914   \n",
       "2  0.000125  0.000001 -0.000007  ...  0.000084  0.000048  0.000081  0.000106   \n",
       "\n",
       "   A8T2G0C0  A9T0G0C1  A9T0G1C0  A9T1G0C0     A10T0G0C0  \\\n",
       "0 -0.000043  -0.00001 -0.000010 -0.000010 -9.536743e-07   \n",
       "1 -0.000043  -0.00001 -0.000010 -0.000010 -9.536743e-07   \n",
       "2  0.000072   0.00001  0.000008  0.000019  1.046326e-06   \n",
       "\n",
       "                   target  \n",
       "0  Streptococcus_pyogenes  \n",
       "1     Salmonella_enterica  \n",
       "2     Salmonella_enterica  \n",
       "\n",
       "[3 rows x 287 columns]"
      ]
     },
     "execution_count": 7,
     "metadata": {},
     "output_type": "execute_result"
    }
   ],
   "source": [
    "train.head(3)"
   ]
  },
  {
   "cell_type": "code",
   "execution_count": 8,
   "id": "2c716c04",
   "metadata": {
    "execution": {
     "iopub.execute_input": "2022-06-29T11:19:09.222218Z",
     "iopub.status.busy": "2022-06-29T11:19:09.221926Z",
     "iopub.status.idle": "2022-06-29T11:19:09.344372Z",
     "shell.execute_reply": "2022-06-29T11:19:09.343352Z"
    },
    "papermill": {
     "duration": 0.132894,
     "end_time": "2022-06-29T11:19:09.346768",
     "exception": false,
     "start_time": "2022-06-29T11:19:09.213874",
     "status": "completed"
    },
    "tags": []
   },
   "outputs": [
    {
     "data": {
      "text/plain": [
       "0"
      ]
     },
     "execution_count": 8,
     "metadata": {},
     "output_type": "execute_result"
    }
   ],
   "source": [
    "train.isnull().sum().sum()"
   ]
  },
  {
   "cell_type": "code",
   "execution_count": 9,
   "id": "5e2d01e5",
   "metadata": {
    "execution": {
     "iopub.execute_input": "2022-06-29T11:19:09.362761Z",
     "iopub.status.busy": "2022-06-29T11:19:09.362464Z",
     "iopub.status.idle": "2022-06-29T11:19:09.393687Z",
     "shell.execute_reply": "2022-06-29T11:19:09.392641Z"
    },
    "papermill": {
     "duration": 0.041552,
     "end_time": "2022-06-29T11:19:09.395858",
     "exception": false,
     "start_time": "2022-06-29T11:19:09.354306",
     "status": "completed"
    },
    "tags": []
   },
   "outputs": [
    {
     "data": {
      "text/plain": [
       "0"
      ]
     },
     "execution_count": 9,
     "metadata": {},
     "output_type": "execute_result"
    }
   ],
   "source": [
    "test.isnull().any().sum()"
   ]
  },
  {
   "cell_type": "code",
   "execution_count": 10,
   "id": "bdaa72ef",
   "metadata": {
    "execution": {
     "iopub.execute_input": "2022-06-29T11:19:09.412328Z",
     "iopub.status.busy": "2022-06-29T11:19:09.411480Z",
     "iopub.status.idle": "2022-06-29T11:19:09.878550Z",
     "shell.execute_reply": "2022-06-29T11:19:09.877646Z"
    },
    "papermill": {
     "duration": 0.477293,
     "end_time": "2022-06-29T11:19:09.880619",
     "exception": false,
     "start_time": "2022-06-29T11:19:09.403326",
     "status": "completed"
    },
    "tags": []
   },
   "outputs": [
    {
     "data": {
      "text/plain": [
       "<AxesSubplot:xlabel='target', ylabel='count'>"
      ]
     },
     "execution_count": 10,
     "metadata": {},
     "output_type": "execute_result"
    },
    {
     "data": {
      "image/png": "[encoded data removed]",
      "text/plain": [
       "<Figure size 1440x504 with 1 Axes>"
      ]
     },
     "metadata": {
      "needs_background": "light"
     },
     "output_type": "display_data"
    }
   ],
   "source": [
    "plt.figure(figsize = (20 , 7))\n",
    "sns.countplot(data = train , x = 'target')"
   ]
  },
  {
   "cell_type": "code",
   "execution_count": 11,
   "id": "8b5e96ab",
   "metadata": {
    "execution": {
     "iopub.execute_input": "2022-06-29T11:19:09.898393Z",
     "iopub.status.busy": "2022-06-29T11:19:09.898104Z",
     "iopub.status.idle": "2022-06-29T11:19:09.922871Z",
     "shell.execute_reply": "2022-06-29T11:19:09.921678Z"
    },
    "papermill": {
     "duration": 0.036189,
     "end_time": "2022-06-29T11:19:09.925344",
     "exception": false,
     "start_time": "2022-06-29T11:19:09.889155",
     "status": "completed"
    },
    "tags": []
   },
   "outputs": [
    {
     "name": "stdout",
     "output_type": "stream",
     "text": [
      "<class 'pandas.core.frame.DataFrame'>\n",
      "RangeIndex: 200000 entries, 0 to 199999\n",
      "Columns: 287 entries, A0T0G0C10 to target\n",
      "dtypes: float64(286), object(1)\n",
      "memory usage: 437.9+ MB\n"
     ]
    }
   ],
   "source": [
    "train.info()"
   ]
  },
  {
   "cell_type": "code",
   "execution_count": 12,
   "id": "c25ca0f6",
   "metadata": {
    "execution": {
     "iopub.execute_input": "2022-06-29T11:19:09.942818Z",
     "iopub.status.busy": "2022-06-29T11:19:09.942507Z",
     "iopub.status.idle": "2022-06-29T11:19:12.665316Z",
     "shell.execute_reply": "2022-06-29T11:19:12.664283Z"
    },
    "papermill": {
     "duration": 2.733966,
     "end_time": "2022-06-29T11:19:12.667861",
     "exception": false,
     "start_time": "2022-06-29T11:19:09.933895",
     "status": "completed"
    },
    "tags": []
   },
   "outputs": [
    {
     "data": {
      "text/html": [
       "<div>\n",
       "<style scoped>\n",
       "    .dataframe tbody tr th:only-of-type {\n",
       "        vertical-align: middle;\n",
       "    }\n",
       "\n",
       "    .dataframe tbody tr th {\n",
       "        vertical-align: top;\n",
       "    }\n",
       "\n",
       "    .dataframe thead th {\n",
       "        text-align: right;\n",
       "    }\n",
       "</style>\n",
       "<table border=\"1\" class=\"dataframe\">\n",
       "  <thead>\n",
       "    <tr style=\"text-align: right;\">\n",
       "      <th></th>\n",
       "      <th>A0T0G0C10</th>\n",
       "      <th>A0T0G1C9</th>\n",
       "      <th>A0T0G2C8</th>\n",
       "      <th>A0T0G3C7</th>\n",
       "      <th>A0T0G4C6</th>\n",
       "      <th>A0T0G5C5</th>\n",
       "      <th>A0T0G6C4</th>\n",
       "      <th>A0T0G7C3</th>\n",
       "      <th>A0T0G8C2</th>\n",
       "      <th>A0T0G9C1</th>\n",
       "      <th>...</th>\n",
       "      <th>A8T0G0C2</th>\n",
       "      <th>A8T0G1C1</th>\n",
       "      <th>A8T0G2C0</th>\n",
       "      <th>A8T1G0C1</th>\n",
       "      <th>A8T1G1C0</th>\n",
       "      <th>A8T2G0C0</th>\n",
       "      <th>A9T0G0C1</th>\n",
       "      <th>A9T0G1C0</th>\n",
       "      <th>A9T1G0C0</th>\n",
       "      <th>A10T0G0C0</th>\n",
       "    </tr>\n",
       "  </thead>\n",
       "  <tbody>\n",
       "    <tr>\n",
       "      <th>count</th>\n",
       "      <td>2.000000e+05</td>\n",
       "      <td>200000.000000</td>\n",
       "      <td>200000.000000</td>\n",
       "      <td>200000.000000</td>\n",
       "      <td>200000.000000</td>\n",
       "      <td>200000.000000</td>\n",
       "      <td>200000.000000</td>\n",
       "      <td>200000.000000</td>\n",
       "      <td>200000.000000</td>\n",
       "      <td>200000.000000</td>\n",
       "      <td>...</td>\n",
       "      <td>200000.000000</td>\n",
       "      <td>200000.000000</td>\n",
       "      <td>200000.000000</td>\n",
       "      <td>200000.000000</td>\n",
       "      <td>200000.000000</td>\n",
       "      <td>200000.000000</td>\n",
       "      <td>200000.000000</td>\n",
       "      <td>2.000000e+05</td>\n",
       "      <td>2.000000e+05</td>\n",
       "      <td>2.000000e+05</td>\n",
       "    </tr>\n",
       "    <tr>\n",
       "      <th>mean</th>\n",
       "      <td>6.421457e-07</td>\n",
       "      <td>-0.000003</td>\n",
       "      <td>-0.000014</td>\n",
       "      <td>-0.000010</td>\n",
       "      <td>0.000005</td>\n",
       "      <td>0.000025</td>\n",
       "      <td>0.000014</td>\n",
       "      <td>-0.000009</td>\n",
       "      <td>-0.000028</td>\n",
       "      <td>-0.000008</td>\n",
       "      <td>...</td>\n",
       "      <td>0.000135</td>\n",
       "      <td>0.000348</td>\n",
       "      <td>0.000253</td>\n",
       "      <td>0.000464</td>\n",
       "      <td>0.000581</td>\n",
       "      <td>0.000379</td>\n",
       "      <td>0.000062</td>\n",
       "      <td>8.982134e-05</td>\n",
       "      <td>1.170014e-04</td>\n",
       "      <td>2.215407e-07</td>\n",
       "    </tr>\n",
       "    <tr>\n",
       "      <th>std</th>\n",
       "      <td>8.654927e-05</td>\n",
       "      <td>0.000132</td>\n",
       "      <td>0.000287</td>\n",
       "      <td>0.000436</td>\n",
       "      <td>0.000683</td>\n",
       "      <td>0.000869</td>\n",
       "      <td>0.000775</td>\n",
       "      <td>0.000441</td>\n",
       "      <td>0.000107</td>\n",
       "      <td>0.000083</td>\n",
       "      <td>...</td>\n",
       "      <td>0.000711</td>\n",
       "      <td>0.001117</td>\n",
       "      <td>0.000914</td>\n",
       "      <td>0.001238</td>\n",
       "      <td>0.001528</td>\n",
       "      <td>0.001182</td>\n",
       "      <td>0.000466</td>\n",
       "      <td>5.475606e-04</td>\n",
       "      <td>6.788277e-04</td>\n",
       "      <td>2.050081e-05</td>\n",
       "    </tr>\n",
       "    <tr>\n",
       "      <th>min</th>\n",
       "      <td>-9.536743e-07</td>\n",
       "      <td>-0.000010</td>\n",
       "      <td>-0.000043</td>\n",
       "      <td>-0.000114</td>\n",
       "      <td>-0.000200</td>\n",
       "      <td>-0.000240</td>\n",
       "      <td>-0.000200</td>\n",
       "      <td>-0.000114</td>\n",
       "      <td>-0.000043</td>\n",
       "      <td>-0.000010</td>\n",
       "      <td>...</td>\n",
       "      <td>-0.000043</td>\n",
       "      <td>-0.000086</td>\n",
       "      <td>-0.000043</td>\n",
       "      <td>-0.000086</td>\n",
       "      <td>-0.000086</td>\n",
       "      <td>-0.000043</td>\n",
       "      <td>-0.000010</td>\n",
       "      <td>-9.536743e-06</td>\n",
       "      <td>-9.536743e-06</td>\n",
       "      <td>-9.536743e-07</td>\n",
       "    </tr>\n",
       "    <tr>\n",
       "      <th>25%</th>\n",
       "      <td>-9.536743e-07</td>\n",
       "      <td>-0.000010</td>\n",
       "      <td>-0.000043</td>\n",
       "      <td>-0.000114</td>\n",
       "      <td>-0.000200</td>\n",
       "      <td>-0.000240</td>\n",
       "      <td>-0.000200</td>\n",
       "      <td>-0.000114</td>\n",
       "      <td>-0.000043</td>\n",
       "      <td>-0.000010</td>\n",
       "      <td>...</td>\n",
       "      <td>-0.000043</td>\n",
       "      <td>-0.000086</td>\n",
       "      <td>-0.000043</td>\n",
       "      <td>-0.000086</td>\n",
       "      <td>-0.000086</td>\n",
       "      <td>-0.000043</td>\n",
       "      <td>-0.000010</td>\n",
       "      <td>-9.536743e-06</td>\n",
       "      <td>-9.536743e-06</td>\n",
       "      <td>-9.536743e-07</td>\n",
       "    </tr>\n",
       "    <tr>\n",
       "      <th>50%</th>\n",
       "      <td>-9.536743e-07</td>\n",
       "      <td>-0.000010</td>\n",
       "      <td>-0.000043</td>\n",
       "      <td>-0.000114</td>\n",
       "      <td>-0.000200</td>\n",
       "      <td>-0.000237</td>\n",
       "      <td>-0.000199</td>\n",
       "      <td>-0.000114</td>\n",
       "      <td>-0.000043</td>\n",
       "      <td>-0.000010</td>\n",
       "      <td>...</td>\n",
       "      <td>0.000014</td>\n",
       "      <td>0.000064</td>\n",
       "      <td>0.000047</td>\n",
       "      <td>0.000124</td>\n",
       "      <td>0.000114</td>\n",
       "      <td>0.000043</td>\n",
       "      <td>-0.000010</td>\n",
       "      <td>4.632568e-07</td>\n",
       "      <td>4.632568e-07</td>\n",
       "      <td>-9.536743e-07</td>\n",
       "    </tr>\n",
       "    <tr>\n",
       "      <th>75%</th>\n",
       "      <td>-9.536743e-07</td>\n",
       "      <td>-0.000003</td>\n",
       "      <td>-0.000013</td>\n",
       "      <td>-0.000004</td>\n",
       "      <td>-0.000011</td>\n",
       "      <td>0.000003</td>\n",
       "      <td>-0.000030</td>\n",
       "      <td>0.000004</td>\n",
       "      <td>-0.000028</td>\n",
       "      <td>-0.000010</td>\n",
       "      <td>...</td>\n",
       "      <td>0.000111</td>\n",
       "      <td>0.000463</td>\n",
       "      <td>0.000297</td>\n",
       "      <td>0.000684</td>\n",
       "      <td>0.000774</td>\n",
       "      <td>0.000365</td>\n",
       "      <td>0.000030</td>\n",
       "      <td>6.046326e-05</td>\n",
       "      <td>6.946326e-05</td>\n",
       "      <td>-9.536743e-07</td>\n",
       "    </tr>\n",
       "    <tr>\n",
       "      <th>max</th>\n",
       "      <td>9.999046e-03</td>\n",
       "      <td>0.009990</td>\n",
       "      <td>0.009957</td>\n",
       "      <td>0.009886</td>\n",
       "      <td>0.019800</td>\n",
       "      <td>0.019760</td>\n",
       "      <td>0.019800</td>\n",
       "      <td>0.009886</td>\n",
       "      <td>0.009957</td>\n",
       "      <td>0.009990</td>\n",
       "      <td>...</td>\n",
       "      <td>0.019957</td>\n",
       "      <td>0.019914</td>\n",
       "      <td>0.019957</td>\n",
       "      <td>0.019914</td>\n",
       "      <td>0.019914</td>\n",
       "      <td>0.019957</td>\n",
       "      <td>0.009990</td>\n",
       "      <td>9.990463e-03</td>\n",
       "      <td>1.999046e-02</td>\n",
       "      <td>9.990463e-04</td>\n",
       "    </tr>\n",
       "  </tbody>\n",
       "</table>\n",
       "<p>8 rows × 286 columns</p>\n",
       "</div>"
      ],
      "text/plain": [
       "          A0T0G0C10       A0T0G1C9       A0T0G2C8       A0T0G3C7  \\\n",
       "count  2.000000e+05  200000.000000  200000.000000  200000.000000   \n",
       "mean   6.421457e-07      -0.000003      -0.000014      -0.000010   \n",
       "std    8.654927e-05       0.000132       0.000287       0.000436   \n",
       "min   -9.536743e-07      -0.000010      -0.000043      -0.000114   \n",
       "25%   -9.536743e-07      -0.000010      -0.000043      -0.000114   \n",
       "50%   -9.536743e-07      -0.000010      -0.000043      -0.000114   \n",
       "75%   -9.536743e-07      -0.000003      -0.000013      -0.000004   \n",
       "max    9.999046e-03       0.009990       0.009957       0.009886   \n",
       "\n",
       "            A0T0G4C6       A0T0G5C5       A0T0G6C4       A0T0G7C3  \\\n",
       "count  200000.000000  200000.000000  200000.000000  200000.000000   \n",
       "mean        0.000005       0.000025       0.000014      -0.000009   \n",
       "std         0.000683       0.000869       0.000775       0.000441   \n",
       "min        -0.000200      -0.000240      -0.000200      -0.000114   \n",
       "25%        -0.000200      -0.000240      -0.000200      -0.000114   \n",
       "50%        -0.000200      -0.000237      -0.000199      -0.000114   \n",
       "75%        -0.000011       0.000003      -0.000030       0.000004   \n",
       "max         0.019800       0.019760       0.019800       0.009886   \n",
       "\n",
       "            A0T0G8C2       A0T0G9C1  ...       A8T0G0C2       A8T0G1C1  \\\n",
       "count  200000.000000  200000.000000  ...  200000.000000  200000.000000   \n",
       "mean       -0.000028      -0.000008  ...       0.000135       0.000348   \n",
       "std         0.000107       0.000083  ...       0.000711       0.001117   \n",
       "min        -0.000043      -0.000010  ...      -0.000043      -0.000086   \n",
       "25%        -0.000043      -0.000010  ...      -0.000043      -0.000086   \n",
       "50%        -0.000043      -0.000010  ...       0.000014       0.000064   \n",
       "75%        -0.000028      -0.000010  ...       0.000111       0.000463   \n",
       "max         0.009957       0.009990  ...       0.019957       0.019914   \n",
       "\n",
       "            A8T0G2C0       A8T1G0C1       A8T1G1C0       A8T2G0C0  \\\n",
       "count  200000.000000  200000.000000  200000.000000  200000.000000   \n",
       "mean        0.000253       0.000464       0.000581       0.000379   \n",
       "std         0.000914       0.001238       0.001528       0.001182   \n",
       "min        -0.000043      -0.000086      -0.000086      -0.000043   \n",
       "25%        -0.000043      -0.000086      -0.000086      -0.000043   \n",
       "50%         0.000047       0.000124       0.000114       0.000043   \n",
       "75%         0.000297       0.000684       0.000774       0.000365   \n",
       "max         0.019957       0.019914       0.019914       0.019957   \n",
       "\n",
       "            A9T0G0C1      A9T0G1C0      A9T1G0C0     A10T0G0C0  \n",
       "count  200000.000000  2.000000e+05  2.000000e+05  2.000000e+05  \n",
       "mean        0.000062  8.982134e-05  1.170014e-04  2.215407e-07  \n",
       "std         0.000466  5.475606e-04  6.788277e-04  2.050081e-05  \n",
       "min        -0.000010 -9.536743e-06 -9.536743e-06 -9.536743e-07  \n",
       "25%        -0.000010 -9.536743e-06 -9.536743e-06 -9.536743e-07  \n",
       "50%        -0.000010  4.632568e-07  4.632568e-07 -9.536743e-07  \n",
       "75%         0.000030  6.046326e-05  6.946326e-05 -9.536743e-07  \n",
       "max         0.009990  9.990463e-03  1.999046e-02  9.990463e-04  \n",
       "\n",
       "[8 rows x 286 columns]"
      ]
     },
     "execution_count": 12,
     "metadata": {},
     "output_type": "execute_result"
    }
   ],
   "source": [
    "train.describe()"
   ]
  },
  {
   "cell_type": "code",
   "execution_count": 13,
   "id": "92961c1c",
   "metadata": {
    "execution": {
     "iopub.execute_input": "2022-06-29T11:19:12.688175Z",
     "iopub.status.busy": "2022-06-29T11:19:12.687577Z",
     "iopub.status.idle": "2022-06-29T11:19:21.310713Z",
     "shell.execute_reply": "2022-06-29T11:19:21.309695Z"
    },
    "papermill": {
     "duration": 8.635484,
     "end_time": "2022-06-29T11:19:21.313137",
     "exception": false,
     "start_time": "2022-06-29T11:19:12.677653",
     "status": "completed"
    },
    "tags": []
   },
   "outputs": [
    {
     "data": {
      "text/html": [
       "<div>\n",
       "<style scoped>\n",
       "    .dataframe tbody tr th:only-of-type {\n",
       "        vertical-align: middle;\n",
       "    }\n",
       "\n",
       "    .dataframe tbody tr th {\n",
       "        vertical-align: top;\n",
       "    }\n",
       "\n",
       "    .dataframe thead tr th {\n",
       "        text-align: left;\n",
       "    }\n",
       "\n",
       "    .dataframe thead tr:last-of-type th {\n",
       "        text-align: right;\n",
       "    }\n",
       "</style>\n",
       "<table border=\"1\" class=\"dataframe\">\n",
       "  <thead>\n",
       "    <tr>\n",
       "      <th></th>\n",
       "      <th colspan=\"8\" halign=\"left\">A0T0G0C10</th>\n",
       "      <th colspan=\"2\" halign=\"left\">A0T0G1C9</th>\n",
       "      <th>...</th>\n",
       "      <th colspan=\"2\" halign=\"left\">A9T1G0C0</th>\n",
       "      <th colspan=\"8\" halign=\"left\">A10T0G0C0</th>\n",
       "    </tr>\n",
       "    <tr>\n",
       "      <th></th>\n",
       "      <th>count</th>\n",
       "      <th>mean</th>\n",
       "      <th>std</th>\n",
       "      <th>min</th>\n",
       "      <th>25%</th>\n",
       "      <th>50%</th>\n",
       "      <th>75%</th>\n",
       "      <th>max</th>\n",
       "      <th>count</th>\n",
       "      <th>mean</th>\n",
       "      <th>...</th>\n",
       "      <th>75%</th>\n",
       "      <th>max</th>\n",
       "      <th>count</th>\n",
       "      <th>mean</th>\n",
       "      <th>std</th>\n",
       "      <th>min</th>\n",
       "      <th>25%</th>\n",
       "      <th>50%</th>\n",
       "      <th>75%</th>\n",
       "      <th>max</th>\n",
       "    </tr>\n",
       "    <tr>\n",
       "      <th>target</th>\n",
       "      <th></th>\n",
       "      <th></th>\n",
       "      <th></th>\n",
       "      <th></th>\n",
       "      <th></th>\n",
       "      <th></th>\n",
       "      <th></th>\n",
       "      <th></th>\n",
       "      <th></th>\n",
       "      <th></th>\n",
       "      <th></th>\n",
       "      <th></th>\n",
       "      <th></th>\n",
       "      <th></th>\n",
       "      <th></th>\n",
       "      <th></th>\n",
       "      <th></th>\n",
       "      <th></th>\n",
       "      <th></th>\n",
       "      <th></th>\n",
       "      <th></th>\n",
       "    </tr>\n",
       "  </thead>\n",
       "  <tbody>\n",
       "    <tr>\n",
       "      <th>Bacteroides_fragilis</th>\n",
       "      <td>20139.0</td>\n",
       "      <td>-1.343019e-09</td>\n",
       "      <td>2.442821e-05</td>\n",
       "      <td>-9.536743e-07</td>\n",
       "      <td>-9.536743e-07</td>\n",
       "      <td>-9.536743e-07</td>\n",
       "      <td>-9.536743e-07</td>\n",
       "      <td>9.990463e-04</td>\n",
       "      <td>20139.0</td>\n",
       "      <td>-0.000005</td>\n",
       "      <td>...</td>\n",
       "      <td>0.000072</td>\n",
       "      <td>0.00999</td>\n",
       "      <td>20139.0</td>\n",
       "      <td>-4.038456e-07</td>\n",
       "      <td>1.591216e-06</td>\n",
       "      <td>-9.536743e-07</td>\n",
       "      <td>-9.536743e-07</td>\n",
       "      <td>-9.536743e-07</td>\n",
       "      <td>4.632568e-08</td>\n",
       "      <td>1.904633e-05</td>\n",
       "    </tr>\n",
       "    <tr>\n",
       "      <th>Campylobacter_jejuni</th>\n",
       "      <td>20063.0</td>\n",
       "      <td>1.077368e-05</td>\n",
       "      <td>2.682630e-04</td>\n",
       "      <td>-9.536743e-07</td>\n",
       "      <td>-9.536743e-07</td>\n",
       "      <td>-9.536743e-07</td>\n",
       "      <td>3.046326e-06</td>\n",
       "      <td>9.999046e-03</td>\n",
       "      <td>20063.0</td>\n",
       "      <td>-0.000004</td>\n",
       "      <td>...</td>\n",
       "      <td>0.000411</td>\n",
       "      <td>0.01999</td>\n",
       "      <td>20063.0</td>\n",
       "      <td>-4.816612e-07</td>\n",
       "      <td>1.346655e-06</td>\n",
       "      <td>-9.536743e-07</td>\n",
       "      <td>-9.536743e-07</td>\n",
       "      <td>-9.536743e-07</td>\n",
       "      <td>-9.536743e-07</td>\n",
       "      <td>1.904633e-05</td>\n",
       "    </tr>\n",
       "    <tr>\n",
       "      <th>Enterococcus_hirae</th>\n",
       "      <td>19947.0</td>\n",
       "      <td>-8.997314e-07</td>\n",
       "      <td>2.259107e-07</td>\n",
       "      <td>-9.536743e-07</td>\n",
       "      <td>-9.536743e-07</td>\n",
       "      <td>-9.536743e-07</td>\n",
       "      <td>-9.536743e-07</td>\n",
       "      <td>4.632568e-08</td>\n",
       "      <td>19947.0</td>\n",
       "      <td>-0.000006</td>\n",
       "      <td>...</td>\n",
       "      <td>0.000280</td>\n",
       "      <td>0.00999</td>\n",
       "      <td>19947.0</td>\n",
       "      <td>4.787740e-06</td>\n",
       "      <td>5.300511e-05</td>\n",
       "      <td>-9.536743e-07</td>\n",
       "      <td>-9.536743e-07</td>\n",
       "      <td>-9.536743e-07</td>\n",
       "      <td>5.046326e-06</td>\n",
       "      <td>9.990463e-04</td>\n",
       "    </tr>\n",
       "    <tr>\n",
       "      <th>Escherichia_coli</th>\n",
       "      <td>19958.0</td>\n",
       "      <td>-4.004626e-07</td>\n",
       "      <td>2.002817e-05</td>\n",
       "      <td>-9.536743e-07</td>\n",
       "      <td>-9.536743e-07</td>\n",
       "      <td>-9.536743e-07</td>\n",
       "      <td>-9.536743e-07</td>\n",
       "      <td>9.990463e-04</td>\n",
       "      <td>19958.0</td>\n",
       "      <td>-0.000006</td>\n",
       "      <td>...</td>\n",
       "      <td>0.000030</td>\n",
       "      <td>0.00999</td>\n",
       "      <td>19958.0</td>\n",
       "      <td>-8.179894e-07</td>\n",
       "      <td>3.424623e-07</td>\n",
       "      <td>-9.536743e-07</td>\n",
       "      <td>-9.536743e-07</td>\n",
       "      <td>-9.536743e-07</td>\n",
       "      <td>-9.536743e-07</td>\n",
       "      <td>4.632568e-08</td>\n",
       "    </tr>\n",
       "    <tr>\n",
       "      <th>Escherichia_fergusonii</th>\n",
       "      <td>19937.0</td>\n",
       "      <td>-1.439236e-07</td>\n",
       "      <td>2.127481e-05</td>\n",
       "      <td>-9.536743e-07</td>\n",
       "      <td>-9.536743e-07</td>\n",
       "      <td>-9.536743e-07</td>\n",
       "      <td>-9.536743e-07</td>\n",
       "      <td>9.990463e-04</td>\n",
       "      <td>19937.0</td>\n",
       "      <td>-0.000006</td>\n",
       "      <td>...</td>\n",
       "      <td>0.000036</td>\n",
       "      <td>0.00999</td>\n",
       "      <td>19937.0</td>\n",
       "      <td>-8.160408e-07</td>\n",
       "      <td>3.445236e-07</td>\n",
       "      <td>-9.536743e-07</td>\n",
       "      <td>-9.536743e-07</td>\n",
       "      <td>-9.536743e-07</td>\n",
       "      <td>-9.536743e-07</td>\n",
       "      <td>4.632568e-08</td>\n",
       "    </tr>\n",
       "    <tr>\n",
       "      <th>Klebsiella_pneumoniae</th>\n",
       "      <td>19847.0</td>\n",
       "      <td>-1.151681e-08</td>\n",
       "      <td>2.460516e-05</td>\n",
       "      <td>-9.536743e-07</td>\n",
       "      <td>-9.536743e-07</td>\n",
       "      <td>-9.536743e-07</td>\n",
       "      <td>-9.536743e-07</td>\n",
       "      <td>9.990463e-04</td>\n",
       "      <td>19847.0</td>\n",
       "      <td>0.000016</td>\n",
       "      <td>...</td>\n",
       "      <td>0.000026</td>\n",
       "      <td>0.00999</td>\n",
       "      <td>19847.0</td>\n",
       "      <td>-7.570199e-07</td>\n",
       "      <td>6.382867e-07</td>\n",
       "      <td>-9.536743e-07</td>\n",
       "      <td>-9.536743e-07</td>\n",
       "      <td>-9.536743e-07</td>\n",
       "      <td>-9.536743e-07</td>\n",
       "      <td>9.046326e-06</td>\n",
       "    </tr>\n",
       "    <tr>\n",
       "      <th>Salmonella_enterica</th>\n",
       "      <td>20030.0</td>\n",
       "      <td>-2.352020e-07</td>\n",
       "      <td>2.343929e-05</td>\n",
       "      <td>-9.536743e-07</td>\n",
       "      <td>-9.536743e-07</td>\n",
       "      <td>-9.536743e-07</td>\n",
       "      <td>-9.536743e-07</td>\n",
       "      <td>9.990463e-04</td>\n",
       "      <td>20030.0</td>\n",
       "      <td>-0.000004</td>\n",
       "      <td>...</td>\n",
       "      <td>0.000037</td>\n",
       "      <td>0.00999</td>\n",
       "      <td>20030.0</td>\n",
       "      <td>-5.488316e-07</td>\n",
       "      <td>1.243529e-06</td>\n",
       "      <td>-9.536743e-07</td>\n",
       "      <td>-9.536743e-07</td>\n",
       "      <td>-9.536743e-07</td>\n",
       "      <td>-9.536743e-07</td>\n",
       "      <td>1.904633e-05</td>\n",
       "    </tr>\n",
       "    <tr>\n",
       "      <th>Staphylococcus_aureus</th>\n",
       "      <td>19929.0</td>\n",
       "      <td>-8.974246e-07</td>\n",
       "      <td>2.304090e-07</td>\n",
       "      <td>-9.536743e-07</td>\n",
       "      <td>-9.536743e-07</td>\n",
       "      <td>-9.536743e-07</td>\n",
       "      <td>-9.536743e-07</td>\n",
       "      <td>4.632568e-08</td>\n",
       "      <td>19929.0</td>\n",
       "      <td>-0.000006</td>\n",
       "      <td>...</td>\n",
       "      <td>0.000130</td>\n",
       "      <td>0.00999</td>\n",
       "      <td>19929.0</td>\n",
       "      <td>-8.135268e-07</td>\n",
       "      <td>3.471487e-07</td>\n",
       "      <td>-9.536743e-07</td>\n",
       "      <td>-9.536743e-07</td>\n",
       "      <td>-9.536743e-07</td>\n",
       "      <td>-9.536743e-07</td>\n",
       "      <td>4.632568e-08</td>\n",
       "    </tr>\n",
       "    <tr>\n",
       "      <th>Streptococcus_pneumoniae</th>\n",
       "      <td>20074.0</td>\n",
       "      <td>-8.983291e-07</td>\n",
       "      <td>2.286586e-07</td>\n",
       "      <td>-9.536743e-07</td>\n",
       "      <td>-9.536743e-07</td>\n",
       "      <td>-9.536743e-07</td>\n",
       "      <td>-9.536743e-07</td>\n",
       "      <td>4.632568e-08</td>\n",
       "      <td>20074.0</td>\n",
       "      <td>-0.000005</td>\n",
       "      <td>...</td>\n",
       "      <td>0.000080</td>\n",
       "      <td>0.00999</td>\n",
       "      <td>20074.0</td>\n",
       "      <td>2.580649e-06</td>\n",
       "      <td>3.680675e-05</td>\n",
       "      <td>-9.536743e-07</td>\n",
       "      <td>-9.536743e-07</td>\n",
       "      <td>-9.536743e-07</td>\n",
       "      <td>2.046326e-06</td>\n",
       "      <td>9.990463e-04</td>\n",
       "    </tr>\n",
       "    <tr>\n",
       "      <th>Streptococcus_pyogenes</th>\n",
       "      <td>20076.0</td>\n",
       "      <td>-8.980856e-07</td>\n",
       "      <td>2.291316e-07</td>\n",
       "      <td>-9.536743e-07</td>\n",
       "      <td>-9.536743e-07</td>\n",
       "      <td>-9.536743e-07</td>\n",
       "      <td>-9.536743e-07</td>\n",
       "      <td>4.632568e-08</td>\n",
       "      <td>20076.0</td>\n",
       "      <td>-0.000005</td>\n",
       "      <td>...</td>\n",
       "      <td>0.000098</td>\n",
       "      <td>0.00999</td>\n",
       "      <td>20076.0</td>\n",
       "      <td>-5.167845e-07</td>\n",
       "      <td>1.380726e-06</td>\n",
       "      <td>-9.536743e-07</td>\n",
       "      <td>-9.536743e-07</td>\n",
       "      <td>-9.536743e-07</td>\n",
       "      <td>-9.536743e-07</td>\n",
       "      <td>1.904633e-05</td>\n",
       "    </tr>\n",
       "  </tbody>\n",
       "</table>\n",
       "<p>10 rows × 2288 columns</p>\n",
       "</div>"
      ],
      "text/plain": [
       "                         A0T0G0C10                                            \\\n",
       "                             count          mean           std           min   \n",
       "target                                                                         \n",
       "Bacteroides_fragilis       20139.0 -1.343019e-09  2.442821e-05 -9.536743e-07   \n",
       "Campylobacter_jejuni       20063.0  1.077368e-05  2.682630e-04 -9.536743e-07   \n",
       "Enterococcus_hirae         19947.0 -8.997314e-07  2.259107e-07 -9.536743e-07   \n",
       "Escherichia_coli           19958.0 -4.004626e-07  2.002817e-05 -9.536743e-07   \n",
       "Escherichia_fergusonii     19937.0 -1.439236e-07  2.127481e-05 -9.536743e-07   \n",
       "Klebsiella_pneumoniae      19847.0 -1.151681e-08  2.460516e-05 -9.536743e-07   \n",
       "Salmonella_enterica        20030.0 -2.352020e-07  2.343929e-05 -9.536743e-07   \n",
       "Staphylococcus_aureus      19929.0 -8.974246e-07  2.304090e-07 -9.536743e-07   \n",
       "Streptococcus_pneumoniae   20074.0 -8.983291e-07  2.286586e-07 -9.536743e-07   \n",
       "Streptococcus_pyogenes     20076.0 -8.980856e-07  2.291316e-07 -9.536743e-07   \n",
       "\n",
       "                                                                    \\\n",
       "                                   25%           50%           75%   \n",
       "target                                                               \n",
       "Bacteroides_fragilis     -9.536743e-07 -9.536743e-07 -9.536743e-07   \n",
       "Campylobacter_jejuni     -9.536743e-07 -9.536743e-07  3.046326e-06   \n",
       "Enterococcus_hirae       -9.536743e-07 -9.536743e-07 -9.536743e-07   \n",
       "Escherichia_coli         -9.536743e-07 -9.536743e-07 -9.536743e-07   \n",
       "Escherichia_fergusonii   -9.536743e-07 -9.536743e-07 -9.536743e-07   \n",
       "Klebsiella_pneumoniae    -9.536743e-07 -9.536743e-07 -9.536743e-07   \n",
       "Salmonella_enterica      -9.536743e-07 -9.536743e-07 -9.536743e-07   \n",
       "Staphylococcus_aureus    -9.536743e-07 -9.536743e-07 -9.536743e-07   \n",
       "Streptococcus_pneumoniae -9.536743e-07 -9.536743e-07 -9.536743e-07   \n",
       "Streptococcus_pyogenes   -9.536743e-07 -9.536743e-07 -9.536743e-07   \n",
       "\n",
       "                                       A0T0G1C9            ...  A9T1G0C0  \\\n",
       "                                   max    count      mean  ...       75%   \n",
       "target                                                     ...             \n",
       "Bacteroides_fragilis      9.990463e-04  20139.0 -0.000005  ...  0.000072   \n",
       "Campylobacter_jejuni      9.999046e-03  20063.0 -0.000004  ...  0.000411   \n",
       "Enterococcus_hirae        4.632568e-08  19947.0 -0.000006  ...  0.000280   \n",
       "Escherichia_coli          9.990463e-04  19958.0 -0.000006  ...  0.000030   \n",
       "Escherichia_fergusonii    9.990463e-04  19937.0 -0.000006  ...  0.000036   \n",
       "Klebsiella_pneumoniae     9.990463e-04  19847.0  0.000016  ...  0.000026   \n",
       "Salmonella_enterica       9.990463e-04  20030.0 -0.000004  ...  0.000037   \n",
       "Staphylococcus_aureus     4.632568e-08  19929.0 -0.000006  ...  0.000130   \n",
       "Streptococcus_pneumoniae  4.632568e-08  20074.0 -0.000005  ...  0.000080   \n",
       "Streptococcus_pyogenes    4.632568e-08  20076.0 -0.000005  ...  0.000098   \n",
       "\n",
       "                                  A10T0G0C0                              \\\n",
       "                              max     count          mean           std   \n",
       "target                                                                    \n",
       "Bacteroides_fragilis      0.00999   20139.0 -4.038456e-07  1.591216e-06   \n",
       "Campylobacter_jejuni      0.01999   20063.0 -4.816612e-07  1.346655e-06   \n",
       "Enterococcus_hirae        0.00999   19947.0  4.787740e-06  5.300511e-05   \n",
       "Escherichia_coli          0.00999   19958.0 -8.179894e-07  3.424623e-07   \n",
       "Escherichia_fergusonii    0.00999   19937.0 -8.160408e-07  3.445236e-07   \n",
       "Klebsiella_pneumoniae     0.00999   19847.0 -7.570199e-07  6.382867e-07   \n",
       "Salmonella_enterica       0.00999   20030.0 -5.488316e-07  1.243529e-06   \n",
       "Staphylococcus_aureus     0.00999   19929.0 -8.135268e-07  3.471487e-07   \n",
       "Streptococcus_pneumoniae  0.00999   20074.0  2.580649e-06  3.680675e-05   \n",
       "Streptococcus_pyogenes    0.00999   20076.0 -5.167845e-07  1.380726e-06   \n",
       "\n",
       "                                                                    \\\n",
       "                                   min           25%           50%   \n",
       "target                                                               \n",
       "Bacteroides_fragilis     -9.536743e-07 -9.536743e-07 -9.536743e-07   \n",
       "Campylobacter_jejuni     -9.536743e-07 -9.536743e-07 -9.536743e-07   \n",
       "Enterococcus_hirae       -9.536743e-07 -9.536743e-07 -9.536743e-07   \n",
       "Escherichia_coli         -9.536743e-07 -9.536743e-07 -9.536743e-07   \n",
       "Escherichia_fergusonii   -9.536743e-07 -9.536743e-07 -9.536743e-07   \n",
       "Klebsiella_pneumoniae    -9.536743e-07 -9.536743e-07 -9.536743e-07   \n",
       "Salmonella_enterica      -9.536743e-07 -9.536743e-07 -9.536743e-07   \n",
       "Staphylococcus_aureus    -9.536743e-07 -9.536743e-07 -9.536743e-07   \n",
       "Streptococcus_pneumoniae -9.536743e-07 -9.536743e-07 -9.536743e-07   \n",
       "Streptococcus_pyogenes   -9.536743e-07 -9.536743e-07 -9.536743e-07   \n",
       "\n",
       "                                                      \n",
       "                                   75%           max  \n",
       "target                                                \n",
       "Bacteroides_fragilis      4.632568e-08  1.904633e-05  \n",
       "Campylobacter_jejuni     -9.536743e-07  1.904633e-05  \n",
       "Enterococcus_hirae        5.046326e-06  9.990463e-04  \n",
       "Escherichia_coli         -9.536743e-07  4.632568e-08  \n",
       "Escherichia_fergusonii   -9.536743e-07  4.632568e-08  \n",
       "Klebsiella_pneumoniae    -9.536743e-07  9.046326e-06  \n",
       "Salmonella_enterica      -9.536743e-07  1.904633e-05  \n",
       "Staphylococcus_aureus    -9.536743e-07  4.632568e-08  \n",
       "Streptococcus_pneumoniae  2.046326e-06  9.990463e-04  \n",
       "Streptococcus_pyogenes   -9.536743e-07  1.904633e-05  \n",
       "\n",
       "[10 rows x 2288 columns]"
      ]
     },
     "execution_count": 13,
     "metadata": {},
     "output_type": "execute_result"
    }
   ],
   "source": [
    "train.groupby('target').describe()"
   ]
  },
  {
   "cell_type": "code",
   "execution_count": 14,
   "id": "8df85421",
   "metadata": {
    "execution": {
     "iopub.execute_input": "2022-06-29T11:19:21.333060Z",
     "iopub.status.busy": "2022-06-29T11:19:21.332749Z",
     "iopub.status.idle": "2022-06-29T11:19:21.578537Z",
     "shell.execute_reply": "2022-06-29T11:19:21.577556Z"
    },
    "papermill": {
     "duration": 0.258238,
     "end_time": "2022-06-29T11:19:21.580822",
     "exception": false,
     "start_time": "2022-06-29T11:19:21.322584",
     "status": "completed"
    },
    "tags": []
   },
   "outputs": [],
   "source": [
    "from sklearn.linear_model import LogisticRegression\n",
    "from sklearn.preprocessing import LabelEncoder , StandardScaler\n",
    "from sklearn.model_selection import train_test_split"
   ]
  },
  {
   "cell_type": "code",
   "execution_count": 15,
   "id": "92a1766a",
   "metadata": {
    "execution": {
     "iopub.execute_input": "2022-06-29T11:19:21.601550Z",
     "iopub.status.busy": "2022-06-29T11:19:21.600530Z",
     "iopub.status.idle": "2022-06-29T11:19:21.740132Z",
     "shell.execute_reply": "2022-06-29T11:19:21.739095Z"
    },
    "papermill": {
     "duration": 0.152711,
     "end_time": "2022-06-29T11:19:21.742919",
     "exception": false,
     "start_time": "2022-06-29T11:19:21.590208",
     "status": "completed"
    },
    "tags": []
   },
   "outputs": [],
   "source": [
    "X = train.drop('target' , axis = 1)\n",
    "y = train['target']"
   ]
  },
  {
   "cell_type": "code",
   "execution_count": 16,
   "id": "b6673ca5",
   "metadata": {
    "execution": {
     "iopub.execute_input": "2022-06-29T11:19:21.763508Z",
     "iopub.status.busy": "2022-06-29T11:19:21.762605Z",
     "iopub.status.idle": "2022-06-29T11:19:21.822516Z",
     "shell.execute_reply": "2022-06-29T11:19:21.821677Z"
    },
    "papermill": {
     "duration": 0.072052,
     "end_time": "2022-06-29T11:19:21.824553",
     "exception": false,
     "start_time": "2022-06-29T11:19:21.752501",
     "status": "completed"
    },
    "tags": []
   },
   "outputs": [],
   "source": [
    "le = LabelEncoder()\n",
    "y = le.fit_transform(y)"
   ]
  },
  {
   "cell_type": "code",
   "execution_count": 17,
   "id": "048fdac9",
   "metadata": {
    "execution": {
     "iopub.execute_input": "2022-06-29T11:19:21.843104Z",
     "iopub.status.busy": "2022-06-29T11:19:21.842798Z",
     "iopub.status.idle": "2022-06-29T11:19:22.580614Z",
     "shell.execute_reply": "2022-06-29T11:19:22.579662Z"
    },
    "papermill": {
     "duration": 0.750092,
     "end_time": "2022-06-29T11:19:22.583165",
     "exception": false,
     "start_time": "2022-06-29T11:19:21.833073",
     "status": "completed"
    },
    "tags": []
   },
   "outputs": [],
   "source": [
    "ss = StandardScaler()\n",
    "X = ss.fit_transform(X)"
   ]
  },
  {
   "cell_type": "code",
   "execution_count": 18,
   "id": "13e2199d",
   "metadata": {
    "execution": {
     "iopub.execute_input": "2022-06-29T11:19:22.602225Z",
     "iopub.status.busy": "2022-06-29T11:19:22.601951Z",
     "iopub.status.idle": "2022-06-29T11:19:23.267268Z",
     "shell.execute_reply": "2022-06-29T11:19:23.266238Z"
    },
    "papermill": {
     "duration": 0.677554,
     "end_time": "2022-06-29T11:19:23.269776",
     "exception": false,
     "start_time": "2022-06-29T11:19:22.592222",
     "status": "completed"
    },
    "tags": []
   },
   "outputs": [],
   "source": [
    "X_train , X_test , y_train , y_test = train_test_split(X , y , test_size = 0.3 , random_state = 42)"
   ]
  },
  {
   "cell_type": "code",
   "execution_count": 19,
   "id": "ee4d4b46",
   "metadata": {
    "execution": {
     "iopub.execute_input": "2022-06-29T11:19:23.288954Z",
     "iopub.status.busy": "2022-06-29T11:19:23.288636Z",
     "iopub.status.idle": "2022-06-29T11:19:23.294661Z",
     "shell.execute_reply": "2022-06-29T11:19:23.293747Z"
    },
    "papermill": {
     "duration": 0.018152,
     "end_time": "2022-06-29T11:19:23.296788",
     "exception": false,
     "start_time": "2022-06-29T11:19:23.278636",
     "status": "completed"
    },
    "tags": []
   },
   "outputs": [],
   "source": [
    "lr = LogisticRegression(multi_class = 'multinomial' , max_iter = 1000)"
   ]
  },
  {
   "cell_type": "code",
   "execution_count": 20,
   "id": "a669bb42",
   "metadata": {
    "execution": {
     "iopub.execute_input": "2022-06-29T11:19:23.315105Z",
     "iopub.status.busy": "2022-06-29T11:19:23.314836Z",
     "iopub.status.idle": "2022-06-29T11:24:17.233943Z",
     "shell.execute_reply": "2022-06-29T11:24:17.232949Z"
    },
    "papermill": {
     "duration": 293.950098,
     "end_time": "2022-06-29T11:24:17.255394",
     "exception": false,
     "start_time": "2022-06-29T11:19:23.305296",
     "status": "completed"
    },
    "tags": []
   },
   "outputs": [
    {
     "name": "stderr",
     "output_type": "stream",
     "text": [
      "/opt/conda/lib/python3.7/site-packages/sklearn/linear_model/_logistic.py:818: ConvergenceWarning: lbfgs failed to converge (status=1):\n",
      "STOP: TOTAL NO. of ITERATIONS REACHED LIMIT.\n",
      "\n",
      "Increase the number of iterations (max_iter) or scale the data as shown in:\n",
      "    https://scikit-learn.org/stable/modules/preprocessing.html\n",
      "Please also refer to the documentation for alternative solver options:\n",
      "    https://scikit-learn.org/stable/modules/linear_model.html#logistic-regression\n",
      "  extra_warning_msg=_LOGISTIC_SOLVER_CONVERGENCE_MSG,\n"
     ]
    },
    {
     "data": {
      "text/plain": [
       "LogisticRegression(max_iter=1000, multi_class='multinomial')"
      ]
     },
     "execution_count": 20,
     "metadata": {},
     "output_type": "execute_result"
    }
   ],
   "source": [
    "lr.fit(X_train , y_train)"
   ]
  },
  {
   "cell_type": "code",
   "execution_count": 21,
   "id": "7355406e",
   "metadata": {
    "execution": {
     "iopub.execute_input": "2022-06-29T11:24:17.291990Z",
     "iopub.status.busy": "2022-06-29T11:24:17.291436Z",
     "iopub.status.idle": "2022-06-29T11:24:17.361182Z",
     "shell.execute_reply": "2022-06-29T11:24:17.360032Z"
    },
    "papermill": {
     "duration": 0.091835,
     "end_time": "2022-06-29T11:24:17.364336",
     "exception": false,
     "start_time": "2022-06-29T11:24:17.272501",
     "status": "completed"
    },
    "tags": []
   },
   "outputs": [],
   "source": [
    "y_pred = lr.predict(X_test)"
   ]
  },
  {
   "cell_type": "code",
   "execution_count": 22,
   "id": "a2045259",
   "metadata": {
    "execution": {
     "iopub.execute_input": "2022-06-29T11:24:17.400311Z",
     "iopub.status.busy": "2022-06-29T11:24:17.399398Z",
     "iopub.status.idle": "2022-06-29T11:24:17.404908Z",
     "shell.execute_reply": "2022-06-29T11:24:17.403953Z"
    },
    "papermill": {
     "duration": 0.02653,
     "end_time": "2022-06-29T11:24:17.407645",
     "exception": false,
     "start_time": "2022-06-29T11:24:17.381115",
     "status": "completed"
    },
    "tags": []
   },
   "outputs": [],
   "source": [
    "from sklearn.metrics import accuracy_score"
   ]
  },
  {
   "cell_type": "code",
   "execution_count": 23,
   "id": "d7b8f8c7",
   "metadata": {
    "execution": {
     "iopub.execute_input": "2022-06-29T11:24:17.442319Z",
     "iopub.status.busy": "2022-06-29T11:24:17.441857Z",
     "iopub.status.idle": "2022-06-29T11:24:17.455568Z",
     "shell.execute_reply": "2022-06-29T11:24:17.454648Z"
    },
    "papermill": {
     "duration": 0.03432,
     "end_time": "2022-06-29T11:24:17.458469",
     "exception": false,
     "start_time": "2022-06-29T11:24:17.424149",
     "status": "completed"
    },
    "tags": []
   },
   "outputs": [
    {
     "data": {
      "text/plain": [
       "0.8744"
      ]
     },
     "execution_count": 23,
     "metadata": {},
     "output_type": "execute_result"
    }
   ],
   "source": [
    "accuracy_score(y_pred , y_test)"
   ]
  },
  {
   "cell_type": "code",
   "execution_count": 24,
   "id": "c36da697",
   "metadata": {
    "execution": {
     "iopub.execute_input": "2022-06-29T11:24:17.490255Z",
     "iopub.status.busy": "2022-06-29T11:24:17.489987Z",
     "iopub.status.idle": "2022-06-29T11:24:18.025693Z",
     "shell.execute_reply": "2022-06-29T11:24:18.024606Z"
    },
    "papermill": {
     "duration": 0.554162,
     "end_time": "2022-06-29T11:24:18.029053",
     "exception": false,
     "start_time": "2022-06-29T11:24:17.474891",
     "status": "completed"
    },
    "tags": []
   },
   "outputs": [
    {
     "data": {
      "text/plain": [
       "array([6, 6, 2, ..., 9, 0, 2])"
      ]
     },
     "execution_count": 24,
     "metadata": {},
     "output_type": "execute_result"
    }
   ],
   "source": [
    "## testing on test set \n",
    "test = ss.fit_transform(test)\n",
    "y_pred = lr.predict(test)\n",
    "y_pred"
   ]
  },
  {
   "cell_type": "code",
   "execution_count": 25,
   "id": "d6875fe1",
   "metadata": {
    "execution": {
     "iopub.execute_input": "2022-06-29T11:24:18.065148Z",
     "iopub.status.busy": "2022-06-29T11:24:18.064687Z",
     "iopub.status.idle": "2022-06-29T11:24:18.079078Z",
     "shell.execute_reply": "2022-06-29T11:24:18.078080Z"
    },
    "papermill": {
     "duration": 0.035491,
     "end_time": "2022-06-29T11:24:18.082037",
     "exception": false,
     "start_time": "2022-06-29T11:24:18.046546",
     "status": "completed"
    },
    "tags": []
   },
   "outputs": [],
   "source": [
    "predictions = le.inverse_transform(y_pred)"
   ]
  },
  {
   "cell_type": "code",
   "execution_count": 26,
   "id": "88874d16",
   "metadata": {
    "execution": {
     "iopub.execute_input": "2022-06-29T11:24:18.117277Z",
     "iopub.status.busy": "2022-06-29T11:24:18.116865Z",
     "iopub.status.idle": "2022-06-29T11:24:18.138962Z",
     "shell.execute_reply": "2022-06-29T11:24:18.137980Z"
    },
    "papermill": {
     "duration": 0.042493,
     "end_time": "2022-06-29T11:24:18.141872",
     "exception": false,
     "start_time": "2022-06-29T11:24:18.099379",
     "status": "completed"
    },
    "tags": []
   },
   "outputs": [
    {
     "data": {
      "text/html": [
       "<div>\n",
       "<style scoped>\n",
       "    .dataframe tbody tr th:only-of-type {\n",
       "        vertical-align: middle;\n",
       "    }\n",
       "\n",
       "    .dataframe tbody tr th {\n",
       "        vertical-align: top;\n",
       "    }\n",
       "\n",
       "    .dataframe thead th {\n",
       "        text-align: right;\n",
       "    }\n",
       "</style>\n",
       "<table border=\"1\" class=\"dataframe\">\n",
       "  <thead>\n",
       "    <tr style=\"text-align: right;\">\n",
       "      <th></th>\n",
       "      <th>row_id</th>\n",
       "      <th>target</th>\n",
       "    </tr>\n",
       "  </thead>\n",
       "  <tbody>\n",
       "    <tr>\n",
       "      <th>0</th>\n",
       "      <td>200000</td>\n",
       "      <td>Salmonella_enterica</td>\n",
       "    </tr>\n",
       "    <tr>\n",
       "      <th>1</th>\n",
       "      <td>200001</td>\n",
       "      <td>Salmonella_enterica</td>\n",
       "    </tr>\n",
       "    <tr>\n",
       "      <th>2</th>\n",
       "      <td>200002</td>\n",
       "      <td>Enterococcus_hirae</td>\n",
       "    </tr>\n",
       "    <tr>\n",
       "      <th>3</th>\n",
       "      <td>200003</td>\n",
       "      <td>Salmonella_enterica</td>\n",
       "    </tr>\n",
       "    <tr>\n",
       "      <th>4</th>\n",
       "      <td>200004</td>\n",
       "      <td>Staphylococcus_aureus</td>\n",
       "    </tr>\n",
       "    <tr>\n",
       "      <th>...</th>\n",
       "      <td>...</td>\n",
       "      <td>...</td>\n",
       "    </tr>\n",
       "    <tr>\n",
       "      <th>99995</th>\n",
       "      <td>299995</td>\n",
       "      <td>Streptococcus_pneumoniae</td>\n",
       "    </tr>\n",
       "    <tr>\n",
       "      <th>99996</th>\n",
       "      <td>299996</td>\n",
       "      <td>Streptococcus_pyogenes</td>\n",
       "    </tr>\n",
       "    <tr>\n",
       "      <th>99997</th>\n",
       "      <td>299997</td>\n",
       "      <td>Streptococcus_pyogenes</td>\n",
       "    </tr>\n",
       "    <tr>\n",
       "      <th>99998</th>\n",
       "      <td>299998</td>\n",
       "      <td>Bacteroides_fragilis</td>\n",
       "    </tr>\n",
       "    <tr>\n",
       "      <th>99999</th>\n",
       "      <td>299999</td>\n",
       "      <td>Enterococcus_hirae</td>\n",
       "    </tr>\n",
       "  </tbody>\n",
       "</table>\n",
       "<p>100000 rows × 2 columns</p>\n",
       "</div>"
      ],
      "text/plain": [
       "       row_id                    target\n",
       "0      200000       Salmonella_enterica\n",
       "1      200001       Salmonella_enterica\n",
       "2      200002        Enterococcus_hirae\n",
       "3      200003       Salmonella_enterica\n",
       "4      200004     Staphylococcus_aureus\n",
       "...       ...                       ...\n",
       "99995  299995  Streptococcus_pneumoniae\n",
       "99996  299996    Streptococcus_pyogenes\n",
       "99997  299997    Streptococcus_pyogenes\n",
       "99998  299998      Bacteroides_fragilis\n",
       "99999  299999        Enterococcus_hirae\n",
       "\n",
       "[100000 rows x 2 columns]"
      ]
     },
     "execution_count": 26,
     "metadata": {},
     "output_type": "execute_result"
    }
   ],
   "source": [
    "df = pd.DataFrame({'row_id':row_id , 'target':predictions})\n",
    "df"
   ]
  },
  {
   "cell_type": "code",
   "execution_count": 27,
   "id": "1ea17da8",
   "metadata": {
    "execution": {
     "iopub.execute_input": "2022-06-29T11:24:18.160949Z",
     "iopub.status.busy": "2022-06-29T11:24:18.160658Z",
     "iopub.status.idle": "2022-06-29T11:24:18.380452Z",
     "shell.execute_reply": "2022-06-29T11:24:18.379497Z"
    },
    "papermill": {
     "duration": 0.231851,
     "end_time": "2022-06-29T11:24:18.382805",
     "exception": false,
     "start_time": "2022-06-29T11:24:18.150954",
     "status": "completed"
    },
    "tags": []
   },
   "outputs": [],
   "source": [
    "df.to_csv('submission.csv' ,index = False)"
   ]
  },
  {
   "cell_type": "code",
   "execution_count": null,
   "id": "a0dfefbf",
   "metadata": {
    "papermill": {
     "duration": 0.00926,
     "end_time": "2022-06-29T11:24:18.401946",
     "exception": false,
     "start_time": "2022-06-29T11:24:18.392686",
     "status": "completed"
    },
    "tags": []
   },
   "outputs": [],
   "source": []
  }
 ],
 "metadata": {
  "kernelspec": {
   "display_name": "Python 3",
   "language": "python",
   "name": "python3"
  },
  "language_info": {
   "codemirror_mode": {
    "name": "ipython",
    "version": 3
   },
   "file_extension": ".py",
   "mimetype": "text/x-python",
   "name": "python",
   "nbconvert_exporter": "python",
   "pygments_lexer": "ipython3",
   "version": "3.7.12"
  },
  "papermill": {
   "default_parameters": {},
   "duration": 355.657908,
   "end_time": "2022-06-29T11:24:19.031313",
   "environment_variables": {},
   "exception": null,
   "input_path": "__notebook__.ipynb",
   "output_path": "__notebook__.ipynb",
   "parameters": {},
   "start_time": "2022-06-29T11:18:23.373405",
   "version": "2.3.4"
  }
 },
 "nbformat": 4,
 "nbformat_minor": 5
}
