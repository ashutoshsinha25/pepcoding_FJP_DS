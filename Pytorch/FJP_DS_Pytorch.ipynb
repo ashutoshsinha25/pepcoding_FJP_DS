{
  "nbformat": 4,
  "nbformat_minor": 0,
  "metadata": {
    "colab": {
      "name": "FJP_DS_Pytorch.ipynb",
      "provenance": [],
      "collapsed_sections": [],
      "authorship_tag": "ABX9TyM/NX4PJ9kNTtoW3aOewB1i",
      "include_colab_link": true
    },
    "kernelspec": {
      "name": "python3",
      "display_name": "Python 3"
    },
    "language_info": {
      "name": "python"
    },
    "accelerator": "GPU",
    "gpuClass": "standard"
  },
  "cells": [
    {
      "cell_type": "markdown",
      "metadata": {
        "id": "view-in-github",
        "colab_type": "text"
      },
      "source": [
        "<a href=\"https://colab.research.google.com/github/ashutoshsinha25/pepcoding_FJP_DS/blob/main/Pytorch/FJP_DS_Pytorch.ipynb\" target=\"_parent\"><img src=\"https://colab.research.google.com/assets/colab-badge.svg\" alt=\"Open In Colab\"/></a>"
      ]
    },
    {
      "cell_type": "code",
      "execution_count": 1,
      "metadata": {
        "colab": {
          "base_uri": "https://localhost:8080/",
          "height": 35
        },
        "id": "-VceQahUrfqu",
        "outputId": "ca7926fe-de50-47ed-9cd4-e4a49d57613a"
      },
      "outputs": [
        {
          "output_type": "execute_result",
          "data": {
            "text/plain": [
              "'1.12.1+cu113'"
            ],
            "application/vnd.google.colaboratory.intrinsic+json": {
              "type": "string"
            }
          },
          "metadata": {},
          "execution_count": 1
        }
      ],
      "source": [
        "import torch\n",
        "torch.__version__"
      ]
    },
    {
      "cell_type": "code",
      "source": [
        "a = torch.empty(6,3)\n",
        "print(a)"
      ],
      "metadata": {
        "colab": {
          "base_uri": "https://localhost:8080/"
        },
        "id": "60Ondu1rrl0g",
        "outputId": "c8a5030a-8037-43b8-a3ac-00bea2db6002"
      },
      "execution_count": 2,
      "outputs": [
        {
          "output_type": "stream",
          "name": "stdout",
          "text": [
            "tensor([[3.9891e-35, 0.0000e+00, 1.4293e-43],\n",
            "        [0.0000e+00,        nan, 0.0000e+00],\n",
            "        [1.1434e+27, 7.5555e+31, 1.2705e+31],\n",
            "        [7.0948e+22, 3.8946e+21, 4.4650e+30],\n",
            "        [1.1286e+27, 2.8405e+20, 3.2608e-12],\n",
            "        [1.4583e-19, 1.0899e+27, 6.8943e+34]])\n"
          ]
        }
      ]
    },
    {
      "cell_type": "code",
      "source": [
        "a = torch.rand(4,3)\n",
        "print(a)"
      ],
      "metadata": {
        "colab": {
          "base_uri": "https://localhost:8080/"
        },
        "id": "3ob2cSGRrnTZ",
        "outputId": "77f992a2-a711-4908-fc00-07da4ac3b9ea"
      },
      "execution_count": 3,
      "outputs": [
        {
          "output_type": "stream",
          "name": "stdout",
          "text": [
            "tensor([[0.8547, 0.8890, 0.2814],\n",
            "        [0.5421, 0.1974, 0.1747],\n",
            "        [0.1243, 0.8786, 0.5446],\n",
            "        [0.4175, 0.0092, 0.6940]])\n"
          ]
        }
      ]
    },
    {
      "cell_type": "code",
      "source": [
        "a = torch.zeros(4,3, dtype=torch.long)\n",
        "print(a)"
      ],
      "metadata": {
        "colab": {
          "base_uri": "https://localhost:8080/"
        },
        "id": "gRiRLABGrovZ",
        "outputId": "0624001c-2e72-4458-f2d7-bc539404f394"
      },
      "execution_count": 4,
      "outputs": [
        {
          "output_type": "stream",
          "name": "stdout",
          "text": [
            "tensor([[0, 0, 0],\n",
            "        [0, 0, 0],\n",
            "        [0, 0, 0],\n",
            "        [0, 0, 0]])\n"
          ]
        }
      ]
    },
    {
      "cell_type": "code",
      "source": [
        "a = torch.tensor([7.8, 5])\n",
        "type(a)"
      ],
      "metadata": {
        "colab": {
          "base_uri": "https://localhost:8080/"
        },
        "id": "Rtnh5CkNrqJb",
        "outputId": "827b400d-1f25-4e31-df93-f0ccbe663070"
      },
      "execution_count": 5,
      "outputs": [
        {
          "output_type": "execute_result",
          "data": {
            "text/plain": [
              "torch.Tensor"
            ]
          },
          "metadata": {},
          "execution_count": 5
        }
      ]
    },
    {
      "cell_type": "code",
      "source": [
        "a = a.new_ones(6,5, dtype=torch.double)    # new methods take in sizes\n",
        "print(a)"
      ],
      "metadata": {
        "colab": {
          "base_uri": "https://localhost:8080/"
        },
        "id": "pNQK43S7rrHi",
        "outputId": "5a6bc38c-0b73-4775-cad8-356169860155"
      },
      "execution_count": 6,
      "outputs": [
        {
          "output_type": "stream",
          "name": "stdout",
          "text": [
            "tensor([[1., 1., 1., 1., 1.],\n",
            "        [1., 1., 1., 1., 1.],\n",
            "        [1., 1., 1., 1., 1.],\n",
            "        [1., 1., 1., 1., 1.],\n",
            "        [1., 1., 1., 1., 1.],\n",
            "        [1., 1., 1., 1., 1.]], dtype=torch.float64)\n"
          ]
        }
      ]
    },
    {
      "cell_type": "code",
      "source": [
        "print(a.size())"
      ],
      "metadata": {
        "colab": {
          "base_uri": "https://localhost:8080/"
        },
        "id": "qq7JQc_Brtx2",
        "outputId": "965574a9-026c-45c5-b7db-4fc9aa258f1f"
      },
      "execution_count": 7,
      "outputs": [
        {
          "output_type": "stream",
          "name": "stdout",
          "text": [
            "torch.Size([6, 5])\n"
          ]
        }
      ]
    },
    {
      "cell_type": "code",
      "source": [
        "b = torch.rand(6,5)\n",
        "print(a + b)"
      ],
      "metadata": {
        "colab": {
          "base_uri": "https://localhost:8080/"
        },
        "id": "AqQSN3ZFrwTw",
        "outputId": "6594241e-5063-4429-d94f-3a0e265d3524"
      },
      "execution_count": 8,
      "outputs": [
        {
          "output_type": "stream",
          "name": "stdout",
          "text": [
            "tensor([[1.1656, 1.2239, 1.9202, 1.5976, 1.8824],\n",
            "        [1.6386, 1.7168, 1.7695, 1.5024, 1.1930],\n",
            "        [1.4483, 1.7269, 1.2608, 1.7778, 1.1193],\n",
            "        [1.1059, 1.3875, 1.0961, 1.2407, 1.8949],\n",
            "        [1.4628, 1.8224, 1.6135, 1.3509, 1.6632],\n",
            "        [1.8389, 1.2785, 1.9561, 1.7118, 1.7633]], dtype=torch.float64)\n"
          ]
        }
      ]
    },
    {
      "cell_type": "code",
      "source": [
        "print(torch.add(a,b))"
      ],
      "metadata": {
        "colab": {
          "base_uri": "https://localhost:8080/"
        },
        "id": "ZVUkNwxeryWC",
        "outputId": "3e8b21e1-1780-436f-877f-f9878fa88c33"
      },
      "execution_count": 9,
      "outputs": [
        {
          "output_type": "stream",
          "name": "stdout",
          "text": [
            "tensor([[1.1656, 1.2239, 1.9202, 1.5976, 1.8824],\n",
            "        [1.6386, 1.7168, 1.7695, 1.5024, 1.1930],\n",
            "        [1.4483, 1.7269, 1.2608, 1.7778, 1.1193],\n",
            "        [1.1059, 1.3875, 1.0961, 1.2407, 1.8949],\n",
            "        [1.4628, 1.8224, 1.6135, 1.3509, 1.6632],\n",
            "        [1.8389, 1.2785, 1.9561, 1.7118, 1.7633]], dtype=torch.float64)\n"
          ]
        }
      ]
    },
    {
      "cell_type": "code",
      "source": [
        "x = torch.ones(4)\n",
        "print(x)"
      ],
      "metadata": {
        "colab": {
          "base_uri": "https://localhost:8080/"
        },
        "id": "oNzCGsnNr0QG",
        "outputId": "3dd29d9e-06b6-4732-be69-3e7452a8be3a"
      },
      "execution_count": 10,
      "outputs": [
        {
          "output_type": "stream",
          "name": "stdout",
          "text": [
            "tensor([1., 1., 1., 1.])\n"
          ]
        }
      ]
    },
    {
      "cell_type": "code",
      "source": [
        "y = x.numpy()\n",
        "print(y)"
      ],
      "metadata": {
        "colab": {
          "base_uri": "https://localhost:8080/"
        },
        "id": "hu2c7kHKr1cs",
        "outputId": "ee2e6e6e-b210-4104-83b1-e89827f43dd2"
      },
      "execution_count": 11,
      "outputs": [
        {
          "output_type": "stream",
          "name": "stdout",
          "text": [
            "[1. 1. 1. 1.]\n"
          ]
        }
      ]
    },
    {
      "cell_type": "code",
      "source": [
        "import numpy as np\n",
        "f = np.ones(4)\n",
        "g = torch.from_numpy(f)\n",
        "np.add(f, 4-7, out=f)\n",
        "print(f)\n",
        "print(g)"
      ],
      "metadata": {
        "colab": {
          "base_uri": "https://localhost:8080/"
        },
        "id": "SjU9Elfjr2Y1",
        "outputId": "62f78234-73f7-40a4-831d-01b088c05fa7"
      },
      "execution_count": 12,
      "outputs": [
        {
          "output_type": "stream",
          "name": "stdout",
          "text": [
            "[-2. -2. -2. -2.]\n",
            "tensor([-2., -2., -2., -2.], dtype=torch.float64)\n"
          ]
        }
      ]
    },
    {
      "cell_type": "code",
      "source": [
        "if torch.cuda.is_available():\n",
        "    device = torch.device(\"cuda\")          # a CUDA device object\n",
        "    y = torch.ones_like(x, device=device)  # directly create a tensor on GPU\n",
        "    x = x.to(\"cuda\")                       # or just use strings ``.to(\"cuda\")``\n",
        "    z = x + y\n",
        "    print(z)\n",
        "    print(z.to(\"cpu\", torch.double))"
      ],
      "metadata": {
        "colab": {
          "base_uri": "https://localhost:8080/"
        },
        "id": "Y5TcL9h_r45L",
        "outputId": "269046a1-bdb0-4062-e82d-46417296e12d"
      },
      "execution_count": 13,
      "outputs": [
        {
          "output_type": "stream",
          "name": "stdout",
          "text": [
            "tensor([2., 2., 2., 2.], device='cuda:0')\n",
            "tensor([2., 2., 2., 2.], dtype=torch.float64)\n"
          ]
        }
      ]
    },
    {
      "cell_type": "code",
      "source": [
        "torch.cuda.is_available()"
      ],
      "metadata": {
        "id": "0sG1DJZyr-cE"
      },
      "execution_count": 13,
      "outputs": []
    },
    {
      "cell_type": "markdown",
      "source": [
        "The key step is between the last convolution and the first Linear block. Conv2d outputs a tensor of shape [batch_size, n_features_conv, height, width] whereas Linear expects [batch_size, n_features_lin]. To make the two align you need to \"stack\" the 3 dimensions [n_features_conv, height, width] into one [n_features_lin]. As follows, it must be that n_features_lin == n_features_conv height width. In the original code this \"stacking\" is achieved by\n",
        "\n",
        "x = x.view(-1, self.num_flat_features(x)) and if you inspect num_flat_features it just computes this n_features_conv height width product. In other words, your first conv must have num_flat_features(x) input features, where x is the tensor retrieved from the preceding convolution. But we need to calculate this value ahead of time, so that we can initialize the network in the first place...\n",
        "\n",
        "The calculation follows from inspecting the operations one by one.\n",
        "\n",
        "input is 32x32 we do a 5x5 convolution without padding, so we lose 2 pixels at each side, we drop down to 28x28 we do maxpooling with receptive field of 2x2, we cut each dimension by half, down to 14x14 we do another 5x5 convolution without padding, we drop down to 10x10 we do another maxpooling, we drop down to 5x5 and this 5x5 is why in the tutorial you see self.fc1 = nn.Linear(16 5 5, 120). It's n_features_conv height width, when starting from a 32x32 image. If you want to have a different input size, you have to redo the above calculation and adjust your first Linear layer accordingly.\n",
        "\n",
        "For the further operations, it's just a chain of matrix multiplications (that's what Linear does). So the only rule is that the n_features_out of previous Linear matches n_features_in of the next one. Values 120 and 84 are entirely arbitrary, though they were probably chosen by the author such that the resulting network performs well."
      ],
      "metadata": {
        "id": "SEaP0TlQsFOS"
      }
    },
    {
      "cell_type": "code",
      "source": [
        "#Lenet-5\n",
        "\n",
        "import torch\n",
        "import torch.nn as nn\n",
        "import torch.nn.functional as F\n",
        "\n",
        "\n",
        "class network(nn.Module):\n",
        "\n",
        "    def __init__(self):\n",
        "        super(network, self).__init__()\n",
        "        # 1 input image channel, 6 output channels, 3x3 square convolution\n",
        "        # kernel\n",
        "        self.conv1 = nn.Conv2d(1, 6, 3)\n",
        "        self.conv2 = nn.Conv2d(6, 16, 3)\n",
        "        # an affine operation: y = mx + b\n",
        "        self.fc1 = nn.Linear(16 * 6 * 6, 120)  # 6*6 from image dimension\n",
        "        self.fc2 = nn.Linear(120, 84)\n",
        "        self.fc3 = nn.Linear(84, 10)\n",
        "\n",
        "    def forward(self, x):\n",
        "        # Max pooling over a (2, 2) window\n",
        "        x = F.max_pool2d(F.relu(self.conv1(x)), (2, 2))\n",
        "        # If the size is a square you can only specify a single number\n",
        "        x = F.max_pool2d(F.relu(self.conv2(x)), 2)\n",
        "        x = x.view(-1, self.num_flat_features(x))\n",
        "        x = F.relu(self.fc1(x))\n",
        "        x = F.relu(self.fc2(x))\n",
        "        x = self.fc3(x)\n",
        "        return x\n",
        "\n",
        "    def num_flat_features(self, x):\n",
        "        size = x.size()[1:]  # all dimensions except the batch dimension\n",
        "        num_features = 1\n",
        "        for s in size:\n",
        "            num_features *= s\n",
        "        return num_features\n",
        "\n",
        "\n",
        "net = network()\n",
        "print(net)"
      ],
      "metadata": {
        "colab": {
          "base_uri": "https://localhost:8080/"
        },
        "id": "DQHun3BXsDnt",
        "outputId": "fd80a19f-81e5-4bf0-bc28-acc1d526b955"
      },
      "execution_count": 14,
      "outputs": [
        {
          "output_type": "stream",
          "name": "stdout",
          "text": [
            "network(\n",
            "  (conv1): Conv2d(1, 6, kernel_size=(3, 3), stride=(1, 1))\n",
            "  (conv2): Conv2d(6, 16, kernel_size=(3, 3), stride=(1, 1))\n",
            "  (fc1): Linear(in_features=576, out_features=120, bias=True)\n",
            "  (fc2): Linear(in_features=120, out_features=84, bias=True)\n",
            "  (fc3): Linear(in_features=84, out_features=10, bias=True)\n",
            ")\n"
          ]
        }
      ]
    },
    {
      "cell_type": "code",
      "source": [
        "list(net.parameters())[0]"
      ],
      "metadata": {
        "colab": {
          "base_uri": "https://localhost:8080/"
        },
        "id": "k-5D057fsJB7",
        "outputId": "3576f9a7-04b1-406d-c5c2-4eeb4c9b1260"
      },
      "execution_count": 15,
      "outputs": [
        {
          "output_type": "execute_result",
          "data": {
            "text/plain": [
              "Parameter containing:\n",
              "tensor([[[[-0.0101, -0.1132,  0.2955],\n",
              "          [ 0.1036,  0.2889, -0.0141],\n",
              "          [-0.0394, -0.3024,  0.1244]]],\n",
              "\n",
              "\n",
              "        [[[ 0.0611, -0.1684, -0.2600],\n",
              "          [ 0.2948,  0.2902,  0.1060],\n",
              "          [ 0.2577,  0.2920, -0.1733]]],\n",
              "\n",
              "\n",
              "        [[[ 0.1076,  0.3089, -0.1817],\n",
              "          [-0.0684,  0.0704, -0.0017],\n",
              "          [ 0.2240, -0.2279, -0.2678]]],\n",
              "\n",
              "\n",
              "        [[[ 0.1133, -0.2980,  0.1241],\n",
              "          [-0.0540, -0.1369, -0.3018],\n",
              "          [ 0.1799, -0.0231, -0.0166]]],\n",
              "\n",
              "\n",
              "        [[[-0.1684,  0.1903, -0.3323],\n",
              "          [ 0.2317, -0.0838,  0.2172],\n",
              "          [-0.0254, -0.2626, -0.1478]]],\n",
              "\n",
              "\n",
              "        [[[-0.1350, -0.0932,  0.0233],\n",
              "          [ 0.0839,  0.1601,  0.1253],\n",
              "          [ 0.1746, -0.2013, -0.0059]]]], requires_grad=True)"
            ]
          },
          "metadata": {},
          "execution_count": 15
        }
      ]
    },
    {
      "cell_type": "code",
      "source": [
        "params = list(net.parameters())\n",
        "print(len(params))\n",
        "print(params[0].size())  # conv1's .weight"
      ],
      "metadata": {
        "colab": {
          "base_uri": "https://localhost:8080/"
        },
        "id": "Gmf9C1jjsKjC",
        "outputId": "a2632662-ba14-4e97-95b3-cf8906a2aa30"
      },
      "execution_count": 16,
      "outputs": [
        {
          "output_type": "stream",
          "name": "stdout",
          "text": [
            "10\n",
            "torch.Size([6, 1, 3, 3])\n"
          ]
        }
      ]
    },
    {
      "cell_type": "code",
      "source": [
        "inp = torch.randn(1, 1, 32, 32)\n",
        "out = net(inp)\n",
        "print(out)"
      ],
      "metadata": {
        "colab": {
          "base_uri": "https://localhost:8080/"
        },
        "id": "lVwlV9CgsMfF",
        "outputId": "2d5e2be7-6391-41c7-cc72-933d354c2970"
      },
      "execution_count": 17,
      "outputs": [
        {
          "output_type": "stream",
          "name": "stdout",
          "text": [
            "tensor([[ 0.0244, -0.0217,  0.0061, -0.0161,  0.0589, -0.1095,  0.0262,  0.0180,\n",
            "          0.0731, -0.0746]], grad_fn=<AddmmBackward0>)\n"
          ]
        }
      ]
    },
    {
      "cell_type": "code",
      "source": [
        "output = net(inp)\n",
        "target = torch.randn(10)  # a dummy target, for example\n",
        "target = target.view(1, -1)  # make it the same shape as output\n",
        "criterion = nn.MSELoss()\n",
        "\n",
        "loss = criterion(output, target)\n",
        "print(loss)"
      ],
      "metadata": {
        "colab": {
          "base_uri": "https://localhost:8080/"
        },
        "id": "cNBhAufJsNip",
        "outputId": "a778a49e-aeb1-483c-9e31-c72d8ead05d7"
      },
      "execution_count": 18,
      "outputs": [
        {
          "output_type": "stream",
          "name": "stdout",
          "text": [
            "tensor(0.4002, grad_fn=<MseLossBackward0>)\n"
          ]
        }
      ]
    },
    {
      "cell_type": "code",
      "source": [
        "torch.randn(1, 1, 32, 32)"
      ],
      "metadata": {
        "colab": {
          "base_uri": "https://localhost:8080/"
        },
        "id": "Tk__Co_tsOd0",
        "outputId": "73a1ca40-051d-474a-9906-94ccf5bfa759"
      },
      "execution_count": 19,
      "outputs": [
        {
          "output_type": "execute_result",
          "data": {
            "text/plain": [
              "tensor([[[[ 1.2674, -0.7316,  1.0984,  ...,  1.0552,  0.6202,  1.4816],\n",
              "          [-0.3044, -0.3760,  0.8253,  ..., -1.2952, -2.1812,  0.4777],\n",
              "          [ 1.0150, -1.9161,  1.1320,  ..., -2.1898, -0.1256,  1.3111],\n",
              "          ...,\n",
              "          [-0.3199,  0.4530, -1.0230,  ..., -0.7003, -0.5108,  0.8114],\n",
              "          [-0.4863, -0.1831,  0.9184,  ...,  1.5777,  0.9629,  0.8461],\n",
              "          [ 0.2601, -0.6687, -0.2829,  ...,  0.5204,  0.5916, -1.1453]]]])"
            ]
          },
          "metadata": {},
          "execution_count": 19
        }
      ]
    },
    {
      "cell_type": "code",
      "source": [
        ""
      ],
      "metadata": {
        "id": "uCSXGlY3sPds"
      },
      "execution_count": null,
      "outputs": []
    }
  ]
}