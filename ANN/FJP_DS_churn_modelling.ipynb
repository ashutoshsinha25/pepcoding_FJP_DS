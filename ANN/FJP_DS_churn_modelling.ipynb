{
  "nbformat": 4,
  "nbformat_minor": 0,
  "metadata": {
    "colab": {
      "name": "FJP_DS_churn_modelling.ipynb",
      "provenance": [],
      "authorship_tag": "ABX9TyPEjW9vUa1NLHI+SWfzJbdq",
      "include_colab_link": true
    },
    "kernelspec": {
      "name": "python3",
      "display_name": "Python 3"
    },
    "language_info": {
      "name": "python"
    }
  },
  "cells": [
    {
      "cell_type": "markdown",
      "metadata": {
        "id": "view-in-github",
        "colab_type": "text"
      },
      "source": [
        "<a href=\"https://colab.research.google.com/github/ashutoshsinha25/pepcoding_FJP_DS/blob/main/ANN/FJP_DS_churn_modelling.ipynb\" target=\"_parent\"><img src=\"https://colab.research.google.com/assets/colab-badge.svg\" alt=\"Open In Colab\"/></a>"
      ]
    },
    {
      "cell_type": "code",
      "execution_count": 1,
      "metadata": {
        "id": "hW4J_W4FjN9X"
      },
      "outputs": [],
      "source": [
        "import numpy as np\n",
        "import matplotlib.pyplot as plt\n",
        "import pandas as pd\n"
      ]
    },
    {
      "cell_type": "code",
      "source": [
        "data = pd.read_csv('https://raw.githubusercontent.com/Pepcoders/Data-Science-January/main/ANN/Churn_Modelling.csv')"
      ],
      "metadata": {
        "id": "KLzCXcCljVnW"
      },
      "execution_count": 2,
      "outputs": []
    },
    {
      "cell_type": "code",
      "source": [
        "data.head()"
      ],
      "metadata": {
        "colab": {
          "base_uri": "https://localhost:8080/",
          "height": 206
        },
        "id": "qaTSlyWcjYm-",
        "outputId": "c4da0c1f-dfae-494c-ea5b-4d14c300544f"
      },
      "execution_count": 3,
      "outputs": [
        {
          "output_type": "execute_result",
          "data": {
            "text/plain": [
              "   RowNumber  CustomerId   Surname  CreditScore Geography  Gender  Age  \\\n",
              "0          1    15634602  Hargrave          619    France  Female   42   \n",
              "1          2    15647311      Hill          608     Spain  Female   41   \n",
              "2          3    15619304      Onio          502    France  Female   42   \n",
              "3          4    15701354      Boni          699    France  Female   39   \n",
              "4          5    15737888  Mitchell          850     Spain  Female   43   \n",
              "\n",
              "   Tenure    Balance  NumOfProducts  HasCrCard  IsActiveMember  \\\n",
              "0       2       0.00              1          1               1   \n",
              "1       1   83807.86              1          0               1   \n",
              "2       8  159660.80              3          1               0   \n",
              "3       1       0.00              2          0               0   \n",
              "4       2  125510.82              1          1               1   \n",
              "\n",
              "   EstimatedSalary  Exited  \n",
              "0        101348.88       1  \n",
              "1        112542.58       0  \n",
              "2        113931.57       1  \n",
              "3         93826.63       0  \n",
              "4         79084.10       0  "
            ],
            "text/html": [
              "\n",
              "  <div id=\"df-d035e1c1-4611-43dc-a223-1185241f2a93\">\n",
              "    <div class=\"colab-df-container\">\n",
              "      <div>\n",
              "<style scoped>\n",
              "    .dataframe tbody tr th:only-of-type {\n",
              "        vertical-align: middle;\n",
              "    }\n",
              "\n",
              "    .dataframe tbody tr th {\n",
              "        vertical-align: top;\n",
              "    }\n",
              "\n",
              "    .dataframe thead th {\n",
              "        text-align: right;\n",
              "    }\n",
              "</style>\n",
              "<table border=\"1\" class=\"dataframe\">\n",
              "  <thead>\n",
              "    <tr style=\"text-align: right;\">\n",
              "      <th></th>\n",
              "      <th>RowNumber</th>\n",
              "      <th>CustomerId</th>\n",
              "      <th>Surname</th>\n",
              "      <th>CreditScore</th>\n",
              "      <th>Geography</th>\n",
              "      <th>Gender</th>\n",
              "      <th>Age</th>\n",
              "      <th>Tenure</th>\n",
              "      <th>Balance</th>\n",
              "      <th>NumOfProducts</th>\n",
              "      <th>HasCrCard</th>\n",
              "      <th>IsActiveMember</th>\n",
              "      <th>EstimatedSalary</th>\n",
              "      <th>Exited</th>\n",
              "    </tr>\n",
              "  </thead>\n",
              "  <tbody>\n",
              "    <tr>\n",
              "      <th>0</th>\n",
              "      <td>1</td>\n",
              "      <td>15634602</td>\n",
              "      <td>Hargrave</td>\n",
              "      <td>619</td>\n",
              "      <td>France</td>\n",
              "      <td>Female</td>\n",
              "      <td>42</td>\n",
              "      <td>2</td>\n",
              "      <td>0.00</td>\n",
              "      <td>1</td>\n",
              "      <td>1</td>\n",
              "      <td>1</td>\n",
              "      <td>101348.88</td>\n",
              "      <td>1</td>\n",
              "    </tr>\n",
              "    <tr>\n",
              "      <th>1</th>\n",
              "      <td>2</td>\n",
              "      <td>15647311</td>\n",
              "      <td>Hill</td>\n",
              "      <td>608</td>\n",
              "      <td>Spain</td>\n",
              "      <td>Female</td>\n",
              "      <td>41</td>\n",
              "      <td>1</td>\n",
              "      <td>83807.86</td>\n",
              "      <td>1</td>\n",
              "      <td>0</td>\n",
              "      <td>1</td>\n",
              "      <td>112542.58</td>\n",
              "      <td>0</td>\n",
              "    </tr>\n",
              "    <tr>\n",
              "      <th>2</th>\n",
              "      <td>3</td>\n",
              "      <td>15619304</td>\n",
              "      <td>Onio</td>\n",
              "      <td>502</td>\n",
              "      <td>France</td>\n",
              "      <td>Female</td>\n",
              "      <td>42</td>\n",
              "      <td>8</td>\n",
              "      <td>159660.80</td>\n",
              "      <td>3</td>\n",
              "      <td>1</td>\n",
              "      <td>0</td>\n",
              "      <td>113931.57</td>\n",
              "      <td>1</td>\n",
              "    </tr>\n",
              "    <tr>\n",
              "      <th>3</th>\n",
              "      <td>4</td>\n",
              "      <td>15701354</td>\n",
              "      <td>Boni</td>\n",
              "      <td>699</td>\n",
              "      <td>France</td>\n",
              "      <td>Female</td>\n",
              "      <td>39</td>\n",
              "      <td>1</td>\n",
              "      <td>0.00</td>\n",
              "      <td>2</td>\n",
              "      <td>0</td>\n",
              "      <td>0</td>\n",
              "      <td>93826.63</td>\n",
              "      <td>0</td>\n",
              "    </tr>\n",
              "    <tr>\n",
              "      <th>4</th>\n",
              "      <td>5</td>\n",
              "      <td>15737888</td>\n",
              "      <td>Mitchell</td>\n",
              "      <td>850</td>\n",
              "      <td>Spain</td>\n",
              "      <td>Female</td>\n",
              "      <td>43</td>\n",
              "      <td>2</td>\n",
              "      <td>125510.82</td>\n",
              "      <td>1</td>\n",
              "      <td>1</td>\n",
              "      <td>1</td>\n",
              "      <td>79084.10</td>\n",
              "      <td>0</td>\n",
              "    </tr>\n",
              "  </tbody>\n",
              "</table>\n",
              "</div>\n",
              "      <button class=\"colab-df-convert\" onclick=\"convertToInteractive('df-d035e1c1-4611-43dc-a223-1185241f2a93')\"\n",
              "              title=\"Convert this dataframe to an interactive table.\"\n",
              "              style=\"display:none;\">\n",
              "        \n",
              "  <svg xmlns=\"http://www.w3.org/2000/svg\" height=\"24px\"viewBox=\"0 0 24 24\"\n",
              "       width=\"24px\">\n",
              "    <path d=\"M0 0h24v24H0V0z\" fill=\"none\"/>\n",
              "    <path d=\"M18.56 5.44l.94 2.06.94-2.06 2.06-.94-2.06-.94-.94-2.06-.94 2.06-2.06.94zm-11 1L8.5 8.5l.94-2.06 2.06-.94-2.06-.94L8.5 2.5l-.94 2.06-2.06.94zm10 10l.94 2.06.94-2.06 2.06-.94-2.06-.94-.94-2.06-.94 2.06-2.06.94z\"/><path d=\"M17.41 7.96l-1.37-1.37c-.4-.4-.92-.59-1.43-.59-.52 0-1.04.2-1.43.59L10.3 9.45l-7.72 7.72c-.78.78-.78 2.05 0 2.83L4 21.41c.39.39.9.59 1.41.59.51 0 1.02-.2 1.41-.59l7.78-7.78 2.81-2.81c.8-.78.8-2.07 0-2.86zM5.41 20L4 18.59l7.72-7.72 1.47 1.35L5.41 20z\"/>\n",
              "  </svg>\n",
              "      </button>\n",
              "      \n",
              "  <style>\n",
              "    .colab-df-container {\n",
              "      display:flex;\n",
              "      flex-wrap:wrap;\n",
              "      gap: 12px;\n",
              "    }\n",
              "\n",
              "    .colab-df-convert {\n",
              "      background-color: #E8F0FE;\n",
              "      border: none;\n",
              "      border-radius: 50%;\n",
              "      cursor: pointer;\n",
              "      display: none;\n",
              "      fill: #1967D2;\n",
              "      height: 32px;\n",
              "      padding: 0 0 0 0;\n",
              "      width: 32px;\n",
              "    }\n",
              "\n",
              "    .colab-df-convert:hover {\n",
              "      background-color: #E2EBFA;\n",
              "      box-shadow: 0px 1px 2px rgba(60, 64, 67, 0.3), 0px 1px 3px 1px rgba(60, 64, 67, 0.15);\n",
              "      fill: #174EA6;\n",
              "    }\n",
              "\n",
              "    [theme=dark] .colab-df-convert {\n",
              "      background-color: #3B4455;\n",
              "      fill: #D2E3FC;\n",
              "    }\n",
              "\n",
              "    [theme=dark] .colab-df-convert:hover {\n",
              "      background-color: #434B5C;\n",
              "      box-shadow: 0px 1px 3px 1px rgba(0, 0, 0, 0.15);\n",
              "      filter: drop-shadow(0px 1px 2px rgba(0, 0, 0, 0.3));\n",
              "      fill: #FFFFFF;\n",
              "    }\n",
              "  </style>\n",
              "\n",
              "      <script>\n",
              "        const buttonEl =\n",
              "          document.querySelector('#df-d035e1c1-4611-43dc-a223-1185241f2a93 button.colab-df-convert');\n",
              "        buttonEl.style.display =\n",
              "          google.colab.kernel.accessAllowed ? 'block' : 'none';\n",
              "\n",
              "        async function convertToInteractive(key) {\n",
              "          const element = document.querySelector('#df-d035e1c1-4611-43dc-a223-1185241f2a93');\n",
              "          const dataTable =\n",
              "            await google.colab.kernel.invokeFunction('convertToInteractive',\n",
              "                                                     [key], {});\n",
              "          if (!dataTable) return;\n",
              "\n",
              "          const docLinkHtml = 'Like what you see? Visit the ' +\n",
              "            '<a target=\"_blank\" href=https://colab.research.google.com/notebooks/data_table.ipynb>data table notebook</a>'\n",
              "            + ' to learn more about interactive tables.';\n",
              "          element.innerHTML = '';\n",
              "          dataTable['output_type'] = 'display_data';\n",
              "          await google.colab.output.renderOutput(dataTable, element);\n",
              "          const docLink = document.createElement('div');\n",
              "          docLink.innerHTML = docLinkHtml;\n",
              "          element.appendChild(docLink);\n",
              "        }\n",
              "      </script>\n",
              "    </div>\n",
              "  </div>\n",
              "  "
            ]
          },
          "metadata": {},
          "execution_count": 3
        }
      ]
    },
    {
      "cell_type": "code",
      "source": [
        "data.isnull().sum()"
      ],
      "metadata": {
        "colab": {
          "base_uri": "https://localhost:8080/"
        },
        "id": "FEngaIeyjZzJ",
        "outputId": "14dd49a2-31bd-4701-d22b-0d554a488711"
      },
      "execution_count": 4,
      "outputs": [
        {
          "output_type": "execute_result",
          "data": {
            "text/plain": [
              "RowNumber          0\n",
              "CustomerId         0\n",
              "Surname            0\n",
              "CreditScore        0\n",
              "Geography          0\n",
              "Gender             0\n",
              "Age                0\n",
              "Tenure             0\n",
              "Balance            0\n",
              "NumOfProducts      0\n",
              "HasCrCard          0\n",
              "IsActiveMember     0\n",
              "EstimatedSalary    0\n",
              "Exited             0\n",
              "dtype: int64"
            ]
          },
          "metadata": {},
          "execution_count": 4
        }
      ]
    },
    {
      "cell_type": "code",
      "source": [
        "data.describe()"
      ],
      "metadata": {
        "colab": {
          "base_uri": "https://localhost:8080/",
          "height": 300
        },
        "id": "EwDq-UJrjdMi",
        "outputId": "20c05524-f6e4-4796-ded4-a0fac3db5619"
      },
      "execution_count": 5,
      "outputs": [
        {
          "output_type": "execute_result",
          "data": {
            "text/plain": [
              "         RowNumber    CustomerId   CreditScore           Age        Tenure  \\\n",
              "count  10000.00000  1.000000e+04  10000.000000  10000.000000  10000.000000   \n",
              "mean    5000.50000  1.569094e+07    650.528800     38.921800      5.012800   \n",
              "std     2886.89568  7.193619e+04     96.653299     10.487806      2.892174   \n",
              "min        1.00000  1.556570e+07    350.000000     18.000000      0.000000   \n",
              "25%     2500.75000  1.562853e+07    584.000000     32.000000      3.000000   \n",
              "50%     5000.50000  1.569074e+07    652.000000     37.000000      5.000000   \n",
              "75%     7500.25000  1.575323e+07    718.000000     44.000000      7.000000   \n",
              "max    10000.00000  1.581569e+07    850.000000     92.000000     10.000000   \n",
              "\n",
              "             Balance  NumOfProducts    HasCrCard  IsActiveMember  \\\n",
              "count   10000.000000   10000.000000  10000.00000    10000.000000   \n",
              "mean    76485.889288       1.530200      0.70550        0.515100   \n",
              "std     62397.405202       0.581654      0.45584        0.499797   \n",
              "min         0.000000       1.000000      0.00000        0.000000   \n",
              "25%         0.000000       1.000000      0.00000        0.000000   \n",
              "50%     97198.540000       1.000000      1.00000        1.000000   \n",
              "75%    127644.240000       2.000000      1.00000        1.000000   \n",
              "max    250898.090000       4.000000      1.00000        1.000000   \n",
              "\n",
              "       EstimatedSalary        Exited  \n",
              "count     10000.000000  10000.000000  \n",
              "mean     100090.239881      0.203700  \n",
              "std       57510.492818      0.402769  \n",
              "min          11.580000      0.000000  \n",
              "25%       51002.110000      0.000000  \n",
              "50%      100193.915000      0.000000  \n",
              "75%      149388.247500      0.000000  \n",
              "max      199992.480000      1.000000  "
            ],
            "text/html": [
              "\n",
              "  <div id=\"df-c4b7c5f5-bb2f-4859-a82e-9cd7da86b333\">\n",
              "    <div class=\"colab-df-container\">\n",
              "      <div>\n",
              "<style scoped>\n",
              "    .dataframe tbody tr th:only-of-type {\n",
              "        vertical-align: middle;\n",
              "    }\n",
              "\n",
              "    .dataframe tbody tr th {\n",
              "        vertical-align: top;\n",
              "    }\n",
              "\n",
              "    .dataframe thead th {\n",
              "        text-align: right;\n",
              "    }\n",
              "</style>\n",
              "<table border=\"1\" class=\"dataframe\">\n",
              "  <thead>\n",
              "    <tr style=\"text-align: right;\">\n",
              "      <th></th>\n",
              "      <th>RowNumber</th>\n",
              "      <th>CustomerId</th>\n",
              "      <th>CreditScore</th>\n",
              "      <th>Age</th>\n",
              "      <th>Tenure</th>\n",
              "      <th>Balance</th>\n",
              "      <th>NumOfProducts</th>\n",
              "      <th>HasCrCard</th>\n",
              "      <th>IsActiveMember</th>\n",
              "      <th>EstimatedSalary</th>\n",
              "      <th>Exited</th>\n",
              "    </tr>\n",
              "  </thead>\n",
              "  <tbody>\n",
              "    <tr>\n",
              "      <th>count</th>\n",
              "      <td>10000.00000</td>\n",
              "      <td>1.000000e+04</td>\n",
              "      <td>10000.000000</td>\n",
              "      <td>10000.000000</td>\n",
              "      <td>10000.000000</td>\n",
              "      <td>10000.000000</td>\n",
              "      <td>10000.000000</td>\n",
              "      <td>10000.00000</td>\n",
              "      <td>10000.000000</td>\n",
              "      <td>10000.000000</td>\n",
              "      <td>10000.000000</td>\n",
              "    </tr>\n",
              "    <tr>\n",
              "      <th>mean</th>\n",
              "      <td>5000.50000</td>\n",
              "      <td>1.569094e+07</td>\n",
              "      <td>650.528800</td>\n",
              "      <td>38.921800</td>\n",
              "      <td>5.012800</td>\n",
              "      <td>76485.889288</td>\n",
              "      <td>1.530200</td>\n",
              "      <td>0.70550</td>\n",
              "      <td>0.515100</td>\n",
              "      <td>100090.239881</td>\n",
              "      <td>0.203700</td>\n",
              "    </tr>\n",
              "    <tr>\n",
              "      <th>std</th>\n",
              "      <td>2886.89568</td>\n",
              "      <td>7.193619e+04</td>\n",
              "      <td>96.653299</td>\n",
              "      <td>10.487806</td>\n",
              "      <td>2.892174</td>\n",
              "      <td>62397.405202</td>\n",
              "      <td>0.581654</td>\n",
              "      <td>0.45584</td>\n",
              "      <td>0.499797</td>\n",
              "      <td>57510.492818</td>\n",
              "      <td>0.402769</td>\n",
              "    </tr>\n",
              "    <tr>\n",
              "      <th>min</th>\n",
              "      <td>1.00000</td>\n",
              "      <td>1.556570e+07</td>\n",
              "      <td>350.000000</td>\n",
              "      <td>18.000000</td>\n",
              "      <td>0.000000</td>\n",
              "      <td>0.000000</td>\n",
              "      <td>1.000000</td>\n",
              "      <td>0.00000</td>\n",
              "      <td>0.000000</td>\n",
              "      <td>11.580000</td>\n",
              "      <td>0.000000</td>\n",
              "    </tr>\n",
              "    <tr>\n",
              "      <th>25%</th>\n",
              "      <td>2500.75000</td>\n",
              "      <td>1.562853e+07</td>\n",
              "      <td>584.000000</td>\n",
              "      <td>32.000000</td>\n",
              "      <td>3.000000</td>\n",
              "      <td>0.000000</td>\n",
              "      <td>1.000000</td>\n",
              "      <td>0.00000</td>\n",
              "      <td>0.000000</td>\n",
              "      <td>51002.110000</td>\n",
              "      <td>0.000000</td>\n",
              "    </tr>\n",
              "    <tr>\n",
              "      <th>50%</th>\n",
              "      <td>5000.50000</td>\n",
              "      <td>1.569074e+07</td>\n",
              "      <td>652.000000</td>\n",
              "      <td>37.000000</td>\n",
              "      <td>5.000000</td>\n",
              "      <td>97198.540000</td>\n",
              "      <td>1.000000</td>\n",
              "      <td>1.00000</td>\n",
              "      <td>1.000000</td>\n",
              "      <td>100193.915000</td>\n",
              "      <td>0.000000</td>\n",
              "    </tr>\n",
              "    <tr>\n",
              "      <th>75%</th>\n",
              "      <td>7500.25000</td>\n",
              "      <td>1.575323e+07</td>\n",
              "      <td>718.000000</td>\n",
              "      <td>44.000000</td>\n",
              "      <td>7.000000</td>\n",
              "      <td>127644.240000</td>\n",
              "      <td>2.000000</td>\n",
              "      <td>1.00000</td>\n",
              "      <td>1.000000</td>\n",
              "      <td>149388.247500</td>\n",
              "      <td>0.000000</td>\n",
              "    </tr>\n",
              "    <tr>\n",
              "      <th>max</th>\n",
              "      <td>10000.00000</td>\n",
              "      <td>1.581569e+07</td>\n",
              "      <td>850.000000</td>\n",
              "      <td>92.000000</td>\n",
              "      <td>10.000000</td>\n",
              "      <td>250898.090000</td>\n",
              "      <td>4.000000</td>\n",
              "      <td>1.00000</td>\n",
              "      <td>1.000000</td>\n",
              "      <td>199992.480000</td>\n",
              "      <td>1.000000</td>\n",
              "    </tr>\n",
              "  </tbody>\n",
              "</table>\n",
              "</div>\n",
              "      <button class=\"colab-df-convert\" onclick=\"convertToInteractive('df-c4b7c5f5-bb2f-4859-a82e-9cd7da86b333')\"\n",
              "              title=\"Convert this dataframe to an interactive table.\"\n",
              "              style=\"display:none;\">\n",
              "        \n",
              "  <svg xmlns=\"http://www.w3.org/2000/svg\" height=\"24px\"viewBox=\"0 0 24 24\"\n",
              "       width=\"24px\">\n",
              "    <path d=\"M0 0h24v24H0V0z\" fill=\"none\"/>\n",
              "    <path d=\"M18.56 5.44l.94 2.06.94-2.06 2.06-.94-2.06-.94-.94-2.06-.94 2.06-2.06.94zm-11 1L8.5 8.5l.94-2.06 2.06-.94-2.06-.94L8.5 2.5l-.94 2.06-2.06.94zm10 10l.94 2.06.94-2.06 2.06-.94-2.06-.94-.94-2.06-.94 2.06-2.06.94z\"/><path d=\"M17.41 7.96l-1.37-1.37c-.4-.4-.92-.59-1.43-.59-.52 0-1.04.2-1.43.59L10.3 9.45l-7.72 7.72c-.78.78-.78 2.05 0 2.83L4 21.41c.39.39.9.59 1.41.59.51 0 1.02-.2 1.41-.59l7.78-7.78 2.81-2.81c.8-.78.8-2.07 0-2.86zM5.41 20L4 18.59l7.72-7.72 1.47 1.35L5.41 20z\"/>\n",
              "  </svg>\n",
              "      </button>\n",
              "      \n",
              "  <style>\n",
              "    .colab-df-container {\n",
              "      display:flex;\n",
              "      flex-wrap:wrap;\n",
              "      gap: 12px;\n",
              "    }\n",
              "\n",
              "    .colab-df-convert {\n",
              "      background-color: #E8F0FE;\n",
              "      border: none;\n",
              "      border-radius: 50%;\n",
              "      cursor: pointer;\n",
              "      display: none;\n",
              "      fill: #1967D2;\n",
              "      height: 32px;\n",
              "      padding: 0 0 0 0;\n",
              "      width: 32px;\n",
              "    }\n",
              "\n",
              "    .colab-df-convert:hover {\n",
              "      background-color: #E2EBFA;\n",
              "      box-shadow: 0px 1px 2px rgba(60, 64, 67, 0.3), 0px 1px 3px 1px rgba(60, 64, 67, 0.15);\n",
              "      fill: #174EA6;\n",
              "    }\n",
              "\n",
              "    [theme=dark] .colab-df-convert {\n",
              "      background-color: #3B4455;\n",
              "      fill: #D2E3FC;\n",
              "    }\n",
              "\n",
              "    [theme=dark] .colab-df-convert:hover {\n",
              "      background-color: #434B5C;\n",
              "      box-shadow: 0px 1px 3px 1px rgba(0, 0, 0, 0.15);\n",
              "      filter: drop-shadow(0px 1px 2px rgba(0, 0, 0, 0.3));\n",
              "      fill: #FFFFFF;\n",
              "    }\n",
              "  </style>\n",
              "\n",
              "      <script>\n",
              "        const buttonEl =\n",
              "          document.querySelector('#df-c4b7c5f5-bb2f-4859-a82e-9cd7da86b333 button.colab-df-convert');\n",
              "        buttonEl.style.display =\n",
              "          google.colab.kernel.accessAllowed ? 'block' : 'none';\n",
              "\n",
              "        async function convertToInteractive(key) {\n",
              "          const element = document.querySelector('#df-c4b7c5f5-bb2f-4859-a82e-9cd7da86b333');\n",
              "          const dataTable =\n",
              "            await google.colab.kernel.invokeFunction('convertToInteractive',\n",
              "                                                     [key], {});\n",
              "          if (!dataTable) return;\n",
              "\n",
              "          const docLinkHtml = 'Like what you see? Visit the ' +\n",
              "            '<a target=\"_blank\" href=https://colab.research.google.com/notebooks/data_table.ipynb>data table notebook</a>'\n",
              "            + ' to learn more about interactive tables.';\n",
              "          element.innerHTML = '';\n",
              "          dataTable['output_type'] = 'display_data';\n",
              "          await google.colab.output.renderOutput(dataTable, element);\n",
              "          const docLink = document.createElement('div');\n",
              "          docLink.innerHTML = docLinkHtml;\n",
              "          element.appendChild(docLink);\n",
              "        }\n",
              "      </script>\n",
              "    </div>\n",
              "  </div>\n",
              "  "
            ]
          },
          "metadata": {},
          "execution_count": 5
        }
      ]
    },
    {
      "cell_type": "code",
      "source": [
        "X = data.iloc[: , 3:13]\n",
        "y = data.iloc[:,13]"
      ],
      "metadata": {
        "id": "TkDYZjkejeUA"
      },
      "execution_count": 6,
      "outputs": []
    },
    {
      "cell_type": "code",
      "source": [
        "geography = pd.get_dummies(X['Geography'] , drop_first = True)\n",
        "gender = pd.get_dummies(X['Gender'] , drop_first = True)"
      ],
      "metadata": {
        "id": "HGxIofyKjl0q"
      },
      "execution_count": 7,
      "outputs": []
    },
    {
      "cell_type": "code",
      "source": [
        "X = pd.concat([X , geography , gender] , axis = 1)\n",
        "X.drop(['Geography' , 'Gender'] , axis = 1 , inplace = True)"
      ],
      "metadata": {
        "id": "h_RYGZFrjvfa"
      },
      "execution_count": 8,
      "outputs": []
    },
    {
      "cell_type": "code",
      "source": [
        "X.head(3)"
      ],
      "metadata": {
        "colab": {
          "base_uri": "https://localhost:8080/",
          "height": 143
        },
        "id": "S4wXH-8Tj6oe",
        "outputId": "f91d8c7e-f393-4644-e220-c3872c150e83"
      },
      "execution_count": 9,
      "outputs": [
        {
          "output_type": "execute_result",
          "data": {
            "text/plain": [
              "   CreditScore  Age  Tenure    Balance  NumOfProducts  HasCrCard  \\\n",
              "0          619   42       2       0.00              1          1   \n",
              "1          608   41       1   83807.86              1          0   \n",
              "2          502   42       8  159660.80              3          1   \n",
              "\n",
              "   IsActiveMember  EstimatedSalary  Germany  Spain  Male  \n",
              "0               1        101348.88        0      0     0  \n",
              "1               1        112542.58        0      1     0  \n",
              "2               0        113931.57        0      0     0  "
            ],
            "text/html": [
              "\n",
              "  <div id=\"df-62987a9d-6f02-4638-94c2-a9cfa7e8bf4a\">\n",
              "    <div class=\"colab-df-container\">\n",
              "      <div>\n",
              "<style scoped>\n",
              "    .dataframe tbody tr th:only-of-type {\n",
              "        vertical-align: middle;\n",
              "    }\n",
              "\n",
              "    .dataframe tbody tr th {\n",
              "        vertical-align: top;\n",
              "    }\n",
              "\n",
              "    .dataframe thead th {\n",
              "        text-align: right;\n",
              "    }\n",
              "</style>\n",
              "<table border=\"1\" class=\"dataframe\">\n",
              "  <thead>\n",
              "    <tr style=\"text-align: right;\">\n",
              "      <th></th>\n",
              "      <th>CreditScore</th>\n",
              "      <th>Age</th>\n",
              "      <th>Tenure</th>\n",
              "      <th>Balance</th>\n",
              "      <th>NumOfProducts</th>\n",
              "      <th>HasCrCard</th>\n",
              "      <th>IsActiveMember</th>\n",
              "      <th>EstimatedSalary</th>\n",
              "      <th>Germany</th>\n",
              "      <th>Spain</th>\n",
              "      <th>Male</th>\n",
              "    </tr>\n",
              "  </thead>\n",
              "  <tbody>\n",
              "    <tr>\n",
              "      <th>0</th>\n",
              "      <td>619</td>\n",
              "      <td>42</td>\n",
              "      <td>2</td>\n",
              "      <td>0.00</td>\n",
              "      <td>1</td>\n",
              "      <td>1</td>\n",
              "      <td>1</td>\n",
              "      <td>101348.88</td>\n",
              "      <td>0</td>\n",
              "      <td>0</td>\n",
              "      <td>0</td>\n",
              "    </tr>\n",
              "    <tr>\n",
              "      <th>1</th>\n",
              "      <td>608</td>\n",
              "      <td>41</td>\n",
              "      <td>1</td>\n",
              "      <td>83807.86</td>\n",
              "      <td>1</td>\n",
              "      <td>0</td>\n",
              "      <td>1</td>\n",
              "      <td>112542.58</td>\n",
              "      <td>0</td>\n",
              "      <td>1</td>\n",
              "      <td>0</td>\n",
              "    </tr>\n",
              "    <tr>\n",
              "      <th>2</th>\n",
              "      <td>502</td>\n",
              "      <td>42</td>\n",
              "      <td>8</td>\n",
              "      <td>159660.80</td>\n",
              "      <td>3</td>\n",
              "      <td>1</td>\n",
              "      <td>0</td>\n",
              "      <td>113931.57</td>\n",
              "      <td>0</td>\n",
              "      <td>0</td>\n",
              "      <td>0</td>\n",
              "    </tr>\n",
              "  </tbody>\n",
              "</table>\n",
              "</div>\n",
              "      <button class=\"colab-df-convert\" onclick=\"convertToInteractive('df-62987a9d-6f02-4638-94c2-a9cfa7e8bf4a')\"\n",
              "              title=\"Convert this dataframe to an interactive table.\"\n",
              "              style=\"display:none;\">\n",
              "        \n",
              "  <svg xmlns=\"http://www.w3.org/2000/svg\" height=\"24px\"viewBox=\"0 0 24 24\"\n",
              "       width=\"24px\">\n",
              "    <path d=\"M0 0h24v24H0V0z\" fill=\"none\"/>\n",
              "    <path d=\"M18.56 5.44l.94 2.06.94-2.06 2.06-.94-2.06-.94-.94-2.06-.94 2.06-2.06.94zm-11 1L8.5 8.5l.94-2.06 2.06-.94-2.06-.94L8.5 2.5l-.94 2.06-2.06.94zm10 10l.94 2.06.94-2.06 2.06-.94-2.06-.94-.94-2.06-.94 2.06-2.06.94z\"/><path d=\"M17.41 7.96l-1.37-1.37c-.4-.4-.92-.59-1.43-.59-.52 0-1.04.2-1.43.59L10.3 9.45l-7.72 7.72c-.78.78-.78 2.05 0 2.83L4 21.41c.39.39.9.59 1.41.59.51 0 1.02-.2 1.41-.59l7.78-7.78 2.81-2.81c.8-.78.8-2.07 0-2.86zM5.41 20L4 18.59l7.72-7.72 1.47 1.35L5.41 20z\"/>\n",
              "  </svg>\n",
              "      </button>\n",
              "      \n",
              "  <style>\n",
              "    .colab-df-container {\n",
              "      display:flex;\n",
              "      flex-wrap:wrap;\n",
              "      gap: 12px;\n",
              "    }\n",
              "\n",
              "    .colab-df-convert {\n",
              "      background-color: #E8F0FE;\n",
              "      border: none;\n",
              "      border-radius: 50%;\n",
              "      cursor: pointer;\n",
              "      display: none;\n",
              "      fill: #1967D2;\n",
              "      height: 32px;\n",
              "      padding: 0 0 0 0;\n",
              "      width: 32px;\n",
              "    }\n",
              "\n",
              "    .colab-df-convert:hover {\n",
              "      background-color: #E2EBFA;\n",
              "      box-shadow: 0px 1px 2px rgba(60, 64, 67, 0.3), 0px 1px 3px 1px rgba(60, 64, 67, 0.15);\n",
              "      fill: #174EA6;\n",
              "    }\n",
              "\n",
              "    [theme=dark] .colab-df-convert {\n",
              "      background-color: #3B4455;\n",
              "      fill: #D2E3FC;\n",
              "    }\n",
              "\n",
              "    [theme=dark] .colab-df-convert:hover {\n",
              "      background-color: #434B5C;\n",
              "      box-shadow: 0px 1px 3px 1px rgba(0, 0, 0, 0.15);\n",
              "      filter: drop-shadow(0px 1px 2px rgba(0, 0, 0, 0.3));\n",
              "      fill: #FFFFFF;\n",
              "    }\n",
              "  </style>\n",
              "\n",
              "      <script>\n",
              "        const buttonEl =\n",
              "          document.querySelector('#df-62987a9d-6f02-4638-94c2-a9cfa7e8bf4a button.colab-df-convert');\n",
              "        buttonEl.style.display =\n",
              "          google.colab.kernel.accessAllowed ? 'block' : 'none';\n",
              "\n",
              "        async function convertToInteractive(key) {\n",
              "          const element = document.querySelector('#df-62987a9d-6f02-4638-94c2-a9cfa7e8bf4a');\n",
              "          const dataTable =\n",
              "            await google.colab.kernel.invokeFunction('convertToInteractive',\n",
              "                                                     [key], {});\n",
              "          if (!dataTable) return;\n",
              "\n",
              "          const docLinkHtml = 'Like what you see? Visit the ' +\n",
              "            '<a target=\"_blank\" href=https://colab.research.google.com/notebooks/data_table.ipynb>data table notebook</a>'\n",
              "            + ' to learn more about interactive tables.';\n",
              "          element.innerHTML = '';\n",
              "          dataTable['output_type'] = 'display_data';\n",
              "          await google.colab.output.renderOutput(dataTable, element);\n",
              "          const docLink = document.createElement('div');\n",
              "          docLink.innerHTML = docLinkHtml;\n",
              "          element.appendChild(docLink);\n",
              "        }\n",
              "      </script>\n",
              "    </div>\n",
              "  </div>\n",
              "  "
            ]
          },
          "metadata": {},
          "execution_count": 9
        }
      ]
    },
    {
      "cell_type": "code",
      "source": [
        "from sklearn.model_selection import train_test_split\n",
        "from sklearn.preprocessing import StandardScaler \n",
        "from sklearn.metrics import confusion_matrix , accuracy_score \n",
        "\n",
        "\n",
        "import keras \n",
        "from keras.models import Sequential \n",
        "from keras.layers import Dense , Dropout"
      ],
      "metadata": {
        "id": "IxRL_72gj8LH"
      },
      "execution_count": 10,
      "outputs": []
    },
    {
      "cell_type": "code",
      "source": [
        "X_train , X_test , y_train , y_test  = train_test_split(X , y ,test_size = 0.3 , random_state = 42)"
      ],
      "metadata": {
        "id": "RW_C3a1CkPXp"
      },
      "execution_count": 11,
      "outputs": []
    },
    {
      "cell_type": "code",
      "source": [
        "sc = StandardScaler()\n",
        "X_train = sc.fit_transform(X_train)\n",
        "X_test = sc.fit_transform(X_test)"
      ],
      "metadata": {
        "id": "CHBYfFXrkZ8Z"
      },
      "execution_count": 12,
      "outputs": []
    },
    {
      "cell_type": "code",
      "source": [
        "from tensorflow.keras import initializers"
      ],
      "metadata": {
        "id": "gOSPuRdWkgVy"
      },
      "execution_count": 15,
      "outputs": []
    },
    {
      "cell_type": "code",
      "source": [
        "model = Sequential()\n",
        "model.add(Dense(11 , activation = 'relu'))\n",
        "model.add(Dense(100 , activation = 'relu' , kernel_initializer = initializers.HeUniform()))\n",
        "model.add(Dense(50 ,activation = 'relu' , kernel_initializer = initializers.GlorotUniform()))\n",
        "model.add(Dense(1 ,activation = 'sigmoid'))\n",
        "\n",
        "\n",
        "model.compile(loss = 'binary_crossentropy' ,\n",
        "              optimizer = 'AdaDelta',\n",
        "              metrics = ['accuracy'])"
      ],
      "metadata": {
        "id": "DOb2xSg_kjqd"
      },
      "execution_count": 16,
      "outputs": []
    },
    {
      "cell_type": "code",
      "source": [
        "history = model.fit(X_train , y_train , batch_size = 32, epochs = 50 , validation_split = 0.2)"
      ],
      "metadata": {
        "colab": {
          "base_uri": "https://localhost:8080/"
        },
        "id": "XJ_SoWrklLPS",
        "outputId": "c34c0b7b-9dc3-43f1-f729-48fd2c3646b7"
      },
      "execution_count": 17,
      "outputs": [
        {
          "output_type": "stream",
          "name": "stdout",
          "text": [
            "Epoch 1/50\n",
            "175/175 [==============================] - 2s 6ms/step - loss: 0.6057 - accuracy: 0.7032 - val_loss: 0.6003 - val_accuracy: 0.7171\n",
            "Epoch 2/50\n",
            "175/175 [==============================] - 1s 4ms/step - loss: 0.6010 - accuracy: 0.7121 - val_loss: 0.5957 - val_accuracy: 0.7236\n",
            "Epoch 3/50\n",
            "175/175 [==============================] - 1s 4ms/step - loss: 0.5964 - accuracy: 0.7204 - val_loss: 0.5914 - val_accuracy: 0.7300\n",
            "Epoch 4/50\n",
            "175/175 [==============================] - 1s 4ms/step - loss: 0.5921 - accuracy: 0.7277 - val_loss: 0.5872 - val_accuracy: 0.7336\n",
            "Epoch 5/50\n",
            "175/175 [==============================] - 1s 4ms/step - loss: 0.5880 - accuracy: 0.7354 - val_loss: 0.5833 - val_accuracy: 0.7400\n",
            "Epoch 6/50\n",
            "175/175 [==============================] - 1s 3ms/step - loss: 0.5841 - accuracy: 0.7411 - val_loss: 0.5795 - val_accuracy: 0.7457\n",
            "Epoch 7/50\n",
            "175/175 [==============================] - 1s 5ms/step - loss: 0.5804 - accuracy: 0.7454 - val_loss: 0.5760 - val_accuracy: 0.7457\n",
            "Epoch 8/50\n",
            "175/175 [==============================] - 1s 8ms/step - loss: 0.5769 - accuracy: 0.7493 - val_loss: 0.5728 - val_accuracy: 0.7493\n",
            "Epoch 9/50\n",
            "175/175 [==============================] - 1s 4ms/step - loss: 0.5737 - accuracy: 0.7523 - val_loss: 0.5697 - val_accuracy: 0.7536\n",
            "Epoch 10/50\n",
            "175/175 [==============================] - 1s 4ms/step - loss: 0.5706 - accuracy: 0.7566 - val_loss: 0.5668 - val_accuracy: 0.7593\n",
            "Epoch 11/50\n",
            "175/175 [==============================] - 1s 4ms/step - loss: 0.5677 - accuracy: 0.7591 - val_loss: 0.5640 - val_accuracy: 0.7643\n",
            "Epoch 12/50\n",
            "175/175 [==============================] - 1s 3ms/step - loss: 0.5650 - accuracy: 0.7638 - val_loss: 0.5614 - val_accuracy: 0.7686\n",
            "Epoch 13/50\n",
            "175/175 [==============================] - 1s 4ms/step - loss: 0.5624 - accuracy: 0.7677 - val_loss: 0.5589 - val_accuracy: 0.7729\n",
            "Epoch 14/50\n",
            "175/175 [==============================] - 1s 3ms/step - loss: 0.5600 - accuracy: 0.7730 - val_loss: 0.5566 - val_accuracy: 0.7836\n",
            "Epoch 15/50\n",
            "175/175 [==============================] - 1s 4ms/step - loss: 0.5577 - accuracy: 0.7798 - val_loss: 0.5544 - val_accuracy: 0.7857\n",
            "Epoch 16/50\n",
            "175/175 [==============================] - 1s 5ms/step - loss: 0.5555 - accuracy: 0.7845 - val_loss: 0.5523 - val_accuracy: 0.7879\n",
            "Epoch 17/50\n",
            "175/175 [==============================] - 1s 5ms/step - loss: 0.5535 - accuracy: 0.7875 - val_loss: 0.5504 - val_accuracy: 0.7893\n",
            "Epoch 18/50\n",
            "175/175 [==============================] - 1s 4ms/step - loss: 0.5516 - accuracy: 0.7882 - val_loss: 0.5485 - val_accuracy: 0.7900\n",
            "Epoch 19/50\n",
            "175/175 [==============================] - 1s 4ms/step - loss: 0.5498 - accuracy: 0.7891 - val_loss: 0.5468 - val_accuracy: 0.7900\n",
            "Epoch 20/50\n",
            "175/175 [==============================] - 1s 4ms/step - loss: 0.5481 - accuracy: 0.7895 - val_loss: 0.5452 - val_accuracy: 0.7907\n",
            "Epoch 21/50\n",
            "175/175 [==============================] - 1s 4ms/step - loss: 0.5465 - accuracy: 0.7896 - val_loss: 0.5436 - val_accuracy: 0.7907\n",
            "Epoch 22/50\n",
            "175/175 [==============================] - 1s 4ms/step - loss: 0.5450 - accuracy: 0.7900 - val_loss: 0.5422 - val_accuracy: 0.7914\n",
            "Epoch 23/50\n",
            "175/175 [==============================] - 1s 4ms/step - loss: 0.5436 - accuracy: 0.7902 - val_loss: 0.5407 - val_accuracy: 0.7914\n",
            "Epoch 24/50\n",
            "175/175 [==============================] - 1s 3ms/step - loss: 0.5422 - accuracy: 0.7905 - val_loss: 0.5394 - val_accuracy: 0.7914\n",
            "Epoch 25/50\n",
            "175/175 [==============================] - 1s 4ms/step - loss: 0.5409 - accuracy: 0.7909 - val_loss: 0.5381 - val_accuracy: 0.7929\n",
            "Epoch 26/50\n",
            "175/175 [==============================] - 1s 4ms/step - loss: 0.5397 - accuracy: 0.7911 - val_loss: 0.5369 - val_accuracy: 0.7929\n",
            "Epoch 27/50\n",
            "175/175 [==============================] - 1s 4ms/step - loss: 0.5385 - accuracy: 0.7916 - val_loss: 0.5357 - val_accuracy: 0.7929\n",
            "Epoch 28/50\n",
            "175/175 [==============================] - 1s 4ms/step - loss: 0.5374 - accuracy: 0.7918 - val_loss: 0.5346 - val_accuracy: 0.7936\n",
            "Epoch 29/50\n",
            "175/175 [==============================] - 1s 3ms/step - loss: 0.5363 - accuracy: 0.7918 - val_loss: 0.5335 - val_accuracy: 0.7936\n",
            "Epoch 30/50\n",
            "175/175 [==============================] - 1s 3ms/step - loss: 0.5353 - accuracy: 0.7920 - val_loss: 0.5325 - val_accuracy: 0.7943\n",
            "Epoch 31/50\n",
            "175/175 [==============================] - 1s 4ms/step - loss: 0.5343 - accuracy: 0.7920 - val_loss: 0.5315 - val_accuracy: 0.7943\n",
            "Epoch 32/50\n",
            "175/175 [==============================] - 1s 4ms/step - loss: 0.5333 - accuracy: 0.7920 - val_loss: 0.5306 - val_accuracy: 0.7943\n",
            "Epoch 33/50\n",
            "175/175 [==============================] - 1s 3ms/step - loss: 0.5324 - accuracy: 0.7920 - val_loss: 0.5297 - val_accuracy: 0.7943\n",
            "Epoch 34/50\n",
            "175/175 [==============================] - 1s 3ms/step - loss: 0.5315 - accuracy: 0.7920 - val_loss: 0.5288 - val_accuracy: 0.7943\n",
            "Epoch 35/50\n",
            "175/175 [==============================] - 1s 4ms/step - loss: 0.5307 - accuracy: 0.7920 - val_loss: 0.5279 - val_accuracy: 0.7943\n",
            "Epoch 36/50\n",
            "175/175 [==============================] - 1s 4ms/step - loss: 0.5299 - accuracy: 0.7920 - val_loss: 0.5271 - val_accuracy: 0.7943\n",
            "Epoch 37/50\n",
            "175/175 [==============================] - 1s 4ms/step - loss: 0.5291 - accuracy: 0.7920 - val_loss: 0.5263 - val_accuracy: 0.7943\n",
            "Epoch 38/50\n",
            "175/175 [==============================] - 1s 4ms/step - loss: 0.5283 - accuracy: 0.7920 - val_loss: 0.5255 - val_accuracy: 0.7943\n",
            "Epoch 39/50\n",
            "175/175 [==============================] - 1s 4ms/step - loss: 0.5276 - accuracy: 0.7920 - val_loss: 0.5248 - val_accuracy: 0.7943\n",
            "Epoch 40/50\n",
            "175/175 [==============================] - 1s 3ms/step - loss: 0.5269 - accuracy: 0.7920 - val_loss: 0.5240 - val_accuracy: 0.7943\n",
            "Epoch 41/50\n",
            "175/175 [==============================] - 1s 4ms/step - loss: 0.5262 - accuracy: 0.7920 - val_loss: 0.5233 - val_accuracy: 0.7943\n",
            "Epoch 42/50\n",
            "175/175 [==============================] - 1s 4ms/step - loss: 0.5255 - accuracy: 0.7920 - val_loss: 0.5227 - val_accuracy: 0.7943\n",
            "Epoch 43/50\n",
            "175/175 [==============================] - 1s 3ms/step - loss: 0.5249 - accuracy: 0.7920 - val_loss: 0.5220 - val_accuracy: 0.7943\n",
            "Epoch 44/50\n",
            "175/175 [==============================] - 1s 3ms/step - loss: 0.5243 - accuracy: 0.7920 - val_loss: 0.5213 - val_accuracy: 0.7943\n",
            "Epoch 45/50\n",
            "175/175 [==============================] - 1s 8ms/step - loss: 0.5237 - accuracy: 0.7920 - val_loss: 0.5207 - val_accuracy: 0.7943\n",
            "Epoch 46/50\n",
            "175/175 [==============================] - 1s 4ms/step - loss: 0.5231 - accuracy: 0.7920 - val_loss: 0.5201 - val_accuracy: 0.7943\n",
            "Epoch 47/50\n",
            "175/175 [==============================] - 1s 4ms/step - loss: 0.5225 - accuracy: 0.7920 - val_loss: 0.5195 - val_accuracy: 0.7943\n",
            "Epoch 48/50\n",
            "175/175 [==============================] - 1s 4ms/step - loss: 0.5219 - accuracy: 0.7920 - val_loss: 0.5189 - val_accuracy: 0.7943\n",
            "Epoch 49/50\n",
            "175/175 [==============================] - 1s 5ms/step - loss: 0.5214 - accuracy: 0.7920 - val_loss: 0.5183 - val_accuracy: 0.7943\n",
            "Epoch 50/50\n",
            "175/175 [==============================] - 1s 4ms/step - loss: 0.5208 - accuracy: 0.7920 - val_loss: 0.5177 - val_accuracy: 0.7943\n"
          ]
        }
      ]
    },
    {
      "cell_type": "code",
      "source": [
        "print(history.history.keys())\n",
        "\n"
      ],
      "metadata": {
        "colab": {
          "base_uri": "https://localhost:8080/"
        },
        "id": "kvedtt2qlSKp",
        "outputId": "78767321-ea5c-40fc-90d1-ece39e37f92f"
      },
      "execution_count": 19,
      "outputs": [
        {
          "output_type": "stream",
          "name": "stdout",
          "text": [
            "dict_keys(['loss', 'accuracy', 'val_loss', 'val_accuracy'])\n"
          ]
        }
      ]
    },
    {
      "cell_type": "code",
      "source": [
        "plt.plot(history.history['accuracy'])\n",
        "plt.plot(history.history['val_accuracy'])\n",
        "plt.title('model accuracy ')\n",
        "plt.ylabel('accuracy')\n",
        "plt.xlabel('epoch')\n",
        "plt.legend(['train' , 'test'] , loc = 'upper left')\n",
        "plt.show()"
      ],
      "metadata": {
        "colab": {
          "base_uri": "https://localhost:8080/",
          "height": 295
        },
        "id": "TF_6ijoKlbFJ",
        "outputId": "311e8f75-5808-48b0-abcb-34cfd2c9065e"
      },
      "execution_count": 20,
      "outputs": [
        {
          "output_type": "display_data",
          "data": {
            "text/plain": [
              "<Figure size 432x288 with 1 Axes>"
            ],
            "image/png": "[encoded data removed]"
          },
          "metadata": {
            "needs_background": "light"
          }
        }
      ]
    },
    {
      "cell_type": "code",
      "source": [
        "plt.plot(history.history['loss'])\n",
        "plt.plot(history.history['val_loss'])\n",
        "plt.title('model loss ')\n",
        "plt.ylabel('loss')\n",
        "plt.xlabel('epoch')\n",
        "plt.legend(['train' , 'test'] , loc = 'upper left')\n",
        "plt.show()"
      ],
      "metadata": {
        "colab": {
          "base_uri": "https://localhost:8080/",
          "height": 295
        },
        "id": "Wmi9qZLOlvUR",
        "outputId": "c9ff187f-973e-4fa1-d34a-0dd70d44c604"
      },
      "execution_count": 22,
      "outputs": [
        {
          "output_type": "display_data",
          "data": {
            "text/plain": [
              "<Figure size 432x288 with 1 Axes>"
            ],
            "image/png": "[encoded data removed]"
          },
          "metadata": {
            "needs_background": "light"
          }
        }
      ]
    },
    {
      "cell_type": "code",
      "source": [
        "y_pred = model.predict(X_test)\n",
        "y_pred = (y_pred > 0.5)"
      ],
      "metadata": {
        "id": "8YTpwpj4l0V8"
      },
      "execution_count": 23,
      "outputs": []
    },
    {
      "cell_type": "code",
      "source": [
        "cm = confusion_matrix(y_test , y_pred)\n",
        "cm"
      ],
      "metadata": {
        "colab": {
          "base_uri": "https://localhost:8080/"
        },
        "id": "dZVt5ViPl8Jj",
        "outputId": "4cb123b4-8443-4fd3-9e50-5f6de5253c5e"
      },
      "execution_count": 25,
      "outputs": [
        {
          "output_type": "execute_result",
          "data": {
            "text/plain": [
              "array([[2416,    0],\n",
              "       [ 584,    0]])"
            ]
          },
          "metadata": {},
          "execution_count": 25
        }
      ]
    },
    {
      "cell_type": "code",
      "source": [
        "score = accuracy_score(y_test , y_pred)\n",
        "score"
      ],
      "metadata": {
        "colab": {
          "base_uri": "https://localhost:8080/"
        },
        "id": "tJ9ePCP7l_mc",
        "outputId": "1331ccdb-a22b-46bd-c943-d9bf782faaa2"
      },
      "execution_count": 26,
      "outputs": [
        {
          "output_type": "execute_result",
          "data": {
            "text/plain": [
              "0.8053333333333333"
            ]
          },
          "metadata": {},
          "execution_count": 26
        }
      ]
    },
    {
      "cell_type": "code",
      "source": [
        "model.save('model.h5')"
      ],
      "metadata": {
        "id": "tEyDjB7KmGYb"
      },
      "execution_count": 27,
      "outputs": []
    },
    {
      "cell_type": "code",
      "source": [
        "# loading the model \n",
        "model2=keras.models.load_model('model.h5')"
      ],
      "metadata": {
        "id": "aku9Rd9LmJlG"
      },
      "execution_count": 29,
      "outputs": []
    },
    {
      "cell_type": "code",
      "source": [
        "for layer in model.layers:\n",
        "  print(layer.get_config() , layer.get_weights())"
      ],
      "metadata": {
        "colab": {
          "base_uri": "https://localhost:8080/"
        },
        "id": "5lm0ViTPmPW0",
        "outputId": "48d429bc-f4ce-4a82-f87d-4678746fdb0a"
      },
      "execution_count": 30,
      "outputs": [
        {
          "output_type": "stream",
          "name": "stdout",
          "text": [
            "{'name': 'dense', 'trainable': True, 'dtype': 'float32', 'units': 11, 'activation': 'relu', 'use_bias': True, 'kernel_initializer': {'class_name': 'GlorotUniform', 'config': {'seed': None}}, 'bias_initializer': {'class_name': 'Zeros', 'config': {}}, 'kernel_regularizer': None, 'bias_regularizer': None, 'activity_regularizer': None, 'kernel_constraint': None, 'bias_constraint': None} [array([[ 0.42489767,  0.06810131,  0.38527375,  0.135172  , -0.12137187,\n",
            "         0.33905023,  0.30796233,  0.3023626 , -0.13320565,  0.49971387,\n",
            "         0.00306252],\n",
            "       [-0.4483703 , -0.47027877,  0.24957104,  0.518443  , -0.04978383,\n",
            "        -0.22111589, -0.4211039 , -0.17404033,  0.3417476 , -0.4263739 ,\n",
            "         0.31326166],\n",
            "       [-0.11386498, -0.4552609 , -0.3036642 ,  0.22499321, -0.32834584,\n",
            "         0.01306285, -0.06956012,  0.38415632, -0.24199784, -0.26718464,\n",
            "         0.4221965 ],\n",
            "       [ 0.0645429 ,  0.35851994, -0.12395323, -0.00364434, -0.03700521,\n",
            "         0.38866007, -0.49351177,  0.40044692,  0.505324  , -0.36982092,\n",
            "        -0.31480896],\n",
            "       [-0.39798343, -0.49693897,  0.12483257, -0.14731568,  0.2282175 ,\n",
            "        -0.41017863, -0.17745815,  0.15823334,  0.4496902 ,  0.48495454,\n",
            "         0.32472378],\n",
            "       [-0.42214784, -0.38923964, -0.10558976,  0.47818032,  0.19904287,\n",
            "         0.31496713,  0.3286863 ,  0.08780857,  0.10444558, -0.08081616,\n",
            "         0.17012343],\n",
            "       [ 0.23195913,  0.41921115, -0.38965398,  0.32576972,  0.503962  ,\n",
            "        -0.25951952,  0.00980563,  0.4399606 ,  0.06643374, -0.43006346,\n",
            "         0.00143286],\n",
            "       [ 0.48223877, -0.510862  , -0.32542133,  0.01900393,  0.33948964,\n",
            "        -0.21334961,  0.26765534, -0.2924179 ,  0.27788287,  0.06103181,\n",
            "         0.5099977 ],\n",
            "       [-0.44337082,  0.06379117, -0.10828183,  0.25254944,  0.00553798,\n",
            "         0.48507267,  0.3292196 ,  0.23057991, -0.31469655,  0.21616025,\n",
            "         0.02582998],\n",
            "       [-0.06508523, -0.38829276, -0.51485336, -0.00677852, -0.27921352,\n",
            "         0.1867914 , -0.41063505, -0.29762572, -0.35664254,  0.04720169,\n",
            "        -0.47365355],\n",
            "       [ 0.21970096, -0.05326676,  0.5191452 ,  0.11015719,  0.10858428,\n",
            "         0.33910564,  0.13198113,  0.4461322 , -0.36567572, -0.44315463,\n",
            "         0.49777773]], dtype=float32), array([ 0.00794223,  0.00043749,  0.00230604, -0.00488761,  0.00746654,\n",
            "        0.00119081,  0.00833889,  0.00667016, -0.00214197,  0.00111112,\n",
            "       -0.00144329], dtype=float32)]\n",
            "{'name': 'dense_1', 'trainable': True, 'dtype': 'float32', 'units': 100, 'activation': 'relu', 'use_bias': True, 'kernel_initializer': {'class_name': 'HeUniform', 'config': {'seed': None}}, 'bias_initializer': {'class_name': 'Zeros', 'config': {}}, 'kernel_regularizer': None, 'bias_regularizer': None, 'activity_regularizer': None, 'kernel_constraint': None, 'bias_constraint': None} [array([[ 0.523092  ,  0.14256427, -0.35135284, ..., -0.67788583,\n",
            "        -0.3265235 ,  0.13206096],\n",
            "       [ 0.486943  , -0.35848385,  0.05746482, ...,  0.5329172 ,\n",
            "         0.18900508,  0.07521128],\n",
            "       [-0.65825987,  0.48514414, -0.4781685 , ...,  0.45187977,\n",
            "         0.18482742,  0.1649465 ],\n",
            "       ...,\n",
            "       [ 0.4818506 , -0.18100482, -0.4368634 , ...,  0.4251761 ,\n",
            "         0.37368345, -0.19032387],\n",
            "       [-0.3903433 ,  0.07690309,  0.4156936 , ..., -0.05794052,\n",
            "        -0.60486114, -0.51542753],\n",
            "       [ 0.5300559 ,  0.19639078,  0.24204364, ..., -0.50748074,\n",
            "        -0.28296444, -0.26227397]], dtype=float32), array([ 0.00349775,  0.00612738, -0.00772234, -0.00577933,  0.0086506 ,\n",
            "       -0.00330512, -0.00474599,  0.0004417 , -0.00508289,  0.00791221,\n",
            "        0.00765659,  0.00720954,  0.0090665 , -0.002626  ,  0.00581627,\n",
            "        0.00690158,  0.00902222, -0.00651576,  0.00189787, -0.00994041,\n",
            "       -0.00420194,  0.00212886, -0.00032099, -0.00802999, -0.0018214 ,\n",
            "        0.00065034, -0.00558276, -0.00073179,  0.00348242,  0.00317727,\n",
            "        0.00649208,  0.00182501,  0.00954558, -0.00306909,  0.003767  ,\n",
            "        0.00345395,  0.00140577, -0.0013666 , -0.00458014,  0.00520745,\n",
            "       -0.00914069,  0.00077575, -0.00779601,  0.00756501,  0.00830511,\n",
            "       -0.00540023, -0.00295538,  0.00757207, -0.00345215,  0.00054751,\n",
            "       -0.00685023, -0.00027916,  0.0097757 ,  0.00501416,  0.00291356,\n",
            "       -0.00320551, -0.0012806 ,  0.00321202, -0.00681567,  0.00104131,\n",
            "        0.00340827,  0.00151303, -0.00066505, -0.00163977,  0.00654971,\n",
            "        0.00440629,  0.00182735,  0.00966311, -0.00793178, -0.00086645,\n",
            "       -0.00873063,  0.01088111,  0.00470118,  0.00791513, -0.00549963,\n",
            "       -0.00298592,  0.00106229, -0.00488152, -0.0023499 , -0.00674783,\n",
            "        0.00064634, -0.00733636,  0.00117644,  0.00134044,  0.00696131,\n",
            "        0.00095682,  0.00851286,  0.00745527, -0.00329204, -0.00239955,\n",
            "        0.00872838, -0.007776  , -0.00678978, -0.00449872, -0.00164608,\n",
            "        0.00529688, -0.00427997, -0.00351374, -0.00012002,  0.00491739],\n",
            "      dtype=float32)]\n",
            "{'name': 'dense_2', 'trainable': True, 'dtype': 'float32', 'units': 50, 'activation': 'relu', 'use_bias': True, 'kernel_initializer': {'class_name': 'GlorotUniform', 'config': {'seed': None}}, 'bias_initializer': {'class_name': 'Zeros', 'config': {}}, 'kernel_regularizer': None, 'bias_regularizer': None, 'activity_regularizer': None, 'kernel_constraint': None, 'bias_constraint': None} [array([[-0.16085728,  0.16228151,  0.17532143, ..., -0.19905736,\n",
            "         0.17458944,  0.07562546],\n",
            "       [-0.02522321,  0.02205767, -0.1853462 , ..., -0.11072852,\n",
            "        -0.01532645, -0.08647308],\n",
            "       [-0.10779932, -0.06787806, -0.01737342, ..., -0.04533075,\n",
            "        -0.19484746, -0.00145854],\n",
            "       ...,\n",
            "       [-0.07829615, -0.03272519, -0.06389257, ..., -0.00734675,\n",
            "        -0.17487538, -0.02385117],\n",
            "       [ 0.16648804,  0.04900139,  0.15644147, ...,  0.1183109 ,\n",
            "         0.06362671, -0.07675849],\n",
            "       [-0.04615442,  0.19019748,  0.12097642, ..., -0.10166839,\n",
            "        -0.10244021, -0.15069546]], dtype=float32), array([ 0.00748788,  0.00335516,  0.00806984, -0.00847966,  0.00022644,\n",
            "       -0.00939676,  0.00501866, -0.00168244,  0.0104897 ,  0.00902145,\n",
            "       -0.00699288, -0.00483001,  0.00677011,  0.00772902,  0.00661028,\n",
            "        0.00408643, -0.00498839, -0.00721848,  0.00433127, -0.00790619,\n",
            "        0.00585461,  0.00340702,  0.00883818, -0.00143802, -0.00447678,\n",
            "        0.00876242,  0.00876769, -0.00187995,  0.00871499,  0.0107787 ,\n",
            "        0.00142741,  0.00516807, -0.00785986,  0.00821062,  0.00658701,\n",
            "        0.00688451, -0.00768808, -0.00872243, -0.0078808 ,  0.00651058,\n",
            "       -0.00802313,  0.0070345 ,  0.00936939,  0.00079278,  0.00875975,\n",
            "        0.00163744,  0.00125816, -0.00363831, -0.00178282, -0.00788059],\n",
            "      dtype=float32)]\n",
            "{'name': 'dense_3', 'trainable': True, 'dtype': 'float32', 'units': 1, 'activation': 'sigmoid', 'use_bias': True, 'kernel_initializer': {'class_name': 'GlorotUniform', 'config': {'seed': None}}, 'bias_initializer': {'class_name': 'Zeros', 'config': {}}, 'kernel_regularizer': None, 'bias_regularizer': None, 'activity_regularizer': None, 'kernel_constraint': None, 'bias_constraint': None} [array([[-0.14500356],\n",
            "       [-0.02304415],\n",
            "       [-0.18231216],\n",
            "       [ 0.19396262],\n",
            "       [-0.00720251],\n",
            "       [ 0.09347583],\n",
            "       [-0.12066325],\n",
            "       [ 0.05658123],\n",
            "       [-0.20883633],\n",
            "       [-0.10336062],\n",
            "       [ 0.04059995],\n",
            "       [ 0.02121567],\n",
            "       [-0.07426868],\n",
            "       [-0.3095326 ],\n",
            "       [-0.01984594],\n",
            "       [-0.0548207 ],\n",
            "       [ 0.00888591],\n",
            "       [ 0.30885363],\n",
            "       [-0.20628868],\n",
            "       [ 0.2300097 ],\n",
            "       [-0.23356648],\n",
            "       [-0.03432104],\n",
            "       [-0.2854341 ],\n",
            "       [ 0.28237695],\n",
            "       [ 0.13866971],\n",
            "       [-0.11588761],\n",
            "       [-0.12802191],\n",
            "       [ 0.07434481],\n",
            "       [-0.3131646 ],\n",
            "       [-0.22443421],\n",
            "       [-0.26061028],\n",
            "       [-0.1785188 ],\n",
            "       [ 0.31284988],\n",
            "       [-0.03166716],\n",
            "       [-0.27582565],\n",
            "       [-0.15306686],\n",
            "       [ 0.1438711 ],\n",
            "       [ 0.18464386],\n",
            "       [ 0.01588669],\n",
            "       [-0.06302025],\n",
            "       [ 0.10077474],\n",
            "       [-0.23587756],\n",
            "       [-0.2027037 ],\n",
            "       [-0.07512224],\n",
            "       [-0.26187345],\n",
            "       [-0.09676296],\n",
            "       [-0.12749183],\n",
            "       [ 0.13413143],\n",
            "       [ 0.18532655],\n",
            "       [ 0.03565276]], dtype=float32), array([-0.00878393], dtype=float32)]\n"
          ]
        }
      ]
    },
    {
      "cell_type": "code",
      "source": [
        ""
      ],
      "metadata": {
        "id": "x-VwYRtmmcC8"
      },
      "execution_count": null,
      "outputs": []
    }
  ]
}