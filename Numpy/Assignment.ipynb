{
  "nbformat": 4,
  "nbformat_minor": 0,
  "metadata": {
    "colab": {
      "name": "numpy_excercise0_SOLUTIONS.ipynb",
      "provenance": [],
      "collapsed_sections": [],
      "include_colab_link": true
    },
    "kernelspec": {
      "name": "python3",
      "display_name": "Python 3"
    },
    "language_info": {
      "name": "python"
    }
  },
  "cells": [
    {
      "cell_type": "markdown",
      "metadata": {
        "id": "view-in-github",
        "colab_type": "text"
      },
      "source": [
        "<a href=\"https://colab.research.google.com/github/ashutoshsinha25/pepcoding_FJP_DS/blob/main/Numpy/Assignment.ipynb\" target=\"_parent\"><img src=\"https://colab.research.google.com/assets/colab-badge.svg\" alt=\"Open In Colab\"/></a>"
      ]
    },
    {
      "cell_type": "markdown",
      "metadata": {
        "id": "gX8SgQjYg9Pv"
      },
      "source": [
        "**Import numpy as np**"
      ]
    },
    {
      "cell_type": "code",
      "metadata": {
        "id": "jv3Xo5nXg3tA"
      },
      "source": [
        "import numpy as np"
      ],
      "execution_count": 1,
      "outputs": []
    },
    {
      "cell_type": "markdown",
      "metadata": {
        "id": "oTfF2hlPhCmF"
      },
      "source": [
        "**Create an array of 10 zeros**"
      ]
    },
    {
      "cell_type": "code",
      "source": [
        "arr = np.zeros(10, dtype = 'int32')\n",
        "arr"
      ],
      "metadata": {
        "id": "O8skHcZRXMx1",
        "outputId": "cee30f3d-dc77-4a91-f326-0a148dd7e4ff",
        "colab": {
          "base_uri": "https://localhost:8080/"
        }
      },
      "execution_count": 5,
      "outputs": [
        {
          "output_type": "execute_result",
          "data": {
            "text/plain": [
              "array([0, 0, 0, 0, 0, 0, 0, 0, 0, 0], dtype=int32)"
            ]
          },
          "metadata": {},
          "execution_count": 5
        }
      ]
    },
    {
      "cell_type": "code",
      "metadata": {
        "colab": {
          "base_uri": "https://localhost:8080/"
        },
        "id": "wIwsJrYchFsj",
        "outputId": "a8f9b701-3441-4d34-b51c-e1a2ef9626ac"
      },
      "source": [
        ""
      ],
      "execution_count": null,
      "outputs": [
        {
          "output_type": "execute_result",
          "data": {
            "text/plain": [
              "array([0, 0, 0, 0, 0, 0, 0, 0, 0, 0], dtype=int32)"
            ]
          },
          "metadata": {},
          "execution_count": 3
        }
      ]
    },
    {
      "cell_type": "markdown",
      "metadata": {
        "id": "vcIl9pJ8hGAM"
      },
      "source": [
        "**Create an array of 10 ones**"
      ]
    },
    {
      "cell_type": "code",
      "source": [
        "arr = np.ones(10)\n",
        "arr"
      ],
      "metadata": {
        "id": "6PrKN5xUXNzz",
        "outputId": "f91a2b8a-6ba6-4623-ec0b-477ee47c05a3",
        "colab": {
          "base_uri": "https://localhost:8080/"
        }
      },
      "execution_count": 6,
      "outputs": [
        {
          "output_type": "execute_result",
          "data": {
            "text/plain": [
              "array([1., 1., 1., 1., 1., 1., 1., 1., 1., 1.])"
            ]
          },
          "metadata": {},
          "execution_count": 6
        }
      ]
    },
    {
      "cell_type": "code",
      "metadata": {
        "colab": {
          "base_uri": "https://localhost:8080/"
        },
        "id": "FNBOoy7YhJDz",
        "outputId": "b0b91615-e122-41a1-f38a-8c9e9c90859a"
      },
      "source": [
        ""
      ],
      "execution_count": null,
      "outputs": [
        {
          "output_type": "execute_result",
          "data": {
            "text/plain": [
              "array([1., 1., 1., 1., 1., 1., 1., 1., 1., 1.])"
            ]
          },
          "metadata": {},
          "execution_count": 4
        }
      ]
    },
    {
      "cell_type": "markdown",
      "metadata": {
        "id": "iGTVWS-xhJR_"
      },
      "source": [
        "**Create an array of 10 fives**"
      ]
    },
    {
      "cell_type": "code",
      "source": [
        "arr = 5*(np.ones(10))\n",
        "arr"
      ],
      "metadata": {
        "id": "bHn2OEkOXO91",
        "outputId": "c4bc2bdc-96a8-4225-cf18-cbde2f9a182d",
        "colab": {
          "base_uri": "https://localhost:8080/"
        }
      },
      "execution_count": 7,
      "outputs": [
        {
          "output_type": "execute_result",
          "data": {
            "text/plain": [
              "array([5., 5., 5., 5., 5., 5., 5., 5., 5., 5.])"
            ]
          },
          "metadata": {},
          "execution_count": 7
        }
      ]
    },
    {
      "cell_type": "code",
      "metadata": {
        "colab": {
          "base_uri": "https://localhost:8080/"
        },
        "id": "bioPQimlhMaF",
        "outputId": "1a171883-7947-415d-a25f-17950a9e3e96"
      },
      "source": [
        ""
      ],
      "execution_count": null,
      "outputs": [
        {
          "output_type": "stream",
          "name": "stdout",
          "text": [
            "[5. 5. 5. 5. 5. 5. 5. 5. 5. 5.]\n"
          ]
        }
      ]
    },
    {
      "cell_type": "markdown",
      "metadata": {
        "id": "DhZUq38whgCu"
      },
      "source": [
        "**Create an array of the integers from 10 to 50**\n",
        "\n",
        "New "
      ]
    },
    {
      "cell_type": "code",
      "source": [
        "arr = np.arange(10,51,1)\n",
        "arr"
      ],
      "metadata": {
        "id": "eYZRS_7FXoAe",
        "outputId": "7e0b6c38-286d-454b-9b11-c84f19eea1bf",
        "colab": {
          "base_uri": "https://localhost:8080/"
        }
      },
      "execution_count": 10,
      "outputs": [
        {
          "output_type": "execute_result",
          "data": {
            "text/plain": [
              "array([10, 11, 12, 13, 14, 15, 16, 17, 18, 19, 20, 21, 22, 23, 24, 25, 26,\n",
              "       27, 28, 29, 30, 31, 32, 33, 34, 35, 36, 37, 38, 39, 40, 41, 42, 43,\n",
              "       44, 45, 46, 47, 48, 49, 50])"
            ]
          },
          "metadata": {},
          "execution_count": 10
        }
      ]
    },
    {
      "cell_type": "code",
      "metadata": {
        "colab": {
          "base_uri": "https://localhost:8080/"
        },
        "id": "j_u7EixahfS-",
        "outputId": "cb758a9b-8c91-4d12-ddeb-8894a7101bfc"
      },
      "source": [
        ""
      ],
      "execution_count": null,
      "outputs": [
        {
          "output_type": "execute_result",
          "data": {
            "text/plain": [
              "array([10, 11, 12, 13, 14, 15, 16, 17, 18, 19, 20, 21, 22, 23, 24, 25, 26,\n",
              "       27, 28, 29, 30, 31, 32, 33, 34, 35, 36, 37, 38, 39, 40, 41, 42, 43,\n",
              "       44, 45, 46, 47, 48, 49, 50])"
            ]
          },
          "metadata": {},
          "execution_count": 3
        }
      ]
    },
    {
      "cell_type": "markdown",
      "metadata": {
        "id": "yL3qc8vmhtMX"
      },
      "source": [
        "**Create an array of all the even integers from 10 to 50**"
      ]
    },
    {
      "cell_type": "code",
      "source": [
        "arr = np.arange(10,51,2)\n",
        "arr"
      ],
      "metadata": {
        "id": "_K679d18XsRk",
        "outputId": "c82a3c88-a049-4edc-ff4c-9f6c71b26ef7",
        "colab": {
          "base_uri": "https://localhost:8080/"
        }
      },
      "execution_count": 12,
      "outputs": [
        {
          "output_type": "execute_result",
          "data": {
            "text/plain": [
              "array([10, 12, 14, 16, 18, 20, 22, 24, 26, 28, 30, 32, 34, 36, 38, 40, 42,\n",
              "       44, 46, 48, 50])"
            ]
          },
          "metadata": {},
          "execution_count": 12
        }
      ]
    },
    {
      "cell_type": "code",
      "metadata": {
        "colab": {
          "base_uri": "https://localhost:8080/"
        },
        "id": "0pckFbQGhw4Z",
        "outputId": "6cbd33a3-ef5d-4b9c-e50b-30563a5472c2"
      },
      "source": [
        ""
      ],
      "execution_count": null,
      "outputs": [
        {
          "output_type": "execute_result",
          "data": {
            "text/plain": [
              "array([10, 12, 14, 16, 18, 20, 22, 24, 26, 28, 30, 32, 34, 36, 38, 40, 42,\n",
              "       44, 46, 48, 50])"
            ]
          },
          "metadata": {},
          "execution_count": 4
        }
      ]
    },
    {
      "cell_type": "markdown",
      "metadata": {
        "id": "SdtofJi_h5WM"
      },
      "source": [
        "**Create a 3x4 matrix with numbers ranging from 0 to 12**"
      ]
    },
    {
      "cell_type": "code",
      "source": [
        "arr = np.array(np.arange(0,12)).reshape(3,4)\n",
        "arr"
      ],
      "metadata": {
        "id": "K8oyEzBdX0Zz",
        "outputId": "edd0043f-7931-4b5e-cfa6-d91b189252d7",
        "colab": {
          "base_uri": "https://localhost:8080/"
        }
      },
      "execution_count": 16,
      "outputs": [
        {
          "output_type": "execute_result",
          "data": {
            "text/plain": [
              "array([[ 0,  1,  2,  3],\n",
              "       [ 4,  5,  6,  7],\n",
              "       [ 8,  9, 10, 11]])"
            ]
          },
          "metadata": {},
          "execution_count": 16
        }
      ]
    },
    {
      "cell_type": "code",
      "metadata": {
        "colab": {
          "base_uri": "https://localhost:8080/"
        },
        "id": "V_mDcyyPh0kM",
        "outputId": "1d65253d-b650-4b57-a60a-c34d9f9a75f3"
      },
      "source": [
        ""
      ],
      "execution_count": null,
      "outputs": [
        {
          "output_type": "execute_result",
          "data": {
            "text/plain": [
              "array([[ 0,  1,  2,  3],\n",
              "       [ 4,  5,  6,  7],\n",
              "       [ 8,  9, 10, 11]])"
            ]
          },
          "metadata": {},
          "execution_count": 20
        }
      ]
    },
    {
      "cell_type": "markdown",
      "metadata": {
        "id": "TF63DVYdiHUp"
      },
      "source": [
        "**Create a 3x3 identity matrix**"
      ]
    },
    {
      "cell_type": "code",
      "source": [
        "arr = np.identity(3,dtype = 'int32')\n",
        "arr"
      ],
      "metadata": {
        "id": "j6yc-24LX3nP",
        "outputId": "492eb6b5-8d71-488f-f539-3b9333630f1b",
        "colab": {
          "base_uri": "https://localhost:8080/"
        }
      },
      "execution_count": 18,
      "outputs": [
        {
          "output_type": "execute_result",
          "data": {
            "text/plain": [
              "array([[1, 0, 0],\n",
              "       [0, 1, 0],\n",
              "       [0, 0, 1]], dtype=int32)"
            ]
          },
          "metadata": {},
          "execution_count": 18
        }
      ]
    },
    {
      "cell_type": "code",
      "metadata": {
        "colab": {
          "base_uri": "https://localhost:8080/"
        },
        "id": "5Z8Kl49niDj_",
        "outputId": "c2d48cb1-64e9-4054-a981-51c7a4e468ff"
      },
      "source": [
        ""
      ],
      "execution_count": null,
      "outputs": [
        {
          "output_type": "execute_result",
          "data": {
            "text/plain": [
              "array([[1, 0, 0],\n",
              "       [0, 1, 0],\n",
              "       [0, 0, 1]], dtype=int32)"
            ]
          },
          "metadata": {},
          "execution_count": 22
        }
      ]
    },
    {
      "cell_type": "markdown",
      "metadata": {
        "id": "7-TKphGniSni"
      },
      "source": [
        "**Use Numpy to generate a random number between 0 and 1**\n",
        "\n",
        "Note: output may differ from yours output"
      ]
    },
    {
      "cell_type": "code",
      "metadata": {
        "colab": {
          "base_uri": "https://localhost:8080/"
        },
        "id": "qqXA7JMPiRod",
        "outputId": "0a0db2aa-d42e-453d-e55a-80b7b9341068"
      },
      "source": [
        "n = np.random.normal(0,1)\n",
        "n"
      ],
      "execution_count": 27,
      "outputs": [
        {
          "output_type": "execute_result",
          "data": {
            "text/plain": [
              "1.4045203956425407"
            ]
          },
          "metadata": {},
          "execution_count": 27
        }
      ]
    },
    {
      "cell_type": "markdown",
      "metadata": {
        "id": "z3xKZYsSjDDE"
      },
      "source": [
        "**Use Numpy to generate an array of 25 random numbers sampled from a standard normal distribution**\n",
        "\n",
        "Note: output may differ from yours output"
      ]
    },
    {
      "cell_type": "code",
      "source": [
        "n = np.random.normal(0,1,25)\n",
        "n"
      ],
      "metadata": {
        "id": "bRICRB_X8W--",
        "outputId": "12767464-1d34-4ad8-fe68-3e3076a893cb",
        "colab": {
          "base_uri": "https://localhost:8080/"
        }
      },
      "execution_count": 28,
      "outputs": [
        {
          "output_type": "execute_result",
          "data": {
            "text/plain": [
              "array([ 0.43541641, -0.26680079,  0.50357526, -0.39728202, -2.79592594,\n",
              "       -0.64508892,  0.49004574, -0.37402318, -0.92504557, -0.73341172,\n",
              "        0.71610439,  0.38581592,  0.11471461, -0.36122196, -1.31727442,\n",
              "       -1.74413616,  1.96820177, -1.13233297, -0.19669167, -0.78379529,\n",
              "        0.88889723,  1.1457671 ,  1.62577519, -0.23393333, -0.37534613])"
            ]
          },
          "metadata": {},
          "execution_count": 28
        }
      ]
    },
    {
      "cell_type": "code",
      "metadata": {
        "colab": {
          "base_uri": "https://localhost:8080/"
        },
        "id": "okMA4he2ib4V",
        "outputId": "69bd380e-ae4c-439a-fb70-cc796706e9c8"
      },
      "source": [
        ""
      ],
      "execution_count": null,
      "outputs": [
        {
          "output_type": "execute_result",
          "data": {
            "text/plain": [
              "array([-0.29174942, -0.61195244, -1.05686864, -0.31384112, -0.85216678,\n",
              "       -0.69386062, -0.63920649,  1.55013606, -1.5821717 , -1.33806154,\n",
              "        0.87459892, -1.25683923,  0.02878272, -0.27533076,  0.50531928,\n",
              "        0.08798111, -0.8996893 , -1.10009279,  1.11436377,  0.35224954,\n",
              "       -0.16784541, -2.06024917, -1.08006611,  0.54738738,  0.3443626 ])"
            ]
          },
          "metadata": {},
          "execution_count": 5
        }
      ]
    },
    {
      "cell_type": "markdown",
      "metadata": {
        "id": "LNnEXURBjcLs"
      },
      "source": [
        "**Create an (10x10)array having numbers from 0.01 to 1 increasing by 0.01**"
      ]
    },
    {
      "cell_type": "code",
      "source": [
        "n = np.arange(0.01 , 1.01, 0.01).reshape(10,10)\n",
        "n"
      ],
      "metadata": {
        "id": "JAhkMRHX9Cwo",
        "outputId": "db1b787c-c73a-4df4-9b07-782950317f22",
        "colab": {
          "base_uri": "https://localhost:8080/"
        }
      },
      "execution_count": 31,
      "outputs": [
        {
          "output_type": "execute_result",
          "data": {
            "text/plain": [
              "array([[0.01, 0.02, 0.03, 0.04, 0.05, 0.06, 0.07, 0.08, 0.09, 0.1 ],\n",
              "       [0.11, 0.12, 0.13, 0.14, 0.15, 0.16, 0.17, 0.18, 0.19, 0.2 ],\n",
              "       [0.21, 0.22, 0.23, 0.24, 0.25, 0.26, 0.27, 0.28, 0.29, 0.3 ],\n",
              "       [0.31, 0.32, 0.33, 0.34, 0.35, 0.36, 0.37, 0.38, 0.39, 0.4 ],\n",
              "       [0.41, 0.42, 0.43, 0.44, 0.45, 0.46, 0.47, 0.48, 0.49, 0.5 ],\n",
              "       [0.51, 0.52, 0.53, 0.54, 0.55, 0.56, 0.57, 0.58, 0.59, 0.6 ],\n",
              "       [0.61, 0.62, 0.63, 0.64, 0.65, 0.66, 0.67, 0.68, 0.69, 0.7 ],\n",
              "       [0.71, 0.72, 0.73, 0.74, 0.75, 0.76, 0.77, 0.78, 0.79, 0.8 ],\n",
              "       [0.81, 0.82, 0.83, 0.84, 0.85, 0.86, 0.87, 0.88, 0.89, 0.9 ],\n",
              "       [0.91, 0.92, 0.93, 0.94, 0.95, 0.96, 0.97, 0.98, 0.99, 1.  ]])"
            ]
          },
          "metadata": {},
          "execution_count": 31
        }
      ]
    },
    {
      "cell_type": "code",
      "metadata": {
        "colab": {
          "base_uri": "https://localhost:8080/"
        },
        "id": "Fskh08Q1jmXp",
        "outputId": "04624887-4bc5-4d42-cac9-5d34d6efbf87"
      },
      "source": [
        ""
      ],
      "execution_count": null,
      "outputs": [
        {
          "output_type": "execute_result",
          "data": {
            "text/plain": [
              "array([[0.01, 0.02, 0.03, 0.04, 0.05, 0.06, 0.07, 0.08, 0.09, 0.1 ],\n",
              "       [0.11, 0.12, 0.13, 0.14, 0.15, 0.16, 0.17, 0.18, 0.19, 0.2 ],\n",
              "       [0.21, 0.22, 0.23, 0.24, 0.25, 0.26, 0.27, 0.28, 0.29, 0.3 ],\n",
              "       [0.31, 0.32, 0.33, 0.34, 0.35, 0.36, 0.37, 0.38, 0.39, 0.4 ],\n",
              "       [0.41, 0.42, 0.43, 0.44, 0.45, 0.46, 0.47, 0.48, 0.49, 0.5 ],\n",
              "       [0.51, 0.52, 0.53, 0.54, 0.55, 0.56, 0.57, 0.58, 0.59, 0.6 ],\n",
              "       [0.61, 0.62, 0.63, 0.64, 0.65, 0.66, 0.67, 0.68, 0.69, 0.7 ],\n",
              "       [0.71, 0.72, 0.73, 0.74, 0.75, 0.76, 0.77, 0.78, 0.79, 0.8 ],\n",
              "       [0.81, 0.82, 0.83, 0.84, 0.85, 0.86, 0.87, 0.88, 0.89, 0.9 ],\n",
              "       [0.91, 0.92, 0.93, 0.94, 0.95, 0.96, 0.97, 0.98, 0.99, 1.  ]])"
            ]
          },
          "metadata": {},
          "execution_count": 32
        }
      ]
    },
    {
      "cell_type": "markdown",
      "metadata": {
        "id": "aJk9hkikliYL"
      },
      "source": [
        "#Numpy Indexing and Slicing\n"
      ]
    },
    {
      "cell_type": "code",
      "metadata": {
        "colab": {
          "base_uri": "https://localhost:8080/"
        },
        "id": "oBLqBk-0lnKC",
        "outputId": "924e94d7-3d02-41dc-f8d8-27455bd3f995"
      },
      "source": [
        "ar = (np.arange(25)+1).reshape(5,5)\n",
        "ar"
      ],
      "execution_count": 32,
      "outputs": [
        {
          "output_type": "execute_result",
          "data": {
            "text/plain": [
              "array([[ 1,  2,  3,  4,  5],\n",
              "       [ 6,  7,  8,  9, 10],\n",
              "       [11, 12, 13, 14, 15],\n",
              "       [16, 17, 18, 19, 20],\n",
              "       [21, 22, 23, 24, 25]])"
            ]
          },
          "metadata": {},
          "execution_count": 32
        }
      ]
    },
    {
      "cell_type": "code",
      "source": [
        "np.arange(25).reshape(5,5)"
      ],
      "metadata": {
        "id": "kRQslcX49Pl8"
      },
      "execution_count": null,
      "outputs": []
    },
    {
      "cell_type": "markdown",
      "metadata": {
        "id": "JjWRLf4omWwt"
      },
      "source": [
        "**extract array**\n",
        "\n",
        "[\n",
        "  [12,13,14],\n",
        "\n",
        "  [17,18,19],\n",
        "\n",
        "  [22,23,24]\n",
        "]"
      ]
    },
    {
      "cell_type": "code",
      "source": [
        "a = ar[2:,1:4]\n",
        "a"
      ],
      "metadata": {
        "id": "_0yGSwZOYi3s",
        "outputId": "5bac6c1b-1c02-437f-c5aa-c1153a6d0059",
        "colab": {
          "base_uri": "https://localhost:8080/"
        }
      },
      "execution_count": 38,
      "outputs": [
        {
          "output_type": "execute_result",
          "data": {
            "text/plain": [
              "array([[12, 13, 14],\n",
              "       [17, 18, 19],\n",
              "       [22, 23, 24]])"
            ]
          },
          "metadata": {},
          "execution_count": 38
        }
      ]
    },
    {
      "cell_type": "code",
      "metadata": {
        "id": "G_F5Qn-EmQnX",
        "colab": {
          "base_uri": "https://localhost:8080/"
        },
        "outputId": "430cf30b-b3cb-458b-848b-f74a485d6b3d"
      },
      "source": [
        ""
      ],
      "execution_count": null,
      "outputs": [
        {
          "output_type": "execute_result",
          "data": {
            "text/plain": [
              "array([[12, 13, 14],\n",
              "       [17, 18, 19],\n",
              "       [22, 23, 24]])"
            ]
          },
          "metadata": {},
          "execution_count": 37
        }
      ]
    },
    {
      "cell_type": "markdown",
      "metadata": {
        "id": "wIb1kQsSmupr"
      },
      "source": [
        "**extract array**\n",
        "\n",
        "[\n",
        "  [14, 13, 12],\n",
        "\n",
        "  [19, 18, 17],\n",
        "\n",
        "  [24, 23, 22]\n",
        "]"
      ]
    },
    {
      "cell_type": "code",
      "source": [
        "ar[2:,1:4][::,::-1]"
      ],
      "metadata": {
        "id": "MhFM4MoxYlv7",
        "outputId": "b7a0f0d6-24b7-4d85-fa21-ac78bf671ce2",
        "colab": {
          "base_uri": "https://localhost:8080/"
        }
      },
      "execution_count": 46,
      "outputs": [
        {
          "output_type": "execute_result",
          "data": {
            "text/plain": [
              "array([[14, 13, 12],\n",
              "       [19, 18, 17],\n",
              "       [24, 23, 22]])"
            ]
          },
          "metadata": {},
          "execution_count": 46
        }
      ]
    },
    {
      "cell_type": "code",
      "source": [
        "a[::,::-1]"
      ],
      "metadata": {
        "id": "2pcsBH1w-Imf",
        "outputId": "897aa7b0-d461-49b7-ff16-3629ea8bcb8b",
        "colab": {
          "base_uri": "https://localhost:8080/"
        }
      },
      "execution_count": 47,
      "outputs": [
        {
          "output_type": "execute_result",
          "data": {
            "text/plain": [
              "array([[14, 13, 12],\n",
              "       [19, 18, 17],\n",
              "       [24, 23, 22]])"
            ]
          },
          "metadata": {},
          "execution_count": 47
        }
      ]
    },
    {
      "cell_type": "code",
      "metadata": {
        "id": "0GbIQPLkm1vT",
        "colab": {
          "base_uri": "https://localhost:8080/"
        },
        "outputId": "704b22d1-9bee-4f6f-cdf6-1a78cf340811"
      },
      "source": [
        ""
      ],
      "execution_count": null,
      "outputs": [
        {
          "output_type": "execute_result",
          "data": {
            "text/plain": [
              "array([[14, 13, 12],\n",
              "       [19, 18, 17],\n",
              "       [24, 23, 22]])"
            ]
          },
          "metadata": {},
          "execution_count": 38
        }
      ]
    },
    {
      "cell_type": "markdown",
      "metadata": {
        "id": "Q3fF94y1m4qC"
      },
      "source": [
        "**extract array**\n",
        "\n",
        "[\n",
        "  [24, 23, 22],\n",
        "\n",
        "  [19, 18, 17],\n",
        "\n",
        "  [14, 13, 12],  \n",
        "]"
      ]
    },
    {
      "cell_type": "code",
      "source": [
        "ar[2:,1:4][::-1,::-1]"
      ],
      "metadata": {
        "id": "7gNvYwYDYm3c",
        "outputId": "e929fe1e-c9d6-47c1-988b-0a62fe66355f",
        "colab": {
          "base_uri": "https://localhost:8080/"
        }
      },
      "execution_count": 48,
      "outputs": [
        {
          "output_type": "execute_result",
          "data": {
            "text/plain": [
              "array([[24, 23, 22],\n",
              "       [19, 18, 17],\n",
              "       [14, 13, 12]])"
            ]
          },
          "metadata": {},
          "execution_count": 48
        }
      ]
    },
    {
      "cell_type": "code",
      "metadata": {
        "id": "_ZqZT-l8m82Z",
        "colab": {
          "base_uri": "https://localhost:8080/"
        },
        "outputId": "621c9907-943d-4e0e-c7ab-698b33bab715"
      },
      "source": [
        ""
      ],
      "execution_count": null,
      "outputs": [
        {
          "output_type": "execute_result",
          "data": {
            "text/plain": [
              "array([[24, 23, 22],\n",
              "       [19, 18, 17],\n",
              "       [14, 13, 12]])"
            ]
          },
          "metadata": {},
          "execution_count": 40
        }
      ]
    },
    {
      "cell_type": "markdown",
      "metadata": {
        "id": "YHmvl3VrnEzY"
      },
      "source": [
        "#Split Concatinate"
      ]
    },
    {
      "cell_type": "code",
      "metadata": {
        "colab": {
          "base_uri": "https://localhost:8080/"
        },
        "id": "bNbdzPb8nH5c",
        "outputId": "dc386f52-3ca0-48d4-a039-cddf9270792c"
      },
      "source": [
        "ar = np.arange(2,10)\n",
        "ar"
      ],
      "execution_count": 49,
      "outputs": [
        {
          "output_type": "execute_result",
          "data": {
            "text/plain": [
              "array([2, 3, 4, 5, 6, 7, 8, 9])"
            ]
          },
          "metadata": {},
          "execution_count": 49
        }
      ]
    },
    {
      "cell_type": "markdown",
      "metadata": {
        "id": "Q7JpN_ElnV0E"
      },
      "source": [
        "**Split array to generate 3 arrays with content**\n",
        "\n",
        "[2,3,4]\n",
        "\n",
        "[5, 6]\n",
        "\n",
        "[]\n",
        "\n",
        "[7,8,9]"
      ]
    },
    {
      "cell_type": "code",
      "source": [
        "np.hsplit(ar,[3,5]) # [:3],[3:5],[5:]"
      ],
      "metadata": {
        "id": "inGoi-SxYp1u",
        "outputId": "a4da54fb-8786-49fe-92d7-6afad2b2fdc0",
        "colab": {
          "base_uri": "https://localhost:8080/"
        }
      },
      "execution_count": 67,
      "outputs": [
        {
          "output_type": "execute_result",
          "data": {
            "text/plain": [
              "[array([2, 3, 4]), array([5, 6]), array([7, 8, 9])]"
            ]
          },
          "metadata": {},
          "execution_count": 67
        }
      ]
    },
    {
      "cell_type": "code",
      "metadata": {
        "colab": {
          "base_uri": "https://localhost:8080/"
        },
        "id": "DD9ppBCpnR94",
        "outputId": "44892da8-6f85-4f3f-abf8-a599e08c3594"
      },
      "source": [
        ""
      ],
      "execution_count": null,
      "outputs": [
        {
          "output_type": "execute_result",
          "data": {
            "text/plain": [
              "[array([2, 3, 4]), array([5, 6]), array([], dtype=int64), array([7, 8, 9])]"
            ]
          },
          "metadata": {},
          "execution_count": 44
        }
      ]
    },
    {
      "cell_type": "markdown",
      "source": [
        "**2D**"
      ],
      "metadata": {
        "id": "tUdDNIHJYvFr"
      }
    },
    {
      "cell_type": "code",
      "metadata": {
        "id": "waNqYReToJvC"
      },
      "source": [
        "a = np.array([\n",
        "              [1,2,3],\n",
        "              [4,5,6]\n",
        "])\n",
        "b = np.array([\n",
        "              [7,8,9]\n",
        "])"
      ],
      "execution_count": 68,
      "outputs": []
    },
    {
      "cell_type": "markdown",
      "metadata": {
        "id": "D9KgMNsOn__h"
      },
      "source": [
        "**Concatinate array to create new array with content**\n",
        "\n",
        "[\n",
        "  [1,2,3],\n",
        "\n",
        "  [4,5,6],\n",
        "  \n",
        "  [7,8,9]\n",
        "]"
      ]
    },
    {
      "cell_type": "code",
      "source": [
        "np.concatenate((a,b))"
      ],
      "metadata": {
        "id": "Q2Xv0AZRY4ZQ",
        "outputId": "c6c0000b-cac3-42cb-d6e0-755f0deac062",
        "colab": {
          "base_uri": "https://localhost:8080/"
        }
      },
      "execution_count": 70,
      "outputs": [
        {
          "output_type": "execute_result",
          "data": {
            "text/plain": [
              "array([[1, 2, 3],\n",
              "       [4, 5, 6],\n",
              "       [7, 8, 9]])"
            ]
          },
          "metadata": {},
          "execution_count": 70
        }
      ]
    },
    {
      "cell_type": "code",
      "metadata": {
        "colab": {
          "base_uri": "https://localhost:8080/"
        },
        "id": "uRc1NdAr_SRW",
        "outputId": "c5d4daa2-20c0-482c-92ed-7a26fe68a373"
      },
      "source": [
        ""
      ],
      "execution_count": null,
      "outputs": [
        {
          "output_type": "execute_result",
          "data": {
            "text/plain": [
              "array([[1, 2, 3],\n",
              "       [4, 5, 6],\n",
              "       [7, 8, 9]])"
            ]
          },
          "metadata": {},
          "execution_count": 7
        }
      ]
    },
    {
      "cell_type": "code",
      "metadata": {
        "id": "3HZZlRPtobB1"
      },
      "source": [
        "a = np.array([\n",
        "              [1,2,3],\n",
        "              [4,5,6]\n",
        "])\n",
        "b = np.array([\n",
        "              [7,8,9, 10],\n",
        "              [11, 12, 13, 14]\n",
        "])"
      ],
      "execution_count": 71,
      "outputs": []
    },
    {
      "cell_type": "markdown",
      "metadata": {
        "id": "V9LH9_agowZr"
      },
      "source": [
        "**Concatinate array to create new array with content**\n",
        "\n",
        "[\n",
        "\n",
        "  [1,2,3, 7,8,9, 10],\n",
        "\n",
        "  [4,5,6, 11, 12, 13, 14]\n",
        "  \n",
        "]"
      ]
    },
    {
      "cell_type": "code",
      "metadata": {
        "id": "EivQu5Eaou4A",
        "outputId": "b2963dda-52a3-4b51-866e-7b667e9c13a2",
        "colab": {
          "base_uri": "https://localhost:8080/"
        }
      },
      "source": [
        "np.concatenate((a,b),axis = 1)"
      ],
      "execution_count": 75,
      "outputs": [
        {
          "output_type": "execute_result",
          "data": {
            "text/plain": [
              "array([[ 1,  2,  3,  7,  8,  9, 10],\n",
              "       [ 4,  5,  6, 11, 12, 13, 14]])"
            ]
          },
          "metadata": {},
          "execution_count": 75
        }
      ]
    },
    {
      "cell_type": "code",
      "metadata": {
        "colab": {
          "base_uri": "https://localhost:8080/"
        },
        "id": "AwPpcU7i_qrJ",
        "outputId": "fbf5d1ee-8a7f-445a-ca3f-2c6cfdccc17a"
      },
      "source": [
        ""
      ],
      "execution_count": null,
      "outputs": [
        {
          "output_type": "execute_result",
          "data": {
            "text/plain": [
              "array([[ 1,  2,  3,  7,  8,  9, 10],\n",
              "       [ 4,  5,  6, 11, 12, 13, 14]])"
            ]
          },
          "metadata": {},
          "execution_count": 50
        }
      ]
    },
    {
      "cell_type": "markdown",
      "metadata": {
        "id": "-uCyX-bvo-23"
      },
      "source": [
        "#Broadcasting and Indexing\n",
        "\n",
        "below array is created using random values so your output may differ. "
      ]
    },
    {
      "cell_type": "code",
      "metadata": {
        "colab": {
          "base_uri": "https://localhost:8080/"
        },
        "id": "dmdf9qNgpDGt",
        "outputId": "225614ef-e314-4819-ecc7-81a3a8a77e74"
      },
      "source": [
        "ar = np.round(np.random.rand(10)*10)\n",
        "ar"
      ],
      "execution_count": 76,
      "outputs": [
        {
          "output_type": "execute_result",
          "data": {
            "text/plain": [
              "array([3., 8., 4., 8., 4., 4., 1., 1., 5., 7.])"
            ]
          },
          "metadata": {},
          "execution_count": 76
        }
      ]
    },
    {
      "cell_type": "markdown",
      "metadata": {
        "id": "UWHDTOfMpWhs"
      },
      "source": [
        "**create new array containing all numbers which are smaller than 10 in ar**"
      ]
    },
    {
      "cell_type": "code",
      "metadata": {
        "id": "6hwVV5lWpU8s",
        "outputId": "8358aef2-1ab5-404e-99c4-e149f4e889f8",
        "colab": {
          "base_uri": "https://localhost:8080/"
        }
      },
      "source": [
        "l = np.array([x for x in ar if x<10])\n",
        "l\n"
      ],
      "execution_count": 81,
      "outputs": [
        {
          "output_type": "execute_result",
          "data": {
            "text/plain": [
              "array([3., 8., 4., 8., 4., 4., 1., 1., 5., 7.])"
            ]
          },
          "metadata": {},
          "execution_count": 81
        }
      ]
    },
    {
      "cell_type": "markdown",
      "metadata": {
        "id": "GlwR-PQdpmGD"
      },
      "source": [
        "**create new array containing all numbers which are in range [3, 11] in ar**"
      ]
    },
    {
      "cell_type": "code",
      "metadata": {
        "id": "aVBrLn2Hpr1n",
        "outputId": "6308bbcb-26b0-4f59-9486-ee0b6383ef20",
        "colab": {
          "base_uri": "https://localhost:8080/"
        }
      },
      "source": [
        "l = np.array([x for x in ar if x in range(3,11)])\n",
        "l"
      ],
      "execution_count": 82,
      "outputs": [
        {
          "output_type": "execute_result",
          "data": {
            "text/plain": [
              "array([3., 8., 4., 8., 4., 4., 5., 7.])"
            ]
          },
          "metadata": {},
          "execution_count": 82
        }
      ]
    },
    {
      "cell_type": "markdown",
      "metadata": {
        "id": "aGY4VLiPptFG"
      },
      "source": [
        "**count how many numbers are minimum in ar**\n",
        "\n",
        "example for arr = [2, 4, 6, 2, 9, 2]\n",
        "\n",
        "min is 2\n",
        "\n",
        "there are 3 occurences of 2"
      ]
    },
    {
      "cell_type": "code",
      "metadata": {
        "colab": {
          "base_uri": "https://localhost:8080/"
        },
        "id": "gIdSqYkmAgNw",
        "outputId": "b659d587-504a-4360-9785-50cebe9bb161"
      },
      "source": [
        "arr1= np.round(np.random.rand(10)*10)\n",
        "arr1"
      ],
      "execution_count": 88,
      "outputs": [
        {
          "output_type": "execute_result",
          "data": {
            "text/plain": [
              "array([1., 8., 8., 5., 2., 8., 4., 7., 6., 5.])"
            ]
          },
          "metadata": {},
          "execution_count": 88
        }
      ]
    },
    {
      "cell_type": "code",
      "metadata": {
        "id": "EgT3w1GUqVRM",
        "outputId": "52d2777a-2494-4c31-c9e4-ffa62dc69cce",
        "colab": {
          "base_uri": "https://localhost:8080/"
        }
      },
      "source": [
        "unique , count = np.unique(arr1, return_counts = True)\n",
        "print(unique)\n",
        "print(count)"
      ],
      "execution_count": 89,
      "outputs": [
        {
          "output_type": "stream",
          "name": "stdout",
          "text": [
            "[1. 2. 4. 5. 6. 7. 8.]\n",
            "[1 1 1 2 1 1 3]\n"
          ]
        }
      ]
    },
    {
      "cell_type": "markdown",
      "metadata": {
        "id": "dpBgZ_PjqXoR"
      },
      "source": [
        "**Create an array of length 20 with first 15 numbers equal to 2 and last 5 numbers = -5**"
      ]
    },
    {
      "cell_type": "code",
      "source": [
        "a = 2*(np.ones(20))\n",
        "a[15:][a[15:]==2]= -5\n",
        "a"
      ],
      "metadata": {
        "id": "p_LeSzrrHFRN",
        "outputId": "09dfcedc-fc50-4dbc-dfdb-85df9e539ede",
        "colab": {
          "base_uri": "https://localhost:8080/"
        }
      },
      "execution_count": 104,
      "outputs": [
        {
          "output_type": "execute_result",
          "data": {
            "text/plain": [
              "array([ 2.,  2.,  2.,  2.,  2.,  2.,  2.,  2.,  2.,  2.,  2.,  2.,  2.,\n",
              "        2.,  2., -5., -5., -5., -5., -5.])"
            ]
          },
          "metadata": {},
          "execution_count": 104
        }
      ]
    },
    {
      "cell_type": "code",
      "source": [
        "a = 2*(np.ones(20))\n",
        "a1 = a[:15]\n",
        "a2 = a[15:]\n",
        "a2[a2==2] = -5\n",
        "np.concatenate((a1,a2))"
      ],
      "metadata": {
        "id": "sPzHcWMuZh1y",
        "outputId": "eb71c48f-52d8-414e-bd73-2830199c84b6",
        "colab": {
          "base_uri": "https://localhost:8080/"
        }
      },
      "execution_count": 102,
      "outputs": [
        {
          "output_type": "execute_result",
          "data": {
            "text/plain": [
              "array([ 2.,  2.,  2.,  2.,  2.,  2.,  2.,  2.,  2.,  2.,  2.,  2.,  2.,\n",
              "        2.,  2., -5., -5., -5., -5., -5.])"
            ]
          },
          "metadata": {},
          "execution_count": 102
        }
      ]
    },
    {
      "cell_type": "code",
      "metadata": {
        "id": "i4xc-k3WqoPi",
        "colab": {
          "base_uri": "https://localhost:8080/"
        },
        "outputId": "5e741e97-c4d5-46f5-e5a7-86acfaf2d0ba"
      },
      "source": [
        ""
      ],
      "execution_count": null,
      "outputs": [
        {
          "output_type": "execute_result",
          "data": {
            "text/plain": [
              "array([ 2.,  2.,  2.,  2.,  2.,  2.,  2.,  2.,  2.,  2.,  2.,  2.,  2.,\n",
              "        2.,  2., -5., -5., -5., -5., -5.])"
            ]
          },
          "metadata": {},
          "execution_count": 63
        }
      ]
    },
    {
      "cell_type": "markdown",
      "metadata": {
        "id": "4o5xRHS7sAh_"
      },
      "source": [
        "**Sum min max of all elements of matrix**"
      ]
    },
    {
      "cell_type": "code",
      "metadata": {
        "colab": {
          "base_uri": "https://localhost:8080/"
        },
        "id": "oFaWcgjysF-j",
        "outputId": "3b338cc0-e1cf-4dc0-da61-529cd813a851"
      },
      "source": [
        "mat = np.array(\n",
        "    [[57., 33., 44., 36., 11., 75., 51., 22., 86., 13.],\n",
        "       [51., 16., 30., 92., 66., 54., 73.,  2., 25., 12.],\n",
        "       [68., 14., 90., 27., 44., 54., 26., 61.,  1.,  3.],\n",
        "       [86., 82., 10., 76., 12.,  1., 15., 89., 75., 12.],\n",
        "       [85.,  6., 80., 14., 99., 12., 72., 14., 27., 20.]]\n",
        ")\n",
        "mat"
      ],
      "execution_count": 105,
      "outputs": [
        {
          "output_type": "execute_result",
          "data": {
            "text/plain": [
              "array([[57., 33., 44., 36., 11., 75., 51., 22., 86., 13.],\n",
              "       [51., 16., 30., 92., 66., 54., 73.,  2., 25., 12.],\n",
              "       [68., 14., 90., 27., 44., 54., 26., 61.,  1.,  3.],\n",
              "       [86., 82., 10., 76., 12.,  1., 15., 89., 75., 12.],\n",
              "       [85.,  6., 80., 14., 99., 12., 72., 14., 27., 20.]])"
            ]
          },
          "metadata": {},
          "execution_count": 105
        }
      ]
    },
    {
      "cell_type": "code",
      "source": [
        "print(mat.sum())\n",
        "print(mat.min())\n",
        "print(mat.max())"
      ],
      "metadata": {
        "id": "zuoKYd8YZyEi",
        "outputId": "d02ce8e1-e7ef-4463-8e97-10dd0a767503",
        "colab": {
          "base_uri": "https://localhost:8080/"
        }
      },
      "execution_count": 108,
      "outputs": [
        {
          "output_type": "stream",
          "name": "stdout",
          "text": [
            "2124.0\n",
            "1.0\n",
            "99.0\n"
          ]
        }
      ]
    },
    {
      "cell_type": "code",
      "metadata": {
        "id": "jJZKNPsYsFb-",
        "colab": {
          "base_uri": "https://localhost:8080/"
        },
        "outputId": "8d21b0f9-8c09-4aa8-940f-bca5d9954424"
      },
      "source": [
        ""
      ],
      "execution_count": null,
      "outputs": [
        {
          "output_type": "stream",
          "name": "stdout",
          "text": [
            "0.0\n",
            "100.0\n",
            "2262.0\n"
          ]
        }
      ]
    },
    {
      "cell_type": "markdown",
      "metadata": {
        "id": "BLvLnGGNsYdv"
      },
      "source": [
        "**Standard deviation of mat**"
      ]
    },
    {
      "cell_type": "code",
      "source": [
        "# a = mat\n",
        "# a_std = a.T.std(axis=1)\n",
        "# print(a_std)\n",
        "mat.std()"
      ],
      "metadata": {
        "id": "71f2xa6zZxVK",
        "outputId": "478b7dd6-4713-470c-cb65-28756851d4b5",
        "colab": {
          "base_uri": "https://localhost:8080/"
        }
      },
      "execution_count": 119,
      "outputs": [
        {
          "output_type": "execute_result",
          "data": {
            "text/plain": [
              "30.531452634946806"
            ]
          },
          "metadata": {},
          "execution_count": 119
        }
      ]
    },
    {
      "cell_type": "code",
      "metadata": {
        "id": "3surFJbasbWX",
        "colab": {
          "base_uri": "https://localhost:8080/"
        },
        "outputId": "bde8f259-288a-4038-9c45-fb2e3c93db9d"
      },
      "source": [
        ""
      ],
      "execution_count": null,
      "outputs": [
        {
          "output_type": "execute_result",
          "data": {
            "text/plain": [
              "28.664654192925475"
            ]
          },
          "metadata": {},
          "execution_count": 67
        }
      ]
    },
    {
      "cell_type": "markdown",
      "metadata": {
        "id": "0fJVpTNBsbqi"
      },
      "source": [
        "**Sum of all columns of mat**"
      ]
    },
    {
      "cell_type": "code",
      "source": [
        "mat.sum(axis=0)"
      ],
      "metadata": {
        "id": "ffxz_0NQZ-iJ",
        "outputId": "234e6038-93a6-4479-e43a-c528e2343a26",
        "colab": {
          "base_uri": "https://localhost:8080/"
        }
      },
      "execution_count": 116,
      "outputs": [
        {
          "output_type": "execute_result",
          "data": {
            "text/plain": [
              "array([347., 151., 254., 245., 232., 196., 237., 188., 214.,  60.])"
            ]
          },
          "metadata": {},
          "execution_count": 116
        }
      ]
    },
    {
      "cell_type": "code",
      "metadata": {
        "id": "p2xPyXinsfVS",
        "colab": {
          "base_uri": "https://localhost:8080/"
        },
        "outputId": "07cca1df-ac95-40cb-db23-9860a07ce736"
      },
      "source": [
        ""
      ],
      "execution_count": null,
      "outputs": [
        {
          "output_type": "execute_result",
          "data": {
            "text/plain": [
              "array([347., 151., 254., 245., 232., 196., 237., 188., 214.,  60.])"
            ]
          },
          "metadata": {},
          "execution_count": 15
        }
      ]
    },
    {
      "cell_type": "markdown",
      "metadata": {
        "id": "u_xIopR4B-7V"
      },
      "source": [
        "**create array of dimension same as arr using arr.shape variable**"
      ]
    },
    {
      "cell_type": "code",
      "metadata": {
        "id": "pkfSo-CBCCrF"
      },
      "source": [
        "arr = np.arange(100).reshape(4,5,5)\n",
        "dim = arr.shape"
      ],
      "execution_count": 120,
      "outputs": []
    },
    {
      "cell_type": "code",
      "metadata": {
        "id": "JyO5TFBcCMxa",
        "outputId": "73f2654f-917e-4e51-acb7-63b0a9c7377e",
        "colab": {
          "base_uri": "https://localhost:8080/"
        }
      },
      "source": [
        "dim"
      ],
      "execution_count": 121,
      "outputs": [
        {
          "output_type": "execute_result",
          "data": {
            "text/plain": [
              "(4, 5, 5)"
            ]
          },
          "metadata": {},
          "execution_count": 121
        }
      ]
    },
    {
      "cell_type": "code",
      "source": [
        "arr"
      ],
      "metadata": {
        "id": "L04tVUv7JVqJ",
        "outputId": "e82389af-1ab2-4a55-8d0e-62b913e4d4ed",
        "colab": {
          "base_uri": "https://localhost:8080/"
        }
      },
      "execution_count": 122,
      "outputs": [
        {
          "output_type": "execute_result",
          "data": {
            "text/plain": [
              "array([[[ 0,  1,  2,  3,  4],\n",
              "        [ 5,  6,  7,  8,  9],\n",
              "        [10, 11, 12, 13, 14],\n",
              "        [15, 16, 17, 18, 19],\n",
              "        [20, 21, 22, 23, 24]],\n",
              "\n",
              "       [[25, 26, 27, 28, 29],\n",
              "        [30, 31, 32, 33, 34],\n",
              "        [35, 36, 37, 38, 39],\n",
              "        [40, 41, 42, 43, 44],\n",
              "        [45, 46, 47, 48, 49]],\n",
              "\n",
              "       [[50, 51, 52, 53, 54],\n",
              "        [55, 56, 57, 58, 59],\n",
              "        [60, 61, 62, 63, 64],\n",
              "        [65, 66, 67, 68, 69],\n",
              "        [70, 71, 72, 73, 74]],\n",
              "\n",
              "       [[75, 76, 77, 78, 79],\n",
              "        [80, 81, 82, 83, 84],\n",
              "        [85, 86, 87, 88, 89],\n",
              "        [90, 91, 92, 93, 94],\n",
              "        [95, 96, 97, 98, 99]]])"
            ]
          },
          "metadata": {},
          "execution_count": 122
        }
      ]
    },
    {
      "cell_type": "code",
      "metadata": {
        "id": "AJM5JHKPCQ6V",
        "colab": {
          "base_uri": "https://localhost:8080/"
        },
        "outputId": "69a0d245-5e7b-4ed2-cbc8-a66a131193cc"
      },
      "source": [
        ""
      ],
      "execution_count": null,
      "outputs": [
        {
          "output_type": "execute_result",
          "data": {
            "text/plain": [
              "array([[[ 0,  1,  2,  3,  4],\n",
              "        [ 5,  6,  7,  8,  9],\n",
              "        [10, 11, 12, 13, 14],\n",
              "        [15, 16, 17, 18, 19],\n",
              "        [20, 21, 22, 23, 24]],\n",
              "\n",
              "       [[25, 26, 27, 28, 29],\n",
              "        [30, 31, 32, 33, 34],\n",
              "        [35, 36, 37, 38, 39],\n",
              "        [40, 41, 42, 43, 44],\n",
              "        [45, 46, 47, 48, 49]],\n",
              "\n",
              "       [[50, 51, 52, 53, 54],\n",
              "        [55, 56, 57, 58, 59],\n",
              "        [60, 61, 62, 63, 64],\n",
              "        [65, 66, 67, 68, 69],\n",
              "        [70, 71, 72, 73, 74]],\n",
              "\n",
              "       [[75, 76, 77, 78, 79],\n",
              "        [80, 81, 82, 83, 84],\n",
              "        [85, 86, 87, 88, 89],\n",
              "        [90, 91, 92, 93, 94],\n",
              "        [95, 96, 97, 98, 99]]])"
            ]
          },
          "metadata": {},
          "execution_count": 85
        }
      ]
    }
  ]
}